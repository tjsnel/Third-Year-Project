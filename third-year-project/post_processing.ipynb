{
 "cells": [
  {
   "cell_type": "code",
   "execution_count": 1,
   "id": "5f0ab1f0-2e5a-4a8c-91e5-57f7a1f40221",
   "metadata": {},
   "outputs": [],
   "source": [
    "import pandas as pd"
   ]
  },
  {
   "cell_type": "code",
   "execution_count": 54,
   "id": "3914cefc-26c1-4303-b87c-c4b8d3d2f443",
   "metadata": {},
   "outputs": [],
   "source": [
    "platforms = [\"Pitchfork\", \"Guardian\", \"NME\", \"Spectrum\"]\n",
    "dfs = {platform: \n",
    "       pd.read_hdf(\"C:\\\\Users\\\\tommy\\\\OneDrive\\\\Third Year Project\\\\Platform Album Data\\\\review_data.h5\", key=platform) for platform in platforms}"
   ]
  },
  {
   "cell_type": "code",
   "execution_count": 3,
   "id": "adbcf1ab-1ff5-426d-8274-13299c5159b4",
   "metadata": {},
   "outputs": [
    {
     "data": {
      "text/html": [
       "<div>\n",
       "<style scoped>\n",
       "    .dataframe tbody tr th:only-of-type {\n",
       "        vertical-align: middle;\n",
       "    }\n",
       "\n",
       "    .dataframe tbody tr th {\n",
       "        vertical-align: top;\n",
       "    }\n",
       "\n",
       "    .dataframe thead th {\n",
       "        text-align: right;\n",
       "    }\n",
       "</style>\n",
       "<table border=\"1\" class=\"dataframe\">\n",
       "  <thead>\n",
       "    <tr style=\"text-align: right;\">\n",
       "      <th></th>\n",
       "      <th>Platform</th>\n",
       "      <th>Album</th>\n",
       "      <th>Artist</th>\n",
       "      <th>Text</th>\n",
       "      <th>Scores</th>\n",
       "      <th>Genres</th>\n",
       "      <th>Url</th>\n",
       "    </tr>\n",
       "  </thead>\n",
       "  <tbody>\n",
       "    <tr>\n",
       "      <th>0</th>\n",
       "      <td>Pitchfork</td>\n",
       "      <td>brian eno</td>\n",
       "      <td>foreverandevernomore</td>\n",
       "      <td>Confronting the climate crisis and the prospec...</td>\n",
       "      <td>7.5</td>\n",
       "      <td>Electronic, Verve / UMC, October 18, 2022</td>\n",
       "      <td>https://www.pitchfork.com/reviews/albums/brian...</td>\n",
       "    </tr>\n",
       "    <tr>\n",
       "      <th>1</th>\n",
       "      <td>Pitchfork</td>\n",
       "      <td>shygirl</td>\n",
       "      <td>nymph</td>\n",
       "      <td>Sensuous, funny, and smartly produced, the Lon...</td>\n",
       "      <td>8.0</td>\n",
       "      <td>Electronic, Because Music, October 6, 2022</td>\n",
       "      <td>https://www.pitchfork.com/reviews/albums/shygi...</td>\n",
       "    </tr>\n",
       "    <tr>\n",
       "      <th>2</th>\n",
       "      <td>Pitchfork</td>\n",
       "      <td>bjork</td>\n",
       "      <td>fossora</td>\n",
       "      <td>With her 10th album, Björk is grounded back on...</td>\n",
       "      <td>8.4</td>\n",
       "      <td>Electronic / Pop/R&amp;B, One Little Independent, ...</td>\n",
       "      <td>https://www.pitchfork.com/reviews/albums/bjork...</td>\n",
       "    </tr>\n",
       "    <tr>\n",
       "      <th>3</th>\n",
       "      <td>Pitchfork</td>\n",
       "      <td>yeah yeah yeahs</td>\n",
       "      <td>cool it down</td>\n",
       "      <td>The trio’s first album in nine years ushers in...</td>\n",
       "      <td>7.4</td>\n",
       "      <td>Rock, Secretly Canadian, September 29, 2022</td>\n",
       "      <td>https://www.pitchfork.com/reviews/albums/yeah-...</td>\n",
       "    </tr>\n",
       "    <tr>\n",
       "      <th>4</th>\n",
       "      <td>Pitchfork</td>\n",
       "      <td>alex g</td>\n",
       "      <td>god save the animals</td>\n",
       "      <td>Placing its faith in the healing power of anim...</td>\n",
       "      <td>8.4</td>\n",
       "      <td>Rock, Domino, September 23, 2022</td>\n",
       "      <td>https://www.pitchfork.com/reviews/albums/alex-...</td>\n",
       "    </tr>\n",
       "  </tbody>\n",
       "</table>\n",
       "</div>"
      ],
      "text/plain": [
       "    Platform            Album                Artist  \\\n",
       "0  Pitchfork        brian eno  foreverandevernomore   \n",
       "1  Pitchfork          shygirl                 nymph   \n",
       "2  Pitchfork            bjork               fossora   \n",
       "3  Pitchfork  yeah yeah yeahs          cool it down   \n",
       "4  Pitchfork           alex g  god save the animals   \n",
       "\n",
       "                                                Text Scores  \\\n",
       "0  Confronting the climate crisis and the prospec...    7.5   \n",
       "1  Sensuous, funny, and smartly produced, the Lon...    8.0   \n",
       "2  With her 10th album, Björk is grounded back on...    8.4   \n",
       "3  The trio’s first album in nine years ushers in...    7.4   \n",
       "4  Placing its faith in the healing power of anim...    8.4   \n",
       "\n",
       "                                              Genres  \\\n",
       "0          Electronic, Verve / UMC, October 18, 2022   \n",
       "1         Electronic, Because Music, October 6, 2022   \n",
       "2  Electronic / Pop/R&B, One Little Independent, ...   \n",
       "3        Rock, Secretly Canadian, September 29, 2022   \n",
       "4                   Rock, Domino, September 23, 2022   \n",
       "\n",
       "                                                 Url  \n",
       "0  https://www.pitchfork.com/reviews/albums/brian...  \n",
       "1  https://www.pitchfork.com/reviews/albums/shygi...  \n",
       "2  https://www.pitchfork.com/reviews/albums/bjork...  \n",
       "3  https://www.pitchfork.com/reviews/albums/yeah-...  \n",
       "4  https://www.pitchfork.com/reviews/albums/alex-...  "
      ]
     },
     "execution_count": 3,
     "metadata": {},
     "output_type": "execute_result"
    }
   ],
   "source": [
    "dfs[\"Pitchfork\"].head()"
   ]
  },
  {
   "cell_type": "code",
   "execution_count": 4,
   "id": "6f9dfdbd-fddd-454a-8320-2c35976c4eeb",
   "metadata": {},
   "outputs": [
    {
     "data": {
      "text/plain": [
       "'The ranging album from the Philadelphia songwriter adopts a drifting mind as its emotional compass. There’s no rush to get where he’s going, and he rarely checks to see if you’re still following along. Nestled into Side A of Kurt Vile’s seventh solo album, Bottle It In, is “Bassackwards,” 10 minutes of warped, psychedelic folk-rock, like a long sigh in the face of existential dread. Some songwriters seek wisdom in their aimlessness—reflecting on what they could have done better, trying to pinpoint what went wrong. But there’s no moral to Vile’s story; he wallows, unapologetically. To a slow-pulsing chord progression, like Tom Petty’s “Swingin’” played on the moon, the 38-year-old Philadelphia songwriter repeats himself and gets distracted before losing his train of thought completely. As he drifts through space, he sounds confused, resigned, distant. It’s one of his best songs yet.This track, and its circuitous path toward nothingness, is a key insight into the mind of Kurt Vile. A lot of his lyrics take place in the early hours of the day, those bleary, pre-coffee moments, when nobody else is around, that have always somehow inspired his clearest thoughts. Over the last decade, Vile’s musical evolution from scuzzy, self-recorded doodles to fuller, brighter vistas has resembled a diary composed entirely of late-summer weekend mornings: He seeks comfortability over clarity, with anxiety creeping in but never quite blocking the light. Or as he puts it in “Bassackwards,” “The sun went down, and I couldn’t find another one… for a while.”Recorded gradually throughout America while Vile was on tour over the last three years, Bottle It In adopts a drifting mind as its emotional compass. The scenery changes, but Vile’s dazed, half-smile remains constant. “One Trick Ponies” is a bouncy highlight about friendship and the joys of repetition, as Vile depicts the span of life as a “song, if the repeats were long.” Communicating in a chewy monotone that’s more for zoning out than singing along, he still writes lyrics that feel like predictive text: “What a world we’ve inherited/From another mother/What a whale of a pickle.” So over Bottle It In’s 80 minutes, he manages to communicate very little, yet the mood is immediately identifiable: slow, smoky, heady. There’s no rush to get where he’s going, and he rarely checks to see if you’re still following along.While Bottle It In—Vile’s longest, most introspective record—lacks the quiet beauty of 2011’s Smoke Ring for My Halo, the warmth of 2013’s Wakin on a Pretty Daze, or the immediacy of 2015’s b’lieve i’m goin’ down…, its monolithic Kurtness is its own defining quality. In a recent New York Times interview, he jokingly compared the record to Bruce Springsteen’s multi-platinum Born in the U.S.A. Of course, nothing sounds like a “Dancing in the Dark”-style breakthrough, but there is a sense of comprehensiveness, each song zooming into a different, hazy corner of his psyche. The result feels like an extended hang alone with Kurt in a dark basement. Here, he’s less likely to summon the energy for a jam like 2009’s “Freak Train” and more likely to, say, crack a joke about avoiding parking tickets (“Loading Zones”) or gush about being in love while ripping noisy guitar solos for 10-plus minutes (“Skinny Mini”). At a certain point, though, the air can get a little stale. To keep things fresh, he enlists the help of Cass McCombs, Kim Gordon, and Warpaint’s Stella Mozgawa, though often in barely noticeable ways. Only harpist Mary Lattimore steals the show, ascending the free-floating title track into a menacing, regenerative anti-epic. Yet Bottle It In rotates entirely around Vile. Just as you couldn’t mistake his voice or lyrics for anyone else’s, his silvery, shapeshifting guitar remains a defining sound in modern indie rock. When his compositions feel like thoughts in progress, his guitar speaks to the intensity bubbling just under the surface.At its best, Bottle It In pairs music with message to create a new tension in Vile’s work. The anti-technology lyrics of “Mutinies” are fairly simple (“I think things were way easier with a regular telephone,” he mutters), but the arrangement is complex and colorful, building to a droning sunshower that envelopes his words. “Cold Was the Wind,” meanwhile, furthers his penchant for rambling about his rambles, but its arrangement is one of his darkest, most unsettling studio concoctions yet. It could pass for a spidery Tom Waits demo or the theme for an HBO miniseries about a sad detective.And then, of course, there’s “Bassackwards.” It’s the beautiful, banal peak of the record, a warning for the purposeful meandering that follows. The album’s structure—with its more accessible tracks up front and a meditative, somewhat indulgent back-half—can feel like a conversation slipping silently into sighing and nodding. At the end of “Bassackwards,” he mumbles, “Just the way things is these days/Just the way things come out.” It’s the type of thing you say when you’re bored and trying to change the subject but it also serves his momentary thesis statement. Vile has long embraced such in-between moments—he’s just never sounded so lost in one.'"
      ]
     },
     "execution_count": 4,
     "metadata": {},
     "output_type": "execute_result"
    }
   ],
   "source": [
    "pf_text1 = dfs[\"Pitchfork\"].loc[:, \"Text\"][300]\n",
    "pf_text1"
   ]
  },
  {
   "cell_type": "code",
   "execution_count": 5,
   "id": "837accc1-452e-416a-ab35-3a1a5288dea1",
   "metadata": {},
   "outputs": [],
   "source": [
    "def format_pitchfork(x):\n",
    "    \n",
    "    find1 = x.find(\"All products featured on Pitchfork\")\n",
    "    find2 = x.find(\"Buy: Rough Trade\")\n",
    "    \n",
    "    for index in [find1, find2]:\n",
    "        \n",
    "        if index != -1:\n",
    "            \n",
    "            x = x[:index]\n",
    "    \n",
    "    return x\n",
    "\n",
    "dfs[\"Pitchfork\"].loc[:, \"Text\"] = dfs[\"Pitchfork\"].loc[:, \"Text\"].apply(format_pitchfork)"
   ]
  },
  {
   "cell_type": "code",
   "execution_count": 6,
   "id": "b3f6f1ef-3b41-4ef8-a62d-36657a5fadbc",
   "metadata": {},
   "outputs": [
    {
     "data": {
      "text/plain": [
       "Platform                                            Pitchfork\n",
       "Album                                            fuck buttons\n",
       "Artist                                             slow focus\n",
       "Text        On Slow Focus, Fuck Buttons' first album in fo...\n",
       "Scores                                                    8.7\n",
       "Genres                         Electronic, ATP, July 22, 2013\n",
       "Url         https://www.pitchfork.com/reviews/albums/18295...\n",
       "Name: 677, dtype: object"
      ]
     },
     "execution_count": 6,
     "metadata": {},
     "output_type": "execute_result"
    }
   ],
   "source": [
    "# Spot checking\n",
    "\n",
    "dfs[\"Pitchfork\"].iloc[677, :]"
   ]
  },
  {
   "cell_type": "code",
   "execution_count": 7,
   "id": "1b73eed7-2af2-4f88-a314-7e1420b8d7ef",
   "metadata": {},
   "outputs": [],
   "source": [
    "dfs[\"Pitchfork\"].columns = [\"Platform\", \"Artist\", \"Album\", \"Text\", \"Scores\", \"Genres\", \"Url\"]"
   ]
  },
  {
   "cell_type": "code",
   "execution_count": 8,
   "id": "749027b6-4532-4de7-817a-a9ac6e5f6ef9",
   "metadata": {},
   "outputs": [
    {
     "data": {
      "text/html": [
       "<div>\n",
       "<style scoped>\n",
       "    .dataframe tbody tr th:only-of-type {\n",
       "        vertical-align: middle;\n",
       "    }\n",
       "\n",
       "    .dataframe tbody tr th {\n",
       "        vertical-align: top;\n",
       "    }\n",
       "\n",
       "    .dataframe thead th {\n",
       "        text-align: right;\n",
       "    }\n",
       "</style>\n",
       "<table border=\"1\" class=\"dataframe\">\n",
       "  <thead>\n",
       "    <tr style=\"text-align: right;\">\n",
       "      <th></th>\n",
       "      <th>Platform</th>\n",
       "      <th>Artist</th>\n",
       "      <th>Album</th>\n",
       "      <th>Text</th>\n",
       "      <th>Scores</th>\n",
       "      <th>Genres</th>\n",
       "      <th>Url</th>\n",
       "    </tr>\n",
       "  </thead>\n",
       "  <tbody>\n",
       "    <tr>\n",
       "      <th>0</th>\n",
       "      <td>Pitchfork</td>\n",
       "      <td>brian eno</td>\n",
       "      <td>foreverandevernomore</td>\n",
       "      <td>Confronting the climate crisis and the prospec...</td>\n",
       "      <td>7.5</td>\n",
       "      <td>Electronic, Verve / UMC, October 18, 2022</td>\n",
       "      <td>https://www.pitchfork.com/reviews/albums/brian...</td>\n",
       "    </tr>\n",
       "    <tr>\n",
       "      <th>1</th>\n",
       "      <td>Pitchfork</td>\n",
       "      <td>shygirl</td>\n",
       "      <td>nymph</td>\n",
       "      <td>Sensuous, funny, and smartly produced, the Lon...</td>\n",
       "      <td>8.0</td>\n",
       "      <td>Electronic, Because Music, October 6, 2022</td>\n",
       "      <td>https://www.pitchfork.com/reviews/albums/shygi...</td>\n",
       "    </tr>\n",
       "    <tr>\n",
       "      <th>2</th>\n",
       "      <td>Pitchfork</td>\n",
       "      <td>bjork</td>\n",
       "      <td>fossora</td>\n",
       "      <td>With her 10th album, Björk is grounded back on...</td>\n",
       "      <td>8.4</td>\n",
       "      <td>Electronic / Pop/R&amp;B, One Little Independent, ...</td>\n",
       "      <td>https://www.pitchfork.com/reviews/albums/bjork...</td>\n",
       "    </tr>\n",
       "    <tr>\n",
       "      <th>3</th>\n",
       "      <td>Pitchfork</td>\n",
       "      <td>yeah yeah yeahs</td>\n",
       "      <td>cool it down</td>\n",
       "      <td>The trio’s first album in nine years ushers in...</td>\n",
       "      <td>7.4</td>\n",
       "      <td>Rock, Secretly Canadian, September 29, 2022</td>\n",
       "      <td>https://www.pitchfork.com/reviews/albums/yeah-...</td>\n",
       "    </tr>\n",
       "    <tr>\n",
       "      <th>4</th>\n",
       "      <td>Pitchfork</td>\n",
       "      <td>alex g</td>\n",
       "      <td>god save the animals</td>\n",
       "      <td>Placing its faith in the healing power of anim...</td>\n",
       "      <td>8.4</td>\n",
       "      <td>Rock, Domino, September 23, 2022</td>\n",
       "      <td>https://www.pitchfork.com/reviews/albums/alex-...</td>\n",
       "    </tr>\n",
       "  </tbody>\n",
       "</table>\n",
       "</div>"
      ],
      "text/plain": [
       "    Platform           Artist                 Album  \\\n",
       "0  Pitchfork        brian eno  foreverandevernomore   \n",
       "1  Pitchfork          shygirl                 nymph   \n",
       "2  Pitchfork            bjork               fossora   \n",
       "3  Pitchfork  yeah yeah yeahs          cool it down   \n",
       "4  Pitchfork           alex g  god save the animals   \n",
       "\n",
       "                                                Text Scores  \\\n",
       "0  Confronting the climate crisis and the prospec...    7.5   \n",
       "1  Sensuous, funny, and smartly produced, the Lon...    8.0   \n",
       "2  With her 10th album, Björk is grounded back on...    8.4   \n",
       "3  The trio’s first album in nine years ushers in...    7.4   \n",
       "4  Placing its faith in the healing power of anim...    8.4   \n",
       "\n",
       "                                              Genres  \\\n",
       "0          Electronic, Verve / UMC, October 18, 2022   \n",
       "1         Electronic, Because Music, October 6, 2022   \n",
       "2  Electronic / Pop/R&B, One Little Independent, ...   \n",
       "3        Rock, Secretly Canadian, September 29, 2022   \n",
       "4                   Rock, Domino, September 23, 2022   \n",
       "\n",
       "                                                 Url  \n",
       "0  https://www.pitchfork.com/reviews/albums/brian...  \n",
       "1  https://www.pitchfork.com/reviews/albums/shygi...  \n",
       "2  https://www.pitchfork.com/reviews/albums/bjork...  \n",
       "3  https://www.pitchfork.com/reviews/albums/yeah-...  \n",
       "4  https://www.pitchfork.com/reviews/albums/alex-...  "
      ]
     },
     "execution_count": 8,
     "metadata": {},
     "output_type": "execute_result"
    }
   ],
   "source": [
    "dfs[\"Pitchfork\"].head()"
   ]
  },
  {
   "cell_type": "code",
   "execution_count": 9,
   "id": "04e1b6a8-1e99-4f1e-b4ab-f516327978b0",
   "metadata": {},
   "outputs": [],
   "source": [
    "dfs[\"Pitchfork\"].to_hdf(\"C:\\\\Users\\\\tommy\\\\OneDrive\\\\Third Year Project\\\\Platform Album Data\\\\review_data_final.h5\", mode=\"a\", key=\"Pitchfork\")"
   ]
  },
  {
   "cell_type": "code",
   "execution_count": 31,
   "id": "b73587c3-2aac-4a75-9e84-bf7ebf7e4383",
   "metadata": {},
   "outputs": [
    {
     "data": {
      "text/html": [
       "<div>\n",
       "<style scoped>\n",
       "    .dataframe tbody tr th:only-of-type {\n",
       "        vertical-align: middle;\n",
       "    }\n",
       "\n",
       "    .dataframe tbody tr th {\n",
       "        vertical-align: top;\n",
       "    }\n",
       "\n",
       "    .dataframe thead th {\n",
       "        text-align: right;\n",
       "    }\n",
       "</style>\n",
       "<table border=\"1\" class=\"dataframe\">\n",
       "  <thead>\n",
       "    <tr style=\"text-align: right;\">\n",
       "      <th></th>\n",
       "      <th>Platform</th>\n",
       "      <th>Album</th>\n",
       "      <th>Artist</th>\n",
       "      <th>Text</th>\n",
       "      <th>Scores</th>\n",
       "      <th>Genres</th>\n",
       "      <th>Url</th>\n",
       "    </tr>\n",
       "  </thead>\n",
       "  <tbody>\n",
       "    <tr>\n",
       "      <th>0</th>\n",
       "      <td>Guardian</td>\n",
       "      <td>brian eno</td>\n",
       "      <td>foreverandevernomore</td>\n",
       "      <td>(UMC)The producer contemplates the future of t...</td>\n",
       "      <td>4</td>\n",
       "      <td>[electronicmusic, popandrock]</td>\n",
       "      <td>https://www.theguardian.com/music/2022/oct/16/...</td>\n",
       "    </tr>\n",
       "    <tr>\n",
       "      <th>1</th>\n",
       "      <td>Guardian</td>\n",
       "      <td>shygirl</td>\n",
       "      <td>nymph</td>\n",
       "      <td>(Because Music)British rapper, DJ and singer-s...</td>\n",
       "      <td>4</td>\n",
       "      <td>[popandrock]</td>\n",
       "      <td>https://www.theguardian.com/music/2022/oct/02/...</td>\n",
       "    </tr>\n",
       "    <tr>\n",
       "      <th>2</th>\n",
       "      <td>Guardian</td>\n",
       "      <td>bjork</td>\n",
       "      <td>fossora</td>\n",
       "      <td>(One Little Independent)The pop auteur’s 10th ...</td>\n",
       "      <td>4</td>\n",
       "      <td>[popandrock, electronicmusic]</td>\n",
       "      <td>https://www.theguardian.com/music/2022/oct/01/...</td>\n",
       "    </tr>\n",
       "    <tr>\n",
       "      <th>3</th>\n",
       "      <td>Guardian</td>\n",
       "      <td>yeah yeah yeahs</td>\n",
       "      <td>cool it down</td>\n",
       "      <td>(Secretly Canadian)Karen O is more incisive th...</td>\n",
       "      <td>4</td>\n",
       "      <td>[popandrock, yeahyeahyeahs]</td>\n",
       "      <td>https://www.theguardian.com/music/2022/sep/30/...</td>\n",
       "    </tr>\n",
       "    <tr>\n",
       "      <th>4</th>\n",
       "      <td>Guardian</td>\n",
       "      <td>alex g</td>\n",
       "      <td>god save the animals</td>\n",
       "      <td>(Domino)The American musician continues to min...</td>\n",
       "      <td>4</td>\n",
       "      <td>[]</td>\n",
       "      <td>https://www.theguardian.com/music/2022/sep/25/...</td>\n",
       "    </tr>\n",
       "  </tbody>\n",
       "</table>\n",
       "</div>"
      ],
      "text/plain": [
       "   Platform            Album                Artist  \\\n",
       "0  Guardian        brian eno  foreverandevernomore   \n",
       "1  Guardian          shygirl                 nymph   \n",
       "2  Guardian            bjork               fossora   \n",
       "3  Guardian  yeah yeah yeahs          cool it down   \n",
       "4  Guardian           alex g  god save the animals   \n",
       "\n",
       "                                                Text  Scores  \\\n",
       "0  (UMC)The producer contemplates the future of t...       4   \n",
       "1  (Because Music)British rapper, DJ and singer-s...       4   \n",
       "2  (One Little Independent)The pop auteur’s 10th ...       4   \n",
       "3  (Secretly Canadian)Karen O is more incisive th...       4   \n",
       "4  (Domino)The American musician continues to min...       4   \n",
       "\n",
       "                          Genres  \\\n",
       "0  [electronicmusic, popandrock]   \n",
       "1                   [popandrock]   \n",
       "2  [popandrock, electronicmusic]   \n",
       "3    [popandrock, yeahyeahyeahs]   \n",
       "4                             []   \n",
       "\n",
       "                                                 Url  \n",
       "0  https://www.theguardian.com/music/2022/oct/16/...  \n",
       "1  https://www.theguardian.com/music/2022/oct/02/...  \n",
       "2  https://www.theguardian.com/music/2022/oct/01/...  \n",
       "3  https://www.theguardian.com/music/2022/sep/30/...  \n",
       "4  https://www.theguardian.com/music/2022/sep/25/...  "
      ]
     },
     "execution_count": 31,
     "metadata": {},
     "output_type": "execute_result"
    }
   ],
   "source": [
    "dfs[\"Guardian\"].head()"
   ]
  },
  {
   "cell_type": "code",
   "execution_count": 32,
   "id": "a5cc01ed-a0ff-4662-9818-1788290946c1",
   "metadata": {},
   "outputs": [],
   "source": [
    "dfs[\"Guardian\"].columns = [\"Platform\", \"Artist\", \"Album\", \"Text\", \"Scores\", \"Genres\", \"Url\"]"
   ]
  },
  {
   "cell_type": "code",
   "execution_count": 33,
   "id": "2c03e9fb-b8a5-4e30-ac61-4e221576ef80",
   "metadata": {},
   "outputs": [
    {
     "data": {
      "text/plain": [
       "'(Epic)The unhurried artist’s first studio album in eight years is astonishing, intimate and demonstrates a refusal to be silenced he re-emergence of Fiona Apple, eight years after her last studio album, is not quite dolphins returning to the waterways of Venice, but an argument at least for the benefits of letting a musician lie fallow. Apple has always been an unhurried artist – there have been just five albums across her 24-year career, but a recent New Yorker profile documented how richly she used that time to replenish and create. The re-emergence of Fiona Apple, eight years after her last studio album, is not quite dolphins returning to the waterways of Venice, but an argument at least for the benefits of letting a musician lie fallow. Apple has always been an unhurried artist – there have been just five albums across her 24-year career, but a recent New Yorker profile documented how richly she used that time to replenish and create. The Apple of 2020 is astonishing; as if she has returned to reinvent sound – the rhythms pleasing, but counter, and unusual. On the title track she half-sings over a makeshift orchestra of kitchen implements, dog bark and cat yowl. The beat on Kick Me Under the Table has a seething back-and-forth pace; the extraordinary For Her beds double Dutch skipping rope rhythms beneath a chorus of female voices. It’s striking how intimate Apple’s voice sounds here – half-conversational, half-self-mutters, allowing every scuff, breath and feral yelp. She is at her most familiar on Ladies, hollering over a soulful backdrop, chewing her own voice like tobacco, then letting it take sweet, sudden flight. The recurring lyrical theme is a refusal to be silenced: “The cool kids wanted to get rid of me,” she warns. “Kick me under the table all you want, I won’t shut up”. And again: “I’ve been sucking it in so long / that I’m busting at the seams.” The result is that this seems not so much an album as a sudden glorious eruption; after eight long years, an urgent desire to be heard.'"
      ]
     },
     "execution_count": 33,
     "metadata": {},
     "output_type": "execute_result"
    }
   ],
   "source": [
    "# Spot checking\n",
    "\n",
    "dfs[\"Guardian\"].loc[:, \"Text\"].iloc[151]"
   ]
  },
  {
   "cell_type": "code",
   "execution_count": 34,
   "id": "332e6ac4-4087-404f-9fe5-3ce39daf8869",
   "metadata": {},
   "outputs": [],
   "source": [
    "def remove_bracket(x):\n",
    "    \n",
    "    if x[0] == \"(\":\n",
    "        \n",
    "        x = x[x.find(\")\") + 1:]\n",
    "        \n",
    "    return x\n",
    "\n",
    "dfs[\"Guardian\"].loc[:, \"Text\"] = dfs[\"Guardian\"].loc[:, \"Text\"].apply(remove_bracket)"
   ]
  },
  {
   "cell_type": "code",
   "execution_count": 35,
   "id": "9e450ac0-d9ea-4c6f-97cf-725c783ad7b5",
   "metadata": {},
   "outputs": [
    {
     "data": {
      "text/plain": [
       "'By turns offbeat, amusing and wistful, the New Yorker’s long-awaited fifth album finds her in mesmerising form ew records released this spring will feature a dead dog’s bones as percussion, and what sounds like a simulated sex act between a singer and a piano. But then, few recording artists are quite like Fiona Apple, a performer whose relatively slim body of work – this is her fifth full-length record – belies her years toiling in the dark heart of the music industry (coming up to 25). Few records released this spring will feature a dead dog’s bones as percussion, and what sounds like a simulated sex act between a singer and a piano. But then, few recording artists are quite like Fiona Apple, a performer whose relatively slim body of work – this is her fifth full-length record – belies her years toiling in the dark heart of the music industry (coming up to 25). Fetch the Bolt Cutters is a strange and exceptional record, even within the context of an uncommon career. It shakes, rattles and rolls with unorthodox percussion, and on the opening track – I Want You to Love Me – the singer hiccups in ecstasy, facing off against an arpeggiating piano as though competing to climax first. Although veteran engineer/producer Tchad Blake had some input, and Apple sought the assistance of her drummer’s father, sound engineer John Would, Fetch the Bolt Cutters marks the first time she has entirely overseen production on one of her albums. Knowing her own mind is a major theme. “I would beg to disagree, but begging disagrees with me,” she swaggers on Under the Table, a wickedly funny song about how she is a nightmare date at pompous dinner parties. (“Kick me under the table all you want.”) Freedom is another overarching concern: a New Yorker article revealed that LP’s title is lifted from the TV series The Fall, when Gillian Anderson’s detective protagonist utters the phrase before entering a room where a girl had been tortured. Most of Fetch the Bolt Cutters was recorded by Apple at home using a variety of percussion solutions as well as more conventional piano, guitar, bass and drums. Her band often workshopped the clatter, “playing” seed pods and surfaces. The result is a record that is whimsical and hardcore at the same time, one that recalls Joni Mitchell’s The Jungle Line and Tom Waits’s Bone Machine, and, intermittently, Beyoncé’s latterday, African-inspired work. Apple’s already elastic voice ranges from fritillary flutter to guttural howl on these 13 songs; it is sometimes multitracked as she skewers antagonists, rolls her eyes at her boyfriend’s collection of guitars and ponders the aftermath of relationships. Apple is especially keen to hijack the rhythms of work songs and playground chants. In contrast to her previous celebrated works, with their Jon Brion string arrangements, Benmont Tench keys and debt to jazzy piano bars, Fetch the Bolt Cutters is raw and free-form, but no less cogent or mesmerising. Privileging rhythm is not new to Apple – see Hot Knife, from her 2012 album, The Idler Wheel. But nothing in her previous work foregrounds textures quite like these metallic scrapes, which seem to echo the title’s falling chains. The insistence of the rhythms gives free voice to the OCD with which Apple has previously struggled. The late 90s were not a great place to be a highly strung 17-year-old prodigy, catapulted to fame with an album that mixed chamber pop with hip-hop beats. Apple’s sung cadences still often track the flows of rap. She was marketed as both sexually free and damaged, a legacy that leaves the mature Apple with plenty of wider import to chew over, as well as her own granular personal concerns. The abuse of women is one of her themes. Here, For Her contains one of Apple’s most eyebrow-raising lyrics. “Good morning, good morning/ You raped me in the same bed your daughter was born in,” she snarls. The track was written in the aftermath of the accounts of sexual assault given to the US senate judiciary committee, which failed to block the confirmation of Brett Kavanaugh to the supreme court. There is a lot of looking back on Fetch the Bolt Cutters. Shameka recalls Apple as a kid, dodging bullies on the walk to school, finding rhythms in dry leaves and latching on to the encouragement of mentors. The younger Apple’s output was always preternaturally wise, but Fetch the Bolt Cutters seeks to unlearn the studio gloss of her previous albums while making full use of all her experiences. If the grain of this album is purposely rougher-hewn, with boxy acoustics trading off with the odd sub-bass boom, the songwriting remains complex and elevated. Songs such as Ladies convene an audience of women – future and former partners of her own partners – Apple wants to befriend, but cannot. Relay, meanwhile, swaps between a cheerleading chant and R&B. It’s a spectacularly acerbic song about refusing to indulge in the game of acrimony. “And I see that you keep tryna bait me,” pouts Apple, “and I’d love to get up in your face/ But I know if I hate you for hating me/ I will have entered the endless race.” The title track rues the mistakes Apple made as a younger woman, and bridles at those who controlled her. She invokes Kate Bush, another artist who became famous very young and quickly outgrew the confines of pop. “I grew up in the shoes they told me I could fill,” Apple sings, “Shoes that were not made for running up that hill/ And I need to run up that hill/ I will, I will, I will.” If this engrossing album opens with one kind of breathless climax, Fetch the Bolt Cutters ends with Apple panting, having finally crested the summit.'"
      ]
     },
     "execution_count": 35,
     "metadata": {},
     "output_type": "execute_result"
    }
   ],
   "source": [
    "dfs[\"Guardian\"].loc[150, \"Text\"]"
   ]
  },
  {
   "cell_type": "code",
   "execution_count": 57,
   "id": "74d23ab9-e0f1-4093-9526-f7b68e7c6f84",
   "metadata": {},
   "outputs": [
    {
     "data": {
      "text/html": [
       "<div>\n",
       "<style scoped>\n",
       "    .dataframe tbody tr th:only-of-type {\n",
       "        vertical-align: middle;\n",
       "    }\n",
       "\n",
       "    .dataframe tbody tr th {\n",
       "        vertical-align: top;\n",
       "    }\n",
       "\n",
       "    .dataframe thead th {\n",
       "        text-align: right;\n",
       "    }\n",
       "</style>\n",
       "<table border=\"1\" class=\"dataframe\">\n",
       "  <thead>\n",
       "    <tr style=\"text-align: right;\">\n",
       "      <th></th>\n",
       "      <th>Platform</th>\n",
       "      <th>Album</th>\n",
       "      <th>Artist</th>\n",
       "      <th>Text</th>\n",
       "      <th>Scores</th>\n",
       "      <th>Url</th>\n",
       "    </tr>\n",
       "  </thead>\n",
       "  <tbody>\n",
       "    <tr>\n",
       "      <th>0</th>\n",
       "      <td>NME</td>\n",
       "      <td>brian eno</td>\n",
       "      <td>foreverandevernomore</td>\n",
       "      <td>Search ReviewsAlbum Reviews Brian Eno – ‘FOR...</td>\n",
       "      <td>3</td>\n",
       "      <td>https://www.nme.com/reviews/album/brian-eno-fo...</td>\n",
       "    </tr>\n",
       "    <tr>\n",
       "      <th>1</th>\n",
       "      <td>NME</td>\n",
       "      <td>shygirl</td>\n",
       "      <td>nymph</td>\n",
       "      <td>Search ReviewsAlbum Reviews Shygirl – ‘Nymph...</td>\n",
       "      <td>4</td>\n",
       "      <td>https://www.nme.com/reviews/album/shygirl-lond...</td>\n",
       "    </tr>\n",
       "    <tr>\n",
       "      <th>2</th>\n",
       "      <td>NME</td>\n",
       "      <td>bjork</td>\n",
       "      <td>fossora</td>\n",
       "      <td>Search ReviewsAlbum Reviews Björk – ‘Fossora...</td>\n",
       "      <td>4</td>\n",
       "      <td>https://www.nme.com/reviews/album/bjork-fossor...</td>\n",
       "    </tr>\n",
       "    <tr>\n",
       "      <th>3</th>\n",
       "      <td>NME</td>\n",
       "      <td>yeah yeah yeahs</td>\n",
       "      <td>cool it down</td>\n",
       "      <td>Search ReviewsAlbum Reviews Yeah Yeah Yeahs ...</td>\n",
       "      <td>4</td>\n",
       "      <td>https://www.nme.com/reviews/album/yeah-yeah-ye...</td>\n",
       "    </tr>\n",
       "    <tr>\n",
       "      <th>4</th>\n",
       "      <td>NME</td>\n",
       "      <td>alex g</td>\n",
       "      <td>god save the animals</td>\n",
       "      <td>Search ReviewsAlbum Reviews Alex G – ‘God Sa...</td>\n",
       "      <td>5</td>\n",
       "      <td>https://www.nme.com/reviews/album/alex-g-god-s...</td>\n",
       "    </tr>\n",
       "  </tbody>\n",
       "</table>\n",
       "</div>"
      ],
      "text/plain": [
       "  Platform            Album                Artist  \\\n",
       "0      NME        brian eno  foreverandevernomore   \n",
       "1      NME          shygirl                 nymph   \n",
       "2      NME            bjork               fossora   \n",
       "3      NME  yeah yeah yeahs          cool it down   \n",
       "4      NME           alex g  god save the animals   \n",
       "\n",
       "                                                Text  Scores  \\\n",
       "0    Search ReviewsAlbum Reviews Brian Eno – ‘FOR...       3   \n",
       "1    Search ReviewsAlbum Reviews Shygirl – ‘Nymph...       4   \n",
       "2    Search ReviewsAlbum Reviews Björk – ‘Fossora...       4   \n",
       "3    Search ReviewsAlbum Reviews Yeah Yeah Yeahs ...       4   \n",
       "4    Search ReviewsAlbum Reviews Alex G – ‘God Sa...       5   \n",
       "\n",
       "                                                 Url  \n",
       "0  https://www.nme.com/reviews/album/brian-eno-fo...  \n",
       "1  https://www.nme.com/reviews/album/shygirl-lond...  \n",
       "2  https://www.nme.com/reviews/album/bjork-fossor...  \n",
       "3  https://www.nme.com/reviews/album/yeah-yeah-ye...  \n",
       "4  https://www.nme.com/reviews/album/alex-g-god-s...  "
      ]
     },
     "execution_count": 57,
     "metadata": {},
     "output_type": "execute_result"
    }
   ],
   "source": [
    "dfs[\"NME\"].head()"
   ]
  },
  {
   "cell_type": "code",
   "execution_count": 58,
   "id": "f29a43bd-0527-4998-9742-c13e69ef6957",
   "metadata": {},
   "outputs": [],
   "source": [
    "def remove_start(x):\n",
    "    \n",
    "    index = x.find(\"review: \")\n",
    "    \n",
    "    if index != -1:\n",
    "        \n",
    "        return x[index + 8:]\n",
    "    \n",
    "    else:\n",
    "        \n",
    "        return x\n",
    "\n",
    "dfs[\"NME\"].loc[:, \"Text\"] = dfs[\"NME\"].loc[:, \"Text\"].apply(remove_start)"
   ]
  },
  {
   "cell_type": "code",
   "execution_count": 59,
   "id": "88aaae61-dab5-49fd-adf4-4c080f7da68f",
   "metadata": {},
   "outputs": [
    {
     "data": {
      "text/plain": [
       "'  Search ReviewsAlbum Reviews Kanye West – ‘808s And Heartbreak’ review By NME 19th November 2008 \\n\\n Kanye’s 2008 has been a shitter. His ma, Donda, with whom he vocally shared an inseparable bond, passed away late last year. Then a split from fiancée Alexis sent him into something of an early-30s meltdown. Poor chap. It’d be odd then, for him to follow this with, say, a reggae-themed party album. Although one might argue it’s just as perplexing for him to take epiphany-type inspiration from a track by British cod-hop also-rans Mr Hudson And The Library (the forthcoming ‘There Will Be Tears’), decide to quit rapping, and record an 11-track album entirely sung through vocoder-esque auto-tune. The latter however, is what he’s gone and done (yup, every track).\\nAs the title foretells, there are two themes powering the college drop-out’s fourth full-length studio album: ’80s tech-nostalgia (the Roland TR-808 is the iconic, tinny drum machine that drove proto-hip hop), and erm, being well sad. Lead single ‘Love Lockdown’ was a scare for many Kanye-watchers. A brooding, dulcet elegy of quivering emotion without a single spoken couplet, it painstakingly arches from sub-bass ‘pooms’ to tribal fills over five minutes of melancholic digital-warped crooning. Those that didn’t buy into this fanfared rebirth will be trampling their shutter-shades at this absurd album concept.\\nBut from the tortured opening cello groans of ‘Welcome To Heartbreak’, it’s clear the man is still in possession of his marbles. “My friend shows me pictures of his kids/All I can show him is pictures of my cribs”. Hmm. Still, though, there’s a cold, metallic bleakness at play from the get-go, invoking cinematic flashes à la Arnie’s The Running Man, that empowers the woe-is-me slush. The planet’s under attack from scowling hip-hop androids and Kanye’s leading the assault. New single ‘Heartless’ fulfils the promise of its predecessor. Aside from being the only track on which he actually raps, its cathedral organs and lava-lamp rhythmic thuds underscore a dancehall-style tormented chorus that impacts with flooring intensity.\\nElsewhere, ‘Street Lights’ is an endearingly broken-sounding ‘where am I in life?’ cold-soul heel-scuffer, and Young Jeezy cranks out some much-needed gruff machismo on sizzurp-addled juggernaut closer, ‘Amazing’. It’s not all killer. The Mr Hudson collabs ‘Paranoid’ and ‘Say You Will’ fail to distract from their flaky hooks and backpack-rap-style beats with Frenchie-coffee-table-lektro blips and Enya-brand flute toots, respectively. The resounding verdict is that it’s a surprising, but bold and brave progression from last year’s confused ‘Graduation’. As for the lack of raps, in truth, the less we have to put up with all that small-man prep-school-canteen bragging, the better.\\nJaimie Hodgson\\n Related TopicsKanye West   Search ReviewsAlbum Reviews Kanye West – ‘808s And Heartbreak’ review By NME 19th November 2008 \\n\\n Kanye’s 2008 has been a shitter. His ma, Donda, with whom he vocally shared an inseparable bond, passed away late last year. Then a split from fiancée Alexis sent him into something of an early-30s meltdown. Poor chap. It’d be odd then, for him to follow this with, say, a reggae-themed party album. Although one might argue it’s just as perplexing for him to take epiphany-type inspiration from a track by British cod-hop also-rans Mr Hudson And The Library (the forthcoming ‘There Will Be Tears’), decide to quit rapping, and record an 11-track album entirely sung through vocoder-esque auto-tune. The latter however, is what he’s gone and done (yup, every track).\\nAs the title foretells, there are two themes powering the college drop-out’s fourth full-length studio album: ’80s tech-nostalgia (the Roland TR-808 is the iconic, tinny drum machine that drove proto-hip hop), and erm, being well sad. Lead single ‘Love Lockdown’ was a scare for many Kanye-watchers. A brooding, dulcet elegy of quivering emotion without a single spoken couplet, it painstakingly arches from sub-bass ‘pooms’ to tribal fills over five minutes of melancholic digital-warped crooning. Those that didn’t buy into this fanfared rebirth will be trampling their shutter-shades at this absurd album concept.\\nBut from the tortured opening cello groans of ‘Welcome To Heartbreak’, it’s clear the man is still in possession of his marbles. “My friend shows me pictures of his kids/All I can show him is pictures of my cribs”. Hmm. Still, though, there’s a cold, metallic bleakness at play from the get-go, invoking cinematic flashes à la Arnie’s The Running Man, that empowers the woe-is-me slush. The planet’s under attack from scowling hip-hop androids and Kanye’s leading the assault. New single ‘Heartless’ fulfils the promise of its predecessor. Aside from being the only track on which he actually raps, its cathedral organs and lava-lamp rhythmic thuds underscore a dancehall-style tormented chorus that impacts with flooring intensity.\\nElsewhere, ‘Street Lights’ is an endearingly broken-sounding ‘where am I in life?’ cold-soul heel-scuffer, and Young Jeezy cranks out some much-needed gruff machismo on sizzurp-addled juggernaut closer, ‘Amazing’. It’s not all killer. The Mr Hudson collabs ‘Paranoid’ and ‘Say You Will’ fail to distract from their flaky hooks and backpack-rap-style beats with Frenchie-coffee-table-lektro blips and Enya-brand flute toots, respectively. The resounding verdict is that it’s a surprising, but bold and brave progression from last year’s confused ‘Graduation’. As for the lack of raps, in truth, the less we have to put up with all that small-man prep-school-canteen bragging, the better.\\nJaimie Hodgson\\n Related TopicsKanye West'"
      ]
     },
     "execution_count": 59,
     "metadata": {},
     "output_type": "execute_result"
    }
   ],
   "source": [
    "dfs[\"NME\"].loc[939, \"Text\"]"
   ]
  },
  {
   "cell_type": "code",
   "execution_count": null,
   "id": "4a1a8385-d4f7-427f-950c-df6d4bad8968",
   "metadata": {},
   "outputs": [],
   "source": [
    "def count_end(x):\n",
    "    \n",
    "    return x.find(\"\\n\")\n",
    "\n",
    "dfs[\"NME\"].loc[:, \"Text\"].apply(count_end)"
   ]
  },
  {
   "cell_type": "code",
   "execution_count": null,
   "id": "e11794c2-fc7f-4727-8b5c-2f9fdc22c3cc",
   "metadata": {},
   "outputs": [],
   "source": []
  }
 ],
 "metadata": {
  "kernelspec": {
   "display_name": "Python 3 (ipykernel)",
   "language": "python",
   "name": "python3"
  },
  "language_info": {
   "codemirror_mode": {
    "name": "ipython",
    "version": 3
   },
   "file_extension": ".py",
   "mimetype": "text/x-python",
   "name": "python",
   "nbconvert_exporter": "python",
   "pygments_lexer": "ipython3",
   "version": "3.9.13"
  }
 },
 "nbformat": 4,
 "nbformat_minor": 5
}
