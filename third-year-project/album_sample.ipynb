{
 "cells": [
  {
   "cell_type": "code",
   "execution_count": 32,
   "id": "37cf70af-9d8b-4746-84c0-234434342c04",
   "metadata": {},
   "outputs": [],
   "source": [
    "import pandas as pd\n",
    "import numpy as np\n",
    "import unicodedata\n",
    "import difflib\n",
    "import unidecode"
   ]
  },
  {
   "cell_type": "code",
   "execution_count": 33,
   "id": "286f45d7-a6f9-4a1c-91a0-4c14ba63fa86",
   "metadata": {},
   "outputs": [],
   "source": [
    "platforms = [\"Guardian\", \"NME\", \"Pitchfork\", \"Spectrum\"]\n",
    "paths = [f\"C:\\\\Users\\\\tommy\\\\OneDrive\\\\Third Year Project\\\\Platform Album Data\\\\{platform}urls.csv\" for platform in platforms]"
   ]
  },
  {
   "cell_type": "code",
   "execution_count": 34,
   "id": "5b8eb07b-301b-4dfb-9791-5a3773b4067f",
   "metadata": {},
   "outputs": [],
   "source": [
    "dfs = {platform: pd.read_csv(path, index_col=0) for platform, path in zip(platforms, paths)}"
   ]
  },
  {
   "cell_type": "code",
   "execution_count": 35,
   "id": "dada89e7-9f4e-4164-b252-8dd038e743b1",
   "metadata": {},
   "outputs": [
    {
     "data": {
      "text/plain": [
       "{'Guardian': 165752, 'NME': 5055, 'Pitchfork': 27595, 'Spectrum': 7933}"
      ]
     },
     "execution_count": 35,
     "metadata": {},
     "output_type": "execute_result"
    }
   ],
   "source": [
    "{platform: df.shape[0] for platform, df in dfs.items()}"
   ]
  },
  {
   "cell_type": "code",
   "execution_count": 36,
   "id": "00396fd9-555f-4dba-a4da-fc5d15d293f0",
   "metadata": {},
   "outputs": [],
   "source": [
    "dfs = {platform: df.drop_duplicates() for platform, df in dfs.items()}\n",
    "\n",
    "for platform, df in dfs.items():\n",
    "    \n",
    "    df.drop(columns=[\"Platform\"], axis=1, inplace=True)\n",
    "    df.loc[:, \"Album\"] = df[\"Album\"].apply(lambda x: unidecode.unidecode(unicodedata.normalize(\"NFKD\", str(x))))\n",
    "    df.loc[:, \"Artist\"] = df[\"Artist\"].apply(lambda x: unidecode.unidecode(unicodedata.normalize(\"NFKD\", str(x))))\n",
    "    df.loc[:, \"Album\"] = df[\"Album\"].apply(lambda x: x.strip(\"'`\").replace(\".\", \"\").replace(\",\", \"\").replace(\"–\", \"\").replace(\"-\", \"\").replace(\n",
    "        \"&\", \"And\").lower().replace(\"' review\", \"\").strip())\n",
    "    df.loc[:, \"Artist\"] = df[\"Artist\"].apply(lambda x: x.strip(\"'`\").replace(\".\", \"\").replace(\",\", \"\").replace(\"–\", \"\").replace(\"-\", \"\").replace(\n",
    "        \"&\", \"And\").replace(\"album review:\", \"\").lower().strip())\n",
    "    df.rename({\"Url\": f\"{platform}_url\"}, axis=1, inplace=True)\n",
    "    dfs[platform] = df\n"
   ]
  },
  {
   "cell_type": "code",
   "execution_count": 37,
   "id": "e1a37b2d-d5f6-45be-aad9-9c3a55bee2e8",
   "metadata": {},
   "outputs": [
    {
     "name": "stdout",
     "output_type": "stream",
     "text": [
      "2005\n",
      "1430\n",
      "940\n"
     ]
    }
   ],
   "source": [
    "df = dfs[\"Guardian\"]\n",
    "\n",
    "for key in list(dfs.keys())[1:4]:\n",
    "    \n",
    "    df = pd.merge(df, dfs[key], how=\"inner\", on=[\"Album\", \"Artist\"])\n",
    "    print(df.shape[0])\n",
    "    \n",
    "df.to_csv(\"C:\\\\Users\\\\tommy\\\\OneDrive\\\\Third Year Project\\\\Platform Album Data\\\\urls_shared.csv\")"
   ]
  },
  {
   "cell_type": "code",
   "execution_count": null,
   "id": "f5b71c63-a7b6-40e1-924b-e21dd773fcfc",
   "metadata": {},
   "outputs": [],
   "source": []
  },
  {
   "cell_type": "code",
   "execution_count": null,
   "id": "c35dcf27-ada6-42e7-8249-8e994b31d8e6",
   "metadata": {},
   "outputs": [],
   "source": []
  },
  {
   "cell_type": "code",
   "execution_count": null,
   "id": "3fa52ffe-7116-438a-839e-b68fb54be77b",
   "metadata": {},
   "outputs": [],
   "source": []
  }
 ],
 "metadata": {
  "kernelspec": {
   "display_name": "Python 3 (ipykernel)",
   "language": "python",
   "name": "python3"
  },
  "language_info": {
   "codemirror_mode": {
    "name": "ipython",
    "version": 3
   },
   "file_extension": ".py",
   "mimetype": "text/x-python",
   "name": "python",
   "nbconvert_exporter": "python",
   "pygments_lexer": "ipython3",
   "version": "3.9.13"
  }
 },
 "nbformat": 4,
 "nbformat_minor": 5
}
