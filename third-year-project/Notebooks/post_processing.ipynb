{
 "cells": [
  {
   "cell_type": "code",
   "execution_count": 1,
   "id": "5f0ab1f0-2e5a-4a8c-91e5-57f7a1f40221",
   "metadata": {},
   "outputs": [],
   "source": [
    "import pandas as pd"
   ]
  },
  {
   "cell_type": "code",
   "execution_count": 2,
   "id": "3914cefc-26c1-4303-b87c-c4b8d3d2f443",
   "metadata": {},
   "outputs": [],
   "source": [
    "platforms = [\"Pitchfork\", \"Guardian\", \"NME\", \"Spectrum\"]\n",
    "dfs = {platform: \n",
    "       pd.read_hdf(\"C:\\\\Users\\\\tommy\\\\OneDrive\\\\University\\\\Year 3\\\\Third Year Project\\\\Platform Album Data\\\\review_data.h5\", key=platform) for platform in platforms}"
   ]
  },
  {
   "cell_type": "code",
   "execution_count": 13,
   "id": "adbcf1ab-1ff5-426d-8274-13299c5159b4",
   "metadata": {},
   "outputs": [
    {
     "data": {
      "text/html": [
       "<div>\n",
       "<style scoped>\n",
       "    .dataframe tbody tr th:only-of-type {\n",
       "        vertical-align: middle;\n",
       "    }\n",
       "\n",
       "    .dataframe tbody tr th {\n",
       "        vertical-align: top;\n",
       "    }\n",
       "\n",
       "    .dataframe thead th {\n",
       "        text-align: right;\n",
       "    }\n",
       "</style>\n",
       "<table border=\"1\" class=\"dataframe\">\n",
       "  <thead>\n",
       "    <tr style=\"text-align: right;\">\n",
       "      <th></th>\n",
       "      <th>Platform</th>\n",
       "      <th>Album</th>\n",
       "      <th>Artist</th>\n",
       "      <th>Text</th>\n",
       "      <th>Scores</th>\n",
       "      <th>Genres</th>\n",
       "      <th>Url</th>\n",
       "    </tr>\n",
       "  </thead>\n",
       "  <tbody>\n",
       "    <tr>\n",
       "      <th>0</th>\n",
       "      <td>Pitchfork</td>\n",
       "      <td>brian eno</td>\n",
       "      <td>foreverandevernomore</td>\n",
       "      <td>Confronting the climate crisis and the prospec...</td>\n",
       "      <td>7.5</td>\n",
       "      <td>Electronic, Verve / UMC, October 18, 2022</td>\n",
       "      <td>https://www.pitchfork.com/reviews/albums/brian...</td>\n",
       "    </tr>\n",
       "    <tr>\n",
       "      <th>1</th>\n",
       "      <td>Pitchfork</td>\n",
       "      <td>shygirl</td>\n",
       "      <td>nymph</td>\n",
       "      <td>Sensuous, funny, and smartly produced, the Lon...</td>\n",
       "      <td>8.0</td>\n",
       "      <td>Electronic, Because Music, October 6, 2022</td>\n",
       "      <td>https://www.pitchfork.com/reviews/albums/shygi...</td>\n",
       "    </tr>\n",
       "    <tr>\n",
       "      <th>2</th>\n",
       "      <td>Pitchfork</td>\n",
       "      <td>bjork</td>\n",
       "      <td>fossora</td>\n",
       "      <td>With her 10th album, Björk is grounded back on...</td>\n",
       "      <td>8.4</td>\n",
       "      <td>Electronic / Pop/R&amp;B, One Little Independent, ...</td>\n",
       "      <td>https://www.pitchfork.com/reviews/albums/bjork...</td>\n",
       "    </tr>\n",
       "    <tr>\n",
       "      <th>3</th>\n",
       "      <td>Pitchfork</td>\n",
       "      <td>yeah yeah yeahs</td>\n",
       "      <td>cool it down</td>\n",
       "      <td>The trio’s first album in nine years ushers in...</td>\n",
       "      <td>7.4</td>\n",
       "      <td>Rock, Secretly Canadian, September 29, 2022</td>\n",
       "      <td>https://www.pitchfork.com/reviews/albums/yeah-...</td>\n",
       "    </tr>\n",
       "    <tr>\n",
       "      <th>4</th>\n",
       "      <td>Pitchfork</td>\n",
       "      <td>alex g</td>\n",
       "      <td>god save the animals</td>\n",
       "      <td>Placing its faith in the healing power of anim...</td>\n",
       "      <td>8.4</td>\n",
       "      <td>Rock, Domino, September 23, 2022</td>\n",
       "      <td>https://www.pitchfork.com/reviews/albums/alex-...</td>\n",
       "    </tr>\n",
       "  </tbody>\n",
       "</table>\n",
       "</div>"
      ],
      "text/plain": [
       "    Platform            Album                Artist  \\\n",
       "0  Pitchfork        brian eno  foreverandevernomore   \n",
       "1  Pitchfork          shygirl                 nymph   \n",
       "2  Pitchfork            bjork               fossora   \n",
       "3  Pitchfork  yeah yeah yeahs          cool it down   \n",
       "4  Pitchfork           alex g  god save the animals   \n",
       "\n",
       "                                                Text Scores  \\\n",
       "0  Confronting the climate crisis and the prospec...    7.5   \n",
       "1  Sensuous, funny, and smartly produced, the Lon...    8.0   \n",
       "2  With her 10th album, Björk is grounded back on...    8.4   \n",
       "3  The trio’s first album in nine years ushers in...    7.4   \n",
       "4  Placing its faith in the healing power of anim...    8.4   \n",
       "\n",
       "                                              Genres  \\\n",
       "0          Electronic, Verve / UMC, October 18, 2022   \n",
       "1         Electronic, Because Music, October 6, 2022   \n",
       "2  Electronic / Pop/R&B, One Little Independent, ...   \n",
       "3        Rock, Secretly Canadian, September 29, 2022   \n",
       "4                   Rock, Domino, September 23, 2022   \n",
       "\n",
       "                                                 Url  \n",
       "0  https://www.pitchfork.com/reviews/albums/brian...  \n",
       "1  https://www.pitchfork.com/reviews/albums/shygi...  \n",
       "2  https://www.pitchfork.com/reviews/albums/bjork...  \n",
       "3  https://www.pitchfork.com/reviews/albums/yeah-...  \n",
       "4  https://www.pitchfork.com/reviews/albums/alex-...  "
      ]
     },
     "execution_count": 13,
     "metadata": {},
     "output_type": "execute_result"
    }
   ],
   "source": [
    "dfs[\"Pitchfork\"].head()"
   ]
  },
  {
   "cell_type": "code",
   "execution_count": 14,
   "id": "6f9dfdbd-fddd-454a-8320-2c35976c4eeb",
   "metadata": {},
   "outputs": [
    {
     "data": {
      "text/plain": [
       "'The ranging album from the Philadelphia songwriter adopts a drifting mind as its emotional compass. There’s no rush to get where he’s going, and he rarely checks to see if you’re still following along. Nestled into Side A of Kurt Vile’s seventh solo album, Bottle It In, is “Bassackwards,” 10 minutes of warped, psychedelic folk-rock, like a long sigh in the face of existential dread. Some songwriters seek wisdom in their aimlessness—reflecting on what they could have done better, trying to pinpoint what went wrong. But there’s no moral to Vile’s story; he wallows, unapologetically. To a slow-pulsing chord progression, like Tom Petty’s “Swingin’” played on the moon, the 38-year-old Philadelphia songwriter repeats himself and gets distracted before losing his train of thought completely. As he drifts through space, he sounds confused, resigned, distant. It’s one of his best songs yet.This track, and its circuitous path toward nothingness, is a key insight into the mind of Kurt Vile. A lot of his lyrics take place in the early hours of the day, those bleary, pre-coffee moments, when nobody else is around, that have always somehow inspired his clearest thoughts. Over the last decade, Vile’s musical evolution from scuzzy, self-recorded doodles to fuller, brighter vistas has resembled a diary composed entirely of late-summer weekend mornings: He seeks comfortability over clarity, with anxiety creeping in but never quite blocking the light. Or as he puts it in “Bassackwards,” “The sun went down, and I couldn’t find another one… for a while.”Recorded gradually throughout America while Vile was on tour over the last three years, Bottle It In adopts a drifting mind as its emotional compass. The scenery changes, but Vile’s dazed, half-smile remains constant. “One Trick Ponies” is a bouncy highlight about friendship and the joys of repetition, as Vile depicts the span of life as a “song, if the repeats were long.” Communicating in a chewy monotone that’s more for zoning out than singing along, he still writes lyrics that feel like predictive text: “What a world we’ve inherited/From another mother/What a whale of a pickle.” So over Bottle It In’s 80 minutes, he manages to communicate very little, yet the mood is immediately identifiable: slow, smoky, heady. There’s no rush to get where he’s going, and he rarely checks to see if you’re still following along.While Bottle It In—Vile’s longest, most introspective record—lacks the quiet beauty of 2011’s Smoke Ring for My Halo, the warmth of 2013’s Wakin on a Pretty Daze, or the immediacy of 2015’s b’lieve i’m goin’ down…, its monolithic Kurtness is its own defining quality. In a recent New York Times interview, he jokingly compared the record to Bruce Springsteen’s multi-platinum Born in the U.S.A. Of course, nothing sounds like a “Dancing in the Dark”-style breakthrough, but there is a sense of comprehensiveness, each song zooming into a different, hazy corner of his psyche. The result feels like an extended hang alone with Kurt in a dark basement. Here, he’s less likely to summon the energy for a jam like 2009’s “Freak Train” and more likely to, say, crack a joke about avoiding parking tickets (“Loading Zones”) or gush about being in love while ripping noisy guitar solos for 10-plus minutes (“Skinny Mini”). At a certain point, though, the air can get a little stale. To keep things fresh, he enlists the help of Cass McCombs, Kim Gordon, and Warpaint’s Stella Mozgawa, though often in barely noticeable ways. Only harpist Mary Lattimore steals the show, ascending the free-floating title track into a menacing, regenerative anti-epic. Yet Bottle It In rotates entirely around Vile. Just as you couldn’t mistake his voice or lyrics for anyone else’s, his silvery, shapeshifting guitar remains a defining sound in modern indie rock. When his compositions feel like thoughts in progress, his guitar speaks to the intensity bubbling just under the surface.At its best, Bottle It In pairs music with message to create a new tension in Vile’s work. The anti-technology lyrics of “Mutinies” are fairly simple (“I think things were way easier with a regular telephone,” he mutters), but the arrangement is complex and colorful, building to a droning sunshower that envelopes his words. “Cold Was the Wind,” meanwhile, furthers his penchant for rambling about his rambles, but its arrangement is one of his darkest, most unsettling studio concoctions yet. It could pass for a spidery Tom Waits demo or the theme for an HBO miniseries about a sad detective.And then, of course, there’s “Bassackwards.” It’s the beautiful, banal peak of the record, a warning for the purposeful meandering that follows. The album’s structure—with its more accessible tracks up front and a meditative, somewhat indulgent back-half—can feel like a conversation slipping silently into sighing and nodding. At the end of “Bassackwards,” he mumbles, “Just the way things is these days/Just the way things come out.” It’s the type of thing you say when you’re bored and trying to change the subject but it also serves his momentary thesis statement. Vile has long embraced such in-between moments—he’s just never sounded so lost in one.'"
      ]
     },
     "execution_count": 14,
     "metadata": {},
     "output_type": "execute_result"
    }
   ],
   "source": [
    "pf_text1 = dfs[\"Pitchfork\"].loc[:, \"Text\"][300]\n",
    "pf_text1"
   ]
  },
  {
   "cell_type": "code",
   "execution_count": 15,
   "id": "837accc1-452e-416a-ab35-3a1a5288dea1",
   "metadata": {},
   "outputs": [],
   "source": [
    "def format_pitchfork(x):\n",
    "    \n",
    "    find1 = x.find(\"All products featured on Pitchfork\")\n",
    "    find2 = x.find(\"Buy: Rough Trade\")\n",
    "    \n",
    "    for index in [find1, find2]:\n",
    "        \n",
    "        if index != -1:\n",
    "            \n",
    "            x = x[:index]\n",
    "    \n",
    "    return x\n",
    "\n",
    "dfs[\"Pitchfork\"].loc[:, \"Text\"] = dfs[\"Pitchfork\"].loc[:, \"Text\"].apply(format_pitchfork)"
   ]
  },
  {
   "cell_type": "code",
   "execution_count": 16,
   "id": "b3f6f1ef-3b41-4ef8-a62d-36657a5fadbc",
   "metadata": {},
   "outputs": [
    {
     "data": {
      "text/plain": [
       "Platform                                            Pitchfork\n",
       "Album                                            fuck buttons\n",
       "Artist                                             slow focus\n",
       "Text        On Slow Focus, Fuck Buttons' first album in fo...\n",
       "Scores                                                    8.7\n",
       "Genres                         Electronic, ATP, July 22, 2013\n",
       "Url         https://www.pitchfork.com/reviews/albums/18295...\n",
       "Name: 677, dtype: object"
      ]
     },
     "execution_count": 16,
     "metadata": {},
     "output_type": "execute_result"
    }
   ],
   "source": [
    "# Spot checking\n",
    "\n",
    "dfs[\"Pitchfork\"].iloc[677, :]"
   ]
  },
  {
   "cell_type": "code",
   "execution_count": 17,
   "id": "1b73eed7-2af2-4f88-a314-7e1420b8d7ef",
   "metadata": {},
   "outputs": [],
   "source": [
    "dfs[\"Pitchfork\"].columns = [\"Platform\", \"Artist\", \"Album\", \"Text\", \"Scores\", \"Genres\", \"Url\"]"
   ]
  },
  {
   "cell_type": "code",
   "execution_count": 18,
   "id": "749027b6-4532-4de7-817a-a9ac6e5f6ef9",
   "metadata": {},
   "outputs": [
    {
     "data": {
      "text/html": [
       "<div>\n",
       "<style scoped>\n",
       "    .dataframe tbody tr th:only-of-type {\n",
       "        vertical-align: middle;\n",
       "    }\n",
       "\n",
       "    .dataframe tbody tr th {\n",
       "        vertical-align: top;\n",
       "    }\n",
       "\n",
       "    .dataframe thead th {\n",
       "        text-align: right;\n",
       "    }\n",
       "</style>\n",
       "<table border=\"1\" class=\"dataframe\">\n",
       "  <thead>\n",
       "    <tr style=\"text-align: right;\">\n",
       "      <th></th>\n",
       "      <th>Platform</th>\n",
       "      <th>Artist</th>\n",
       "      <th>Album</th>\n",
       "      <th>Text</th>\n",
       "      <th>Scores</th>\n",
       "      <th>Genres</th>\n",
       "      <th>Url</th>\n",
       "    </tr>\n",
       "  </thead>\n",
       "  <tbody>\n",
       "    <tr>\n",
       "      <th>0</th>\n",
       "      <td>Pitchfork</td>\n",
       "      <td>brian eno</td>\n",
       "      <td>foreverandevernomore</td>\n",
       "      <td>Confronting the climate crisis and the prospec...</td>\n",
       "      <td>7.5</td>\n",
       "      <td>Electronic, Verve / UMC, October 18, 2022</td>\n",
       "      <td>https://www.pitchfork.com/reviews/albums/brian...</td>\n",
       "    </tr>\n",
       "    <tr>\n",
       "      <th>1</th>\n",
       "      <td>Pitchfork</td>\n",
       "      <td>shygirl</td>\n",
       "      <td>nymph</td>\n",
       "      <td>Sensuous, funny, and smartly produced, the Lon...</td>\n",
       "      <td>8.0</td>\n",
       "      <td>Electronic, Because Music, October 6, 2022</td>\n",
       "      <td>https://www.pitchfork.com/reviews/albums/shygi...</td>\n",
       "    </tr>\n",
       "    <tr>\n",
       "      <th>2</th>\n",
       "      <td>Pitchfork</td>\n",
       "      <td>bjork</td>\n",
       "      <td>fossora</td>\n",
       "      <td>With her 10th album, Björk is grounded back on...</td>\n",
       "      <td>8.4</td>\n",
       "      <td>Electronic / Pop/R&amp;B, One Little Independent, ...</td>\n",
       "      <td>https://www.pitchfork.com/reviews/albums/bjork...</td>\n",
       "    </tr>\n",
       "    <tr>\n",
       "      <th>3</th>\n",
       "      <td>Pitchfork</td>\n",
       "      <td>yeah yeah yeahs</td>\n",
       "      <td>cool it down</td>\n",
       "      <td>The trio’s first album in nine years ushers in...</td>\n",
       "      <td>7.4</td>\n",
       "      <td>Rock, Secretly Canadian, September 29, 2022</td>\n",
       "      <td>https://www.pitchfork.com/reviews/albums/yeah-...</td>\n",
       "    </tr>\n",
       "    <tr>\n",
       "      <th>4</th>\n",
       "      <td>Pitchfork</td>\n",
       "      <td>alex g</td>\n",
       "      <td>god save the animals</td>\n",
       "      <td>Placing its faith in the healing power of anim...</td>\n",
       "      <td>8.4</td>\n",
       "      <td>Rock, Domino, September 23, 2022</td>\n",
       "      <td>https://www.pitchfork.com/reviews/albums/alex-...</td>\n",
       "    </tr>\n",
       "  </tbody>\n",
       "</table>\n",
       "</div>"
      ],
      "text/plain": [
       "    Platform           Artist                 Album  \\\n",
       "0  Pitchfork        brian eno  foreverandevernomore   \n",
       "1  Pitchfork          shygirl                 nymph   \n",
       "2  Pitchfork            bjork               fossora   \n",
       "3  Pitchfork  yeah yeah yeahs          cool it down   \n",
       "4  Pitchfork           alex g  god save the animals   \n",
       "\n",
       "                                                Text Scores  \\\n",
       "0  Confronting the climate crisis and the prospec...    7.5   \n",
       "1  Sensuous, funny, and smartly produced, the Lon...    8.0   \n",
       "2  With her 10th album, Björk is grounded back on...    8.4   \n",
       "3  The trio’s first album in nine years ushers in...    7.4   \n",
       "4  Placing its faith in the healing power of anim...    8.4   \n",
       "\n",
       "                                              Genres  \\\n",
       "0          Electronic, Verve / UMC, October 18, 2022   \n",
       "1         Electronic, Because Music, October 6, 2022   \n",
       "2  Electronic / Pop/R&B, One Little Independent, ...   \n",
       "3        Rock, Secretly Canadian, September 29, 2022   \n",
       "4                   Rock, Domino, September 23, 2022   \n",
       "\n",
       "                                                 Url  \n",
       "0  https://www.pitchfork.com/reviews/albums/brian...  \n",
       "1  https://www.pitchfork.com/reviews/albums/shygi...  \n",
       "2  https://www.pitchfork.com/reviews/albums/bjork...  \n",
       "3  https://www.pitchfork.com/reviews/albums/yeah-...  \n",
       "4  https://www.pitchfork.com/reviews/albums/alex-...  "
      ]
     },
     "execution_count": 18,
     "metadata": {},
     "output_type": "execute_result"
    }
   ],
   "source": [
    "dfs[\"Pitchfork\"].head()"
   ]
  },
  {
   "cell_type": "code",
   "execution_count": 19,
   "id": "04e1b6a8-1e99-4f1e-b4ab-f516327978b0",
   "metadata": {},
   "outputs": [
    {
     "ename": "OSError",
     "evalue": "``C:\\Users\\tommy\\OneDrive\\Third Year Project\\Platform Album Data`` does not exist",
     "output_type": "error",
     "traceback": [
      "\u001b[1;31m---------------------------------------------------------------------------\u001b[0m",
      "\u001b[1;31mOSError\u001b[0m                                   Traceback (most recent call last)",
      "Cell \u001b[1;32mIn [19], line 1\u001b[0m\n\u001b[1;32m----> 1\u001b[0m \u001b[43mdfs\u001b[49m\u001b[43m[\u001b[49m\u001b[38;5;124;43m\"\u001b[39;49m\u001b[38;5;124;43mPitchfork\u001b[39;49m\u001b[38;5;124;43m\"\u001b[39;49m\u001b[43m]\u001b[49m\u001b[38;5;241;43m.\u001b[39;49m\u001b[43mto_hdf\u001b[49m\u001b[43m(\u001b[49m\u001b[38;5;124;43m\"\u001b[39;49m\u001b[38;5;124;43mC:\u001b[39;49m\u001b[38;5;130;43;01m\\\\\u001b[39;49;00m\u001b[38;5;124;43mUsers\u001b[39;49m\u001b[38;5;130;43;01m\\\\\u001b[39;49;00m\u001b[38;5;124;43mtommy\u001b[39;49m\u001b[38;5;130;43;01m\\\\\u001b[39;49;00m\u001b[38;5;124;43mOneDrive\u001b[39;49m\u001b[38;5;130;43;01m\\\\\u001b[39;49;00m\u001b[38;5;124;43mThird Year Project\u001b[39;49m\u001b[38;5;130;43;01m\\\\\u001b[39;49;00m\u001b[38;5;124;43mPlatform Album Data\u001b[39;49m\u001b[38;5;130;43;01m\\\\\u001b[39;49;00m\u001b[38;5;124;43mreview_data_final.h5\u001b[39;49m\u001b[38;5;124;43m\"\u001b[39;49m\u001b[43m,\u001b[49m\u001b[43m \u001b[49m\u001b[43mmode\u001b[49m\u001b[38;5;241;43m=\u001b[39;49m\u001b[38;5;124;43m\"\u001b[39;49m\u001b[38;5;124;43ma\u001b[39;49m\u001b[38;5;124;43m\"\u001b[39;49m\u001b[43m,\u001b[49m\u001b[43m \u001b[49m\u001b[43mkey\u001b[49m\u001b[38;5;241;43m=\u001b[39;49m\u001b[38;5;124;43m\"\u001b[39;49m\u001b[38;5;124;43mPitchfork\u001b[39;49m\u001b[38;5;124;43m\"\u001b[39;49m\u001b[43m)\u001b[49m\n",
      "File \u001b[1;32m~\\PycharmProjects\\Third-Year-Project\\venv\\lib\\site-packages\\pandas\\core\\generic.py:2763\u001b[0m, in \u001b[0;36mNDFrame.to_hdf\u001b[1;34m(self, path_or_buf, key, mode, complevel, complib, append, format, index, min_itemsize, nan_rep, dropna, data_columns, errors, encoding)\u001b[0m\n\u001b[0;32m   2759\u001b[0m \u001b[38;5;28;01mfrom\u001b[39;00m \u001b[38;5;21;01mpandas\u001b[39;00m\u001b[38;5;21;01m.\u001b[39;00m\u001b[38;5;21;01mio\u001b[39;00m \u001b[38;5;28;01mimport\u001b[39;00m pytables\n\u001b[0;32m   2761\u001b[0m \u001b[38;5;66;03m# Argument 3 to \"to_hdf\" has incompatible type \"NDFrame\"; expected\u001b[39;00m\n\u001b[0;32m   2762\u001b[0m \u001b[38;5;66;03m# \"Union[DataFrame, Series]\" [arg-type]\u001b[39;00m\n\u001b[1;32m-> 2763\u001b[0m \u001b[43mpytables\u001b[49m\u001b[38;5;241;43m.\u001b[39;49m\u001b[43mto_hdf\u001b[49m\u001b[43m(\u001b[49m\n\u001b[0;32m   2764\u001b[0m \u001b[43m    \u001b[49m\u001b[43mpath_or_buf\u001b[49m\u001b[43m,\u001b[49m\n\u001b[0;32m   2765\u001b[0m \u001b[43m    \u001b[49m\u001b[43mkey\u001b[49m\u001b[43m,\u001b[49m\n\u001b[0;32m   2766\u001b[0m \u001b[43m    \u001b[49m\u001b[38;5;28;43mself\u001b[39;49m\u001b[43m,\u001b[49m\u001b[43m  \u001b[49m\u001b[38;5;66;43;03m# type: ignore[arg-type]\u001b[39;49;00m\n\u001b[0;32m   2767\u001b[0m \u001b[43m    \u001b[49m\u001b[43mmode\u001b[49m\u001b[38;5;241;43m=\u001b[39;49m\u001b[43mmode\u001b[49m\u001b[43m,\u001b[49m\n\u001b[0;32m   2768\u001b[0m \u001b[43m    \u001b[49m\u001b[43mcomplevel\u001b[49m\u001b[38;5;241;43m=\u001b[39;49m\u001b[43mcomplevel\u001b[49m\u001b[43m,\u001b[49m\n\u001b[0;32m   2769\u001b[0m \u001b[43m    \u001b[49m\u001b[43mcomplib\u001b[49m\u001b[38;5;241;43m=\u001b[39;49m\u001b[43mcomplib\u001b[49m\u001b[43m,\u001b[49m\n\u001b[0;32m   2770\u001b[0m \u001b[43m    \u001b[49m\u001b[43mappend\u001b[49m\u001b[38;5;241;43m=\u001b[39;49m\u001b[43mappend\u001b[49m\u001b[43m,\u001b[49m\n\u001b[0;32m   2771\u001b[0m \u001b[43m    \u001b[49m\u001b[38;5;28;43mformat\u001b[39;49m\u001b[38;5;241;43m=\u001b[39;49m\u001b[38;5;28;43mformat\u001b[39;49m\u001b[43m,\u001b[49m\n\u001b[0;32m   2772\u001b[0m \u001b[43m    \u001b[49m\u001b[43mindex\u001b[49m\u001b[38;5;241;43m=\u001b[39;49m\u001b[43mindex\u001b[49m\u001b[43m,\u001b[49m\n\u001b[0;32m   2773\u001b[0m \u001b[43m    \u001b[49m\u001b[43mmin_itemsize\u001b[49m\u001b[38;5;241;43m=\u001b[39;49m\u001b[43mmin_itemsize\u001b[49m\u001b[43m,\u001b[49m\n\u001b[0;32m   2774\u001b[0m \u001b[43m    \u001b[49m\u001b[43mnan_rep\u001b[49m\u001b[38;5;241;43m=\u001b[39;49m\u001b[43mnan_rep\u001b[49m\u001b[43m,\u001b[49m\n\u001b[0;32m   2775\u001b[0m \u001b[43m    \u001b[49m\u001b[43mdropna\u001b[49m\u001b[38;5;241;43m=\u001b[39;49m\u001b[43mdropna\u001b[49m\u001b[43m,\u001b[49m\n\u001b[0;32m   2776\u001b[0m \u001b[43m    \u001b[49m\u001b[43mdata_columns\u001b[49m\u001b[38;5;241;43m=\u001b[39;49m\u001b[43mdata_columns\u001b[49m\u001b[43m,\u001b[49m\n\u001b[0;32m   2777\u001b[0m \u001b[43m    \u001b[49m\u001b[43merrors\u001b[49m\u001b[38;5;241;43m=\u001b[39;49m\u001b[43merrors\u001b[49m\u001b[43m,\u001b[49m\n\u001b[0;32m   2778\u001b[0m \u001b[43m    \u001b[49m\u001b[43mencoding\u001b[49m\u001b[38;5;241;43m=\u001b[39;49m\u001b[43mencoding\u001b[49m\u001b[43m,\u001b[49m\n\u001b[0;32m   2779\u001b[0m \u001b[43m\u001b[49m\u001b[43m)\u001b[49m\n",
      "File \u001b[1;32m~\\PycharmProjects\\Third-Year-Project\\venv\\lib\\site-packages\\pandas\\io\\pytables.py:311\u001b[0m, in \u001b[0;36mto_hdf\u001b[1;34m(path_or_buf, key, value, mode, complevel, complib, append, format, index, min_itemsize, nan_rep, dropna, data_columns, errors, encoding)\u001b[0m\n\u001b[0;32m    309\u001b[0m path_or_buf \u001b[38;5;241m=\u001b[39m stringify_path(path_or_buf)\n\u001b[0;32m    310\u001b[0m \u001b[38;5;28;01mif\u001b[39;00m \u001b[38;5;28misinstance\u001b[39m(path_or_buf, \u001b[38;5;28mstr\u001b[39m):\n\u001b[1;32m--> 311\u001b[0m     \u001b[38;5;28;01mwith\u001b[39;00m \u001b[43mHDFStore\u001b[49m\u001b[43m(\u001b[49m\n\u001b[0;32m    312\u001b[0m \u001b[43m        \u001b[49m\u001b[43mpath_or_buf\u001b[49m\u001b[43m,\u001b[49m\u001b[43m \u001b[49m\u001b[43mmode\u001b[49m\u001b[38;5;241;43m=\u001b[39;49m\u001b[43mmode\u001b[49m\u001b[43m,\u001b[49m\u001b[43m \u001b[49m\u001b[43mcomplevel\u001b[49m\u001b[38;5;241;43m=\u001b[39;49m\u001b[43mcomplevel\u001b[49m\u001b[43m,\u001b[49m\u001b[43m \u001b[49m\u001b[43mcomplib\u001b[49m\u001b[38;5;241;43m=\u001b[39;49m\u001b[43mcomplib\u001b[49m\n\u001b[0;32m    313\u001b[0m \u001b[43m    \u001b[49m\u001b[43m)\u001b[49m \u001b[38;5;28;01mas\u001b[39;00m store:\n\u001b[0;32m    314\u001b[0m         f(store)\n\u001b[0;32m    315\u001b[0m \u001b[38;5;28;01melse\u001b[39;00m:\n",
      "File \u001b[1;32m~\\PycharmProjects\\Third-Year-Project\\venv\\lib\\site-packages\\pandas\\io\\pytables.py:591\u001b[0m, in \u001b[0;36mHDFStore.__init__\u001b[1;34m(self, path, mode, complevel, complib, fletcher32, **kwargs)\u001b[0m\n\u001b[0;32m    589\u001b[0m \u001b[38;5;28mself\u001b[39m\u001b[38;5;241m.\u001b[39m_fletcher32 \u001b[38;5;241m=\u001b[39m fletcher32\n\u001b[0;32m    590\u001b[0m \u001b[38;5;28mself\u001b[39m\u001b[38;5;241m.\u001b[39m_filters \u001b[38;5;241m=\u001b[39m \u001b[38;5;28;01mNone\u001b[39;00m\n\u001b[1;32m--> 591\u001b[0m \u001b[38;5;28mself\u001b[39m\u001b[38;5;241m.\u001b[39mopen(mode\u001b[38;5;241m=\u001b[39mmode, \u001b[38;5;241m*\u001b[39m\u001b[38;5;241m*\u001b[39mkwargs)\n",
      "File \u001b[1;32m~\\PycharmProjects\\Third-Year-Project\\venv\\lib\\site-packages\\pandas\\io\\pytables.py:740\u001b[0m, in \u001b[0;36mHDFStore.open\u001b[1;34m(self, mode, **kwargs)\u001b[0m\n\u001b[0;32m    734\u001b[0m     msg \u001b[38;5;241m=\u001b[39m (\n\u001b[0;32m    735\u001b[0m         \u001b[38;5;124m\"\u001b[39m\u001b[38;5;124mCannot open HDF5 file, which is already opened, \u001b[39m\u001b[38;5;124m\"\u001b[39m\n\u001b[0;32m    736\u001b[0m         \u001b[38;5;124m\"\u001b[39m\u001b[38;5;124meven in read-only mode.\u001b[39m\u001b[38;5;124m\"\u001b[39m\n\u001b[0;32m    737\u001b[0m     )\n\u001b[0;32m    738\u001b[0m     \u001b[38;5;28;01mraise\u001b[39;00m \u001b[38;5;167;01mValueError\u001b[39;00m(msg)\n\u001b[1;32m--> 740\u001b[0m \u001b[38;5;28mself\u001b[39m\u001b[38;5;241m.\u001b[39m_handle \u001b[38;5;241m=\u001b[39m tables\u001b[38;5;241m.\u001b[39mopen_file(\u001b[38;5;28mself\u001b[39m\u001b[38;5;241m.\u001b[39m_path, \u001b[38;5;28mself\u001b[39m\u001b[38;5;241m.\u001b[39m_mode, \u001b[38;5;241m*\u001b[39m\u001b[38;5;241m*\u001b[39mkwargs)\n",
      "File \u001b[1;32m~\\PycharmProjects\\Third-Year-Project\\venv\\lib\\site-packages\\tables\\file.py:300\u001b[0m, in \u001b[0;36mopen_file\u001b[1;34m(filename, mode, title, root_uep, filters, **kwargs)\u001b[0m\n\u001b[0;32m    295\u001b[0m             \u001b[38;5;28;01mraise\u001b[39;00m \u001b[38;5;167;01mValueError\u001b[39;00m(\n\u001b[0;32m    296\u001b[0m                 \u001b[38;5;124m\"\u001b[39m\u001b[38;5;124mThe file \u001b[39m\u001b[38;5;124m'\u001b[39m\u001b[38;5;132;01m%s\u001b[39;00m\u001b[38;5;124m'\u001b[39m\u001b[38;5;124m is already opened.  Please \u001b[39m\u001b[38;5;124m\"\u001b[39m\n\u001b[0;32m    297\u001b[0m                 \u001b[38;5;124m\"\u001b[39m\u001b[38;5;124mclose it before reopening in write mode.\u001b[39m\u001b[38;5;124m\"\u001b[39m \u001b[38;5;241m%\u001b[39m filename)\n\u001b[0;32m    299\u001b[0m \u001b[38;5;66;03m# Finally, create the File instance, and return it\u001b[39;00m\n\u001b[1;32m--> 300\u001b[0m \u001b[38;5;28;01mreturn\u001b[39;00m File(filename, mode, title, root_uep, filters, \u001b[38;5;241m*\u001b[39m\u001b[38;5;241m*\u001b[39mkwargs)\n",
      "File \u001b[1;32m~\\PycharmProjects\\Third-Year-Project\\venv\\lib\\site-packages\\tables\\file.py:750\u001b[0m, in \u001b[0;36mFile.__init__\u001b[1;34m(self, filename, mode, title, root_uep, filters, **kwargs)\u001b[0m\n\u001b[0;32m    747\u001b[0m \u001b[38;5;28mself\u001b[39m\u001b[38;5;241m.\u001b[39mparams \u001b[38;5;241m=\u001b[39m params\n\u001b[0;32m    749\u001b[0m \u001b[38;5;66;03m# Now, it is time to initialize the File extension\u001b[39;00m\n\u001b[1;32m--> 750\u001b[0m \u001b[38;5;28mself\u001b[39m\u001b[38;5;241m.\u001b[39m_g_new(filename, mode, \u001b[38;5;241m*\u001b[39m\u001b[38;5;241m*\u001b[39mparams)\n\u001b[0;32m    752\u001b[0m \u001b[38;5;66;03m# Check filters and set PyTables format version for new files.\u001b[39;00m\n\u001b[0;32m    753\u001b[0m new \u001b[38;5;241m=\u001b[39m \u001b[38;5;28mself\u001b[39m\u001b[38;5;241m.\u001b[39m_v_new\n",
      "File \u001b[1;32m~\\PycharmProjects\\Third-Year-Project\\venv\\lib\\site-packages\\tables\\hdf5extension.pyx:368\u001b[0m, in \u001b[0;36mtables.hdf5extension.File._g_new\u001b[1;34m()\u001b[0m\n",
      "File \u001b[1;32m~\\PycharmProjects\\Third-Year-Project\\venv\\lib\\site-packages\\tables\\utils.py:169\u001b[0m, in \u001b[0;36mcheck_file_access\u001b[1;34m(filename, mode)\u001b[0m\n\u001b[0;32m    167\u001b[0m         check_file_access(path, \u001b[38;5;124m'\u001b[39m\u001b[38;5;124mr+\u001b[39m\u001b[38;5;124m'\u001b[39m)\n\u001b[0;32m    168\u001b[0m     \u001b[38;5;28;01melse\u001b[39;00m:\n\u001b[1;32m--> 169\u001b[0m         \u001b[43mcheck_file_access\u001b[49m\u001b[43m(\u001b[49m\u001b[43mpath\u001b[49m\u001b[43m,\u001b[49m\u001b[43m \u001b[49m\u001b[38;5;124;43m'\u001b[39;49m\u001b[38;5;124;43mw\u001b[39;49m\u001b[38;5;124;43m'\u001b[39;49m\u001b[43m)\u001b[49m\n\u001b[0;32m    170\u001b[0m \u001b[38;5;28;01melif\u001b[39;00m mode \u001b[38;5;241m==\u001b[39m \u001b[38;5;124m'\u001b[39m\u001b[38;5;124mr+\u001b[39m\u001b[38;5;124m'\u001b[39m:\n\u001b[0;32m    171\u001b[0m     check_file_access(path, \u001b[38;5;124m'\u001b[39m\u001b[38;5;124mr\u001b[39m\u001b[38;5;124m'\u001b[39m)\n",
      "File \u001b[1;32m~\\PycharmProjects\\Third-Year-Project\\venv\\lib\\site-packages\\tables\\utils.py:157\u001b[0m, in \u001b[0;36mcheck_file_access\u001b[1;34m(filename, mode)\u001b[0m\n\u001b[0;32m    153\u001b[0m \u001b[38;5;28;01melse\u001b[39;00m:\n\u001b[0;32m    154\u001b[0m     \u001b[38;5;66;03m# A new file is going to be created,\u001b[39;00m\n\u001b[0;32m    155\u001b[0m     \u001b[38;5;66;03m# so the directory should be writable.\u001b[39;00m\n\u001b[0;32m    156\u001b[0m     \u001b[38;5;28;01mif\u001b[39;00m \u001b[38;5;129;01mnot\u001b[39;00m os\u001b[38;5;241m.\u001b[39maccess(path\u001b[38;5;241m.\u001b[39mparent, os\u001b[38;5;241m.\u001b[39mF_OK):\n\u001b[1;32m--> 157\u001b[0m         \u001b[38;5;28;01mraise\u001b[39;00m \u001b[38;5;167;01mOSError\u001b[39;00m(\u001b[38;5;124mf\u001b[39m\u001b[38;5;124m\"\u001b[39m\u001b[38;5;124m``\u001b[39m\u001b[38;5;132;01m{\u001b[39;00mpath\u001b[38;5;241m.\u001b[39mparent\u001b[38;5;132;01m}\u001b[39;00m\u001b[38;5;124m`` does not exist\u001b[39m\u001b[38;5;124m\"\u001b[39m)\n\u001b[0;32m    158\u001b[0m     \u001b[38;5;28;01mif\u001b[39;00m \u001b[38;5;129;01mnot\u001b[39;00m path\u001b[38;5;241m.\u001b[39mparent\u001b[38;5;241m.\u001b[39mis_dir():\n\u001b[0;32m    159\u001b[0m         \u001b[38;5;28;01mraise\u001b[39;00m \u001b[38;5;167;01mOSError\u001b[39;00m(\u001b[38;5;124mf\u001b[39m\u001b[38;5;124m\"\u001b[39m\u001b[38;5;124m``\u001b[39m\u001b[38;5;132;01m{\u001b[39;00mpath\u001b[38;5;241m.\u001b[39mparent\u001b[38;5;132;01m}\u001b[39;00m\u001b[38;5;124m`` is not a directory\u001b[39m\u001b[38;5;124m\"\u001b[39m)\n",
      "\u001b[1;31mOSError\u001b[0m: ``C:\\Users\\tommy\\OneDrive\\Third Year Project\\Platform Album Data`` does not exist"
     ]
    }
   ],
   "source": [
    "dfs[\"Pitchfork\"].to_hdf(\"C:\\\\Users\\\\tommy\\\\OneDrive\\\\Third Year Project\\\\Platform Album Data\\\\review_data_final.h5\", mode=\"a\", key=\"Pitchfork\")"
   ]
  },
  {
   "cell_type": "code",
   "execution_count": 47,
   "id": "b73587c3-2aac-4a75-9e84-bf7ebf7e4383",
   "metadata": {},
   "outputs": [
    {
     "data": {
      "text/html": [
       "<div>\n",
       "<style scoped>\n",
       "    .dataframe tbody tr th:only-of-type {\n",
       "        vertical-align: middle;\n",
       "    }\n",
       "\n",
       "    .dataframe tbody tr th {\n",
       "        vertical-align: top;\n",
       "    }\n",
       "\n",
       "    .dataframe thead th {\n",
       "        text-align: right;\n",
       "    }\n",
       "</style>\n",
       "<table border=\"1\" class=\"dataframe\">\n",
       "  <thead>\n",
       "    <tr style=\"text-align: right;\">\n",
       "      <th></th>\n",
       "      <th>Platform</th>\n",
       "      <th>Album</th>\n",
       "      <th>Artist</th>\n",
       "      <th>Text</th>\n",
       "      <th>Scores</th>\n",
       "      <th>Genres</th>\n",
       "      <th>Url</th>\n",
       "    </tr>\n",
       "  </thead>\n",
       "  <tbody>\n",
       "    <tr>\n",
       "      <th>0</th>\n",
       "      <td>Guardian</td>\n",
       "      <td>brian eno</td>\n",
       "      <td>foreverandevernomore</td>\n",
       "      <td>(UMC)The producer contemplates the future of ...</td>\n",
       "      <td>4</td>\n",
       "      <td>[]</td>\n",
       "      <td>https://www.theguardian.com/music/2022/oct/16/...</td>\n",
       "    </tr>\n",
       "    <tr>\n",
       "      <th>1</th>\n",
       "      <td>Guardian</td>\n",
       "      <td>shygirl</td>\n",
       "      <td>nymph</td>\n",
       "      <td>(Because Music)British rapper, DJ and singer-...</td>\n",
       "      <td>4</td>\n",
       "      <td>[]</td>\n",
       "      <td>https://www.theguardian.com/music/2022/oct/02/...</td>\n",
       "    </tr>\n",
       "    <tr>\n",
       "      <th>2</th>\n",
       "      <td>Guardian</td>\n",
       "      <td>bjork</td>\n",
       "      <td>fossora</td>\n",
       "      <td>(One Little Independent)The pop auteur’s 10th...</td>\n",
       "      <td>4</td>\n",
       "      <td>[]</td>\n",
       "      <td>https://www.theguardian.com/music/2022/oct/01/...</td>\n",
       "    </tr>\n",
       "    <tr>\n",
       "      <th>3</th>\n",
       "      <td>Guardian</td>\n",
       "      <td>yeah yeah yeahs</td>\n",
       "      <td>cool it down</td>\n",
       "      <td>(Secretly Canadian)Karen O is more incisive t...</td>\n",
       "      <td>4</td>\n",
       "      <td>[]</td>\n",
       "      <td>https://www.theguardian.com/music/2022/sep/30/...</td>\n",
       "    </tr>\n",
       "    <tr>\n",
       "      <th>4</th>\n",
       "      <td>Guardian</td>\n",
       "      <td>alex g</td>\n",
       "      <td>god save the animals</td>\n",
       "      <td>(Domino)The American musician continues to mi...</td>\n",
       "      <td>4</td>\n",
       "      <td>[]</td>\n",
       "      <td>https://www.theguardian.com/music/2022/sep/25/...</td>\n",
       "    </tr>\n",
       "  </tbody>\n",
       "</table>\n",
       "</div>"
      ],
      "text/plain": [
       "   Platform            Album                Artist  \\\n",
       "0  Guardian        brian eno  foreverandevernomore   \n",
       "1  Guardian          shygirl                 nymph   \n",
       "2  Guardian            bjork               fossora   \n",
       "3  Guardian  yeah yeah yeahs          cool it down   \n",
       "4  Guardian           alex g  god save the animals   \n",
       "\n",
       "                                                Text  Scores Genres  \\\n",
       "0   (UMC)The producer contemplates the future of ...       4     []   \n",
       "1   (Because Music)British rapper, DJ and singer-...       4     []   \n",
       "2   (One Little Independent)The pop auteur’s 10th...       4     []   \n",
       "3   (Secretly Canadian)Karen O is more incisive t...       4     []   \n",
       "4   (Domino)The American musician continues to mi...       4     []   \n",
       "\n",
       "                                                 Url  \n",
       "0  https://www.theguardian.com/music/2022/oct/16/...  \n",
       "1  https://www.theguardian.com/music/2022/oct/02/...  \n",
       "2  https://www.theguardian.com/music/2022/oct/01/...  \n",
       "3  https://www.theguardian.com/music/2022/sep/30/...  \n",
       "4  https://www.theguardian.com/music/2022/sep/25/...  "
      ]
     },
     "execution_count": 47,
     "metadata": {},
     "output_type": "execute_result"
    }
   ],
   "source": [
    "dfs[\"Guardian\"].head()"
   ]
  },
  {
   "cell_type": "code",
   "execution_count": 48,
   "id": "a5cc01ed-a0ff-4662-9818-1788290946c1",
   "metadata": {},
   "outputs": [],
   "source": [
    "dfs[\"Guardian\"].columns = [\"Platform\", \"Artist\", \"Album\", \"Text\", \"Scores\", \"Genres\", \"Url\"]"
   ]
  },
  {
   "cell_type": "code",
   "execution_count": 49,
   "id": "2c03e9fb-b8a5-4e30-ac61-4e221576ef80",
   "metadata": {},
   "outputs": [
    {
     "data": {
      "text/plain": [
       "' (Epic)The unhurried artist’s first studio album in eight years is astonishing, intimate and demonstrates a refusal to be silenced. The re-emergence of Fiona Apple, eight years after her last studio album, is not quite dolphins returning to the waterways of Venice, but an argument at least for the benefits of letting a musician lie fallow. Apple has always been an unhurried artist – there have been just five albums across her 24-year career, but a recent New Yorker profile documented how richly she used that time to replenish and create. The re-emergence of Fiona Apple, eight years after her last studio album, is not quite dolphins returning to the waterways of Venice, but an argument at least for the benefits of letting a musician lie fallow. Apple has always been an unhurried artist – there have been just five albums across her 24-year career, but a recent New Yorker profile documented how richly she used that time to replenish and create. The Apple of 2020 is astonishing; as if she has returned to reinvent sound – the rhythms pleasing, but counter, and unusual. On the title track she half-sings over a makeshift orchestra of kitchen implements, dog bark and cat yowl. The beat on Kick Me Under the Table has a seething back-and-forth pace; the extraordinary For Her beds double Dutch skipping rope rhythms beneath a chorus of female voices. It’s striking how intimate Apple’s voice sounds here – half-conversational, half-self-mutters, allowing every scuff, breath and feral yelp. She is at her most familiar on Ladies, hollering over a soulful backdrop, chewing her own voice like tobacco, then letting it take sweet, sudden flight. The recurring lyrical theme is a refusal to be silenced: “The cool kids wanted to get rid of me,” she warns. “Kick me under the table all you want, I won’t shut up”. And again: “I’ve been sucking it in so long / that I’m busting at the seams.” The result is that this seems not so much an album as a sudden glorious eruption; after eight long years, an urgent desire to be heard.'"
      ]
     },
     "execution_count": 49,
     "metadata": {},
     "output_type": "execute_result"
    }
   ],
   "source": [
    "# Spot checking\n",
    "\n",
    "dfs[\"Guardian\"].loc[:, \"Text\"].iloc[151]"
   ]
  },
  {
   "cell_type": "code",
   "execution_count": 50,
   "id": "332e6ac4-4087-404f-9fe5-3ce39daf8869",
   "metadata": {},
   "outputs": [],
   "source": [
    "def remove_bracket(x):\n",
    "    \n",
    "    if x.strip()[0] == \"(\":\n",
    "        \n",
    "        x = x[x.find(\")\") + 1:]\n",
    "        \n",
    "    return x\n",
    "\n",
    "dfs[\"Guardian\"].loc[:, \"Text\"] = dfs[\"Guardian\"].loc[:, \"Text\"].apply(remove_bracket)"
   ]
  },
  {
   "cell_type": "code",
   "execution_count": 51,
   "id": "9e450ac0-d9ea-4c6f-97cf-725c783ad7b5",
   "metadata": {},
   "outputs": [
    {
     "data": {
      "text/plain": [
       "'The musical landscape has shifted from Mike Skinner’s noughties tales of life and laddism, and this mixtape brings in the new guard from Ms Banks to Idles. Cast your mind back to the summer of 2004. Mike Skinner – that then-rarest of things, a British rapper who had found not only a uniquely British voice, but a huge mainstream audience – is virtually inescapable. His second album as the Streets, A Grand Don’t Come for Free, is on its way to going quadruple platinum. Reviews have placed his wry, warm depictions of everyday early twentysomething life – drink, drugs, clubs, kebabs, package holidays – in a grand songwriting lineage that includes the Kinks’ Ray Davies and Ian Dury. The attendant single Dry Your Eyes has become ubiquitous: one rumour claims its omnipresence was aided by Skinner’s record label deliberately delaying its release in order to capture the national mood when England inevitably crashed out of Euro 2004. Cast your mind back to the summer of 2004. Mike Skinner – that then-rarest of things, a British rapper who had found not only a uniquely British voice, but a huge mainstream audience – is virtually inescapable. His second album as the Streets, A Grand Don’t Come for Free, is on its way to going quadruple platinum. Reviews have placed his wry, warm depictions of everyday early twentysomething life – drink, drugs, clubs, kebabs, package holidays – in a grand songwriting lineage that includes the Kinks’ Ray Davies and Ian Dury. The attendant single Dry Your Eyes has become ubiquitous: one rumour claims its omnipresence was aided by Skinner’s record label deliberately delaying its release in order to capture the national mood when England inevitably crashed out of Euro 2004. It was the commercial zenith of Skinner’s career. Nine years after calling time on the Streets, he finds himself in a markedly different musical world from the one that bore him to fame: a British rapper with both a uniquely British voice and a huge mainstream audience is thankfully no longer a novelty. As with Kano’s cover of Has It Come to This? and laudatory tweets from Skepta, the guest list of None of Us Are Getting Out of This Life Alive is testament to Skinner’s impact: a wide-ranging array of younger rappers – Ms Banks, Jimothy Lacoste, Dapz on the Map – alongside Tame Impala and Idles. Furthermore, while rooted in garage, his production style never linked itself explicitly to one musical trend. The beats on None of Us Are Getting Out of This Life Alive are impressively rough-hewn – there’s no sign of the commercial choruses that powered Dry Your Eyes or Never Went to Church – lurching from abstract hip-hop on the title track to post-dubstep on Eskimo Ice, its title presumably a nod to Wiley, to drum’n’bass on Take Me As I Am to Falling Down, based around a piano part that sounds not unlike Heart and Soul, the Hoagy Carmichael song beloved of kids beginning to learn the instrument. But the passage of time has impacted on Skinner in other ways. Now a 40-year-old father of two, the kind of youth reportage that his most famous songs dealt in are clearly off limits. In addition, some of his more laddy reflections on relationships probably wouldn’t fly in the current moral climate: it’s hard to imagine Fit But You Know It or When You Wasn’t Famous escaping without provoking angry op-eds today. To his credit, Skinner clearly realises this: you couldn’t accuse None of Us Are Getting Out of This Life Alive of being an attempt to revisit former glories. Instead his lyrics adopt a more scattershot approach. He’s very good at musing on relationships, middle-aged hedonism and technology (Skinner still seems as obsessed with mobile phones as he did during his early 2000s appearance on Later With Jools Holland, where he paused midway through a song to check his messages, a brilliantly insouciant bit of stagecraft) and more than capable of coming up with snappy lines and images: a greasy spoon offers “Brexit breakfast, DayGlo stars”, a moneyed, coked-out nightspot is sharply summed up with the observation that “everyone in this club is smelling their keys”. But they’re frequently lost amid a brand of philosophising that probably sounds more profound when you are, as Falling Down puts it, “three Rizla sheets to the wind”. It’s not entirely clear how serious Skinner is being when he says “If God had have dropped acid, would God see people?” – probably not very, but the presence of this stuff is still frustrating. You wish he’d stick to what he’s good at, not least because he keeps offering you evidence that he’s still very good at it indeed. I Wish You Loved You As Much As You Loved Him’s domestic violence saga starts with the kind of strong narrative line that used to be his speciality – that made Blinded By the Lights one of pop’s greatest evocations of the ecstasy-fuelled clubbing experience – but Skinner unexpectedly cedes control of the song to his guests Greentea Peng and Donae’O after one verse. In fact, there are moments where None of Us Are Getting Out of This Life Alive feels more like a showcase for younger talent than a Streets comeback: the best line on You Can’t Afford Me comes courtesy of Ms Banks (“I ain’t gonna lie to you, mate, not even a little / I’m M&S, babes – you got a better chance at Lidl”) while The Poison I Take Hoping You Will Suffer really takes flight when Oscar #Worldpeace takes over the mic. Perhaps that’s to be expected: promoted as a mixtape rather than an album proper, it’s the sound of an artist working out where he fits into an altered musical landscape. The moments of inspiration suggest Skinner should fit in somewhere, but a more conclusive answer doesn’t come. McHifi: Bunker to BunkerDJ Sean Dickson – AKA Hifi Sean – surrounds the gorgeous vocals of David McAlmont with electronics: the end result somehow manages to be both understated and anthemic.'"
      ]
     },
     "execution_count": 51,
     "metadata": {},
     "output_type": "execute_result"
    }
   ],
   "source": [
    "dfs[\"Guardian\"].loc[130, \"Text\"]"
   ]
  },
  {
   "cell_type": "code",
   "execution_count": 52,
   "id": "968e444d-ba40-49f6-ba28-1c9dd45c14e8",
   "metadata": {},
   "outputs": [
    {
     "name": "stderr",
     "output_type": "stream",
     "text": [
      "C:\\Users\\tommy\\AppData\\Local\\Temp\\ipykernel_12168\\1588672353.py:1: PerformanceWarning: \n",
      "your performance may suffer as PyTables will pickle object types that it cannot\n",
      "map directly to c-types [inferred_type->mixed,key->block0_values] [items->Index(['Platform', 'Artist', 'Album', 'Text', 'Genres', 'Url'], dtype='object')]\n",
      "\n",
      "  dfs[\"Guardian\"].to_hdf(\"C:\\\\Users\\\\tommy\\\\OneDrive\\\\University\\\\Year 3\\\\Third Year Project\\\\Platform Album Data\\\\review_data_final.h5\", mode=\"a\", key=\"Guardian\")\n"
     ]
    }
   ],
   "source": [
    "dfs[\"Guardian\"].to_hdf(\"C:\\\\Users\\\\tommy\\\\OneDrive\\\\University\\\\Year 3\\\\Third Year Project\\\\Platform Album Data\\\\review_data_final.h5\", mode=\"a\", key=\"Guardian\")"
   ]
  },
  {
   "cell_type": "code",
   "execution_count": 16,
   "id": "74d23ab9-e0f1-4093-9526-f7b68e7c6f84",
   "metadata": {},
   "outputs": [
    {
     "data": {
      "text/html": [
       "<div>\n",
       "<style scoped>\n",
       "    .dataframe tbody tr th:only-of-type {\n",
       "        vertical-align: middle;\n",
       "    }\n",
       "\n",
       "    .dataframe tbody tr th {\n",
       "        vertical-align: top;\n",
       "    }\n",
       "\n",
       "    .dataframe thead th {\n",
       "        text-align: right;\n",
       "    }\n",
       "</style>\n",
       "<table border=\"1\" class=\"dataframe\">\n",
       "  <thead>\n",
       "    <tr style=\"text-align: right;\">\n",
       "      <th></th>\n",
       "      <th>Platform</th>\n",
       "      <th>Album</th>\n",
       "      <th>Artist</th>\n",
       "      <th>Text</th>\n",
       "      <th>Scores</th>\n",
       "      <th>Url</th>\n",
       "    </tr>\n",
       "  </thead>\n",
       "  <tbody>\n",
       "    <tr>\n",
       "      <th>0</th>\n",
       "      <td>NME</td>\n",
       "      <td>brian eno</td>\n",
       "      <td>foreverandevernomore</td>\n",
       "      <td>Search ReviewsAlbum Reviews Brian Eno – ‘FOR...</td>\n",
       "      <td>3</td>\n",
       "      <td>https://www.nme.com/reviews/album/brian-eno-fo...</td>\n",
       "    </tr>\n",
       "    <tr>\n",
       "      <th>1</th>\n",
       "      <td>NME</td>\n",
       "      <td>shygirl</td>\n",
       "      <td>nymph</td>\n",
       "      <td>Search ReviewsAlbum Reviews Shygirl – ‘Nymph...</td>\n",
       "      <td>4</td>\n",
       "      <td>https://www.nme.com/reviews/album/shygirl-lond...</td>\n",
       "    </tr>\n",
       "    <tr>\n",
       "      <th>2</th>\n",
       "      <td>NME</td>\n",
       "      <td>bjork</td>\n",
       "      <td>fossora</td>\n",
       "      <td>Search ReviewsAlbum Reviews Björk – ‘Fossora...</td>\n",
       "      <td>4</td>\n",
       "      <td>https://www.nme.com/reviews/album/bjork-fossor...</td>\n",
       "    </tr>\n",
       "    <tr>\n",
       "      <th>3</th>\n",
       "      <td>NME</td>\n",
       "      <td>yeah yeah yeahs</td>\n",
       "      <td>cool it down</td>\n",
       "      <td>Search ReviewsAlbum Reviews Yeah Yeah Yeahs ...</td>\n",
       "      <td>4</td>\n",
       "      <td>https://www.nme.com/reviews/album/yeah-yeah-ye...</td>\n",
       "    </tr>\n",
       "    <tr>\n",
       "      <th>4</th>\n",
       "      <td>NME</td>\n",
       "      <td>alex g</td>\n",
       "      <td>god save the animals</td>\n",
       "      <td>Search ReviewsAlbum Reviews Alex G – ‘God Sa...</td>\n",
       "      <td>5</td>\n",
       "      <td>https://www.nme.com/reviews/album/alex-g-god-s...</td>\n",
       "    </tr>\n",
       "  </tbody>\n",
       "</table>\n",
       "</div>"
      ],
      "text/plain": [
       "  Platform            Album                Artist  \\\n",
       "0      NME        brian eno  foreverandevernomore   \n",
       "1      NME          shygirl                 nymph   \n",
       "2      NME            bjork               fossora   \n",
       "3      NME  yeah yeah yeahs          cool it down   \n",
       "4      NME           alex g  god save the animals   \n",
       "\n",
       "                                                Text  Scores  \\\n",
       "0    Search ReviewsAlbum Reviews Brian Eno – ‘FOR...       3   \n",
       "1    Search ReviewsAlbum Reviews Shygirl – ‘Nymph...       4   \n",
       "2    Search ReviewsAlbum Reviews Björk – ‘Fossora...       4   \n",
       "3    Search ReviewsAlbum Reviews Yeah Yeah Yeahs ...       4   \n",
       "4    Search ReviewsAlbum Reviews Alex G – ‘God Sa...       5   \n",
       "\n",
       "                                                 Url  \n",
       "0  https://www.nme.com/reviews/album/brian-eno-fo...  \n",
       "1  https://www.nme.com/reviews/album/shygirl-lond...  \n",
       "2  https://www.nme.com/reviews/album/bjork-fossor...  \n",
       "3  https://www.nme.com/reviews/album/yeah-yeah-ye...  \n",
       "4  https://www.nme.com/reviews/album/alex-g-god-s...  "
      ]
     },
     "execution_count": 16,
     "metadata": {},
     "output_type": "execute_result"
    }
   ],
   "source": [
    "dfs[\"NME\"].head()"
   ]
  },
  {
   "cell_type": "code",
   "execution_count": 17,
   "id": "f29a43bd-0527-4998-9742-c13e69ef6957",
   "metadata": {},
   "outputs": [],
   "source": [
    "def remove_start(x):\n",
    "    \n",
    "    index = x.find(\"review: \")\n",
    "    \n",
    "    if index != -1:\n",
    "        \n",
    "        return x[index + 8:]\n",
    "    \n",
    "    else:\n",
    "        \n",
    "        return x\n",
    "\n",
    "dfs[\"NME\"].loc[:, \"Text\"] = dfs[\"NME\"].loc[:, \"Text\"].apply(remove_start)"
   ]
  },
  {
   "cell_type": "code",
   "execution_count": 18,
   "id": "88aaae61-dab5-49fd-adf4-4c080f7da68f",
   "metadata": {},
   "outputs": [
    {
     "data": {
      "text/plain": [
       "'  Search ReviewsAlbum Reviews Kanye West – ‘808s And Heartbreak’ review By NME 19th November 2008 \\n\\n Kanye’s 2008 has been a shitter. His ma, Donda, with whom he vocally shared an inseparable bond, passed away late last year. Then a split from fiancée Alexis sent him into something of an early-30s meltdown. Poor chap. It’d be odd then, for him to follow this with, say, a reggae-themed party album. Although one might argue it’s just as perplexing for him to take epiphany-type inspiration from a track by British cod-hop also-rans Mr Hudson And The Library (the forthcoming ‘There Will Be Tears’), decide to quit rapping, and record an 11-track album entirely sung through vocoder-esque auto-tune. The latter however, is what he’s gone and done (yup, every track).\\nAs the title foretells, there are two themes powering the college drop-out’s fourth full-length studio album: ’80s tech-nostalgia (the Roland TR-808 is the iconic, tinny drum machine that drove proto-hip hop), and erm, being well sad. Lead single ‘Love Lockdown’ was a scare for many Kanye-watchers. A brooding, dulcet elegy of quivering emotion without a single spoken couplet, it painstakingly arches from sub-bass ‘pooms’ to tribal fills over five minutes of melancholic digital-warped crooning. Those that didn’t buy into this fanfared rebirth will be trampling their shutter-shades at this absurd album concept.\\nBut from the tortured opening cello groans of ‘Welcome To Heartbreak’, it’s clear the man is still in possession of his marbles. “My friend shows me pictures of his kids/All I can show him is pictures of my cribs”. Hmm. Still, though, there’s a cold, metallic bleakness at play from the get-go, invoking cinematic flashes à la Arnie’s The Running Man, that empowers the woe-is-me slush. The planet’s under attack from scowling hip-hop androids and Kanye’s leading the assault. New single ‘Heartless’ fulfils the promise of its predecessor. Aside from being the only track on which he actually raps, its cathedral organs and lava-lamp rhythmic thuds underscore a dancehall-style tormented chorus that impacts with flooring intensity.\\nElsewhere, ‘Street Lights’ is an endearingly broken-sounding ‘where am I in life?’ cold-soul heel-scuffer, and Young Jeezy cranks out some much-needed gruff machismo on sizzurp-addled juggernaut closer, ‘Amazing’. It’s not all killer. The Mr Hudson collabs ‘Paranoid’ and ‘Say You Will’ fail to distract from their flaky hooks and backpack-rap-style beats with Frenchie-coffee-table-lektro blips and Enya-brand flute toots, respectively. The resounding verdict is that it’s a surprising, but bold and brave progression from last year’s confused ‘Graduation’. As for the lack of raps, in truth, the less we have to put up with all that small-man prep-school-canteen bragging, the better.\\nJaimie Hodgson\\n Related TopicsKanye West   Search ReviewsAlbum Reviews Kanye West – ‘808s And Heartbreak’ review By NME 19th November 2008 \\n\\n Kanye’s 2008 has been a shitter. His ma, Donda, with whom he vocally shared an inseparable bond, passed away late last year. Then a split from fiancée Alexis sent him into something of an early-30s meltdown. Poor chap. It’d be odd then, for him to follow this with, say, a reggae-themed party album. Although one might argue it’s just as perplexing for him to take epiphany-type inspiration from a track by British cod-hop also-rans Mr Hudson And The Library (the forthcoming ‘There Will Be Tears’), decide to quit rapping, and record an 11-track album entirely sung through vocoder-esque auto-tune. The latter however, is what he’s gone and done (yup, every track).\\nAs the title foretells, there are two themes powering the college drop-out’s fourth full-length studio album: ’80s tech-nostalgia (the Roland TR-808 is the iconic, tinny drum machine that drove proto-hip hop), and erm, being well sad. Lead single ‘Love Lockdown’ was a scare for many Kanye-watchers. A brooding, dulcet elegy of quivering emotion without a single spoken couplet, it painstakingly arches from sub-bass ‘pooms’ to tribal fills over five minutes of melancholic digital-warped crooning. Those that didn’t buy into this fanfared rebirth will be trampling their shutter-shades at this absurd album concept.\\nBut from the tortured opening cello groans of ‘Welcome To Heartbreak’, it’s clear the man is still in possession of his marbles. “My friend shows me pictures of his kids/All I can show him is pictures of my cribs”. Hmm. Still, though, there’s a cold, metallic bleakness at play from the get-go, invoking cinematic flashes à la Arnie’s The Running Man, that empowers the woe-is-me slush. The planet’s under attack from scowling hip-hop androids and Kanye’s leading the assault. New single ‘Heartless’ fulfils the promise of its predecessor. Aside from being the only track on which he actually raps, its cathedral organs and lava-lamp rhythmic thuds underscore a dancehall-style tormented chorus that impacts with flooring intensity.\\nElsewhere, ‘Street Lights’ is an endearingly broken-sounding ‘where am I in life?’ cold-soul heel-scuffer, and Young Jeezy cranks out some much-needed gruff machismo on sizzurp-addled juggernaut closer, ‘Amazing’. It’s not all killer. The Mr Hudson collabs ‘Paranoid’ and ‘Say You Will’ fail to distract from their flaky hooks and backpack-rap-style beats with Frenchie-coffee-table-lektro blips and Enya-brand flute toots, respectively. The resounding verdict is that it’s a surprising, but bold and brave progression from last year’s confused ‘Graduation’. As for the lack of raps, in truth, the less we have to put up with all that small-man prep-school-canteen bragging, the better.\\nJaimie Hodgson\\n Related TopicsKanye West'"
      ]
     },
     "execution_count": 18,
     "metadata": {},
     "output_type": "execute_result"
    }
   ],
   "source": [
    "dfs[\"NME\"].loc[939, \"Text\"]"
   ]
  },
  {
   "cell_type": "code",
   "execution_count": 19,
   "id": "4a1a8385-d4f7-427f-950c-df6d4bad8968",
   "metadata": {},
   "outputs": [],
   "source": [
    "dfs[\"NME\"].columns = [\"Platform\", \"Artist\", \"Album\", \"Text\", \"Scores\", \"Url\"]"
   ]
  },
  {
   "cell_type": "code",
   "execution_count": 20,
   "id": "08b52ac5-7d70-45aa-af75-46601400337f",
   "metadata": {},
   "outputs": [],
   "source": [
    "dfs[\"NME\"].to_hdf(\"C:\\\\Users\\\\tommy\\\\OneDrive\\\\Third Year Project\\\\Platform Album Data\\\\review_data_final.h5\", mode=\"a\", key=\"NME\")"
   ]
  },
  {
   "cell_type": "code",
   "execution_count": 4,
   "id": "e11794c2-fc7f-4727-8b5c-2f9fdc22c3cc",
   "metadata": {},
   "outputs": [
    {
     "data": {
      "text/html": [
       "<div>\n",
       "<style scoped>\n",
       "    .dataframe tbody tr th:only-of-type {\n",
       "        vertical-align: middle;\n",
       "    }\n",
       "\n",
       "    .dataframe tbody tr th {\n",
       "        vertical-align: top;\n",
       "    }\n",
       "\n",
       "    .dataframe thead th {\n",
       "        text-align: right;\n",
       "    }\n",
       "</style>\n",
       "<table border=\"1\" class=\"dataframe\">\n",
       "  <thead>\n",
       "    <tr style=\"text-align: right;\">\n",
       "      <th></th>\n",
       "      <th>Platform</th>\n",
       "      <th>Album</th>\n",
       "      <th>Artist</th>\n",
       "      <th>Text</th>\n",
       "      <th>Scores</th>\n",
       "      <th>Url</th>\n",
       "    </tr>\n",
       "  </thead>\n",
       "  <tbody>\n",
       "    <tr>\n",
       "      <th>0</th>\n",
       "      <td>Spectrum</td>\n",
       "      <td>brian eno</td>\n",
       "      <td>foreverandevernomore</td>\n",
       "      <td>\\n\\n\\n\\nBrian Eno often gives the impression o...</td>\n",
       "      <td>76</td>\n",
       "      <td>https://spectrumculture.com/2022/10/20/brian-e...</td>\n",
       "    </tr>\n",
       "    <tr>\n",
       "      <th>1</th>\n",
       "      <td>Spectrum</td>\n",
       "      <td>shygirl</td>\n",
       "      <td>nymph</td>\n",
       "      <td>\\n\\n\\n\\nBetween the blurred cover and self-ref...</td>\n",
       "      <td>80</td>\n",
       "      <td>https://spectrumculture.com/2022/10/19/shygirl...</td>\n",
       "    </tr>\n",
       "    <tr>\n",
       "      <th>2</th>\n",
       "      <td>Spectrum</td>\n",
       "      <td>bjork</td>\n",
       "      <td>fossora</td>\n",
       "      <td>\\n\\n\\n\\nTo understand Björk is to understand t...</td>\n",
       "      <td>85</td>\n",
       "      <td>https://spectrumculture.com/2022/10/04/bjork-f...</td>\n",
       "    </tr>\n",
       "    <tr>\n",
       "      <th>3</th>\n",
       "      <td>Spectrum</td>\n",
       "      <td>yeah yeah yeahs</td>\n",
       "      <td>cool it down</td>\n",
       "      <td>\\n\\n\\n\\nOn their fifth studio album, Yeah Yeah...</td>\n",
       "      <td>85</td>\n",
       "      <td>https://spectrumculture.com/2022/10/02/yeah-ye...</td>\n",
       "    </tr>\n",
       "    <tr>\n",
       "      <th>4</th>\n",
       "      <td>Spectrum</td>\n",
       "      <td>alex g</td>\n",
       "      <td>god save the animals</td>\n",
       "      <td>\\n\\n\\n\\nIn the early 2010s, the internet becam...</td>\n",
       "      <td>90</td>\n",
       "      <td>https://spectrumculture.com/2022/09/27/alex-g-...</td>\n",
       "    </tr>\n",
       "  </tbody>\n",
       "</table>\n",
       "</div>"
      ],
      "text/plain": [
       "   Platform            Album                Artist  \\\n",
       "0  Spectrum        brian eno  foreverandevernomore   \n",
       "1  Spectrum          shygirl                 nymph   \n",
       "2  Spectrum            bjork               fossora   \n",
       "3  Spectrum  yeah yeah yeahs          cool it down   \n",
       "4  Spectrum           alex g  god save the animals   \n",
       "\n",
       "                                                Text Scores  \\\n",
       "0  \\n\\n\\n\\nBrian Eno often gives the impression o...     76   \n",
       "1  \\n\\n\\n\\nBetween the blurred cover and self-ref...     80   \n",
       "2  \\n\\n\\n\\nTo understand Björk is to understand t...     85   \n",
       "3  \\n\\n\\n\\nOn their fifth studio album, Yeah Yeah...     85   \n",
       "4  \\n\\n\\n\\nIn the early 2010s, the internet becam...     90   \n",
       "\n",
       "                                                 Url  \n",
       "0  https://spectrumculture.com/2022/10/20/brian-e...  \n",
       "1  https://spectrumculture.com/2022/10/19/shygirl...  \n",
       "2  https://spectrumculture.com/2022/10/04/bjork-f...  \n",
       "3  https://spectrumculture.com/2022/10/02/yeah-ye...  \n",
       "4  https://spectrumculture.com/2022/09/27/alex-g-...  "
      ]
     },
     "execution_count": 4,
     "metadata": {},
     "output_type": "execute_result"
    }
   ],
   "source": [
    "dfs[\"Spectrum\"].head()"
   ]
  },
  {
   "cell_type": "code",
   "execution_count": 5,
   "id": "45d6582b-5571-49dd-8767-3e0120216566",
   "metadata": {},
   "outputs": [],
   "source": [
    "dfs[\"Spectrum\"].columns = [\"Platform\", \"Artist\", \"Album\", \"Text\", \"Scores\", \"Url\"]"
   ]
  },
  {
   "cell_type": "code",
   "execution_count": 7,
   "id": "ec793a46-6c33-4564-a157-b95a8d383a82",
   "metadata": {},
   "outputs": [
    {
     "name": "stderr",
     "output_type": "stream",
     "text": [
      "C:\\Users\\tommy\\AppData\\Local\\Temp\\ipykernel_21964\\1005015485.py:1: PerformanceWarning: \n",
      "your performance may suffer as PyTables will pickle object types that it cannot\n",
      "map directly to c-types [inferred_type->mixed-integer,key->block0_values] [items->Index(['Platform', 'Artist', 'Album', 'Text', 'Scores', 'Url'], dtype='object')]\n",
      "\n",
      "  dfs[\"Spectrum\"].to_hdf(\"C:\\\\Users\\\\tommy\\\\OneDrive\\\\University\\\\Year 3\\\\Third Year Project\\\\Platform Album Data\\\\review_data_final.h5\", mode=\"a\", key=\"Spectrum\")\n"
     ]
    }
   ],
   "source": [
    "dfs[\"Spectrum\"].to_hdf(\"C:\\\\Users\\\\tommy\\\\OneDrive\\\\University\\\\Year 3\\\\Third Year Project\\\\Platform Album Data\\\\review_data_final.h5\", mode=\"a\", key=\"Spectrum\")"
   ]
  },
  {
   "cell_type": "code",
   "execution_count": null,
   "id": "a007ada4-117e-41a8-b857-e7ab3cdf01e2",
   "metadata": {},
   "outputs": [],
   "source": []
  }
 ],
 "metadata": {
  "kernelspec": {
   "display_name": "Python 3 (ipykernel)",
   "language": "python",
   "name": "python3"
  },
  "language_info": {
   "codemirror_mode": {
    "name": "ipython",
    "version": 3
   },
   "file_extension": ".py",
   "mimetype": "text/x-python",
   "name": "python",
   "nbconvert_exporter": "python",
   "pygments_lexer": "ipython3",
   "version": "3.9.13"
  }
 },
 "nbformat": 4,
 "nbformat_minor": 5
}
