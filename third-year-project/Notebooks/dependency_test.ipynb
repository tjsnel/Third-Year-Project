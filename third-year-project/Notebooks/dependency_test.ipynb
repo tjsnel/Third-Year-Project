{
 "cells": [
  {
   "cell_type": "code",
   "execution_count": 2,
   "id": "f2c0b28a-f112-4a7a-9d23-d573ba647340",
   "metadata": {},
   "outputs": [],
   "source": [
    "import pandas as pd\n",
    "import stanza"
   ]
  },
  {
   "cell_type": "code",
   "execution_count": 3,
   "id": "32e578dc-9f03-4c85-b670-6298e94d3420",
   "metadata": {},
   "outputs": [
    {
     "name": "stderr",
     "output_type": "stream",
     "text": [
      "2023-02-23 18:05:51 INFO: Checking for updates to resources.json in case models have been updated.  Note: this behavior can be turned off with download_method=None or download_method=DownloadMethod.REUSE_RESOURCES\n"
     ]
    },
    {
     "data": {
      "application/vnd.jupyter.widget-view+json": {
       "model_id": "19630ea7365e4046826ecf7a75bb9cec",
       "version_major": 2,
       "version_minor": 0
      },
      "text/plain": [
       "Downloading https://raw.githubusercontent.com/stanfordnlp/stanza-resources/main/resources_1.4.1.json:   0%|   …"
      ]
     },
     "metadata": {},
     "output_type": "display_data"
    },
    {
     "name": "stderr",
     "output_type": "stream",
     "text": [
      "2023-02-23 18:05:51 WARNING: Can not find mwt: default from official model list. Ignoring it.\n",
      "2023-02-23 18:05:52 INFO: Loading these models for language: en (English):\n",
      "========================\n",
      "| Processor | Package  |\n",
      "------------------------\n",
      "| tokenize  | combined |\n",
      "| pos       | combined |\n",
      "| lemma     | combined |\n",
      "| depparse  | combined |\n",
      "========================\n",
      "\n",
      "2023-02-23 18:05:52 INFO: Use device: cpu\n",
      "2023-02-23 18:05:52 INFO: Loading: tokenize\n",
      "2023-02-23 18:05:52 INFO: Loading: pos\n",
      "2023-02-23 18:05:52 INFO: Loading: lemma\n",
      "2023-02-23 18:05:52 INFO: Loading: depparse\n",
      "2023-02-23 18:05:52 INFO: Done loading processors!\n"
     ]
    }
   ],
   "source": [
    "nlp = stanza.Pipeline(lang='en', processors='pos,depparse,lemma,tokenize,mwt', tokenize_pretokenized=True)\n",
    "deps = nlp(\"The music on the fourth track sounds like a jet taking off\").sentences[0].dependencies"
   ]
  },
  {
   "cell_type": "code",
   "execution_count": 4,
   "id": "00d10d3f-c71e-4557-b851-b21155fe1b0b",
   "metadata": {},
   "outputs": [
    {
     "data": {
      "text/plain": [
       "({\n",
       "   \"id\": 2,\n",
       "   \"text\": \"music\",\n",
       "   \"lemma\": \"music\",\n",
       "   \"upos\": \"NOUN\",\n",
       "   \"xpos\": \"NN\",\n",
       "   \"feats\": \"Number=Sing\",\n",
       "   \"head\": 7,\n",
       "   \"deprel\": \"nsubj\",\n",
       "   \"misc\": \"\",\n",
       "   \"start_char\": 4,\n",
       "   \"end_char\": 9\n",
       " },\n",
       " 'det',\n",
       " {\n",
       "   \"id\": 1,\n",
       "   \"text\": \"The\",\n",
       "   \"lemma\": \"the\",\n",
       "   \"upos\": \"DET\",\n",
       "   \"xpos\": \"DT\",\n",
       "   \"feats\": \"Definite=Def|PronType=Art\",\n",
       "   \"head\": 2,\n",
       "   \"deprel\": \"det\",\n",
       "   \"misc\": \"\",\n",
       "   \"start_char\": 0,\n",
       "   \"end_char\": 3\n",
       " })"
      ]
     },
     "execution_count": 4,
     "metadata": {},
     "output_type": "execute_result"
    }
   ],
   "source": [
    "deps[0]"
   ]
  },
  {
   "cell_type": "code",
   "execution_count": 5,
   "id": "226c39eb-3e19-454a-b560-b2850911b88b",
   "metadata": {},
   "outputs": [
    {
     "name": "stderr",
     "output_type": "stream",
     "text": [
      "2023-02-23 18:05:52 INFO: Checking for updates to resources.json in case models have been updated.  Note: this behavior can be turned off with download_method=None or download_method=DownloadMethod.REUSE_RESOURCES\n"
     ]
    },
    {
     "data": {
      "application/vnd.jupyter.widget-view+json": {
       "model_id": "aed52c4cd8284570bf7d29430b48bc40",
       "version_major": 2,
       "version_minor": 0
      },
      "text/plain": [
       "Downloading https://raw.githubusercontent.com/stanfordnlp/stanza-resources/main/resources_1.4.1.json:   0%|   …"
      ]
     },
     "metadata": {},
     "output_type": "display_data"
    },
    {
     "name": "stderr",
     "output_type": "stream",
     "text": [
      "2023-02-23 18:05:53 WARNING: Can not find mwt: default from official model list. Ignoring it.\n",
      "2023-02-23 18:05:53 INFO: Loading these models for language: en (English):\n",
      "===========================\n",
      "| Processor    | Package  |\n",
      "---------------------------\n",
      "| tokenize     | combined |\n",
      "| pos          | combined |\n",
      "| constituency | wsj      |\n",
      "===========================\n",
      "\n",
      "2023-02-23 18:05:53 INFO: Use device: cpu\n",
      "2023-02-23 18:05:53 INFO: Loading: tokenize\n",
      "2023-02-23 18:05:53 INFO: Loading: pos\n",
      "2023-02-23 18:05:54 INFO: Loading: constituency\n",
      "2023-02-23 18:05:54 INFO: Done loading processors!\n"
     ]
    }
   ],
   "source": [
    "constituency = stanza.Pipeline(lang='en', processors='pos,constituency,tokenize,mwt', tokenize_pretokenized=True)"
   ]
  },
  {
   "cell_type": "code",
   "execution_count": 6,
   "id": "f9db926a-8980-497f-9397-45b53fe37fd5",
   "metadata": {},
   "outputs": [],
   "source": [
    "sent = constituency(\"London math-rockers black midi’s debut album, Schlagenheim, hit like a bomb in 2019, its dense interplay of sharply angled guitars, unabashed art-rock references and the freewheeling, slipshod time signatures of drummer Morgan Simpson\").sentences[0].constituency"
   ]
  },
  {
   "cell_type": "code",
   "execution_count": 7,
   "id": "5b396dc4-7ff3-4b5f-aef8-99f6137d4f41",
   "metadata": {},
   "outputs": [
    {
     "data": {
      "text/plain": [
       "(NP (NNP London))"
      ]
     },
     "execution_count": 7,
     "metadata": {},
     "output_type": "execute_result"
    }
   ],
   "source": [
    "sent.children[0].children[0]"
   ]
  },
  {
   "cell_type": "code",
   "execution_count": 8,
   "id": "c3c9ac2c-7e5f-449d-a36e-788c5d75db41",
   "metadata": {},
   "outputs": [],
   "source": [
    "sent = constituency(\"Each fluorescent strike of noise, incongruous tempo flip, and warped vocal is bolted into its right place across the record's fast 40 minutes.\").sentences[0].constituency"
   ]
  },
  {
   "cell_type": "code",
   "execution_count": 9,
   "id": "21903492-987e-497f-a7d5-9b5cda2a8404",
   "metadata": {},
   "outputs": [
    {
     "data": {
      "text/plain": [
       "[1, 1, 1, 1, 1, 1, 1, 1, 1, 1, 1, 1, 0, 0, 0, 0, 0, 0, 0, 0, 0, 0, 0]"
      ]
     },
     "execution_count": 9,
     "metadata": {},
     "output_type": "execute_result"
    }
   ],
   "source": [
    "def get_phrases(tree, tensed_trees):\n",
    "              \n",
    "    if tree.is_preterminal():\n",
    "        tensed_trees.append(1)\n",
    "    elif tree.label == \"VP\" and (tree.children[0].label == \"VBD\" or tree.children[0].label == \"VBN\"):\n",
    "        tensed_trees = tensed_trees + [0 for x in range(len(tree.leaf_labels()))]\n",
    "    else:\n",
    "        for child in tree.children:\n",
    "            tensed_trees = get_phrases(child, tensed_trees)\n",
    "\n",
    "    return tensed_trees\n",
    "            \n",
    "get_phrases(sent, [])"
   ]
  },
  {
   "cell_type": "code",
   "execution_count": 10,
   "id": "195c8c5a-f27b-4f95-a84e-7fe19e62a3c5",
   "metadata": {},
   "outputs": [
    {
     "data": {
      "text/plain": [
       "(ROOT (S (NP (NP (DT Each) (JJ fluorescent) (NN strike)) (PP (IN of) (NP (NP (JJ noise,) (NML (JJ incongruous) (NN tempo)) (NN flip,)) (CC and) (NP (VBN warped) (NN vocal))))) (VP (VBZ is) (VP (VBN bolted) (PP (IN into) (NP (PRP$ its) (JJ right) (NN place))) (PP (IN across) (NP (DT the) (NN record's) (JJ fast) (CD 40) (NNS minutes.)))))))"
      ]
     },
     "execution_count": 10,
     "metadata": {},
     "output_type": "execute_result"
    }
   ],
   "source": [
    "sent"
   ]
  }
 ],
 "metadata": {
  "kernelspec": {
   "display_name": "Python 3 (ipykernel)",
   "language": "python",
   "name": "python3"
  },
  "language_info": {
   "codemirror_mode": {
    "name": "ipython",
    "version": 3
   },
   "file_extension": ".py",
   "mimetype": "text/x-python",
   "name": "python",
   "nbconvert_exporter": "python",
   "pygments_lexer": "ipython3",
   "version": "3.9.13"
  }
 },
 "nbformat": 4,
 "nbformat_minor": 5
}
