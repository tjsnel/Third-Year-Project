{
 "cells": [
  {
   "cell_type": "code",
   "execution_count": null,
   "id": "b2f08f35-44d9-430d-b699-205e55593aea",
   "metadata": {},
   "outputs": [],
   "source": [
    "import pandas as pd"
   ]
  },
  {
   "cell_type": "code",
   "execution_count": 2,
   "id": "b72b4b53-e800-4dc9-a08e-4f22ddd48ffe",
   "metadata": {},
   "outputs": [],
   "source": [
    "text = pd.read_hdf(\"C:\\\\Users\\\\tommy\\\\OneDrive\\\\University\\\\Year 3\\\\Third Year Project\\\\Platform Album Data\\\\new_unigram_data.h5\", key=\"text\")\n",
    "form = pd.read_hdf(\"C:\\\\Users\\\\tommy\\\\OneDrive\\\\University\\\\Year 3\\\\Third Year Project\\\\Platform Album Data\\\\new_unigram_data.h5\", key=\"form\")"
   ]
  },
  {
   "cell_type": "code",
   "execution_count": 17,
   "id": "7e49fffc-532b-4fa3-8b5d-feeb967d9e44",
   "metadata": {},
   "outputs": [],
   "source": [
    "m = pd.read_hdf(\"C:\\\\Users\\\\tommy\\\\OneDrive\\\\University\\\\Year 3\\\\Third Year Project\\\\Platform Album Data\\\\new_unigram_data.h5\", key=\"music_form\")"
   ]
  },
  {
   "cell_type": "code",
   "execution_count": 20,
   "id": "448bb986-af8d-4e5f-8ffb-9a42fadde39d",
   "metadata": {},
   "outputs": [
    {
     "data": {
      "text/html": [
       "<div>\n",
       "<style scoped>\n",
       "    .dataframe tbody tr th:only-of-type {\n",
       "        vertical-align: middle;\n",
       "    }\n",
       "\n",
       "    .dataframe tbody tr th {\n",
       "        vertical-align: top;\n",
       "    }\n",
       "\n",
       "    .dataframe thead th {\n",
       "        text-align: right;\n",
       "    }\n",
       "</style>\n",
       "<table border=\"1\" class=\"dataframe\">\n",
       "  <thead>\n",
       "    <tr style=\"text-align: right;\">\n",
       "      <th></th>\n",
       "      <th>Artist</th>\n",
       "      <th>Album</th>\n",
       "      <th>Platform</th>\n",
       "      <th>Review id</th>\n",
       "      <th>Word id</th>\n",
       "      <th>Word</th>\n",
       "      <th>Desired</th>\n",
       "    </tr>\n",
       "  </thead>\n",
       "  <tbody>\n",
       "  </tbody>\n",
       "</table>\n",
       "</div>"
      ],
      "text/plain": [
       "Empty DataFrame\n",
       "Columns: [Artist, Album, Platform, Review id, Word id, Word, Desired]\n",
       "Index: []"
      ]
     },
     "execution_count": 20,
     "metadata": {},
     "output_type": "execute_result"
    }
   ],
   "source": [
    "m.loc[(m[\"Desired\"] == 1) & (m[\"Album\"] == \"luminous\")]"
   ]
  },
  {
   "cell_type": "code",
   "execution_count": 3,
   "id": "71a8e36d-1661-4a3d-90c1-80764d7b73fc",
   "metadata": {},
   "outputs": [],
   "source": [
    "music_form = form.copy()\n",
    "music_form.loc[:, \"Desired\"] = -1"
   ]
  },
  {
   "cell_type": "code",
   "execution_count": 5,
   "id": "0126d9e0-924e-4f11-8b86-8d6a067409ee",
   "metadata": {},
   "outputs": [
    {
     "name": "stderr",
     "output_type": "stream",
     "text": [
      "C:\\Users\\tommy\\AppData\\Local\\Temp\\ipykernel_9484\\4294700683.py:1: PerformanceWarning: \n",
      "your performance may suffer as PyTables will pickle object types that it cannot\n",
      "map directly to c-types [inferred_type->mixed,key->block0_values] [items->Index(['Artist', 'Album', 'Platform', 'Word'], dtype='object')]\n",
      "\n",
      "  music_form.to_hdf(\"C:\\\\Users\\\\tommy\\\\OneDrive\\\\University\\\\Year 3\\\\Third Year Project\\\\Platform Album Data\\\\new_unigram_data.h5\", key=\"music_form\")\n"
     ]
    }
   ],
   "source": [
    "music_form.to_hdf(\"C:\\\\Users\\\\tommy\\\\OneDrive\\\\University\\\\Year 3\\\\Third Year Project\\\\Platform Album Data\\\\new_unigram_data.h5\", key=\"music_form\")"
   ]
  }
 ],
 "metadata": {
  "kernelspec": {
   "display_name": "Python 3 (ipykernel)",
   "language": "python",
   "name": "python3"
  },
  "language_info": {
   "codemirror_mode": {
    "name": "ipython",
    "version": 3
   },
   "file_extension": ".py",
   "mimetype": "text/x-python",
   "name": "python",
   "nbconvert_exporter": "python",
   "pygments_lexer": "ipython3",
   "version": "3.9.13"
  }
 },
 "nbformat": 4,
 "nbformat_minor": 5
}
