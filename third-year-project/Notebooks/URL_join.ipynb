{
 "cells": [
  {
   "cell_type": "code",
   "execution_count": 20,
   "id": "37cf70af-9d8b-4746-84c0-234434342c04",
   "metadata": {},
   "outputs": [],
   "source": [
    "import pandas as pd\n",
    "import numpy as np\n",
    "import unicodedata\n",
    "import difflib\n",
    "import unidecode"
   ]
  },
  {
   "cell_type": "code",
   "execution_count": 21,
   "id": "286f45d7-a6f9-4a1c-91a0-4c14ba63fa86",
   "metadata": {},
   "outputs": [],
   "source": [
    "platforms = [\"Guardian\", \"NME\", \"Pitchfork\", \"Spectrum\"]\n",
    "paths = [f\"C:\\\\Users\\\\tommy\\\\OneDrive\\\\University\\\\Year 3\\\\Third Year Project\\\\Platform Album Data\\\\{platform}urls.csv\" for platform in platforms]"
   ]
  },
  {
   "cell_type": "code",
   "execution_count": 22,
   "id": "5b8eb07b-301b-4dfb-9791-5a3773b4067f",
   "metadata": {},
   "outputs": [],
   "source": [
    "dfs = {platform: pd.read_csv(path, index_col=0) for platform, path in zip(platforms, paths)}"
   ]
  },
  {
   "cell_type": "code",
   "execution_count": 23,
   "id": "dada89e7-9f4e-4164-b252-8dd038e743b1",
   "metadata": {},
   "outputs": [
    {
     "data": {
      "text/plain": [
       "{'Guardian': 165752, 'NME': 5055, 'Pitchfork': 27595, 'Spectrum': 8054}"
      ]
     },
     "execution_count": 23,
     "metadata": {},
     "output_type": "execute_result"
    }
   ],
   "source": [
    "{platform: df.shape[0] for platform, df in dfs.items()}"
   ]
  },
  {
   "cell_type": "code",
   "execution_count": 24,
   "id": "f79bb0ce-cc8e-4dd5-887d-11fe0a05c181",
   "metadata": {},
   "outputs": [
    {
     "data": {
      "text/html": [
       "<div>\n",
       "<style scoped>\n",
       "    .dataframe tbody tr th:only-of-type {\n",
       "        vertical-align: middle;\n",
       "    }\n",
       "\n",
       "    .dataframe tbody tr th {\n",
       "        vertical-align: top;\n",
       "    }\n",
       "\n",
       "    .dataframe thead th {\n",
       "        text-align: right;\n",
       "    }\n",
       "</style>\n",
       "<table border=\"1\" class=\"dataframe\">\n",
       "  <thead>\n",
       "    <tr style=\"text-align: right;\">\n",
       "      <th></th>\n",
       "      <th>Platform</th>\n",
       "      <th>Artist</th>\n",
       "      <th>Album</th>\n",
       "      <th>Url</th>\n",
       "    </tr>\n",
       "  </thead>\n",
       "  <tbody>\n",
       "    <tr>\n",
       "      <th>0</th>\n",
       "      <td>Pitchfork</td>\n",
       "      <td>Bolts</td>\n",
       "      <td>Hagop Tchaparian</td>\n",
       "      <td>/reviews/albums/hagop-tchaparian-bolts/</td>\n",
       "    </tr>\n",
       "    <tr>\n",
       "      <th>1</th>\n",
       "      <td>Pitchfork</td>\n",
       "      <td>Building Something Beautiful for Me</td>\n",
       "      <td>Loraine James</td>\n",
       "      <td>/reviews/albums/loraine-james-building-somethi...</td>\n",
       "    </tr>\n",
       "    <tr>\n",
       "      <th>2</th>\n",
       "      <td>Pitchfork</td>\n",
       "      <td>Cometa</td>\n",
       "      <td>Nick Hakim</td>\n",
       "      <td>/reviews/albums/nick-hakim-cometa/</td>\n",
       "    </tr>\n",
       "    <tr>\n",
       "      <th>3</th>\n",
       "      <td>Pitchfork</td>\n",
       "      <td>Paraglow EP</td>\n",
       "      <td>파란노을 (Parannoul)Asian Glow</td>\n",
       "      <td>/reviews/albums/asian-glow-parannoul-paraglow-ep/</td>\n",
       "    </tr>\n",
       "    <tr>\n",
       "      <th>4</th>\n",
       "      <td>Pitchfork</td>\n",
       "      <td>Se Ve Desde Aquí</td>\n",
       "      <td>Mabe Fratti</td>\n",
       "      <td>/reviews/albums/mabe-fratti-se-ve-desde-aqui/</td>\n",
       "    </tr>\n",
       "    <tr>\n",
       "      <th>...</th>\n",
       "      <td>...</td>\n",
       "      <td>...</td>\n",
       "      <td>...</td>\n",
       "      <td>...</td>\n",
       "    </tr>\n",
       "    <tr>\n",
       "      <th>27590</th>\n",
       "      <td>Pitchfork</td>\n",
       "      <td>1999</td>\n",
       "      <td>Cassius</td>\n",
       "      <td>/reviews/albums/1341-1999/</td>\n",
       "    </tr>\n",
       "    <tr>\n",
       "      <th>27591</th>\n",
       "      <td>Pitchfork</td>\n",
       "      <td>Let Us Replay!</td>\n",
       "      <td>Coldcut</td>\n",
       "      <td>/reviews/albums/1535-let-us-replay/</td>\n",
       "    </tr>\n",
       "    <tr>\n",
       "      <th>27592</th>\n",
       "      <td>Pitchfork</td>\n",
       "      <td>Singles Breaking Up, Vol. 1</td>\n",
       "      <td>Don Caballero</td>\n",
       "      <td>/reviews/albums/2413-singles-breaking-up-volum...</td>\n",
       "    </tr>\n",
       "    <tr>\n",
       "      <th>27593</th>\n",
       "      <td>Pitchfork</td>\n",
       "      <td>Out of Tune</td>\n",
       "      <td>Mojave 3</td>\n",
       "      <td>/reviews/albums/5376-out-of-tune/</td>\n",
       "    </tr>\n",
       "    <tr>\n",
       "      <th>27594</th>\n",
       "      <td>Pitchfork</td>\n",
       "      <td>Left for Dead in Malaysia</td>\n",
       "      <td>Neil Hamburger</td>\n",
       "      <td>/reviews/albums/3723-left-for-dead-in-malaysia/</td>\n",
       "    </tr>\n",
       "  </tbody>\n",
       "</table>\n",
       "<p>27595 rows × 4 columns</p>\n",
       "</div>"
      ],
      "text/plain": [
       "        Platform                               Artist  \\\n",
       "0      Pitchfork                                Bolts   \n",
       "1      Pitchfork  Building Something Beautiful for Me   \n",
       "2      Pitchfork                               Cometa   \n",
       "3      Pitchfork                          Paraglow EP   \n",
       "4      Pitchfork                     Se Ve Desde Aquí   \n",
       "...          ...                                  ...   \n",
       "27590  Pitchfork                                 1999   \n",
       "27591  Pitchfork                       Let Us Replay!   \n",
       "27592  Pitchfork          Singles Breaking Up, Vol. 1   \n",
       "27593  Pitchfork                          Out of Tune   \n",
       "27594  Pitchfork            Left for Dead in Malaysia   \n",
       "\n",
       "                            Album  \\\n",
       "0                Hagop Tchaparian   \n",
       "1                   Loraine James   \n",
       "2                      Nick Hakim   \n",
       "3      파란노을 (Parannoul)Asian Glow   \n",
       "4                     Mabe Fratti   \n",
       "...                           ...   \n",
       "27590                     Cassius   \n",
       "27591                     Coldcut   \n",
       "27592               Don Caballero   \n",
       "27593                    Mojave 3   \n",
       "27594              Neil Hamburger   \n",
       "\n",
       "                                                     Url  \n",
       "0                /reviews/albums/hagop-tchaparian-bolts/  \n",
       "1      /reviews/albums/loraine-james-building-somethi...  \n",
       "2                     /reviews/albums/nick-hakim-cometa/  \n",
       "3      /reviews/albums/asian-glow-parannoul-paraglow-ep/  \n",
       "4          /reviews/albums/mabe-fratti-se-ve-desde-aqui/  \n",
       "...                                                  ...  \n",
       "27590                         /reviews/albums/1341-1999/  \n",
       "27591                /reviews/albums/1535-let-us-replay/  \n",
       "27592  /reviews/albums/2413-singles-breaking-up-volum...  \n",
       "27593                  /reviews/albums/5376-out-of-tune/  \n",
       "27594    /reviews/albums/3723-left-for-dead-in-malaysia/  \n",
       "\n",
       "[27595 rows x 4 columns]"
      ]
     },
     "execution_count": 24,
     "metadata": {},
     "output_type": "execute_result"
    }
   ],
   "source": [
    "dfs[\"Pitchfork\"]"
   ]
  },
  {
   "cell_type": "code",
   "execution_count": 25,
   "id": "bb4c87a0-872b-4ac3-b94d-c171fce0d4bc",
   "metadata": {},
   "outputs": [],
   "source": [
    "def modify_url(x):\n",
    "    \n",
    "    return \"https://www.pitchfork.com\" + x\n",
    "    \n",
    "dfs[\"Pitchfork\"][\"Url\"] = dfs[\"Pitchfork\"][\"Url\"].apply(modify_url)"
   ]
  },
  {
   "cell_type": "code",
   "execution_count": 26,
   "id": "00396fd9-555f-4dba-a4da-fc5d15d293f0",
   "metadata": {},
   "outputs": [
    {
     "name": "stderr",
     "output_type": "stream",
     "text": [
      "C:\\Users\\tommy\\AppData\\Local\\Temp\\ipykernel_12520\\1310517796.py:5: SettingWithCopyWarning: \n",
      "A value is trying to be set on a copy of a slice from a DataFrame\n",
      "\n",
      "See the caveats in the documentation: https://pandas.pydata.org/pandas-docs/stable/user_guide/indexing.html#returning-a-view-versus-a-copy\n",
      "  df.rename({\"Url\": f\"{platform}_url\"}, inplace=True, axis=1)\n",
      "C:\\Users\\tommy\\AppData\\Local\\Temp\\ipykernel_12520\\1310517796.py:6: SettingWithCopyWarning: \n",
      "A value is trying to be set on a copy of a slice from a DataFrame.\n",
      "Try using .loc[row_indexer,col_indexer] = value instead\n",
      "\n",
      "See the caveats in the documentation: https://pandas.pydata.org/pandas-docs/stable/user_guide/indexing.html#returning-a-view-versus-a-copy\n",
      "  df.loc[:, \"Album\"] = df[\"Album\"].apply(lambda x: unidecode.unidecode(unicodedata.normalize(\"NFKD\", str(x))))\n",
      "C:\\Users\\tommy\\AppData\\Local\\Temp\\ipykernel_12520\\1310517796.py:7: SettingWithCopyWarning: \n",
      "A value is trying to be set on a copy of a slice from a DataFrame.\n",
      "Try using .loc[row_indexer,col_indexer] = value instead\n",
      "\n",
      "See the caveats in the documentation: https://pandas.pydata.org/pandas-docs/stable/user_guide/indexing.html#returning-a-view-versus-a-copy\n",
      "  df.loc[:, \"Artist\"] = df[\"Artist\"].apply(lambda x: unidecode.unidecode(unicodedata.normalize(\"NFKD\", str(x))))\n",
      "C:\\Users\\tommy\\AppData\\Local\\Temp\\ipykernel_12520\\1310517796.py:8: SettingWithCopyWarning: \n",
      "A value is trying to be set on a copy of a slice from a DataFrame.\n",
      "Try using .loc[row_indexer,col_indexer] = value instead\n",
      "\n",
      "See the caveats in the documentation: https://pandas.pydata.org/pandas-docs/stable/user_guide/indexing.html#returning-a-view-versus-a-copy\n",
      "  df.loc[:, \"Album\"] = df[\"Album\"].apply(lambda x: x.strip(\"'`\").replace(\".\", \"\").replace(\",\", \"\").replace(\"–\", \"\").replace(\"-\", \"\").replace(\n",
      "C:\\Users\\tommy\\AppData\\Local\\Temp\\ipykernel_12520\\1310517796.py:10: SettingWithCopyWarning: \n",
      "A value is trying to be set on a copy of a slice from a DataFrame.\n",
      "Try using .loc[row_indexer,col_indexer] = value instead\n",
      "\n",
      "See the caveats in the documentation: https://pandas.pydata.org/pandas-docs/stable/user_guide/indexing.html#returning-a-view-versus-a-copy\n",
      "  df.loc[:, \"Artist\"] = df[\"Artist\"].apply(lambda x: x.strip(\"'`\").replace(\".\", \"\").replace(\",\", \"\").replace(\"–\", \"\").replace(\"-\", \"\").replace(\n"
     ]
    }
   ],
   "source": [
    "dfs = {platform: df.drop_duplicates() for platform, df in dfs.items()}\n",
    "\n",
    "for platform, df in dfs.items():\n",
    "    \n",
    "    df.rename({\"Url\": f\"{platform}_url\"}, inplace=True, axis=1)\n",
    "    df.loc[:, \"Album\"] = df[\"Album\"].apply(lambda x: unidecode.unidecode(unicodedata.normalize(\"NFKD\", str(x))))\n",
    "    df.loc[:, \"Artist\"] = df[\"Artist\"].apply(lambda x: unidecode.unidecode(unicodedata.normalize(\"NFKD\", str(x))))\n",
    "    df.loc[:, \"Album\"] = df[\"Album\"].apply(lambda x: x.strip(\"'`\").replace(\".\", \"\").replace(\",\", \"\").replace(\"–\", \"\").replace(\"-\", \"\").replace(\n",
    "        \"&\", \"And\").lower().replace(\"' review\", \"\").strip())\n",
    "    df.loc[:, \"Artist\"] = df[\"Artist\"].apply(lambda x: x.strip(\"'`\").replace(\".\", \"\").replace(\",\", \"\").replace(\"–\", \"\").replace(\"-\", \"\").replace(\n",
    "        \"&\", \"And\").replace(\"album review:\", \"\").lower().strip())\n",
    "    dfs[platform] = df\n"
   ]
  },
  {
   "cell_type": "code",
   "execution_count": 27,
   "id": "e1a37b2d-d5f6-45be-aad9-9c3a55bee2e8",
   "metadata": {},
   "outputs": [
    {
     "name": "stdout",
     "output_type": "stream",
     "text": [
      "2005\n",
      "1430\n",
      "944\n"
     ]
    },
    {
     "name": "stderr",
     "output_type": "stream",
     "text": [
      "C:\\Users\\tommy\\AppData\\Local\\Temp\\ipykernel_12520\\3681559357.py:5: FutureWarning: Passing 'suffixes' which cause duplicate columns {'Platform_x'} in the result is deprecated and will raise a MergeError in a future version.\n",
      "  df = pd.merge(df, dfs[key], how=\"inner\", on=[\"Album\", \"Artist\"])\n"
     ]
    }
   ],
   "source": [
    "df = dfs[\"Guardian\"]\n",
    "\n",
    "for key in list(dfs.keys())[1:4]:\n",
    "    \n",
    "    df = pd.merge(df, dfs[key], how=\"inner\", on=[\"Album\", \"Artist\"])\n",
    "    print(df.shape[0])\n",
    "    \n",
    "df.to_csv(\"C:\\\\Users\\\\tommy\\\\OneDrive\\\\University\\\\Year 3\\\\Third Year Project\\\\Platform Album Data\\\\urls_shared.csv\")"
   ]
  },
  {
   "cell_type": "code",
   "execution_count": 28,
   "id": "b84eb090-5196-4f52-af3d-b6fdf239252a",
   "metadata": {},
   "outputs": [],
   "source": [
    "df = df.iloc[3:]"
   ]
  },
  {
   "cell_type": "code",
   "execution_count": 39,
   "id": "455565bc-1139-4ff3-acb8-8f953a3c1c72",
   "metadata": {},
   "outputs": [
    {
     "ename": "KeyError",
     "evalue": "'[4] not found in axis'",
     "output_type": "error",
     "traceback": [
      "\u001b[1;31m---------------------------------------------------------------------------\u001b[0m",
      "\u001b[1;31mKeyError\u001b[0m                                  Traceback (most recent call last)",
      "Cell \u001b[1;32mIn [39], line 1\u001b[0m\n\u001b[1;32m----> 1\u001b[0m df \u001b[38;5;241m=\u001b[39m \u001b[43mdf\u001b[49m\u001b[38;5;241;43m.\u001b[39;49m\u001b[43mdrop\u001b[49m\u001b[43m(\u001b[49m\u001b[38;5;241;43m4\u001b[39;49m\u001b[43m,\u001b[49m\u001b[43m \u001b[49m\u001b[43maxis\u001b[49m\u001b[38;5;241;43m=\u001b[39;49m\u001b[38;5;241;43m0\u001b[39;49m\u001b[43m)\u001b[49m\u001b[38;5;241m.\u001b[39mreset_index()\n",
      "File \u001b[1;32m~\\PycharmProjects\\Third-Year-Project\\venv\\lib\\site-packages\\pandas\\util\\_decorators.py:311\u001b[0m, in \u001b[0;36mdeprecate_nonkeyword_arguments.<locals>.decorate.<locals>.wrapper\u001b[1;34m(*args, **kwargs)\u001b[0m\n\u001b[0;32m    305\u001b[0m \u001b[38;5;28;01mif\u001b[39;00m \u001b[38;5;28mlen\u001b[39m(args) \u001b[38;5;241m>\u001b[39m num_allow_args:\n\u001b[0;32m    306\u001b[0m     warnings\u001b[38;5;241m.\u001b[39mwarn(\n\u001b[0;32m    307\u001b[0m         msg\u001b[38;5;241m.\u001b[39mformat(arguments\u001b[38;5;241m=\u001b[39marguments),\n\u001b[0;32m    308\u001b[0m         \u001b[38;5;167;01mFutureWarning\u001b[39;00m,\n\u001b[0;32m    309\u001b[0m         stacklevel\u001b[38;5;241m=\u001b[39mstacklevel,\n\u001b[0;32m    310\u001b[0m     )\n\u001b[1;32m--> 311\u001b[0m \u001b[38;5;28;01mreturn\u001b[39;00m func(\u001b[38;5;241m*\u001b[39margs, \u001b[38;5;241m*\u001b[39m\u001b[38;5;241m*\u001b[39mkwargs)\n",
      "File \u001b[1;32m~\\PycharmProjects\\Third-Year-Project\\venv\\lib\\site-packages\\pandas\\core\\frame.py:4957\u001b[0m, in \u001b[0;36mDataFrame.drop\u001b[1;34m(self, labels, axis, index, columns, level, inplace, errors)\u001b[0m\n\u001b[0;32m   4809\u001b[0m \u001b[38;5;129m@deprecate_nonkeyword_arguments\u001b[39m(version\u001b[38;5;241m=\u001b[39m\u001b[38;5;28;01mNone\u001b[39;00m, allowed_args\u001b[38;5;241m=\u001b[39m[\u001b[38;5;124m\"\u001b[39m\u001b[38;5;124mself\u001b[39m\u001b[38;5;124m\"\u001b[39m, \u001b[38;5;124m\"\u001b[39m\u001b[38;5;124mlabels\u001b[39m\u001b[38;5;124m\"\u001b[39m])\n\u001b[0;32m   4810\u001b[0m \u001b[38;5;28;01mdef\u001b[39;00m \u001b[38;5;21mdrop\u001b[39m(\n\u001b[0;32m   4811\u001b[0m     \u001b[38;5;28mself\u001b[39m,\n\u001b[1;32m   (...)\u001b[0m\n\u001b[0;32m   4818\u001b[0m     errors: \u001b[38;5;28mstr\u001b[39m \u001b[38;5;241m=\u001b[39m \u001b[38;5;124m\"\u001b[39m\u001b[38;5;124mraise\u001b[39m\u001b[38;5;124m\"\u001b[39m,\n\u001b[0;32m   4819\u001b[0m ):\n\u001b[0;32m   4820\u001b[0m     \u001b[38;5;124;03m\"\"\"\u001b[39;00m\n\u001b[0;32m   4821\u001b[0m \u001b[38;5;124;03m    Drop specified labels from rows or columns.\u001b[39;00m\n\u001b[0;32m   4822\u001b[0m \n\u001b[1;32m   (...)\u001b[0m\n\u001b[0;32m   4955\u001b[0m \u001b[38;5;124;03m            weight  1.0     0.8\u001b[39;00m\n\u001b[0;32m   4956\u001b[0m \u001b[38;5;124;03m    \"\"\"\u001b[39;00m\n\u001b[1;32m-> 4957\u001b[0m     \u001b[38;5;28;01mreturn\u001b[39;00m \u001b[38;5;28;43msuper\u001b[39;49m\u001b[43m(\u001b[49m\u001b[43m)\u001b[49m\u001b[38;5;241;43m.\u001b[39;49m\u001b[43mdrop\u001b[49m\u001b[43m(\u001b[49m\n\u001b[0;32m   4958\u001b[0m \u001b[43m        \u001b[49m\u001b[43mlabels\u001b[49m\u001b[38;5;241;43m=\u001b[39;49m\u001b[43mlabels\u001b[49m\u001b[43m,\u001b[49m\n\u001b[0;32m   4959\u001b[0m \u001b[43m        \u001b[49m\u001b[43maxis\u001b[49m\u001b[38;5;241;43m=\u001b[39;49m\u001b[43maxis\u001b[49m\u001b[43m,\u001b[49m\n\u001b[0;32m   4960\u001b[0m \u001b[43m        \u001b[49m\u001b[43mindex\u001b[49m\u001b[38;5;241;43m=\u001b[39;49m\u001b[43mindex\u001b[49m\u001b[43m,\u001b[49m\n\u001b[0;32m   4961\u001b[0m \u001b[43m        \u001b[49m\u001b[43mcolumns\u001b[49m\u001b[38;5;241;43m=\u001b[39;49m\u001b[43mcolumns\u001b[49m\u001b[43m,\u001b[49m\n\u001b[0;32m   4962\u001b[0m \u001b[43m        \u001b[49m\u001b[43mlevel\u001b[49m\u001b[38;5;241;43m=\u001b[39;49m\u001b[43mlevel\u001b[49m\u001b[43m,\u001b[49m\n\u001b[0;32m   4963\u001b[0m \u001b[43m        \u001b[49m\u001b[43minplace\u001b[49m\u001b[38;5;241;43m=\u001b[39;49m\u001b[43minplace\u001b[49m\u001b[43m,\u001b[49m\n\u001b[0;32m   4964\u001b[0m \u001b[43m        \u001b[49m\u001b[43merrors\u001b[49m\u001b[38;5;241;43m=\u001b[39;49m\u001b[43merrors\u001b[49m\u001b[43m,\u001b[49m\n\u001b[0;32m   4965\u001b[0m \u001b[43m    \u001b[49m\u001b[43m)\u001b[49m\n",
      "File \u001b[1;32m~\\PycharmProjects\\Third-Year-Project\\venv\\lib\\site-packages\\pandas\\core\\generic.py:4267\u001b[0m, in \u001b[0;36mNDFrame.drop\u001b[1;34m(self, labels, axis, index, columns, level, inplace, errors)\u001b[0m\n\u001b[0;32m   4265\u001b[0m \u001b[38;5;28;01mfor\u001b[39;00m axis, labels \u001b[38;5;129;01min\u001b[39;00m axes\u001b[38;5;241m.\u001b[39mitems():\n\u001b[0;32m   4266\u001b[0m     \u001b[38;5;28;01mif\u001b[39;00m labels \u001b[38;5;129;01mis\u001b[39;00m \u001b[38;5;129;01mnot\u001b[39;00m \u001b[38;5;28;01mNone\u001b[39;00m:\n\u001b[1;32m-> 4267\u001b[0m         obj \u001b[38;5;241m=\u001b[39m \u001b[43mobj\u001b[49m\u001b[38;5;241;43m.\u001b[39;49m\u001b[43m_drop_axis\u001b[49m\u001b[43m(\u001b[49m\u001b[43mlabels\u001b[49m\u001b[43m,\u001b[49m\u001b[43m \u001b[49m\u001b[43maxis\u001b[49m\u001b[43m,\u001b[49m\u001b[43m \u001b[49m\u001b[43mlevel\u001b[49m\u001b[38;5;241;43m=\u001b[39;49m\u001b[43mlevel\u001b[49m\u001b[43m,\u001b[49m\u001b[43m \u001b[49m\u001b[43merrors\u001b[49m\u001b[38;5;241;43m=\u001b[39;49m\u001b[43merrors\u001b[49m\u001b[43m)\u001b[49m\n\u001b[0;32m   4269\u001b[0m \u001b[38;5;28;01mif\u001b[39;00m inplace:\n\u001b[0;32m   4270\u001b[0m     \u001b[38;5;28mself\u001b[39m\u001b[38;5;241m.\u001b[39m_update_inplace(obj)\n",
      "File \u001b[1;32m~\\PycharmProjects\\Third-Year-Project\\venv\\lib\\site-packages\\pandas\\core\\generic.py:4311\u001b[0m, in \u001b[0;36mNDFrame._drop_axis\u001b[1;34m(self, labels, axis, level, errors, consolidate, only_slice)\u001b[0m\n\u001b[0;32m   4309\u001b[0m         new_axis \u001b[38;5;241m=\u001b[39m axis\u001b[38;5;241m.\u001b[39mdrop(labels, level\u001b[38;5;241m=\u001b[39mlevel, errors\u001b[38;5;241m=\u001b[39merrors)\n\u001b[0;32m   4310\u001b[0m     \u001b[38;5;28;01melse\u001b[39;00m:\n\u001b[1;32m-> 4311\u001b[0m         new_axis \u001b[38;5;241m=\u001b[39m \u001b[43maxis\u001b[49m\u001b[38;5;241;43m.\u001b[39;49m\u001b[43mdrop\u001b[49m\u001b[43m(\u001b[49m\u001b[43mlabels\u001b[49m\u001b[43m,\u001b[49m\u001b[43m \u001b[49m\u001b[43merrors\u001b[49m\u001b[38;5;241;43m=\u001b[39;49m\u001b[43merrors\u001b[49m\u001b[43m)\u001b[49m\n\u001b[0;32m   4312\u001b[0m     indexer \u001b[38;5;241m=\u001b[39m axis\u001b[38;5;241m.\u001b[39mget_indexer(new_axis)\n\u001b[0;32m   4314\u001b[0m \u001b[38;5;66;03m# Case for non-unique axis\u001b[39;00m\n\u001b[0;32m   4315\u001b[0m \u001b[38;5;28;01melse\u001b[39;00m:\n",
      "File \u001b[1;32m~\\PycharmProjects\\Third-Year-Project\\venv\\lib\\site-packages\\pandas\\core\\indexes\\base.py:6661\u001b[0m, in \u001b[0;36mIndex.drop\u001b[1;34m(self, labels, errors)\u001b[0m\n\u001b[0;32m   6659\u001b[0m \u001b[38;5;28;01mif\u001b[39;00m mask\u001b[38;5;241m.\u001b[39many():\n\u001b[0;32m   6660\u001b[0m     \u001b[38;5;28;01mif\u001b[39;00m errors \u001b[38;5;241m!=\u001b[39m \u001b[38;5;124m\"\u001b[39m\u001b[38;5;124mignore\u001b[39m\u001b[38;5;124m\"\u001b[39m:\n\u001b[1;32m-> 6661\u001b[0m         \u001b[38;5;28;01mraise\u001b[39;00m \u001b[38;5;167;01mKeyError\u001b[39;00m(\u001b[38;5;124mf\u001b[39m\u001b[38;5;124m\"\u001b[39m\u001b[38;5;132;01m{\u001b[39;00m\u001b[38;5;28mlist\u001b[39m(labels[mask])\u001b[38;5;132;01m}\u001b[39;00m\u001b[38;5;124m not found in axis\u001b[39m\u001b[38;5;124m\"\u001b[39m)\n\u001b[0;32m   6662\u001b[0m     indexer \u001b[38;5;241m=\u001b[39m indexer[\u001b[38;5;241m~\u001b[39mmask]\n\u001b[0;32m   6663\u001b[0m \u001b[38;5;28;01mreturn\u001b[39;00m \u001b[38;5;28mself\u001b[39m\u001b[38;5;241m.\u001b[39mdelete(indexer)\n",
      "\u001b[1;31mKeyError\u001b[0m: '[4] not found in axis'"
     ]
    }
   ],
   "source": [
    "df = df.drop(4, axis=0)"
   ]
  },
  {
   "cell_type": "code",
   "execution_count": 40,
   "id": "26fe2860-e865-4df7-a4ea-85c5520a59b8",
   "metadata": {},
   "outputs": [],
   "source": [
    "df.reset_index().to_csv(\"C:\\\\Users\\\\tommy\\\\OneDrive\\\\University\\\\Year 3\\\\Third Year Project\\\\Platform Album Data\\\\urls_shared.csv\")"
   ]
  }
 ],
 "metadata": {
  "kernelspec": {
   "display_name": "Python 3 (ipykernel)",
   "language": "python",
   "name": "python3"
  },
  "language_info": {
   "codemirror_mode": {
    "name": "ipython",
    "version": 3
   },
   "file_extension": ".py",
   "mimetype": "text/x-python",
   "name": "python",
   "nbconvert_exporter": "python",
   "pygments_lexer": "ipython3",
   "version": "3.9.13"
  }
 },
 "nbformat": 4,
 "nbformat_minor": 5
}
