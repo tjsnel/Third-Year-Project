{
 "cells": [
  {
   "cell_type": "code",
   "execution_count": 1,
   "id": "a4d68697-1bbc-41a6-9234-8928a572017f",
   "metadata": {},
   "outputs": [],
   "source": [
    "import stanza"
   ]
  },
  {
   "cell_type": "code",
   "execution_count": 127,
   "id": "e94b7f4b-1a7a-43c2-a965-4e2ab41c696b",
   "metadata": {},
   "outputs": [
    {
     "name": "stderr",
     "output_type": "stream",
     "text": [
      "2023-02-07 13:12:47 INFO: Checking for updates to resources.json in case models have been updated.  Note: this behavior can be turned off with download_method=None or download_method=DownloadMethod.REUSE_RESOURCES\n"
     ]
    },
    {
     "data": {
      "application/vnd.jupyter.widget-view+json": {
       "model_id": "359a1b0cdfbf423c9ac46eb8e9643dae",
       "version_major": 2,
       "version_minor": 0
      },
      "text/plain": [
       "Downloading https://raw.githubusercontent.com/stanfordnlp/stanza-resources/main/resources_1.4.1.json:   0%|   …"
      ]
     },
     "metadata": {},
     "output_type": "display_data"
    },
    {
     "name": "stderr",
     "output_type": "stream",
     "text": [
      "2023-02-07 13:12:47 INFO: Loading these models for language: en (English):\n",
      "===========================\n",
      "| Processor    | Package  |\n",
      "---------------------------\n",
      "| tokenize     | combined |\n",
      "| pos          | combined |\n",
      "| constituency | wsj      |\n",
      "===========================\n",
      "\n",
      "2023-02-07 13:12:47 INFO: Use device: cpu\n",
      "2023-02-07 13:12:47 INFO: Loading: tokenize\n",
      "2023-02-07 13:12:47 INFO: Loading: pos\n",
      "2023-02-07 13:12:47 INFO: Loading: constituency\n",
      "2023-02-07 13:12:48 INFO: Done loading processors!\n"
     ]
    },
    {
     "data": {
      "text/plain": [
       "(S (NP (PRP$ her) (JJ last) (NN album)) (VP (VBD proved) (SBAR (IN that) (S (NP (PRP she)) (VP (VBZ is) (NP (NP (DT a) (VBG shining) (NN example)) (PP (IN of) (SBAR (WHNP (WP what)) (S (NP (PRP it)) (VP (VBZ means) (S (VP (TO to) (VP (VB be) (NP (NP (DT a) (JJ true) (NN master)) (PP (IN of) (NP (NN rapping)))))))))))))))))"
      ]
     },
     "execution_count": 127,
     "metadata": {},
     "output_type": "execute_result"
    }
   ],
   "source": [
    "sent = \"her last album proved that she is a shining example of what it means to be a true master of rapping\"\n",
    "nlp = stanza.Pipeline(lang='en', processors='tokenize,pos,constituency', tokenize_pretokenized=True)\n",
    "doc = nlp(sent)\n",
    "doc.sentences[0].constituency.children[0]"
   ]
  },
  {
   "cell_type": "code",
   "execution_count": 126,
   "id": "6c3e3d90-0f11-4311-95a6-b02d430d4b41",
   "metadata": {},
   "outputs": [
    {
     "data": {
      "text/plain": [
       "True"
      ]
     },
     "execution_count": 126,
     "metadata": {},
     "output_type": "execute_result"
    }
   ],
   "source": [
    "visited = []\n",
    "past_tense = []\n",
    "\n",
    "def bfs(visited, node, queue):\n",
    "        \n",
    "    if node.label == \"VP\":\n",
    "        if node.children[0].label == \"VBD\" or node.children[0].label == \"VBN\":\n",
    "            return True\n",
    "        else:\n",
    "            return False\n",
    "        \n",
    "    for node in node.children:\n",
    "        if node not in visited:\n",
    "            visited.append(node)\n",
    "            queue.append(node)\n",
    "\n",
    "    while queue:\n",
    "        return bfs(visited, queue.pop(0), queue)\n",
    "        \n",
    "    return False\n",
    "\n",
    "bfs([], doc.sentences[0].constituency.children[0], [])"
   ]
  }
 ],
 "metadata": {
  "kernelspec": {
   "display_name": "Python 3 (ipykernel)",
   "language": "python",
   "name": "python3"
  },
  "language_info": {
   "codemirror_mode": {
    "name": "ipython",
    "version": 3
   },
   "file_extension": ".py",
   "mimetype": "text/x-python",
   "name": "python",
   "nbconvert_exporter": "python",
   "pygments_lexer": "ipython3",
   "version": "3.9.13"
  }
 },
 "nbformat": 4,
 "nbformat_minor": 5
}
