{
 "cells": [
  {
   "cell_type": "code",
   "execution_count": 11,
   "id": "119fe212-081d-4398-9531-238b9ff3ea34",
   "metadata": {},
   "outputs": [],
   "source": [
    "%matplotlib inline\n",
    "\n",
    "import pandas as pd\n",
    "import numpy as np"
   ]
  },
  {
   "cell_type": "code",
   "execution_count": 12,
   "id": "dd9a9a37-271c-46c1-a65f-6f33602e47f5",
   "metadata": {},
   "outputs": [],
   "source": [
    "platforms = [\"Pitchfork\", \"Guardian\", \"NME\", \"Spectrum\"]\n",
    "dfs = {platform: \n",
    "       pd.read_hdf(\"C:\\\\Users\\\\tommy\\\\OneDrive\\\\University\\\\Year 3\\\\Third Year Project\\\\Platform Album Data\\\\review_data_final.h5\", key=platform) for platform in platforms}"
   ]
  },
  {
   "cell_type": "code",
   "execution_count": 3,
   "id": "a4d4051d-3a7d-4414-a422-328313f8af73",
   "metadata": {},
   "outputs": [
    {
     "data": {
      "text/plain": [
       "\"Confronting the climate crisis and the prospect of humankind’s demise, the veteran experimental musician takes an unconventional approach: He gets in touch with his feelings. Brian Eno is known for many things: pioneering ambient music, famous collaborators, the creative embrace of chance, a sly sense of humor, his love of cats. But you wouldn’t describe him as particularly extroverted or sentimental. He’s not, as some might say, “sad boy emo.” So it’s a little unexpected that his new album, FOREVERANDEVERNOMORE, arrives with an accompanying 375-word statement in which he uses the word “feelings” 13 times. “It took me a long time to embrace the idea that we artists are actually feelings-merchants,” Eno writes, presumably in earnest. “Art is where we start to become acquainted with those feelings, where we notice them and learn from them—learn what we like and don’t like—and from there they start to turn into actionable thoughts.”What has made Eno suddenly so in touch with his inner child? Oh, just the dying planet and the prospect of humankind’s demise. “I’ve been thinking about our narrowing, precarious future, and this music grew out of those thoughts. Perhaps it’s more accurate to say I’ve been feeling about it…and the music grew out of the feelings”—bold text Eno’s. Underpinning FOREVERANDEVERNOMORE is a theory, one you have to admire for its sheer lack of cynicism: By redirecting our emotional impulses toward the planet and away from ourselves, we’ll have a greater chance of reversing the Earth’s environmental trajectory.This suggestion is so uncharacteristically hippie-dippie that I feared Eno might, at best, create a patchwork of nature sounds along the lines of Irv Teibel’s Environments series or, at worst, cover “Big Yellow Taxi.” But what’s curious about FOREVERANDEVERNOMORE is how little warmth or whimsy the music exudes. In 1975, on his most treasured vocal-based album, Another Green World, Eno created “pop” songs and sound pieces that obliquely imagined the world’s various topographies and ecologies. Almost 50 years later, he’s explicitly addressing the Earth, but he’s producing the sonic equivalent of an icy tundra.FOREVERANDEVERNOMORE has been touted as Eno’s first primarily vocal-based LP since 2005’s Another Day on Earth, but that’s a little misleading. The singing isn’t straightforwardly melodic; it’s just one more textural layer in smoothly reverberating sound design that’s full of arcing synth notes, periodic pings and chimes, and shimmering background tones. There’s no percussion, no major chords, and no choruses or bridges. Typically, Eno will lay out verses in threes, slightly altering the lyrics each time, like Jewish prayers or dissolving mantras. On opening track “Who Gives a Thought,” for example, he recites the title at the start of each verse to ask rhetorical questions about fireflies, nematodes (an invertebrate otherwise known as a roundworm), and laborers. The implication throughout is that the vocal melodies and lyrics are meant to induce a meditative state, but the arrangements are so mercurial—slight effects intervene suddenly and randomly—that anything approaching zen is impossible. As glossily stark as the album might be, the music isn’t entirely grim. Some of it is plainly gorgeous. Even when he’s intoning apocalyptic imagery on “There Were Bells” (“There were those who ran away/There were those who had to stay/In the end they all went the same way”), Eno fills the background with chirping birdsong. The very next track, “Sherry,” has a melody structured like one of longtime Eno collaborator Robert Wyatt’s, gently curling around a Rhodes-like keyboard, starry guitar licks, and a distant vocal patch that recalls Aphex Twin’s “#1” on Selected Ambient Works Vol. II. Incidentally, Eno wields that vocal effect most remarkably on one of the album’s two wordless songs. On closer “Making Gardens Out of Silence,” initially composed for an exhibit at London’s Serpentine gallery, eight and a half minutes of undulating synths, strings, and sustained vocal tones bear the otherworldly, transportive qualities of Eno’s Apollo or his Ambient series.Eno once again has collaborated with Leo Abrahams, Peter Chilvers, and Jon Hopkins, three people he’s consistently worked with in various configurations over the past 15 years. At times you can parse their contributions immediately: Abrahams’ shimmering guitar textures, Chilvers’ Bloom-like sound effects, and Hopkins’ seismic synth-bass rips. These are all skilled musicians with unique perspectives, but their involvement is the album’s one drawback. As an artist, Eno is famous for his sonic “treatments'' and for his willingness to venture into unfamiliar territory, but for all of the record’s virtues, it’s a little too treated, a little too familiar; at times it verges on being a little too antiseptic. Eno’s written statement and the gravity of the subject indicate a grand departure, but FOREVERANDEVERNOMORE feels nonetheless like a continuation of his work since the mid to late 2000s.Speaking of the 2000s, when I listen to FOREVERANDEVERNOMORE, I’m reminded of David Sylvian’s 2003 album Blemish, which similarly used wintry electronic music and off-target singing to evoke devastation, though in that case it concerned the dissolution of a relationship. Crucially, Sylvian offset his blistering laptop electronica with Derek Bailey’s fractured, improvised acoustic guitar, giving Blemish a distinct tension. But what they both have in common is a pronounced sense of intimacy, and in Eno’s case a familial one—his niece Cecily appears as a vocalist, and his granddaughter’s handwriting features prominently in the video for the song “We Let It In.” It’s exactly the kind of unconventional thinking people have come to expect from Eno: an album about something vast and daunting, made with and for the people closest to you.\""
      ]
     },
     "execution_count": 3,
     "metadata": {},
     "output_type": "execute_result"
    }
   ],
   "source": [
    "pf_df = dfs[\"Pitchfork\"].loc[:, \"Text\"]\n",
    "\n",
    "pf_df[0]"
   ]
  },
  {
   "cell_type": "code",
   "execution_count": 4,
   "id": "4f2d98e3-5c31-4d17-a595-1e8fbc429e0c",
   "metadata": {},
   "outputs": [
    {
     "data": {
      "text/plain": [
       "'The hotly tipped 20-year-old singer-songwriter debuts with a cool, confident record that occasionally blends into pleasant monotony. After releasing her debut single “Cola” in 2018, 20-year-old London poet Arlo Parks won the approval of virtually every possible tastemaker. Michelle Obama put her on a playlist; Hayley Williams nearly included her as a tour opener, and Phoebe Bridgers covered Radiohead’s “Fake Plastic Trees” with Parks on piano and harmonies. While prepping her debut album, Parks collaborated with festival favorites Glass Animals and R&B newcomers MICHELLE. It’s not hard to see why she has so much support; Parks’ songwriting is affectionate and friendly, never straining too hard, always cool and collected. Nearly every song has a message of comfort—on the opener, she sings, “You shouldn’t be afraid to cry in front of me,” while the chorus of “Hope” goes, “You’re not alone/Like you think you are,” over light trip-hop. In a vacuum, any one of these songs are charming, but on Collapsed in Sunbeams, they all blur into a pleasant sort of monotony.As a songwriter, Parks uses pop culture references and proper nouns as shorthand to set scenes, hoping to build “a complete world that people can immerse themselves in.” This is often endearing; the pre-album single “Cola” mentioned Gerard Way, and the clunkiness of “I’d lick the grief right off your lips/You do your eyes like Robert Smith” on “Black Dog” just makes the song feel more intimate. In a lot of instances, those attempts at immersion get so repetitive that they ironically serve as distractions. There are so many names—Charlie, Caroline, Millie—that it’s hard to keep track, and there are so many references and words of affirmation that it’s hard to remember who said what to whom. It doesn’t help that songs like “Hurt” (the Charlie one) are aimless sketches about aimless characters, where the point is that the references and platitudes don’t add up to anything.Parks’ eclectic influences show up in her lyrics (Thom Yorke, Nujabes, and Jai Paul all get name-drops), but not her music. Whether the producer is Paul Epworth or usual collaborator Gianluca Buccellati, everything sounds too sweet. Every other song has a dry drum kit with atmospheric vinyl cracks and floaty keyboards. Even the moments that change things up feel undercooked: “Just Go” is extremely light disco, while “Porta 400” opens with a string sample that almost immediately disappears in the mix. The distorted bass of “For Violet” sounds like it might lead to something darker, worthy of the Massive Attack on Parks’ playlist, but within 45 seconds Parks is back to geniality: “Wait/You know when college starts again you’ll manage!” “Violet” is one of a handful of moments where the comforting atmosphere starts to crack—it hints at a more compelling album actively at war with its own themes. The breakthrough “Dog” depicts helping someone through a mental health crisis (“At least I know that you are trying/But that’s what makes it terrifying”), but on “Violet,” she gives up on helping, instead repeating, “Nothing’s changing and I can’t do this, I can’t do this.” The best songs flip the formula altogether, finding universality in specific themes instead of dressing up universal themes in specific imagery. Early single “Eugene” adds a layer of complexity and heartbreak to a traditional pop subject: Parks’ character falls for a straight girl, a painful variation on unrequited love where reciprocation is inherently impossible. On “Green Eyes,” the love is reciprocated, but ends after two months in fear of homophobic attacks. When Parks inevitably offers a platitude—“You gotta trust how you feel inside and shine”—there are actual stakes to give those lines some meaning.Repeated listens further reveal the weight missing from the production and melodies: When she stands up for herself on penultimate track “Bluish,” there are few pop-culture references or proper nouns, just simple and effective lines like “never had the chance to miss you” and “please let me out of you.” Sunbeams could use more of that directness. Otherwise, it’s easy to imagine someone walking into a coffee shop, nodding their head to the supportive chorus wafting over the speakers, and never thinking about it again.'"
      ]
     },
     "execution_count": 4,
     "metadata": {},
     "output_type": "execute_result"
    }
   ],
   "source": [
    "pf_df[100]"
   ]
  },
  {
   "cell_type": "code",
   "execution_count": 5,
   "id": "466264dc-0aa4-4cc8-b295-26cba0c17c10",
   "metadata": {},
   "outputs": [
    {
     "data": {
      "text/plain": [
       "\"On their ninth album, the twins revisit their roots, re-recording demos they wrote as teenagers and polishing them into poignant synth-pop gems. In 1998, Tegan and Sara caused a small stir when they won a Calgary, Alberta talent contest called Garage Warz. The identical twins appeared on a local news segment to talk excitedly about their win, draped in capacious clothing and distinguishable by Sara’s long hair and Tegan’s lip piercing. “The thing that I like the best,” said Sara, “is that, I don’t think that [the judges] think, ‘Wow, they’re perfect, they [need] no improvement’... I think they just see maybe a sparkle of something, that can get to be something bigger.”Even in her wide-eyed hopefulness, Sara probably didn’t imagine that the duo would go on to have a storied 20-year career: first as Canadian grunge-folk darlings, then pop-punk rebels embraced by the White Stripes and Paramore, and later as synth-pop troubadours joining Taylor Swift onstage. On Tegan and Sara’s ninth studio album, Hey, I'm Just Like You—and the simultaneously released High School, a co-written memoir about their time dropping acid and moshing to Green Day in the ’90s—they revisit their roots, re-recording demos they wrote as teenagers. This time, they’re both the open-hearted teenage songwriters and the wiser industry professionals who can spot, and expand on, their spark.It’s a smart move for a band whose fan base has both aged with them, and continually refreshed itself with younger members. At a Tegan and Sara show, you’re as likely to meet women in their 30s or 40s who have been die-hard fans of the trailblazing LGBTQ icons since the opening guitar strums of “You Wouldn’t Like Me” in 2004 as you are to meet younger listeners who caught the wave with their 2016 breakthrough pop hit “Boyfriend.” On Hey, I’m Just Like You, the band seem to acknowledge and speak to each of these audiences at once. Listening to the title track in its plaintive, unvarnished demo form, it’s clear that it was written by the same two girls who, as described in their memoir, once built a shrine to Kurt Cobain. On the album, the song opens with sharp claps, and builds to a synth-spangled chorus that cushions the jagged melancholy of the original in a pop cocoon.As well as reconciling their different sounds, the album is a fierce reminder of the twins’ ability to write an irresistible chorus. Particularly memorable ones here include the stadium-sized exhalation of “I Don’t Owe You Anything,” the bratty moshpit-lite chorus of “Hold My Breath Until I Die,” and the angst-ridden, fist-pumping “I Know I’m Not the Only One.”  On “Don’t Believe the Things They Tell You (They Lie),” a clunky title becomes a surprisingly great refrain when the song breaks open, halfway through, into a widescreen anthemic surge. “Don’t Believe…” is not the album’s only clunky phrasing. Glancing through the track list is like flicking through a teen’s journal, with its powerful “get off my case, Mom” energy. The album’s general embrace of Tegan and Sara’s teenage earnestness is mostly its strength, but there are moments that grate: the “hello, hello, hello” hook on “Hello, I’m Right Here” carries strange hints of the “British whine” that Sara recalls their teenage voices carrying in High School. On the electronic bounce of “You Go Away and I Don’t Mind,” the stripped-back production gives the juvenile, baffling opening lyrics (“I’m complicated, I was raised by icons”) nowhere to hide.On “Don’t Believe…,” however, they strike the right balance between the clumsy originality of the song that Sara says she wrote in 1995, at age 15, and the polished pros they are now. The melodrama of the chorus (“I belong”) is muted, filtering the pain of teenagerhood through refined adult tastes. There’s a radical kind of self-acceptance to honoring your goofy and heartbreaking teenage sentiments with such seriousness. Sara recently told the Guardian that she has a lot of “self-hatred” and “internalized homophobia” stemming from her difficult high school years, but that revisiting the music and memories of the time—rather than embarrassing her as much as she expected—helped her to love herself. “I’m so amazed at what that person accomplished, knowing that inside they were really, really damaged.”The fact that these songs have been interpreted by their writers 20 years later creates a layer of knowing poignancy, such as when Tegan sings, “I wonder if someday, we'll just be a memory?” on “I Know I’m Not...,” or when Sara sings “What if I become all of the horrible things that I said I would never be?” on the delicate “Please Help Me.” The sting of their adolescent fears is softened both by the heightened shimmer of the production, and by the very fact that we know how this story ends. Compare the gentle, winking nature of the line “Right now, I wish I was older” on “Hello, I’m Right Here,” to the brute force of Billie Eilish—still in the thick of all-encompassing young turmoil—singing about wishing she could be someone else. Memories of the very real pain and passion we felt as teenagers become cool enough to touch when we’re older. In Tegan and Sara’s hands, they become mantras, glimmering and hopeful and full of sparkle.\""
      ]
     },
     "execution_count": 5,
     "metadata": {},
     "output_type": "execute_result"
    }
   ],
   "source": [
    "pf_df[200]"
   ]
  },
  {
   "cell_type": "code",
   "execution_count": 6,
   "id": "24353cdb-080e-4779-9c5b-1f5c176b2cc6",
   "metadata": {},
   "outputs": [
    {
     "data": {
      "text/plain": [
       "'The ranging album from the Philadelphia songwriter adopts a drifting mind as its emotional compass. There’s no rush to get where he’s going, and he rarely checks to see if you’re still following along. Nestled into Side A of Kurt Vile’s seventh solo album, Bottle It In, is “Bassackwards,” 10 minutes of warped, psychedelic folk-rock, like a long sigh in the face of existential dread. Some songwriters seek wisdom in their aimlessness—reflecting on what they could have done better, trying to pinpoint what went wrong. But there’s no moral to Vile’s story; he wallows, unapologetically. To a slow-pulsing chord progression, like Tom Petty’s “Swingin’” played on the moon, the 38-year-old Philadelphia songwriter repeats himself and gets distracted before losing his train of thought completely. As he drifts through space, he sounds confused, resigned, distant. It’s one of his best songs yet.This track, and its circuitous path toward nothingness, is a key insight into the mind of Kurt Vile. A lot of his lyrics take place in the early hours of the day, those bleary, pre-coffee moments, when nobody else is around, that have always somehow inspired his clearest thoughts. Over the last decade, Vile’s musical evolution from scuzzy, self-recorded doodles to fuller, brighter vistas has resembled a diary composed entirely of late-summer weekend mornings: He seeks comfortability over clarity, with anxiety creeping in but never quite blocking the light. Or as he puts it in “Bassackwards,” “The sun went down, and I couldn’t find another one… for a while.”Recorded gradually throughout America while Vile was on tour over the last three years, Bottle It In adopts a drifting mind as its emotional compass. The scenery changes, but Vile’s dazed, half-smile remains constant. “One Trick Ponies” is a bouncy highlight about friendship and the joys of repetition, as Vile depicts the span of life as a “song, if the repeats were long.” Communicating in a chewy monotone that’s more for zoning out than singing along, he still writes lyrics that feel like predictive text: “What a world we’ve inherited/From another mother/What a whale of a pickle.” So over Bottle It In’s 80 minutes, he manages to communicate very little, yet the mood is immediately identifiable: slow, smoky, heady. There’s no rush to get where he’s going, and he rarely checks to see if you’re still following along.While Bottle It In—Vile’s longest, most introspective record—lacks the quiet beauty of 2011’s Smoke Ring for My Halo, the warmth of 2013’s Wakin on a Pretty Daze, or the immediacy of 2015’s b’lieve i’m goin’ down…, its monolithic Kurtness is its own defining quality. In a recent New York Times interview, he jokingly compared the record to Bruce Springsteen’s multi-platinum Born in the U.S.A. Of course, nothing sounds like a “Dancing in the Dark”-style breakthrough, but there is a sense of comprehensiveness, each song zooming into a different, hazy corner of his psyche. The result feels like an extended hang alone with Kurt in a dark basement. Here, he’s less likely to summon the energy for a jam like 2009’s “Freak Train” and more likely to, say, crack a joke about avoiding parking tickets (“Loading Zones”) or gush about being in love while ripping noisy guitar solos for 10-plus minutes (“Skinny Mini”). At a certain point, though, the air can get a little stale. To keep things fresh, he enlists the help of Cass McCombs, Kim Gordon, and Warpaint’s Stella Mozgawa, though often in barely noticeable ways. Only harpist Mary Lattimore steals the show, ascending the free-floating title track into a menacing, regenerative anti-epic. Yet Bottle It In rotates entirely around Vile. Just as you couldn’t mistake his voice or lyrics for anyone else’s, his silvery, shapeshifting guitar remains a defining sound in modern indie rock. When his compositions feel like thoughts in progress, his guitar speaks to the intensity bubbling just under the surface.At its best, Bottle It In pairs music with message to create a new tension in Vile’s work. The anti-technology lyrics of “Mutinies” are fairly simple (“I think things were way easier with a regular telephone,” he mutters), but the arrangement is complex and colorful, building to a droning sunshower that envelopes his words. “Cold Was the Wind,” meanwhile, furthers his penchant for rambling about his rambles, but its arrangement is one of his darkest, most unsettling studio concoctions yet. It could pass for a spidery Tom Waits demo or the theme for an HBO miniseries about a sad detective.And then, of course, there’s “Bassackwards.” It’s the beautiful, banal peak of the record, a warning for the purposeful meandering that follows. The album’s structure—with its more accessible tracks up front and a meditative, somewhat indulgent back-half—can feel like a conversation slipping silently into sighing and nodding. At the end of “Bassackwards,” he mumbles, “Just the way things is these days/Just the way things come out.” It’s the type of thing you say when you’re bored and trying to change the subject but it also serves his momentary thesis statement. Vile has long embraced such in-between moments—he’s just never sounded so lost in one.'"
      ]
     },
     "execution_count": 6,
     "metadata": {},
     "output_type": "execute_result"
    }
   ],
   "source": [
    "pf_df[300]"
   ]
  },
  {
   "cell_type": "code",
   "execution_count": 7,
   "id": "7b74692e-6cd3-4ec3-b405-6c1e8cada28f",
   "metadata": {},
   "outputs": [
    {
     "data": {
      "text/plain": [
       "'Born in the Echoes continues the creative resurgence ignited by the Chemical Brothers\\' brilliant last full-length, 2010’s\\xa0Further. In contrast to that album\\'s loved-up euphoria,\\xa0Echoes\\xa0is a grab bag: Festival fillers and club bangers rub up against wondrously bizarre studio experiments and some of the best pure pop songs Rowlands and Simons have ever made. \"The future? I’ll see you there!\" These words come in the middle of the latest album from London dance music survivors the Chemical Brothers. It could be a sly nod to their influence on this decade’s global electronic boom. Back in the mid-1990s, acts like the Chems, Fatboy Slim, and the Prodigy were primed to vanquish guitar rock once and for all while ushering in a squelching age of rave. It didn’t work out that way and, soon enough, Limp Bizkit were dragging their knuckles all the way to the top of the charts. Tom Rowlands and Ed Simons’ radical mix of acid house, hip-hop, and shaggy psych was deemed just another pop fad. But now, with EDM festivals drawing millions of fans around the world and spiritual big beat descendants like Diplo and Hudson Mohawke helping to shape the Hot 100, it’s clear that the Chemical Brothers were both ambassadors and soothsayers. And they’re still around. They deserve to gloat.Then again, the line could also suggest something more sinister. It’s taken from a spoken-word performance by iconoclastic 76-year-old Canadian poet bill bissett, whose idea of \"the future\" involves scentless flowers, two-headed babies, and other marks of a hellish apocalypse; for every hit of ecstatic futurism, they seem to be saying, there is an equal and opposite dose of reality. Meanwhile, the music of \"I’ll See You There\" finds Rowlands and Simons once again tripping out on the past, as howled backmasking and frenzied drums criss-cross in an effort to once again capture the headiness of their own psychedelic pop ur-text, the Beatles’ \"Tomorrow Never Knows\". All of which leads us to the eternal present—the now—which happens to be a place that suits the Chemical Brothers quite well.Born in the Echoes is the pair’s eighth album and it continues the creative resurgence ignited by their brilliant last full-length, 2010’s Further, which served as something of a career reset following a decade of flagging potency. But whereas that album was marked by extended dancefloor workouts, seamless DJ-style transitions, and an overall feeling of loved-up euphoria, Echoes is more of a grab bag: Enormous festival fillers and hard-nosed club bangers rub up against wondrously bizarre studio experiments and some of the best pure pop songs Rowlands and Simons have ever made.Like fellow \\'90s innovators Daft Punk, the Chems have managed to last more than 20 years in part because they are smart enough to prioritize mindless immediacy. The two upper middle class boys bonded while studying history at Manchester University at the height of the city’s ecstasy heyday; they would read Chaucer’s bawdy Canterbury Tales and then head over to The Haçienda and flail about with 1,000 of their new best friends. They quoted British novelist Evelyn Waugh on an early EP title and then sampled roughneck New York rapper Keith Murray on their ageless classic Dig Your Own Hole. Simons recently returned to the world of academia (and will miss this year’s Chemical Brothers tour dates because of it), while Rowlands recently summed up the duo’s objectives thusly: \"We\\'re just really into making funny sounds and putting them into some kind of order that makes sense … Not every song has to be the meaning of life.\" So on Echoes we get Q-Tip spouting motivational pizza box rhymes over rubberband basslines on future sports montage soundtrack \"Go\" followed by St. Vincent staring into the suicidal void of a performer’s high on \"Under Neon Lights\", which peaks with a guitar (or is it a synth?) solo that searingly recalls \"Bulls on Parade\". We get the viscous funk of \"Taste of Honey\"—replete with buzzing bee cameo—next to the taut title track, which features a coolly distant vocal from Cate Le Bon and sounds like a worthy tribute to the late, great psych auteurs Broadcast. Then Beck shows up at the end to help Rowlands and Simons create the finest New Order song in ages. \"Wide Open\" makes the inevitability of losing it—life, love, inspiration—sound terribly triumphant, and just as the track hits its climax, Beck wisely gets out of the way, making room for undulating waveforms that bristle and burst with all-too-human imperfections.Talking to Spin about his Big Beat contemporaries in 1999, Ed Simons suggested, \"There’s surely going to come a time when those kind of tricks—all the drops and builds and rhythm changes—aren’t going to trigger the same responses in people.\" Of course, the same could be said of today’s insta-nuke dance tracks, the ones that try to cheat death by just running away from it really fast and really hard. And, to be fair, the Chemical Brothers have deployed plenty of drops and builds and rhythm changes across the last two decades. But Rowlands and Simons’ version of the future isn’t one of narrow-minded annihilation; there are levels to it, along with paths that connect everything from the Fab Four to \"Funky Drummer\" to Phuture. Part of a fast-moving culture always looking for the next high, the Chemical Brothers remain steadfast—eyeing the past and future while living in the here and now.'"
      ]
     },
     "execution_count": 7,
     "metadata": {},
     "output_type": "execute_result"
    }
   ],
   "source": [
    "pf_df[400]"
   ]
  },
  {
   "cell_type": "code",
   "execution_count": 8,
   "id": "86b5c113-ef8a-451c-ae41-3a80033f41fd",
   "metadata": {},
   "outputs": [
    {
     "data": {
      "text/plain": [
       "\"On With a Little Help From My Fwends, the Flaming Lips tackle the Beatles’ Sgt. Pepper’s Lonely Hearts Club Band with help from Miley Cyrus, Tegan and Sara, J. Mascis, Tool’s Maynard James Keenan, My Morning Jacket, Foxygen, Lightning Bolt's Brian Chippendale, and others. These aren’t so much revisions as disembowelments. Back in the mid-1980s, the easiest way for underground bands to draw ideological battlelines separating themselves from their 1970s arena-rock antecedents was to appropriate their most hallowed songs for devious ends. And so we got J. Mascis moaning his way through Peter Frampton’s “Show Me the Way”, the Minutemen chopping Van Halen songs in half, Pussy Galore licking the burnt spoons littered throughout the Rolling Stones’ Exile on Main Street, Sonic Youth swiping the title of CCR’s “Bad Moon Rising” for their Reagan-era state-of-the-union address, and the Butthole Surfers grinding Black Sabbath’s “Sweet Leaf” into skunk weed. In this context, what made the early, garage-punk iteration of the Flaming Lips so strange was not their sordid subject matter, disturbing cover art, or 23-minute acid-rock jams. It was their contrarian reverence for tradition, with the band dropping straight-faced covers of Led Zeppelin’s “Thank You” and Louis Armstrong’s “What a Wonderful World” into their repertoire for no other reason than they loved the songs.As the Lips scored sudden mainstream success in the early '90s with a fluke MTV hit, their cover choices turned decidedly more esoteric, as the band used their modicum of celebrity to shine a light on known artists’ lesser-known work, reclaim new-wave novelties, or to promote then-unheralded underground peers. But in the post-Soft Bulletin era—during which the Lips’ music became both more tonally serious and relentlessly experimental—cover songs have become a necessary salve through which the band can reassert their playful side and maintain the circus-like atmosphere at their concerts even when touring behind decidedly more downcast material.And ever since they trotted out old warhorses like “Bohemian Rhapsody” and “War Pigs” on their 2006 At War With the Mystics tour, the Lips have seemingly been on a mission to modernize the entire classic-rock canon, by curating full-album, collaboration-heavy reconstructions of Pink Floyd and King Crimson milestones (with a Stone Roses debut-album redux thrown in to show they’re still fond of music made after 1980). But while such recurring retro-gazing exercises may seem antithetical to the adventurous, boundary-pushing ethos the Lips displayed on 2009’s Embryonic and last year’s The Terror, the mere task of making the most totemic (and, by extension, contemptuously overplayed) rock songs of all time seem fresh presents its own formidable challenge, one they’ve answered by gradually shifting their cover-song approach from faithfully sacred to kill-yer-idols profane. Now comes the greatest challenge of all: tackling the Beatles’ Summer-of-Love soundtrack Sgt. Pepper’s Lonely Hearts Club Band, a generation-defining achievement so masterful that its very title has become the official shorthand descriptor for masterful achievements. The Lips aren’t the first to give Pepper a shake, but even the post-punk/new pop makeover the album received on the 1988 NME-curated comp Sgt. Pepper Knew My Father—complete with Mark E. Smith warbling “A Day in the Life”—feels overly staid and deferential compared to what transpires here. And even by the standards of the Lips’ previous tribute-album overhauls, With a Little From My Fwends is a colossal, chaotic undertaking, its 27-collaborator guest list bringing together pop singers (Miley Cyrus, Tegan & Sara), fellow alt-rock veterans (J. Mascis, Tool’s Maynard James Keenan), Bonnaroo royalty (My Morning Jacket, Dr. Dog), indie phenoms (Foxygen, Phantogram), and maverick MCs (Cool Kid Chuck Inglish), alongside the usual army of Lips affiliates like New Fumes and Stardeath & White Dwarfs. And where previous experiments were limited to Record Store Day releases or iTunes exclusives, this one is a more widely publicized benefit album for the Bella Foundation, an Oklahoma City-based animal shelter that provides crucial veterinary services to low-income pet owners. But while the charitable component lends With a Little From My Fwends a noble purpose beyond just being another Wayne Coyne-commandeered, clown-car-filling amusement, the end result occasionally suggests your time might be better spent revisiting the original album and making a direct donation.One of the great breakthroughs of Sgt. Pepper was how it used the recording studio to create a vivid, three-dimensional sense of space and place, bringing the lyrics to life in audio-storybook form. (Think of the live-concert ambience of the opening title-track “With a Little Help From My Friends” suite, or the carnival-esque clamor of “Being For the Benefit of Mr. Kite!”; even the clarinet refrain of “When I’m Sixty Four” gives off the musty scent of a grandparent’s house.) But the Lips and Fwends go to town on these songs with little regard for thematic resonance or big-picture atmosphere. In the spirit of the aforementioned 80s-era indie cover-song desecrations, these aren’t so much revisions as disembowelments that replace the guts of the originals with a tangle of short-circuiting exposed wires. And given that the Lips weren’t even around to supervise all of their guest contributions (Coyne and co. actually only appear on a handful of tracks), things undoubtedly get messy quick, if not downright hazardous. With its scatterbrained, kinder-pop take on the title track (which climaxes with an arrhythmic, atonal guitar solo from J. Mascis), and a strangulated call-and-response between Wilco offshoot the Autumn Defense and Lightning Bolt’s Brian Chippendale (aka Black Pus) on “With a Little Help From My Friends”, the project effectively gives Sgt. Pepper the shreds treatment. Of course, even the most successful cover songs in pop history are inherently blasphemous—in that they suggest unexplored avenues that the original could’ve taken, coax lurking undercurrents to the fore, and cast the source material in an entirely new light. But the problem with a lot of these versions is that they’re unruly on just a surface level. Whether it’s the wobbly-kneed Dr. Dog/Morgan Delt/Chuck Inglish gang-up on “Getting Better”, Maynard James Keenan’s inert, industrialized “Mr. Kite!”, or Def Rain and Pitchwafuzz’s vocoderized, static-swirled “When I’m Sixty Four”, the Lips’ Fwends are so intent on tripping up the songs’ rhythmic momentum and weirding up the basic melodies with hammy vocals that they ultimately reinforce their sturdiness. They’re trashing all the furniture in the house, but not bulldozing any walls to open up new vantages.It’s the simple revisions that yield the greatest revelations. The Electric Würms—aka the Lips alter-ego aggregate that promotes Steven Drozd to lead vocalist—recast “Fixing a Hole” as a charmingly low-key psych-folk reverie that amplifies the song’s slow-percolating existential ennui; Stardeath’s stuttering synth-funk take on “Lovely Rita” is given a sly queer spin by guests Tegan and Sara (while their robotic delivery —coupled with the song’s mechanistic motion—craftily adapts the song to a modern world where parking enforcement is largely an automated process). And while Foxygen—with the help of MGMT’s Ben Goldwasser—stretch out the Sgt. Pepper title-track reprise to nearly triple the original’s length (making it even longer than the song it’s supposed to set up, “A Day in the Life”), it’s transformed into precisely the sort of wiggy organ-pumped workout Billy Shears and the boys might have used to close down some imaginary festival set on the Isle of Wight.Ironically, the seemingly most outrageous aspect of this entire endeavour—i.e., the mere presence of Miley Cyrus—proves to be its grounding force. On an album where everyone is trying way too hard to out-freak one another, Cyrus—much like the Led Zep-loving Lips of the '80s—stands out by simply playing it straight (which feels strange in and of itself). Tellingly, she’s entrusted with the album’s two most celebrated songs, turning in effective duets with Coyne on a splendorous, slow-motion surge through “Lucy in the Sky With Diamonds” and a suitably mournful “A Day in the Life”, where she handles an electro-ticked, space-age update of Paul McCartney’s middle eight (and really does sound like she just woke up, fell out of bed, and dragged a comb across her head). Curiously, the relatively reverential reading of the latter song leaves out its most notorious feature—that dramatic, sustained piano-pounded finale. The omission is both intentionally heretical (how can you end that song any other way?) yet oddly reverential, suggesting that, even if you’re subjecting one of the most revered albums of all time to sadistic sonic surgery, some things are sacred. According to the eternally loopy logic of the Flaming Lips, reinforcing a spiritual connection to your greatest influence means cutting the chord.\""
      ]
     },
     "execution_count": 8,
     "metadata": {},
     "output_type": "execute_result"
    }
   ],
   "source": [
    "pf_df[500]"
   ]
  },
  {
   "cell_type": "code",
   "execution_count": 9,
   "id": "aec91482-1244-45fe-b78e-b4d5976f7c33",
   "metadata": {},
   "outputs": [
    {
     "data": {
      "text/plain": [
       "'Burn Your Fire for No Witness\\xa0finds the singer-songwriter inhabiting a fuller, louder sound and embracing punchier song structures. The blown-out, full-band energy enlivens Olsen, kindling an intensity that’s always been present in her songs and fanning the flames even higher. “Hi-Five”, the third song on Angel Olsen’s second album,\\xa0Burn Your Fire for No Witness, has got to be one of the most cheerful songs ever written about being lonely. A twangy electric folk tune that begins with an invocation of its muse, Hank Williams, the song is all stomp-and-rollick until it stops to catch its breath for a moment in the bridge. “Are you lonely too?” Olsen warbles. A beat later, her band’s back in full Technicolor, and the next line hits like a title card in an old “Batman” episode: “HI-FIVE!/ SO AM I!”Olsen’s voice is enchanting; it sounds like the result of a spell that called for Leonard Cohen’s blood, Buffy Sainte-Marie’s larynx, and a still-operational old-timey microphone emblazoned with radio call letters. Her songs are powered by a strange, anarchic electricity, always flickering on the edge of blowing out. By the laws of the unique universe she creates on her records, Wanting, Waiting, and (probably the most popular pastime in her songs) Thinking are not passive stances but active ways of being in the world; unruly emotion is a virtue. “You don’t sing so high and wild,” she sneers at one point to a detached lover, and in an Angel Olsen song this is an insult so harsh it’s almost obscene. This guy may as well be dead.Olsen first gained notice as the stand-out eccentric in Bonnie “Prince” Billy’s mysterious band the Babblers (given that all six of them were known to perform in hooded pajamas and sunglasses, this is saying something). In 2010, she released an arresting tape on\\xa0Bathetic called Strange Cacti, which gave off the impression that she’d recorded it after falling down a well, trying to sing loudly and cavernously and urgently enough to be found. And she was, more or less—her cult following multiplied with the release of 2012’s excellent Half Way Home, a surreal and lyrical collection of folk songs that sounded a bit like Vashti Bunyan playing a midnight game of Ouija. Most of the songs on Half Way Home were driven by Olsen’s hushed acoustic guitar, so her 2013 single “Sweet Dreams” was a thrilling left turn—a swirling, psych-pop reverie. To overpower the percussion and charred electric guitars, she sang even wilder.Burn Your Fire for No Witness picks up where “Sweet Dreams” left off, blossoming into a fuller, louder sound and embracing punchier song structures. It’s not as weird or raw a record as Half Way Home, but producer John Congleton manages to sand the rough edges off Olsen’s music without quite taming it. She and her band (Joshua Jaeger on drums and Stewart Bronaugh on bass and guitar) talk to each other effortlessly: On the great lead-off single “Fogiven/Forgotten”, the kick drum accents her open-hearted declarations like expertly placed exclamation points (“I don’t know anything!/ But I love you!”), and as the energy of “Lights Out” mounts, she passes the baton to Bronaugh for a perfectly timed solo. The blown-out, full-band energy enlivens Olsen, kindling an intensity that’s always been present in her songs and fanning the flames even higher. On repeated listens, subtler highlights emerge. \"Enemy\" hangs like a spiderweb in the album\\'s quietest corridor—an intricate wisp of a song that she patiently spins into something hallowed and heartbreaking. Then there’s “White Fire”, a sparse, nearly seven-minute incantation that sounds like a lost Songs of Leonard Cohen cut but gradually accumulates an atmosphere of its own. When Olsen switches into ballad mode, she fares best with hushed, minimal arrangements. The echoing percussion and shimmering chords of “Dance Slow Decades” cloak the song in a relatively ill-fitting grandeur; the demo is probably more of a gut-punch. Same goes for the indistinct closer “Window”, which sounds a bit too much like someone trying to write a Feist song. Still, that last one feels like such an anomaly that it only underscores how distinct Olsen’s songwriting is across the rest of the record. Burn Your Fire for No Witness conjures the past without ever imitating it, swirling its influences into something intimate, impressionistic and new.“I wish it were the same as it is in my mind,” Olsen laments in “Enemy”; this is pretty much the central conflict in every Angel Olsen song. The people she writes about daydream vividly, mumble reassuring mantras to themselves (\"Some days all you need is one good thought strong in your mind\"), and get so caught up in the songs stuck in their heads that they accidentally walk past their own houses. And yet, even as she longs for deep connections and hi-fives from strangers, Olsen knows too well that dreamers are usually loners. Not that she really minds. If she seems unafraid of—even superhumanly amped about—loneliness, it’s because her songs find an almost beatific peace in solitude. “If you can’t be psyched about your own thoughts,” she said in an interview a few years ago, “Then how are you supposed to have a meaningful interaction with anyone?” It’s a point she’s carried over into her music, honed in seclusion but now ready for more people to bear witness to its peculiar charms.'"
      ]
     },
     "execution_count": 9,
     "metadata": {},
     "output_type": "execute_result"
    }
   ],
   "source": [
    "pf_df[600]"
   ]
  },
  {
   "cell_type": "code",
   "execution_count": 4,
   "id": "d457fda5-0376-4078-aecb-ce63f06f77ae",
   "metadata": {},
   "outputs": [],
   "source": [
    "def remove_special_pf(x):\n",
    "    \n",
    "    return x.replace(\"\\xa0\", \" \")\n",
    "\n",
    "dfs[\"Pitchfork\"].loc[:, \"Text\"] = dfs[\"Pitchfork\"].loc[:, \"Text\"].apply(remove_special_pf)"
   ]
  },
  {
   "cell_type": "code",
   "execution_count": 11,
   "id": "b0c84d0f-8da6-435a-b9b2-bfe544c1245f",
   "metadata": {},
   "outputs": [
    {
     "data": {
      "text/plain": [
       "'Born in the Echoes continues the creative resurgence ignited by the Chemical Brothers\\' brilliant last full-length, 2010’s Further. In contrast to that album\\'s loved-up euphoria, Echoes is a grab bag: Festival fillers and club bangers rub up against wondrously bizarre studio experiments and some of the best pure pop songs Rowlands and Simons have ever made. \"The future? I’ll see you there!\" These words come in the middle of the latest album from London dance music survivors the Chemical Brothers. It could be a sly nod to their influence on this decade’s global electronic boom. Back in the mid-1990s, acts like the Chems, Fatboy Slim, and the Prodigy were primed to vanquish guitar rock once and for all while ushering in a squelching age of rave. It didn’t work out that way and, soon enough, Limp Bizkit were dragging their knuckles all the way to the top of the charts. Tom Rowlands and Ed Simons’ radical mix of acid house, hip-hop, and shaggy psych was deemed just another pop fad. But now, with EDM festivals drawing millions of fans around the world and spiritual big beat descendants like Diplo and Hudson Mohawke helping to shape the Hot 100, it’s clear that the Chemical Brothers were both ambassadors and soothsayers. And they’re still around. They deserve to gloat.Then again, the line could also suggest something more sinister. It’s taken from a spoken-word performance by iconoclastic 76-year-old Canadian poet bill bissett, whose idea of \"the future\" involves scentless flowers, two-headed babies, and other marks of a hellish apocalypse; for every hit of ecstatic futurism, they seem to be saying, there is an equal and opposite dose of reality. Meanwhile, the music of \"I’ll See You There\" finds Rowlands and Simons once again tripping out on the past, as howled backmasking and frenzied drums criss-cross in an effort to once again capture the headiness of their own psychedelic pop ur-text, the Beatles’ \"Tomorrow Never Knows\". All of which leads us to the eternal present—the now—which happens to be a place that suits the Chemical Brothers quite well.Born in the Echoes is the pair’s eighth album and it continues the creative resurgence ignited by their brilliant last full-length, 2010’s Further, which served as something of a career reset following a decade of flagging potency. But whereas that album was marked by extended dancefloor workouts, seamless DJ-style transitions, and an overall feeling of loved-up euphoria, Echoes is more of a grab bag: Enormous festival fillers and hard-nosed club bangers rub up against wondrously bizarre studio experiments and some of the best pure pop songs Rowlands and Simons have ever made.Like fellow \\'90s innovators Daft Punk, the Chems have managed to last more than 20 years in part because they are smart enough to prioritize mindless immediacy. The two upper middle class boys bonded while studying history at Manchester University at the height of the city’s ecstasy heyday; they would read Chaucer’s bawdy Canterbury Tales and then head over to The Haçienda and flail about with 1,000 of their new best friends. They quoted British novelist Evelyn Waugh on an early EP title and then sampled roughneck New York rapper Keith Murray on their ageless classic Dig Your Own Hole. Simons recently returned to the world of academia (and will miss this year’s Chemical Brothers tour dates because of it), while Rowlands recently summed up the duo’s objectives thusly: \"We\\'re just really into making funny sounds and putting them into some kind of order that makes sense … Not every song has to be the meaning of life.\" So on Echoes we get Q-Tip spouting motivational pizza box rhymes over rubberband basslines on future sports montage soundtrack \"Go\" followed by St. Vincent staring into the suicidal void of a performer’s high on \"Under Neon Lights\", which peaks with a guitar (or is it a synth?) solo that searingly recalls \"Bulls on Parade\". We get the viscous funk of \"Taste of Honey\"—replete with buzzing bee cameo—next to the taut title track, which features a coolly distant vocal from Cate Le Bon and sounds like a worthy tribute to the late, great psych auteurs Broadcast. Then Beck shows up at the end to help Rowlands and Simons create the finest New Order song in ages. \"Wide Open\" makes the inevitability of losing it—life, love, inspiration—sound terribly triumphant, and just as the track hits its climax, Beck wisely gets out of the way, making room for undulating waveforms that bristle and burst with all-too-human imperfections.Talking to Spin about his Big Beat contemporaries in 1999, Ed Simons suggested, \"There’s surely going to come a time when those kind of tricks—all the drops and builds and rhythm changes—aren’t going to trigger the same responses in people.\" Of course, the same could be said of today’s insta-nuke dance tracks, the ones that try to cheat death by just running away from it really fast and really hard. And, to be fair, the Chemical Brothers have deployed plenty of drops and builds and rhythm changes across the last two decades. But Rowlands and Simons’ version of the future isn’t one of narrow-minded annihilation; there are levels to it, along with paths that connect everything from the Fab Four to \"Funky Drummer\" to Phuture. Part of a fast-moving culture always looking for the next high, the Chemical Brothers remain steadfast—eyeing the past and future while living in the here and now.'"
      ]
     },
     "execution_count": 11,
     "metadata": {},
     "output_type": "execute_result"
    }
   ],
   "source": [
    "dfs[\"Pitchfork\"].loc[400, \"Text\"]"
   ]
  },
  {
   "cell_type": "code",
   "execution_count": 8,
   "id": "cfed7162-9c01-4d20-b2f4-3d9612b14db4",
   "metadata": {},
   "outputs": [],
   "source": [
    "g_df = dfs[\"Guardian\"].loc[:, \"Text\"]"
   ]
  },
  {
   "cell_type": "code",
   "execution_count": 9,
   "id": "19051ed5-bfe1-4bfc-93fe-1995ab9b7748",
   "metadata": {},
   "outputs": [
    {
     "data": {
      "text/plain": [
       "'The producer contemplates the future of the planet on these heartbreaking songs shot through with wonder. You suspect that when Brian Eno co-founded the Long Now Foundation in 1996, he was confident in there actually being a future for the planet – its art projects included a clock in a mountain designed to tick for 10,000 years, as an exercise in stretching our perception of time. But here we are in 2022, the world literally on fire. You suspect that when Brian Eno co-founded the Long Now Foundation in 1996, he was confident in there actually being a future for the planet – its art projects included a clock in a mountain designed to tick for 10,000 years, as an exercise in stretching our perception of time. But here we are in 2022, the world literally on fire. Eno’s new album, his 22nd, is an emotional contemplation of environmental catastrophe. It’s as huge and enveloping as you’d hope, its undulating soundscapes suffused with longing and wonder. But there is a mournful quality, too, something heartbreakingly elegiac about these songs. There Were Bells was composed for an event at the Acropolis in Athens last year, performed on a sweltering 45-degree day; as Eno recalls: “I thought, here we are at the birthplace of modern civilisation, probably witnessing the end of it.” Notably, these are songs rather than ambient pieces, and Eno’s voice is deeper now and more commanding, even as it ripples with anger, regret – flashing like a chameleon’s skin in flux. The gorgeous single We Let It In, which features vocals from daughter Darla, is a meditative jewel. It’s stirring to hear Eno sing again – these songs feel personal, intimate and urgent. '"
      ]
     },
     "execution_count": 9,
     "metadata": {},
     "output_type": "execute_result"
    }
   ],
   "source": [
    "g_df[0]"
   ]
  },
  {
   "cell_type": "code",
   "execution_count": 10,
   "id": "9ae5b39f-b318-4ace-b672-c57cf25bc264",
   "metadata": {},
   "outputs": [
    {
     "data": {
      "text/plain": [
       "'She may be saddled with being the Voice of a Generation, but the London singer-songwriter’s warm, conversational and observant debut justifies the hype. It’s hard to know how to feel about the state of Arlo Parks’ career. The obvious response is to be hugely impressed: here she is, at 20 years old, surfing a wave of critical acclaim, the release of her debut album heralded by vast billboards around London and what’s effectively her own TV special, courtesy of Amazon. Not bad for someone who was hopefully uploading their demos to the BBC’s Introducing site a couple of years ago. Then again, it’s a hard heart that doesn’t also feel a twinge of pity. The poor woman has been stuck with the Voice of a Generation tag, a surefire way of lumbering an artist with expectations anyone would struggle live up to: “a term that can create problems for anybody,” as Bob Dylan – who should know – once put it. It’s hard to know how to feel about the state of Arlo Parks’ career. The obvious response is to be hugely impressed: here she is, at 20 years old, surfing a wave of critical acclaim, the release of her debut album heralded by vast billboards around London and what’s effectively her own TV special, courtesy of Amazon. Not bad for someone who was hopefully uploading their demos to the BBC’s Introducing site a couple of years ago. Then again, it’s a hard heart that doesn’t also feel a twinge of pity. The poor woman has been stuck with the Voice of a Generation tag, a surefire way of lumbering an artist with expectations anyone would struggle live up to: “a term that can create problems for anybody,” as Bob Dylan – who should know – once put it. Still, you can see how it’s ended up appended to Parks’ name with such regularity and despite her protestations. She calls herself an empath – someone deeply attuned to other people’s feelings – and has been lauded for writing about “sexual identity, queer desire, mental health, body image”, according to one profile. You read a lot of fans “speaking their pain” in the comments section below her YouTube videos. The problem is that it makes Parks sound painfully worthy, part of that recent eat-your-greens strain of pop that comes with a sense of earnest moral obligation attached: music that’s sold to you on the basis of what it stands for rather than how it sounds. And that would be a desperately unfair interpretation of Collapsed in Sunbeams, an album that needs no special pleading. Lyrics are clearly Parks’ thing – so much so that she opens the album with a burst of spoken-word poetry. But as you listen, you realise she could be singing almost anything, and Collapsed in Sunbeams would still work. She has a lovely voice: airy, natural and unshowy, with a London-accented conversational tone that occasionally recalls a less flippant Lily Allen. Her writing with collaborator Gianluca Buccellati has an unhurried melodic fluency – Green Eyes and Eugene drift charmingly along – and they’ve hit on a sound that works: commercial without submitting to current pop cliches or blandness. There are crisp, looped breakbeats and subtle shadings of vintage soul, as when an organ rises gently into the mix on Too Good. Reverb-heavy electric guitar ranges from funk riffs to icy, Radiohead-esque figures to the heaving shoegazey textures of Caroline and crackly samples that betray her love of Portishead’s Dummy. Stripped of its vocals, the bass-heavy For Violet might have slotted neatly on to Mo’ Wax’s mid-90s trip-hop compilation Headz. The lyrics, meanwhile, tackle distinctly 21st-century anxieties. An lot of pop in recent years has attempted to deal with body image, mental-health issues or problems with sexual identity; so much so that you don’t have to be a terrible cynic to make out the sound of boxes being ticked. That isn’t the case here: Parks writes with a diaristic tone that suggests lived experience rather than a self-conscious desire to tackle the burning issues of the day. She has a great turn of phrase – “wearing suffering like a spot of bling”; “the air was fragrant and heavy with our silence”, “shards of glass live in this feeling” – and a desire to be, as she puts it, “both universal and hyper-specific”. If you were minded to nitpick, you might suggest that she’s rather better at the latter than the former, that the broad brushstrokes lean a little on self-help platitudes of the “you gotta trust how you feel inside” variety. Her real skill lies in observing small, telling details: the depressed friend whose overload of makeup leaves her looking “like Robert Smith”; the “artsy couple” she watches arguing in the street on Caroline, “strawberry cheeks flushed with defeated rage”; or in the sudden switch to a blunt, colloquial tone. “You know when college starts again you’ll manage,” she counsels a friend struggling to live at home on For Violet. “I wish your parents had been kinder to you,” she tells an ex whose struggle with her sexuality scuppers their relationship. But then, why would you be minded to nitpick with a debut this good? It appears to announce the arrival of a major new talent, though you never know: the path of an artist stuck with the Voice of a Generation tag is fraught with pitfalls. You can succumb to self-importance, you can discover your skills lay in describing a specific moment in time and struggle to move on. But that’s the future, something that currently feels more imponderable than ever. Right now, Collapsed in Sunbeams feels like a warm breeze in the depths of a miserable winter. Lael Neale: Blue VeinThere’s nothing to the first single from Lael Neal’s forthcoming album Acquainted with Night: tape hiss, electric guitar, her voice and a cheap old synth. It’s all the song needs.'"
      ]
     },
     "execution_count": 10,
     "metadata": {},
     "output_type": "execute_result"
    }
   ],
   "source": [
    "g_df[100]"
   ]
  },
  {
   "cell_type": "code",
   "execution_count": 15,
   "id": "d9f24f0c-0c18-47e2-835c-5785b77a7661",
   "metadata": {},
   "outputs": [
    {
     "data": {
      "text/plain": [
       "'Reworked songs of teenage travails from the Quin twins, who go back to their youth in slick, pulsating pop s tracklists go, you don’t get much more evocative than the one attached to Tegan and Sara’s ninth album, a series of furiously indignant, laughably melodramatic and stomach-churningly poignant missives from the standard-issue internal monologue of the unhappy teenager. It’s tempting to leave the likes of Hold My Breath Until I Die and Don’t Believe the Things They Tell You (They Lie) as song titles alone, imagining the contents to fit your own heady nostalgia trip. But if you do decide to dive in, you’ll discover plenty more painfully perfect evocations of adolescent angst inside. As tracklists go, you don’t get much more evocative than the one attached to Tegan and Sara’s ninth album, a series of furiously indignant, laughably melodramatic and stomach-churningly poignant missives from the standard-issue internal monologue of the unhappy teenager. It’s tempting to leave the likes of Hold My Breath Until I Die and Don’t Believe the Things They Tell You (They Lie) as song titles alone, imagining the contents to fit your own heady nostalgia trip. But if you do decide to dive in, you’ll discover plenty more painfully perfect evocations of adolescent angst inside. Hey, I’m Just Like You is not merely an exercise in remembrance, however. In a pleasingly poetic act of artistic time travel, the 39-year-old Quin twins actually co-created the album with their teenage selves. The 12 tracks included here are tweaked versions of songs they wrote between the ages of 15 and 17, discovered on cassette while excavating material for their new memoir, High School. Perhaps because of the tinkering, the record doesn’t quite have the mortifying novelty value of actual juvenilia, and those familiar with Tegan and Sara’s artistic trajectory might detect a whiff of anachronism about the way these songs have been realised. The duo started life as an indie-rock outfit, pivoting to pop in the early 2010s with their album Heartthrob – Hey, I’m Just Like You feels of a piece with their more recent work. Although there are traces of the sisters’ early infatuation with bands such as Green Day (especially on the chugging I’ll Be Back Someday), the defining sound is slick, pulsing and often pretty saccharine. There are some pleasing interludes, particularly the doomy drop on Don’t Believe the Things They Tell You (They Lie), but it’s not always a style that proves hugely diverting, being a sort of beta-pop that falls into the cracks between instantly memorable, innovative and entertainingly extravagant. Certainly, Hey, I’m Just Like You has a cracking backstory, but the album’s workaday synthpop means it struggles to make much of an impact based purely on its sonic appeal.'"
      ]
     },
     "execution_count": 15,
     "metadata": {},
     "output_type": "execute_result"
    }
   ],
   "source": [
    "g_df[200]"
   ]
  },
  {
   "cell_type": "code",
   "execution_count": 11,
   "id": "67061fcd-3324-46ad-96a2-65fc12d8ecc5",
   "metadata": {},
   "outputs": [
    {
     "data": {
      "text/plain": [
       "'. Playing big theatres and releasing an average of an album a year for eight years suggests steely professionalism, but Philadelphia songwriter Kurt Vile still thankfully sounds like a guy on a skateboard who tries to sell you a 10-bag after asking you for directions. His distinctive drawl suggests a somewhat fugged mind, something that the lyrics back up: on Bassackwards, he’s doing a radio show under the influence of something or other, saying of his co-host “I appreciate him to the utmost degree” with a stoner’s ironic grandeur. On Hysteria, he “took a drink of a dream smoothie / and all of a sudden I’m feeling very loopy”. But if he’s high, he’s surfing a crystalline state of amused, outward-facing insight, rather than crashing into catatonic self-regard (even if, on Mutinies, he bashfully admits to popping pills to shut up the voices in his head). Playing big theatres and releasing an average of an album a year for eight years suggests steely professionalism, but Philadelphia songwriter Kurt Vile still thankfully sounds like a guy on a skateboard who tries to sell you a 10-bag after asking you for directions. His distinctive drawl suggests a somewhat fugged mind, something that the lyrics back up: on Bassackwards, he’s doing a radio show under the influence of something or other, saying of his co-host “I appreciate him to the utmost degree” with a stoner’s ironic grandeur. On Hysteria, he “took a drink of a dream smoothie / and all of a sudden I’m feeling very loopy”. But if he’s high, he’s surfing a crystalline state of amused, outward-facing insight, rather than crashing into catatonic self-regard (even if, on Mutinies, he bashfully admits to popping pills to shut up the voices in his head). There’s a sturdy quality to the neat, cute repetitions in his guitar backings, the bamboo that the bindweed of his voice trails around, and while the drums still tread the same happy trudge, he adds some well-chosen new flavours. There’s mellifluous crooning on Rollin With the Flow, country-soul backing vocals from Warpaint drummer Stella Mozgawa on the beautiful One Trick Ponies, a rather menacing electronic murk behind Check Baby, a bit of deep clarinet on the title track; Cold Was the Wind puts the bong in bongos. Best of all is his decision to let four songs wander up to, and sometimes over, the 10-minute mark – this amplifies the bean-baggy vibe, and lets Vile’s idling poetry really find its slacker voice. It also allows room, on Skinny Mini, for two great guitar solos, where jazzy improvisation turns into big fuzz chords, like a traditional solo deconstructed into separate notes. Lesser musicians would make these songs as boring as a drugs story you aren’t involved in, but Vile ultimately has such an instinctive facility for melodic logic that behind the shaggy locks and purple haze, there’s a clear-headed, big-hearted songwriter at work.'"
      ]
     },
     "execution_count": 11,
     "metadata": {},
     "output_type": "execute_result"
    }
   ],
   "source": [
    "g_df[300]"
   ]
  },
  {
   "cell_type": "code",
   "execution_count": 17,
   "id": "4d7aa4fe-c11c-4c3b-bd89-3f0c1a763f44",
   "metadata": {},
   "outputs": [
    {
     "data": {
      "text/plain": [
       "' The dance duo extend the decade-long\\xa0dilution of their canon with their new record, which is as technically accomplished as ever, but creatively exhausted. Perhaps trying to avoid the\\xa0crass build-drop-build of EDM and\\xa0trap, tracks such as Under Neon Lights (featuring a wasted St Vincent) vacillate weakly in the middle ground. Other producers, such as Barnt and Jon Hopkins, are ripped off, and old tricks are trotted out, including a Q-Tip guest\\xa0spot and another almost-remake of Tomorrow Never Knows (though without Noel Gallagher’s beefy songwriting). Lyrics were never the Chems’ strong suit, but the goofy mantras of old have atrophied into pure inanity. Only EML Ritual and Beck collaboration Wide Open get close to past glories, even if the former once again trades on them, being essentially a defanged take on career high Electronic Battle Weapon 7. It’s all very sturdy and well made, much like the Mondeos it will mostly be played in.'"
      ]
     },
     "execution_count": 17,
     "metadata": {},
     "output_type": "execute_result"
    }
   ],
   "source": [
    "g_df[400]"
   ]
  },
  {
   "cell_type": "code",
   "execution_count": 7,
   "id": "f0d14fbe-02ff-4b49-ac34-d95cdc30bc6a",
   "metadata": {},
   "outputs": [
    {
     "ename": "NameError",
     "evalue": "name 'g_df' is not defined",
     "output_type": "error",
     "traceback": [
      "\u001b[1;31m---------------------------------------------------------------------------\u001b[0m",
      "\u001b[1;31mNameError\u001b[0m                                 Traceback (most recent call last)",
      "Cell \u001b[1;32mIn [7], line 1\u001b[0m\n\u001b[1;32m----> 1\u001b[0m \u001b[43mg_df\u001b[49m[\u001b[38;5;241m500\u001b[39m]\n",
      "\u001b[1;31mNameError\u001b[0m: name 'g_df' is not defined"
     ]
    }
   ],
   "source": [
    "g_df[500]"
   ]
  },
  {
   "cell_type": "code",
   "execution_count": 19,
   "id": "531d0a5b-680a-4062-af01-a5b4f959edb1",
   "metadata": {},
   "outputs": [
    {
     "data": {
      "text/plain": [
       "' Angel Olsen\\'s second album marries solo singer-songwriter stuff with buzzy, fuzzy alt-pop – alternating between one and the other so expertly that the strengths of both are highlighted, the weaknesses pushed deep into the background. It\\'s not a cheery listen, mind: \"I lost my dream, I lost my reason all again,\" she sings on the opening Unfucktheworld, following it on Forgiven/Forgotten – which sounds like a forgotten indie classic from 1992 – with the assertion that \"If there\\'s one thing I fear/ It\\'s only your arms/ So close, but not here.\" On the album\\'s centrepiece, the almost-seven-minute White Fire, she opens with the almost self-parodically miserable: \"Everything is tragic/ It all just falls apart.\" That Burn Your Fire For No Witness never sounds strained or too sunk in the mire is down to Olsen\\'s voice, which you could listen to all day: a little lethargic and subdued, but pristine and true, with a slight slur across the notes that could be borrowed from country, and which can\\'t help but emphasise the melancholy. Frankly, she could be singing The Birdy Song and it would sound sad. It would probably sound lovely, too.'"
      ]
     },
     "execution_count": 19,
     "metadata": {},
     "output_type": "execute_result"
    }
   ],
   "source": [
    "g_df[600]"
   ]
  },
  {
   "cell_type": "code",
   "execution_count": 5,
   "id": "d438aeed-680b-4a9b-88ef-dcc29f22f6d5",
   "metadata": {},
   "outputs": [],
   "source": [
    "dfs[\"Guardian\"].loc[:, \"Text\"] = dfs[\"Guardian\"].loc[:, \"Text\"].apply(remove_special_pf)"
   ]
  },
  {
   "cell_type": "code",
   "execution_count": 6,
   "id": "d63770d7-2966-4413-a463-ccd59a8065de",
   "metadata": {},
   "outputs": [
    {
     "data": {
      "text/plain": [
       "'. The dance duo extend the decade-long dilution of their canon with their new record, which is as technically accomplished as ever, but creatively exhausted. Perhaps trying to avoid the crass build-drop-build of EDM and trap, tracks such as Under Neon Lights (featuring a wasted St Vincent) vacillate weakly in the middle ground. Other producers, such as Barnt and Jon Hopkins, are ripped off, and old tricks are trotted out, including a Q-Tip guest spot and another almost-remake of Tomorrow Never Knows (though without Noel Gallagher’s beefy songwriting). Lyrics were never the Chems’ strong suit, but the goofy mantras of old have atrophied into pure inanity. Only EML Ritual and Beck collaboration Wide Open get close to past glories, even if the former once again trades on them, being essentially a defanged take on career high Electronic Battle Weapon 7. It’s all very sturdy and well made, much like the Mondeos it will mostly be played in.'"
      ]
     },
     "execution_count": 6,
     "metadata": {},
     "output_type": "execute_result"
    }
   ],
   "source": [
    "dfs[\"Guardian\"].loc[400, \"Text\"]"
   ]
  },
  {
   "cell_type": "code",
   "execution_count": 13,
   "id": "66637c84-8506-4d88-a7b3-79431e8781bf",
   "metadata": {},
   "outputs": [],
   "source": [
    "def remove_full_stop(x):\n",
    "    \n",
    "    if x[0] + x[1] == \". \":\n",
    "        \n",
    "        return x[2:]\n",
    "    \n",
    "    return x"
   ]
  },
  {
   "cell_type": "code",
   "execution_count": 14,
   "id": "36ba9bba-dd3c-44c8-aa80-3e309e3434d1",
   "metadata": {},
   "outputs": [],
   "source": [
    "dfs[\"Guardian\"].loc[:, \"Text\"] = dfs[\"Guardian\"].loc[:, \"Text\"].apply(remove_full_stop)"
   ]
  },
  {
   "cell_type": "code",
   "execution_count": 36,
   "id": "16e60649-fd53-4cd4-bf78-05e7c632db00",
   "metadata": {},
   "outputs": [
    {
     "name": "stderr",
     "output_type": "stream",
     "text": [
      "C:\\Users\\tommy\\AppData\\Local\\Temp\\ipykernel_27168\\4143315887.py:1: PerformanceWarning: \n",
      "your performance may suffer as PyTables will pickle object types that it cannot\n",
      "map directly to c-types [inferred_type->mixed,key->block0_values] [items->Index(['Platform', 'Artist', 'Album', 'Text', 'Genres', 'Url'], dtype='object')]\n",
      "\n",
      "  dfs[\"Guardian\"].to_hdf(\"C:\\\\Users\\\\tommy\\\\OneDrive\\\\University\\\\Year 3\\\\Third Year Project\\\\Platform Album Data\\\\text_edited_data.h5\", mode=\"a\", key=\"Guardian\")\n"
     ]
    }
   ],
   "source": [
    "dfs[\"Guardian\"].to_hdf(\"C:\\\\Users\\\\tommy\\\\OneDrive\\\\University\\\\Year 3\\\\Third Year Project\\\\Platform Album Data\\\\text_edited_data.h5\", mode=\"a\", key=\"Guardian\")"
   ]
  },
  {
   "cell_type": "code",
   "execution_count": 13,
   "id": "526897dc-d723-44d2-a725-e8475de03fc0",
   "metadata": {},
   "outputs": [],
   "source": [
    "sp_df = dfs[\"Spectrum\"].loc[:, \"Text\"]"
   ]
  },
  {
   "cell_type": "code",
   "execution_count": 14,
   "id": "5d7a8b99-0739-442a-af5b-fe556aad3126",
   "metadata": {},
   "outputs": [
    {
     "data": {
      "text/plain": [
       "'\\n\\n\\n\\nBrian Eno often gives the impression of being an artist who is more interested in the process of making music than the end result, so much so that it’s easy to forget that he was once a writer of accessible, if strange, pop music. His first few solo albums back in the mid-’70s were essentially collections of catchy pop songs, even if they were pop songs that utilised unusual and experimental sounds and textures. But although more minimalist and long-form compositions have dominated his work since 1975’s proto-ambient Discreet Music, he has never entirely lost sight of the pop song tradition, though it’s a shock to discover that his last album in more-or-less that tradition, Another Day on Earth,, is already 17 years old. That album was a futuristic-sounding rich, immersive record full of yearning and melancholy, with some great songs, but ultimately it felt a bit too homogenous, too much like one of those ambient albums, but with vocals tacked on, for its own good. \\nForeverandevernomore is essentially another one of those albums. The texture, that kind of sparkling, celestial and warm, seamless mixture of electronic and traditional musical elements is much as it was on Another Day on Earth, but the new album is far more focussed and convincing as a collection of songs. It’s hardy a pop record – and is essentially just as far removed from the otherworldly pop of “I’ll Come Running” or the mutant glam of “Cindy Tells Me” and “Baby’s on Fire” as Another Day on Earth was, but this time it feels as though the lyrics and the vocals are the point, the heart of the record, rather than being present as just more layers in the general flow of the music. And that heart is a dark one; although there’s little sense of desperate raging against the dying of the light, there’s a feeling of weight, of sadness and loss, that makes the ravishing beauty of the music pervasively bittersweet and emotionally heavy. \\nThe album opens with the calm, meditative “Who Gives a Thought,” an entirely representative piece which wraps up bleak, mournful and elegiac observations about the fragility of the world in soaring, glistening electronic soundscapes which ironically still, even in the face of probable extinction, sound futuristic. But the theme at the heart of the album is the uncertainty and likely loss of that future and although it is a universal concern it’s most definitely a personal one too. Foreverandevernomore is every bit as much a classic late-career album as Bowie’s Blackstar or Leonard Cohen’s You Want it Darker; the sound of an artist of a certain age taking stock of his life and work – although hopefully Eno isn’t going anywhere quite yet. Still; the sadness at the folly and lack of foresight of humanity that is audible on songs like the beautifully reverberating “We Let it In” and especially “Icarus or Blériot” is very much something that comes with age. In the case of the latter song it’s especially poignant as Eno has always been an artist associated most of all with progress and science; it’s surprisingly heart-breaking to hear an evangelist for scientific optimism sounding so justifiably full of doubt and hopelessness.\\nAs with Another Day on Earth there’s little in the way of percussion or beats and so the songs kind of glide by, as much atmosphere as melody, although they feel more disciplined and less open-ended this time around. Eno’s vocals are more varied than they have been in years too, but mostly he favours an almost droning, multi-tracked approach, which often sounds otherworldly, sometimes vaguely sinister as on the darkly throbbing “Garden of Stars,” sometimes lofty and benign. Occasionally, as on the beautiful “There Were Bells,” his performance sounds surprisingly intimate and personal from someone who is more often seen as a technical mastermind than a singer, though there’s no trace anywhere of the arch smartass of “Dead Finks Don’t Talk.” Despite its unity of tone though, Foreverandevernomore is a surprisingly diverse album in its quiet way — there’s even, oddly, a hint of old-fashioned crooner-jazz on the ravishing “Sherry.” A highlight of the album, it’s a piano and vocal piece with various ambient trimmings, which comes close to being conventional but ultimately, with its unearthly harmonics and retro-futuristic elements, is an incredibly strange and beguiling piece of music.\\nGiven the serious and timely nature of the album’s themes and the skill and feeling with which Brian Eno articulates them it seems like a spurious kind of criticism to say that Foreverandevernomore is a little too sedate. At the same time though, if the album has a flaw it’s that it’s all slow, lush, smooth, dizzyingly richly-textured and carefully put together. Obviously that’s exactly as Eno intended it, but when you look at the artist’s most satisfying non-ambient solo works — albums like Another Green World, Before and After Science or even his debut, Here Come the Warm Jets, there’s an uneasy marriage on each between a restless musical experimentalism, a pop song sensibility and a genuinely eccentric personality. \\nTo some extent, Eno has resolved these different aspects of his work over the years. His work is of course still experimental, but he found a sound around the time of his pioneering ambient works that has been the template for most of his music since then, and everything – synths, guitars, bass, vocals, all fit seamlessly into it. When he says of the album, “As for writing songs again—it’s more landscapes, but this time with humans in them” he puts his finger on that sound. As these things go, Foreverandevernomore is a beautiful, bleak and very humane response to the world as it is, and a much more well-rounded and likeable album than Another Day on Earth – but it’s very much in the same vein.\\n\\n\\n\\n\\n\\n\\n\\n\\n\\n\\n\\n\\n\\n\\n\\nSummary\\n\\n\\t\\t\\t\\t\\t\\tForeverandevernomore is a classic late-career album; an artist in his autumn years looking around at the world and his life and taking stock. It’s a sombre, beautiful work of art, but a sonically familiar one to those following Eno’s career.\\t\\t\\t\\t\\t\\n\\n\\n\\n\\n\\n\\n\\n\\n\\n76 %\\n\\nBleakly Beautiful\\n\\n\\n\\n\\n\\n\\n\\n\\n'"
      ]
     },
     "execution_count": 14,
     "metadata": {},
     "output_type": "execute_result"
    }
   ],
   "source": [
    "sp_df[0]"
   ]
  },
  {
   "cell_type": "code",
   "execution_count": 15,
   "id": "16806c0e-aa36-496f-92e0-c8dc55d1610d",
   "metadata": {},
   "outputs": [
    {
     "data": {
      "text/plain": [
       "'\\n\\n\\n\\nArlo Parks has great taste in music. On her debut album Collapsed in Sunbeams, the British singer-songwriter and poet wears her influences on her sleeve: The descending arpeggios of “Caroline” immediately recall Radiohead’s “Weird Fishes,” the static hum and sweeping beat of “For Violet” pay homage to Portishead, and watercolor guitar effects throughout the record evoke Beach House. She even namedrops Thom Yorke and Robert Smith in her lyrics, and yet, Parks establishes herself brilliantly as her own unique artist by writing lyrics and calling on her musical muses as the same perceptive observer with a captivating attention to detail.\\nThe album kicks off with the titular poem read by Arlo over gentle fingerpicking and glowing tones. She describes herself mesmerized by a lover or partner or friend doing mundane chores, “Feeding your cat or slicing artichoke hearts,” before assuring, “You shouldn’t be afraid to cry in front of me. I promise.” The last words are a mumbled whisper. Arlo watches friends suffer depression, abuse and heartbreak throughout Collapsed in Sunbeams, and she never knows quite what to say.\\nInstead of offering advice or consolation, Parks thus strives to help us feel the pain she sees her friends going through by telling their stories, so that we might feel less alone. It’s no mistake that the first sung lyrics on the record tell us that “Charlie drank it ‘til his eyes burn.” “Hurt” offers a twist on the Johnny Cash cover of the same name and its themes of self-medication, substance abuse and the desperate desire to feel anything as Arlo chronicles Charlie’s struggles instead of her own. A simple but pronounced bassline leaves space for her intimate voice between full choruses of harmonized vocals and subtle saxophone tones, and her lyrical position as a bystander keeps the song from sinking too deep into its heavy themes for the upbeat instrumental tone.\\n“Too Good” follows as one of the album’s catchiest tunes with bright electric guitar strumming and lush harmonies before changing pace with “Hope.” Here, soulful piano chords and a jazzy hip hop beat recall Lauryn Hill as Parks sings her most explicitly sympathetic chorus: “We all have scars/ I know it’s hard/ You’re not alone.” Reverbed guitar and a spoken word bridge – one of many on the record – add some colorful personality and stunning imagery with lines like “Wearing suffering like a silk garment or a spot of blue ink.”\\n“Caroline” opens with its Radiohead inspired arpeggios, but it’s Arlo’s innocent and confident vocals that shine alongside glistening production. Her voice has an airy quality in the vein of Billie Eilish or Lorde, but Parks has a distinct power behind her singing that grows as she approaches the high end of her range instead of fading to a whisper. Bright guitar flourishes remind of Coldplay’s best dream pop efforts, and Arlo carries the outro with a defeated “I swear to God I tried.”\\n“Black Dog” is the most laid back and perhaps least exciting track here with its repetitive acoustic strum, but Arlo’s futile and “terrified” desire to “lick the grief right off your lips” is yet another striking image. “Green Eyes” and “Just Go” are melancholy jams, the latter of which the 20-year-old Parks described with remarkable maturity as “a breakup song that said, simply, ‘No grudges, but please leave my life.’”\\nThe song that sticks out most in Collapsed In Sunbeams’ tracklist is the trip hop slow jam “For Violet,” but a familiar mood and Arlo’s singing make this track a highlight and welcome changeup rather than an outlier. Harmonizing backing vocals in the chorus sound creepily robotic while Parks’ very human voice laments, “It feels like nothing’s changing.” The song beautifully channels her frustration as she tries to balance helping her friends with protecting herself, a challenging theme as the album approaches its climax.\\nThe downtrodden, exhausted “Eugene” documents Arlo’s quiet crisis of unrequited love. After nine songs of reacting to her friends’ struggles, she finally gives into her own, lashing out at the blurred line between friendship and something more: “I kind of fell half in love and you’re to blame/ I guess I just forgot that we’ve been mates since day.” Like in the album-opening poem, she can barely finish her sentence as she chokes up, and ethereal production places the song in a teary-eyed dream state. Finally on “Bluish,” Arlo masterfully pairs sensory overload in her lyrics with subdued Gorillaz-esque electronics to create a sense of claustrophobia, and closer “Portra 400” continues the glitchy end to the album.\\nAfter a few years of promising singles, Arlo Parks has arrived with an astoundingly mature and enjoyable debut album. As she herself sings on Collapsed in Sunbeams’ closer, the young artist has put together a stunning display of her talent for “making rainbows out of something painful.”\\n\\n\\n\\n\\n\\n\\n\\n\\n\\n\\n\\n\\n\\n\\n\\nSummary\\n\\n\\t\\t\\t\\t\\t\\tThe young artist has put together a stunning display of her talent for “making rainbows out of something painful.”\\t\\t\\t\\t\\t\\n\\n\\n\\n\\n\\n\\n\\n\\n\\n85 %\\n\\nRainbows out of pain\\n\\n\\n\\n\\n\\n\\n\\n\\n'"
      ]
     },
     "execution_count": 15,
     "metadata": {},
     "output_type": "execute_result"
    }
   ],
   "source": [
    "sp_df[100]"
   ]
  },
  {
   "cell_type": "code",
   "execution_count": 16,
   "id": "302592b6-4ade-4bf1-adba-fcac0648f6fe",
   "metadata": {},
   "outputs": [
    {
     "data": {
      "text/plain": [
       "'\\nOver two decades, from their beginnings as a divisive young duo in the Calgary music scene to grunge-folk icons, pop hitmakers, beloved queer icons and everything in between, the most constant element for Teagan & Sara has been change.  Not in a cataclysmic pattern of frequent upheaval, but in slow, subtly noticeable ways where you could clearly chart a logical progress from album to album. If you go from their 2004 widespread breakthrough So Jealous straight to their shift into shimmer-pop stars with 2016’s Heartthrob, it seems like a gigantic jump, but it always made sense that they’d get there someday, if you knew how to look. It’s all about the hooks, one of the duo’s perennial strong suits. It’s no wonder they created one of the most infectious movie songs of all time. Their latest album, Hey, I’m Just Like You, is the proof in the pudding that they’ve always had hooks in their blood. \\nThe story goes that when writing High School, their memoir of teenage angst, rebellion, and acid (and Kurt Cobain) worship, the sisters unearthed a treasure trove of boombox-recorded demos the two had put together in their most primitive states that had gone untouched since their adolescence as burgeoning songwriters and guitar players. Rather than just releasing them in a shiny, multi-disc package sure to be mined for gems and discarded, they did something different: they took the songs, gently massaged them – “With only minor tweaks to lyrics and structure, we tried to remain true to the original essence of each song,” explained Sara in the album’s announcement – and re-recorded them entirely.\\nMany songs here have something that will make you sing along after a first listen: There’s “Hey, I’m just like you/ A little messed up and blue/ Hey, I’m just like you/ Not sure what the fuck I’m to do” on the title track. There’s  “Run run run run/ Run away!/ Get get get get/ Get away!” on “I’ll Be Back Someday.” There’s “I wait, but when I get lonely/ Your words won’t make me stronger/ The luck that brought you to me/ Won’t hold us any longer” on “I Know I’m Not the Only One,” which also gives us a bonus, shout-ready outro bridge of “I know I’m not the only one/ I know I’m not, I know I’m not/ I know I’m not the only one” that they totally underutilize. \\nHey isn’t as chock-full-o’-hooks as their last couple albums – and, in the end, it’s not quite as strong as those even at its best – but for the earliest work of two Canadian teens, spit-shined by their most self-assured adult selves, it’s a remarkably satisfying collection. \\nPart of what makes the album so compelling is that it functions as a stylistic best-of, where the band takes new (or, rather, new to us) tracks and pours each of them into whichever previous version of themselves might fit best. Most of them are shiny pop songs, but even these don’t stay there; the title track gives us handclap beats and ‘80s synth, but also moments of soaring guitar riffs and acoustic guitar breaks, while “Hello,” I’m Right Here” only hints at the glitter of the songs around it, more content to spend most of its runtime as an aching piano-and-violin ballad. \\nElsewhere, “I Know I’m Not the Only One” and “I’ll Be Back Someday” force that poppiness into the backseat while they deliver chugging guitars and pop-rock bravado. Even the weakest track here, “Don’t Believe the Things They Tell You (They Lie),” makes you think it’s just going to be a Heartthrob-era sounding track until it hits you with a left hook in the form of guitar distortion ready for the arenas they were playing on tour with pop giants like Katy Perry. They even go back in time almost entirely with the gorgeous, almost entirely acoustic (save for the faintest sparkle of synths) “Please Help Me,” which manages to feel both totally out of place and perfectly delivered all at once.\\nThe brilliant thing about Hey, I’m Just Like You, especially for longtime fans of the band, is that it leaves the door wide open for the duo to go in whatever direction they’d like after this. From here, they can lean into their current reality as shiny popsters, which is probably the most obvious move. Or, they can reverse track and use the experience – and the experience of playing these songs acoustic on tour for the book and album – as an excuse to re-explore their original form as angst-folk aestheticians with the joyful aplomb that made them household names for every single disaffected queer kid since “Where Does the Good Go” corkscrewed its way into their hearts (and wormed its way into their ears) 15 years ago. Whichever direction they head in, you can bet it’ll be satisfying and catchy, just like they – as Hey shows us – have always been.\\n\\n'"
      ]
     },
     "execution_count": 16,
     "metadata": {},
     "output_type": "execute_result"
    }
   ],
   "source": [
    "sp_df[200]"
   ]
  },
  {
   "cell_type": "code",
   "execution_count": 17,
   "id": "aea3e0e9-4692-41d6-80f0-cb393061b8ce",
   "metadata": {},
   "outputs": [
    {
     "data": {
      "text/plain": [
       "'\\nKurt Vile has retreated further into his own head than ever on Bottle It In—or maybe his head’s just further up his own ass than ever before. This is Vile in Mark Kozelek-circa-Common as Light and Love mode, where an indie stalwart with a distinct style embodies and extends his craft to such an extreme that it scans as either self-parody or a logical endpoint to a slow and steady development. Those already skeptical may well be infuriated, but those who enjoy Kurt Vile’s work for its endless peregrinations on laziness will find their hero’s craft more intriguing than ever.\\nI’m biased: I love this shit, and I love when artists reach this degree of fuck-you auteurism. This record could easily have been self-titled, so completely does it embody what makes his music so distinctive in the crowded indie-rock world. It’s not his best album—that’d be 2015’s Wakin on a Pretty Daze, which laid the blueprint for his style—and it’s not the best place to start unless you want to jump off the deep end and understand why people like his music so much, accessibility and concessions to newbie fans be damned. Bottle It In is, however, definitive.\\nFilling nearly the length of a CD, Bottle It In is one of those albums that really deepens, and its ostensible pop songs (“Rollin’ with the Flow”) feel as much part of the rugged landscape as its most indulgent experiments (“Bottle It In,” with Mary Lattimore’s harp doing its best imitation of a guitarist ruminating on one string while flat on their back). This isn’t an album that’s interested in pop songs; it prefers to sprawl into the sunset. Lyrics from one song seem like they might have wandered into the next: “I was far away,” “I was long gone,” “I was running in my mind”…\\nThree 10-minute monsters take up a disproportionate amount of runtime. The first is the lead single, “Bassackwards,” which reminds us that Vile’s dedication to his sound is in no small part what redeems his noncommittal approach to lyricism and album structure. The stereo shimmer of his guitars is one of his most alluring musical signatures, placing him in the well-made rock tradition of titans like the Rolling Stones and Tom Petty who are otherwise much more involved in their lives than the cosmic drifter Vile plays. He puts a lot of work into sounding so care-free.\\nThe other longer songs are where fans and newbies alike will suffer the ultimate litmus test. The title track and “Skinny Mini” sound half-assed. There’s no pearly, spit-shined studio work to show here; they could be demos. “Bottle It In” rides an unchanging, vaguely hip-hop loop that could have been recorded on an iPhone or worse for nearly eleven minutes. And on “Skinny Mini” the singer spends about five minutes trying to come up with the most ridiculous possible pet name for his wife before turning on the overdrive for some freak-noise guitar showmanship.\\nThese songs are the rock ’n’ roll equivalent of those mixtapes that are obviously just the rapper and their friends cueing up a hard-drive of beats and seeing what happens between prodigious blunt-tokes. The question is whether or not that matters. How much elbow grease needs to go into an album before it can be considered great? Is the half-assery part of the effect or do we only forgive his slacker screeds because he put so much love into building their platforms? Is this the best album he could have given us? Would a more fussed-over work even be better?\\nVile says he worked on Bottle It In intermittently between touring and recording last year’s sweet duet album with Courtney Barnett, Lotta Sea Lice, which, despite its friends-in-a-room camaraderie, was a more “solid” rock record than this one. Many of the complaints you’ll hear about this album might be mitigated if it were sold as a compilation rather than as an album proper. But at least it’s not a diminishing return. A Kurt Vile album-by-numbers, anyway, would have been lazier than a Kurt Vile album that finds the extremes of what those words can mean.\\n\\n'"
      ]
     },
     "execution_count": 17,
     "metadata": {},
     "output_type": "execute_result"
    }
   ],
   "source": [
    "sp_df[300]"
   ]
  },
  {
   "cell_type": "code",
   "execution_count": 18,
   "id": "f7974d18-682c-4ea9-9140-8194b5fa271e",
   "metadata": {},
   "outputs": [
    {
     "data": {
      "text/plain": [
       "'\\nWhen Manchester’s Tom Rowlands and Ed Simons debuted with Exit Planet Dust in 1995, the Chemical Brothers staked their claim as pioneers of the big beat sound that rose up in the mid-’90s. The movement hit its zenith in 1997, with Dig Your Own Hole joining Prodigy’s The Fat of the Land in helping pave the way for Fatboy Slim. The genre would become retrospectively viewed as a flash in the pan as the new rock revolution shifted the alternative music zeitgeist away from the ravey head-space that the Chems dominated. But despite the shift in mainstream focus, the British duo held steady throughout the 2000s, even with bass drops supplanting big beats as the electronica du jour.\\nBut five years removed from their last release, you’d be forgiven if, lately, you’d kind of forgotten about the Chemical Brothers. Despite the gap in output, the Chems’ new album, Born in the Echoes, showcases how the duo continues to do things their own way. Any evolution to their sound takes place in a closed system of their own sensibilities, one not prone to the fickle whims of musical trends. For the most part, Echoes feels both plucked from the duo’s heyday and defined by the timelessness of their sound.\\n“I’ll See You There” may be the track that best echoes their late-’90s breakthrough sound, with its churning electronics and elliptical drum patterns hearkening to the Noel Gallagher-assisted “Let Forever Be”—the looped declaration about seeing us in the future serving as a cheeky nod to the duo’s persistent relevance. Opener “Sometimes I Feel So Deserted” also pumps out that distinctive Chemical Brothers big beat build with some funky falsetto triggering the track’s most raucous swells. But Rowlands and Simons can also throw down a dark and sinister gauntlet as effectively as the newest generation of producers, preening their inkiest feathers with ominous tracks like “Just Bang” or the motorik-inflected “EML Ritual” (which features recent cohort Ali Love).\\nThe Chemical Brothers continue to draw A-list collaborators, as Annie Clark (St. Vincent) adds ethereal vocals to dance floor stomper “Under Neon Lights” and none other than Beck closes out the album with “Wide Open,” his wistful voice still in full Morning Phase mode. Beck’s contribution tag teams with penultimate track, “Radiate,” which approaches an almost Yann Tiersen-esque brand of discordant rapture and offers an appropriate comedown from Echoes’ previous ecstatic heights. And rapper Q-Tip, who was previously featured on the Chems’ 2005 single “Galvanize,” adds smooth vocals to the sleek, propulsive “Go,” the video for which is already pushing 6 million views on YouTube.\\nIf you’re seeking new ideas, Born in the Echoes isn’t the place to look. But the duo isn’t stuck in a creative loop either. Instead, they branch out to explore different veins all contained within the same vast sonic organism. Their aesthetic remains the same (the black and white cover even shares its color scheme with Dig Your Own Hole), but the Chemical Brothers have shown that, even after a five year gap in records, they still do what they do better than anybody else—shifting musical trends be damned.\\n\\n'"
      ]
     },
     "execution_count": 18,
     "metadata": {},
     "output_type": "execute_result"
    }
   ],
   "source": [
    "sp_df[400]"
   ]
  },
  {
   "cell_type": "code",
   "execution_count": 19,
   "id": "2039d05d-c193-49e4-8616-bd394df18213",
   "metadata": {},
   "outputs": [
    {
     "data": {
      "text/plain": [
       "'\\n[xrr rating=2.5/5]If you thought that the Flaming Lips’ grim 2013 album, The Terror, signaled a shift away from zany antics by Wayne Coyne and co., you were way off. After all, that dark turn by this Technicolor band had been preceded by an announcement that they would be releasing The Flaming Side of the Moon, a companion album to be played alongside Pink Floyd’s classic. It takes quite a bit of hubris to try to expound on a prog-rock landmark like that, even if it is partially an April Fools’ Day joke.\\nBut this was merely another in a long line of Lips cover albums. In 2009, they covered Dark Side of the Moon track-for-track with Stardeath and White Dwarves, Henry Rollins and Peaches, and they’ve also released albums covering King Crimson and the Stone Roses. The band met a little pushback after their first stab at Dark Side, so you’d think that they would stay away from retooling the most revered of artists. Instead, the Flaming Lips pile on the collaborators and stamp their name on the Beatles’ iconic Sgt. Pepper’s… in the form of cover album With a Little Help From My Fwends.\\nWith Fwends, the Lips saw a world where there was considerable distance between the Beatles and Miley Cyrus and decided to close that gap twice over. Cyrus appears in two tracks, closer “A Day in the Life” and, most notably, “Lucy in the Sky with Diamonds” alongside Moby. The latter is a perfect example of how this release ultimately fails to achieve anything above novelty status. Cyrus’s voice is flat in the verses and overly manipulated in the chorus, while Moby’s vocal contributions are reduced to murmurs until the chorus blows up in to the kind of aural glitter-bomb characteristic of the Lips at their most garish. At best, it’s kind of interesting to hear once.\\nThat’s true with most of Fwends. The record opens auspiciously enough with the introductory “Sgt. Pepper’s Lonely Hearts Club Band” performed with a little help from My Morning Jacket, Fever the Ghost, and J Mascis. With some trippy, munchkin-ized vocals adding that Flaming Lips oddball factor, the track goes cutesy-psychedelic before reverting to more a more homage-driven cover. Every song here is packed with several collaborators, to the point that the Flaming Lips sometimes hand over the reins entirely. That happens on the breathy and purposely off-key “Getting Better,” which is handled entirely by Dr. Dog, Chuck Inglish and Morgan Delt. Meanwhile, Phantogram supplies the stuttering electronics and Julianna Barwick offers up the sultry vocals in a dreamy and relatively effective “She’s Leaving Home.” The heavily distorted “Being for the Benefit of Mr. Kite!” is anchored by Tool’s Maynard James Keenan who brings a demented carnival barker element to the mix. And “When I’m Sixty Four” taps some of the darkness from The Terror, adding an ominous feel to one of the source material’s most endearingly maudlin numbers.\\nAll in all, Fwends is as unremarkable as it is polarizing. On the one hand, there are no sacred cows in music, and the Beatles are no exception. But there’s also something understandably irksome about some of the 20th century’s most enduring music being re-appropriated by a band whose frontman recently caused a stir by Instagramming photos of a Native American ceremonial headdress on his dog. Casting aside these qualms, the music itself offers few surprises. Instead, you get what you pay for, an offbeat collection of songs made all the ostentatiously stranger when passing through the distorted prism of the Flaming Lips.\\n\\n'"
      ]
     },
     "execution_count": 19,
     "metadata": {},
     "output_type": "execute_result"
    }
   ],
   "source": [
    "sp_df[500]"
   ]
  },
  {
   "cell_type": "code",
   "execution_count": 20,
   "id": "a86fa49b-ba4d-46b1-b81b-2f8bbc4b865d",
   "metadata": {},
   "outputs": [
    {
     "data": {
      "text/plain": [
       "'\\n[xrr rating=4.0/5]Angel Olsen has been steadily building buzz since the release of her EP Strange Cacti in -2011. Characterized early as yet another songstress with a guitar, Olsen has proven herself to be a uniquely talented artist whose strongest attribute is her voice. Her career has so far been a process of honing her songwriting to match the emotional depths of her vocals, part homage to early country singers’ yodel and completely raw. While Burn Your Fire for No Witness marks Olsen’s first album with a full band (and second LP overall), it maintains her trademark loneliness. Throughout the record, the themes are familiar ones: loss, regret and defiance.\\nImmediately evident on Burn Your Fire for No Witness is the near ubiquity of reverb reminiscent of Strange Cacti, extreme distortion and an overall lo-fi sensibility. A far cry from debut full-length Half Way Home, this near-grunge aesthetic used on several tracks only enhances the defiance integral to the album. Burn Your Fire for No Witness not only shows a more mature Olsen but one who is intent on writing brutally personal songs. And front and center every time is her vulnerable and stark vocals full of inherent honesty that makes every tale of loss and regret resonate.\\nThat tortured emotion opens the album in the strikingly named “Unfucktheworld.” Olsen doesn’t hold back on the bitterness, with lyrics like, “If all the trouble in my heart would only mend / I lost my dream, I lost my reason all again.” The takeaway from this opener is utter devastation, giving us a jumping-off point by which to gauge the development of Olsen over 11 tracks. “Iota”—a song very literally made of “if onlys”—similarly allows her vocals and measured lyrics to unfold their deep-seated regret. And there’s little else to focus on in these two songs thanks to her stripped down arrangement: bitter vocals and simple guitar downstrokes. Saying her guitar playing can be simple is an enormous understatement, but that disregards how emotionally powerful her music becomes because of that simplicity.\\nWhat stands out most on Burn Your Fire for No Witness is Olsen’s extensive use of distortion, most prominent on “Dance Slow Decades,” “Stars” and “Hi-Five,” the last of which sees the singer begin to put a positive spin on her melancholy. “Hi-Five” is immediately more upbeat and intricate in its percussion and fuzzed guitar. Olsen’s lyrics initially emphasize her loneliness but give way to an irreverently euphoric chorus: “Are you lonely, too? / Hi-Five! So am I!” Not only is this track an attempt to overcome the sorrow but it also introduces a solidarity in loneliness. And that positivity carries into “Stars” where she wishes she could take her overactive emotions and use them to scream the world into something new and, ideally, better.\\nThe strongest tracks on the album are “Forgiven/Forgotten” and “White Fire.” “Forgiven/Forgotten” was the first single off the album and serves as a wonderful introduction to this amped up sound. The longest track by far is “White Fire,” a truly arresting incantation. Simplicity defined, Olsen’s hushed vocals navigate haunting, tragic lyrics over an understated yet foreboding guitar.\\nEvidenced throughout the album is her uncanny ability to alter tone and style. Songs make clear reference to genres from country to punk. In “High & Wild” there’s even a little ‘60s influence in the peppy guitar and jazzy keyboards. But it’s “Lights Out” that encompasses the myriad emotions on this record. A musical pep-talk, Olsen reaches a moment of true maturity, admitting and accepting that “no one’s gonna be there” every time.\\nThe emotional journey Olsen takes on Burn Your Fire for No Witness is akin to the five stages of grief, from anger on “Unfucktheworld” to acceptance on “Lights Out.” The pure devastation that opens the album mercifully reaches a measure of closure. With the addition of producer John Congleton (St. Vincent), Olsen’s music takes on a new mutability. Her songs vary from hypnotic simplicity to roiling anger, and that diversity doesn’t accentuate weaknesses but only illustrates her development as an artist.\\n\\n'"
      ]
     },
     "execution_count": 20,
     "metadata": {},
     "output_type": "execute_result"
    }
   ],
   "source": [
    "sp_df[600]"
   ]
  },
  {
   "cell_type": "code",
   "execution_count": 21,
   "id": "6548955a-a092-465a-9f5d-3791a2d86bf6",
   "metadata": {},
   "outputs": [
    {
     "data": {
      "text/html": [
       "<div>\n",
       "<style scoped>\n",
       "    .dataframe tbody tr th:only-of-type {\n",
       "        vertical-align: middle;\n",
       "    }\n",
       "\n",
       "    .dataframe tbody tr th {\n",
       "        vertical-align: top;\n",
       "    }\n",
       "\n",
       "    .dataframe thead th {\n",
       "        text-align: right;\n",
       "    }\n",
       "</style>\n",
       "<table border=\"1\" class=\"dataframe\">\n",
       "  <thead>\n",
       "    <tr style=\"text-align: right;\">\n",
       "      <th></th>\n",
       "      <th>Text</th>\n",
       "    </tr>\n",
       "  </thead>\n",
       "  <tbody>\n",
       "    <tr>\n",
       "      <th>0</th>\n",
       "      <td>-1.0</td>\n",
       "    </tr>\n",
       "    <tr>\n",
       "      <th>1</th>\n",
       "      <td>-1.0</td>\n",
       "    </tr>\n",
       "    <tr>\n",
       "      <th>2</th>\n",
       "      <td>-1.0</td>\n",
       "    </tr>\n",
       "    <tr>\n",
       "      <th>3</th>\n",
       "      <td>-1.0</td>\n",
       "    </tr>\n",
       "    <tr>\n",
       "      <th>4</th>\n",
       "      <td>-1.0</td>\n",
       "    </tr>\n",
       "    <tr>\n",
       "      <th>...</th>\n",
       "      <td>...</td>\n",
       "    </tr>\n",
       "    <tr>\n",
       "      <th>935</th>\n",
       "      <td>-1.0</td>\n",
       "    </tr>\n",
       "    <tr>\n",
       "      <th>936</th>\n",
       "      <td>-1.0</td>\n",
       "    </tr>\n",
       "    <tr>\n",
       "      <th>937</th>\n",
       "      <td>-1.0</td>\n",
       "    </tr>\n",
       "    <tr>\n",
       "      <th>938</th>\n",
       "      <td>-1.0</td>\n",
       "    </tr>\n",
       "    <tr>\n",
       "      <th>939</th>\n",
       "      <td>-1.0</td>\n",
       "    </tr>\n",
       "  </tbody>\n",
       "</table>\n",
       "<p>940 rows × 1 columns</p>\n",
       "</div>"
      ],
      "text/plain": [
       "     Text\n",
       "0    -1.0\n",
       "1    -1.0\n",
       "2    -1.0\n",
       "3    -1.0\n",
       "4    -1.0\n",
       "..    ...\n",
       "935  -1.0\n",
       "936  -1.0\n",
       "937  -1.0\n",
       "938  -1.0\n",
       "939  -1.0\n",
       "\n",
       "[940 rows x 1 columns]"
      ]
     },
     "execution_count": 21,
     "metadata": {},
     "output_type": "execute_result"
    }
   ],
   "source": [
    "pd.set_option('display.max_rows', 10)\n",
    "\n",
    "def extract_sp_rating(x):\n",
    "    \n",
    "    return x[x.find(\"rating=\") + 7: x.find(\"/5]\")]\n",
    "\n",
    "extra_sp_scores = pd.DataFrame(sp_df.apply(extract_sp_rating).apply(pd.to_numeric, errors=\"coerce\"))\n",
    "extra_sp_scores = extra_sp_scores * 20\n",
    "extra_sp_scores = extra_sp_scores.fillna(-1)\n",
    "extra_sp_scores"
   ]
  },
  {
   "cell_type": "code",
   "execution_count": 22,
   "id": "2f79e3bf-fd97-4bf4-b09f-fabe6a4fcc13",
   "metadata": {},
   "outputs": [
    {
     "name": "stdout",
     "output_type": "stream",
     "text": [
      "     Platform           Artist                              Album  \\\n",
      "0    Spectrum        brian eno               foreverandevernomore   \n",
      "1    Spectrum          shygirl                              nymph   \n",
      "2    Spectrum            bjork                            fossora   \n",
      "3    Spectrum  yeah yeah yeahs                       cool it down   \n",
      "4    Spectrum           alex g               god save the animals   \n",
      "..        ...              ...                                ...   \n",
      "935  Spectrum        pj harvey                  let england shake   \n",
      "936  Spectrum       kanye west  my beautiful dark twisted fantasy   \n",
      "937  Spectrum   arctic monkeys                             humbug   \n",
      "938  Spectrum   arctic monkeys                             humbug   \n",
      "939  Spectrum       kanye west                808s and heartbreak   \n",
      "\n",
      "                                                  Text Scores  \\\n",
      "0    \\n\\n\\n\\nBrian Eno often gives the impression o...     76   \n",
      "1    \\n\\n\\n\\nBetween the blurred cover and self-ref...     80   \n",
      "2    \\n\\n\\n\\nTo understand Björk is to understand t...     85   \n",
      "3    \\n\\n\\n\\nOn their fifth studio album, Yeah Yeah...     85   \n",
      "4    \\n\\n\\n\\nIn the early 2010s, the internet becam...     90   \n",
      "..                                                 ...    ...   \n",
      "935  \\n\\nPJ Harvey\\nLet England Shake\\nRating: 4.5/...     -1   \n",
      "936  \\n\\nKanye West\\nMy Beautiful Dark Twisted Fant...     -1   \n",
      "937  \\n\\nArctic Monkeys\\nHumbug\\nRating: 3.5/5.0\\nL...     -1   \n",
      "938  \\n\\nArctic Monkeys\\nHumbug\\nRating: 3.5/5.0\\nL...     -1   \n",
      "939  \\n\\nKanye West\\n808s & Heartbreak\\nRating: 3.0...     -1   \n",
      "\n",
      "                                                   Url  \n",
      "0    https://spectrumculture.com/2022/10/20/brian-e...  \n",
      "1    https://spectrumculture.com/2022/10/19/shygirl...  \n",
      "2    https://spectrumculture.com/2022/10/04/bjork-f...  \n",
      "3    https://spectrumculture.com/2022/10/02/yeah-ye...  \n",
      "4    https://spectrumculture.com/2022/09/27/alex-g-...  \n",
      "..                                                 ...  \n",
      "935  https://spectrumculture.com/2011/02/14/pj-harv...  \n",
      "936  https://spectrumculture.com/2010/11/23/kanye-w...  \n",
      "937  https://spectrumculture.com/2009/08/29/arctic-...  \n",
      "938  https://spectrumculture.com/2009/08/29/arctic-...  \n",
      "939  https://spectrumculture.com/2008/12/08/kanye-w...  \n",
      "\n",
      "[940 rows x 6 columns]\n"
     ]
    }
   ],
   "source": [
    "pd.set_option('display.max_rows', 10)\n",
    "\n",
    "dfs[\"Spectrum\"].loc[extra_sp_scores[\"Text\"] != -1., \"Scores\"] = extra_sp_scores.loc[:, \"Text\"]\n",
    "print(dfs[\"Spectrum\"])\n"
   ]
  },
  {
   "cell_type": "code",
   "execution_count": 23,
   "id": "6a312399-6596-4e48-aad2-dc208a75d180",
   "metadata": {},
   "outputs": [
    {
     "name": "stderr",
     "output_type": "stream",
     "text": [
      "C:\\Users\\tommy\\AppData\\Local\\Temp\\ipykernel_5180\\1005015485.py:1: PerformanceWarning: \n",
      "your performance may suffer as PyTables will pickle object types that it cannot\n",
      "map directly to c-types [inferred_type->mixed-integer,key->block0_values] [items->Index(['Platform', 'Artist', 'Album', 'Text', 'Scores', 'Url'], dtype='object')]\n",
      "\n",
      "  dfs[\"Spectrum\"].to_hdf(\"C:\\\\Users\\\\tommy\\\\OneDrive\\\\University\\\\Year 3\\\\Third Year Project\\\\Platform Album Data\\\\review_data_final.h5\", mode=\"a\", key=\"Spectrum\")\n"
     ]
    }
   ],
   "source": [
    "dfs[\"Spectrum\"].to_hdf(\"C:\\\\Users\\\\tommy\\\\OneDrive\\\\University\\\\Year 3\\\\Third Year Project\\\\Platform Album Data\\\\review_data_final.h5\", mode=\"a\", key=\"Spectrum\")"
   ]
  },
  {
   "cell_type": "code",
   "execution_count": 24,
   "id": "f78d0e73-4f56-40e1-9a4c-ec5c160d6319",
   "metadata": {},
   "outputs": [
    {
     "data": {
      "text/plain": [
       "'Angel Olsen has been steadily building buzz since the release of her EP Strange Cacti in -2011. Characterized early as yet another songstress with a guitar, Olsen has proven herself to be a uniquely talented artist whose strongest attribute is her voice. Her career has so far been a process of honing her songwriting to match the emotional depths of her vocals, part homage to early country singers’ yodel and completely raw. While Burn Your Fire for No Witness marks Olsen’s first album with a full band (and second LP overall), it maintains her trademark loneliness. Throughout the record, the themes are familiar ones: loss, regret and defiance.\\nImmediately evident on Burn Your Fire for No Witness is the near ubiquity of reverb reminiscent of Strange Cacti, extreme distortion and an overall lo-fi sensibility. A far cry from debut full-length Half Way Home, this near-grunge aesthetic used on several tracks only enhances the defiance integral to the album. Burn Your Fire for No Witness not only shows a more mature Olsen but one who is intent on writing brutally personal songs. And front and center every time is her vulnerable and stark vocals full of inherent honesty that makes every tale of loss and regret resonate.\\nThat tortured emotion opens the album in the strikingly named “Unfucktheworld.” Olsen doesn’t hold back on the bitterness, with lyrics like, “If all the trouble in my heart would only mend / I lost my dream, I lost my reason all again.” The takeaway from this opener is utter devastation, giving us a jumping-off point by which to gauge the development of Olsen over 11 tracks. “Iota”—a song very literally made of “if onlys”—similarly allows her vocals and measured lyrics to unfold their deep-seated regret. And there’s little else to focus on in these two songs thanks to her stripped down arrangement: bitter vocals and simple guitar downstrokes. Saying her guitar playing can be simple is an enormous understatement, but that disregards how emotionally powerful her music becomes because of that simplicity.\\nWhat stands out most on Burn Your Fire for No Witness is Olsen’s extensive use of distortion, most prominent on “Dance Slow Decades,” “Stars” and “Hi-Five,” the last of which sees the singer begin to put a positive spin on her melancholy. “Hi-Five” is immediately more upbeat and intricate in its percussion and fuzzed guitar. Olsen’s lyrics initially emphasize her loneliness but give way to an irreverently euphoric chorus: “Are you lonely, too? / Hi-Five! So am I!” Not only is this track an attempt to overcome the sorrow but it also introduces a solidarity in loneliness. And that positivity carries into “Stars” where she wishes she could take her overactive emotions and use them to scream the world into something new and, ideally, better.\\nThe strongest tracks on the album are “Forgiven/Forgotten” and “White Fire.” “Forgiven/Forgotten” was the first single off the album and serves as a wonderful introduction to this amped up sound. The longest track by far is “White Fire,” a truly arresting incantation. Simplicity defined, Olsen’s hushed vocals navigate haunting, tragic lyrics over an understated yet foreboding guitar.\\nEvidenced throughout the album is her uncanny ability to alter tone and style. Songs make clear reference to genres from country to punk. In “High & Wild” there’s even a little ‘60s influence in the peppy guitar and jazzy keyboards. But it’s “Lights Out” that encompasses the myriad emotions on this record. A musical pep-talk, Olsen reaches a moment of true maturity, admitting and accepting that “no one’s gonna be there” every time.\\nThe emotional journey Olsen takes on Burn Your Fire for No Witness is akin to the five stages of grief, from anger on “Unfucktheworld” to acceptance on “Lights Out.” The pure devastation that opens the album mercifully reaches a measure of closure. With the addition of producer John Congleton (St. Vincent), Olsen’s music takes on a new mutability. Her songs vary from hypnotic simplicity to roiling anger, and that diversity doesn’t accentuate weaknesses but only illustrates her development as an artist.\\n\\n'"
      ]
     },
     "execution_count": 24,
     "metadata": {},
     "output_type": "execute_result"
    }
   ],
   "source": [
    "def remove_rating(x):\n",
    "    \n",
    "    index = x.find(\"/5]\")\n",
    "    \n",
    "    if index != -1:\n",
    "        return x[index + 3:]\n",
    "    else:\n",
    "        return x\n",
    "    \n",
    "sp_df = sp_df.apply(remove_rating)\n",
    "\n",
    "sp_df[600]"
   ]
  },
  {
   "cell_type": "code",
   "execution_count": 29,
   "id": "7d41cde7-5f59-4967-a901-20d8b15ad3ff",
   "metadata": {},
   "outputs": [
    {
     "name": "stderr",
     "output_type": "stream",
     "text": [
      "C:\\Users\\tommy\\AppData\\Local\\Temp\\ipykernel_5180\\2942707226.py:2: PerformanceWarning: \n",
      "your performance may suffer as PyTables will pickle object types that it cannot\n",
      "map directly to c-types [inferred_type->mixed-integer,key->block0_values] [items->Index(['Platform', 'Artist', 'Album', 'Text', 'Scores', 'Url'], dtype='object')]\n",
      "\n",
      "  dfs[\"Spectrum\"].to_hdf(\"C:\\\\Users\\\\tommy\\\\OneDrive\\\\University\\\\Year 3\\\\Third Year Project\\\\Platform Album Data\\\\text_edited_data.h5\", mode=\"a\", key=\"Spectrum\")\n"
     ]
    }
   ],
   "source": [
    "dfs[\"Spectrum\"].loc[:, \"Text\"] = sp_df\n",
    "dfs[\"Spectrum\"].to_hdf(\"C:\\\\Users\\\\tommy\\\\OneDrive\\\\University\\\\Year 3\\\\Third Year Project\\\\Platform Album Data\\\\text_edited_data.h5\", mode=\"a\", key=\"Spectrum\")"
   ]
  },
  {
   "cell_type": "code",
   "execution_count": 25,
   "id": "dc800fba-e6ed-4c1c-9206-99b02ad09dc6",
   "metadata": {},
   "outputs": [],
   "source": [
    "nme_df = dfs[\"NME\"].loc[:, \"Text\"]"
   ]
  },
  {
   "cell_type": "code",
   "execution_count": 35,
   "id": "42a8e72c-aa78-4b94-899c-04486e2a6d63",
   "metadata": {},
   "outputs": [
    {
     "data": {
      "text/plain": [
       "'\\n\\n\\n\\nJohn Dwyer’s Osees (under any name) derive much of their power from their kinetic experimentation. Given, arguably, a garage rock foundation, the group has succeeded with odd forays into psychedelia, pop, metal, prog and more. After last year’s ambitious Protean Threat, Dwyer decided there was some terrain he hadn’t covered in the act’s first 20 or so albums, so Osees came back quickly with Panther Rotate. The new album puts a twist on its predecessor, using those studio tracks for a series of remixes while blending in field recordings and other aural experiments. The finished record, a sort of sequel, sounds a little like fiddling. Fans will likely enjoy Dwyer express new sides to his art, but the album too often lacks the excitement of the group’s best work.\\nOne way into the album would be to simply study the transformations the music underwent between releases. A cut like “If I Had an Experiment” offers some clear direction for this approach, with the changed use of the guitar hits making for a new song that’s engaging on its own while being a reminder of its predecessor (“If I Had My Way”). “Miz Experiment” similarly enables direct comparison, but its steady, synth roll pales next to the heavier, more surprising “Mizmuth.” Dwyer might be having fun reworking his music, but in reimagining it, he’s not improving (which wouldn’t be the point anyway).\\nRegardless of the studious pleasures of hopping back and forth between records, listening to Panther Rotate probably makes most sense when it’s considered as a standalone piece. On its own terms, the album blends a diverse set of studio technique. Dwyer pokes at the fringes of rock. His play with textures and effects works best when he either builds on or dismantles a core sound. “Scramble Experiment” situates itself in Krautrock, but Dwyer’s flourishes make the cut something a bit out of line with its forerunners, as it should be. “Toadstool Experiment” wanders; it suggests that Osees could make some intriguing glitch-pop before heading into a muddier plod. \\nWhen Dwyer works to find new entry points or deconstructions, he reminds us of how exciting and inventive his work can be. Too often, though, his restructurings largely work to half-reveal sonic elements at the cost of musical energy. Turning “Gong of Catastrophe” into the haunted “Gong Experiment” makes sense and fills a gap in the band’s voluminous work. That track offers much more intrigue than “Toadstool” or “Miz.” The new material, like “Synthesis” and “Poem 2 with Horns” provide their own rewards, but the slow pacing of both cuts (particularly the former, which never quite decides what sort of music it means to be) risks more drag in the album. Panther Rotate, more than would be expected from the group, requires focused listening to find detail-oriented rewards. It mostly succeeds at fulfilling that offer, but it doesn’t quite keep it up for the whole record. It’s hard to call it a misstep, though, as it serves its purpose in pushing Osees into new places, allowing new insights to come from an unusually prolific act that, remarkably, hasn’t run out of things to say.\\n\\n\\n\\n\\n\\n\\n\\n\\n\\n\\n\\n\\n\\n\\n\\nSummary\\n\\n\\t\\t\\t\\t\\t\\tWhen John Dwyer works to find new entry points or deconstructions, he reminds us of how exciting and inventive his work can be. '"
      ]
     },
     "execution_count": 35,
     "metadata": {},
     "output_type": "execute_result"
    }
   ],
   "source": [
    "def remove_percentage(x):\n",
    "    \n",
    "    index = x.find(\"\\t\\t\\t\\t\\t\\n\\n\\n\\n\\n\\n\\n\\n\\n\\n\")\n",
    "    \n",
    "    if index != -1:\n",
    "        return x[:index]\n",
    "    else:\n",
    "        return x\n",
    "    \n",
    "sp_df = sp_df.apply(remove_percentage)\n",
    "sp_df[100]"
   ]
  },
  {
   "cell_type": "code",
   "execution_count": 36,
   "id": "54d8f310-1615-4259-98ad-fb85e8bce537",
   "metadata": {},
   "outputs": [
    {
     "data": {
      "text/plain": [
       "'\\n\\n\\n\\nJohn Dwyer’s Osees (under any name) derive much of their power from their kinetic experimentation. Given, arguably, a garage rock foundation, the group has succeeded with odd forays into psychedelia, pop, metal, prog and more. After last year’s ambitious Protean Threat, Dwyer decided there was some terrain he hadn’t covered in the act’s first 20 or so albums, so Osees came back quickly with Panther Rotate. The new album puts a twist on its predecessor, using those studio tracks for a series of remixes while blending in field recordings and other aural experiments. The finished record, a sort of sequel, sounds a little like fiddling. Fans will likely enjoy Dwyer express new sides to his art, but the album too often lacks the excitement of the group’s best work.\\nOne way into the album would be to simply study the transformations the music underwent between releases. A cut like “If I Had an Experiment” offers some clear direction for this approach, with the changed use of the guitar hits making for a new song that’s engaging on its own while being a reminder of its predecessor (“If I Had My Way”). “Miz Experiment” similarly enables direct comparison, but its steady, synth roll pales next to the heavier, more surprising “Mizmuth.” Dwyer might be having fun reworking his music, but in reimagining it, he’s not improving (which wouldn’t be the point anyway).\\nRegardless of the studious pleasures of hopping back and forth between records, listening to Panther Rotate probably makes most sense when it’s considered as a standalone piece. On its own terms, the album blends a diverse set of studio technique. Dwyer pokes at the fringes of rock. His play with textures and effects works best when he either builds on or dismantles a core sound. “Scramble Experiment” situates itself in Krautrock, but Dwyer’s flourishes make the cut something a bit out of line with its forerunners, as it should be. “Toadstool Experiment” wanders; it suggests that Osees could make some intriguing glitch-pop before heading into a muddier plod. \\nWhen Dwyer works to find new entry points or deconstructions, he reminds us of how exciting and inventive his work can be. Too often, though, his restructurings largely work to half-reveal sonic elements at the cost of musical energy. Turning “Gong of Catastrophe” into the haunted “Gong Experiment” makes sense and fills a gap in the band’s voluminous work. That track offers much more intrigue than “Toadstool” or “Miz.” The new material, like “Synthesis” and “Poem 2 with Horns” provide their own rewards, but the slow pacing of both cuts (particularly the former, which never quite decides what sort of music it means to be) risks more drag in the album. Panther Rotate, more than would be expected from the group, requires focused listening to find detail-oriented rewards. It mostly succeeds at fulfilling that offer, but it doesn’t quite keep it up for the whole record. It’s hard to call it a misstep, though, as it serves its purpose in pushing Osees into new places, allowing new insights to come from an unusually prolific act that, remarkably, hasn’t run out of things to say. When John Dwyer works to find new entry points or deconstructions, he reminds us of how exciting and inventive his work can be. '"
      ]
     },
     "execution_count": 36,
     "metadata": {},
     "output_type": "execute_result"
    }
   ],
   "source": [
    "def remove_summary(x):\n",
    "    \n",
    "    return x.replace(\"\\n\\n\\n\\n\\n\\n\\n\\n\\n\\n\\n\\n\\n\\n\\n\\nSummary\\n\\n\\t\\t\\t\\t\\t\\t\", \" \")\n",
    "\n",
    "sp_df = sp_df.apply(remove_summary)\n",
    "sp_df[100]"
   ]
  },
  {
   "cell_type": "code",
   "execution_count": 37,
   "id": "7667e9e6-f84c-4b85-b16f-63919ba16483",
   "metadata": {},
   "outputs": [
    {
     "data": {
      "text/plain": [
       "'John Dwyer’s Osees (under any name) derive much of their power from their kinetic experimentation. Given, arguably, a garage rock foundation, the group has succeeded with odd forays into psychedelia, pop, metal, prog and more. After last year’s ambitious Protean Threat, Dwyer decided there was some terrain he hadn’t covered in the act’s first 20 or so albums, so Osees came back quickly with Panther Rotate. The new album puts a twist on its predecessor, using those studio tracks for a series of remixes while blending in field recordings and other aural experiments. The finished record, a sort of sequel, sounds a little like fiddling. Fans will likely enjoy Dwyer express new sides to his art, but the album too often lacks the excitement of the group’s best work.One way into the album would be to simply study the transformations the music underwent between releases. A cut like “If I Had an Experiment” offers some clear direction for this approach, with the changed use of the guitar hits making for a new song that’s engaging on its own while being a reminder of its predecessor (“If I Had My Way”). “Miz Experiment” similarly enables direct comparison, but its steady, synth roll pales next to the heavier, more surprising “Mizmuth.” Dwyer might be having fun reworking his music, but in reimagining it, he’s not improving (which wouldn’t be the point anyway).Regardless of the studious pleasures of hopping back and forth between records, listening to Panther Rotate probably makes most sense when it’s considered as a standalone piece. On its own terms, the album blends a diverse set of studio technique. Dwyer pokes at the fringes of rock. His play with textures and effects works best when he either builds on or dismantles a core sound. “Scramble Experiment” situates itself in Krautrock, but Dwyer’s flourishes make the cut something a bit out of line with its forerunners, as it should be. “Toadstool Experiment” wanders; it suggests that Osees could make some intriguing glitch-pop before heading into a muddier plod. When Dwyer works to find new entry points or deconstructions, he reminds us of how exciting and inventive his work can be. Too often, though, his restructurings largely work to half-reveal sonic elements at the cost of musical energy. Turning “Gong of Catastrophe” into the haunted “Gong Experiment” makes sense and fills a gap in the band’s voluminous work. That track offers much more intrigue than “Toadstool” or “Miz.” The new material, like “Synthesis” and “Poem 2 with Horns” provide their own rewards, but the slow pacing of both cuts (particularly the former, which never quite decides what sort of music it means to be) risks more drag in the album. Panther Rotate, more than would be expected from the group, requires focused listening to find detail-oriented rewards. It mostly succeeds at fulfilling that offer, but it doesn’t quite keep it up for the whole record. It’s hard to call it a misstep, though, as it serves its purpose in pushing Osees into new places, allowing new insights to come from an unusually prolific act that, remarkably, hasn’t run out of things to say. When John Dwyer works to find new entry points or deconstructions, he reminds us of how exciting and inventive his work can be. '"
      ]
     },
     "execution_count": 37,
     "metadata": {},
     "output_type": "execute_result"
    }
   ],
   "source": [
    "sp_df = sp_df.apply(lambda x: x.replace(\"\\n\", \"\").replace(\"\\t\", \"\"))\n",
    "sp_df[100]"
   ]
  },
  {
   "cell_type": "code",
   "execution_count": 38,
   "id": "8a61195f-fd07-439d-b252-f0687b84e26f",
   "metadata": {},
   "outputs": [],
   "source": [
    "dfs[\"Spectrum\"].loc[:, \"Text\"] = sp_df"
   ]
  },
  {
   "cell_type": "code",
   "execution_count": 39,
   "id": "daf4f583-765b-4511-b82b-e8ed19ddb71d",
   "metadata": {},
   "outputs": [],
   "source": [
    "nme_df = dfs[\"NME\"].loc[:, \"Text\"]"
   ]
  },
  {
   "cell_type": "code",
   "execution_count": 40,
   "id": "7f39f905-7187-48e8-8dc7-a81e318653d4",
   "metadata": {},
   "outputs": [
    {
     "data": {
      "text/plain": [
       "\"existential meditations and a groundwork for hope The experimental master's 29th solo studio album doesn't offer any solutions to humanity's existential threats, but it does offer hope for the future By Patrick Clarke 12th October 2022 \\n\\nBrian Eno CREDIT: Cecily Eno Among many other things, Brian Eno has always understood that good ambient and minimalist music is far, far more than the bland soundscapes. Having spearheaded the genre for half a century, he knows that at its best, it’s music that can touch a listener’s emotional core more powerfully than the most brutal heavy metal.\\nFor his 29th solo studio album ‘FOREVERANDEVERNOMORE’, he’s homing in on that fact. In a short essay that accompanies it, Eno writes about how he’s only recently begun to embrace “the idea that we artists are actually feelings-merchants”. At a time in which the fabric of reality seems to be coming untethered, he argues, perhaps if we can change the way we feel about the world, we might be able to save it.\\nThis album is a clear and direct response to the tumultuous world in which it was made, consumed with existentialist musings on climate change and the future of the human race – it is his first album with vocals for almost two decades. On ‘Icarus Or Bleriot’, Eno wonders whether we will end up like the former (the tragic Greek hero who flew too close to the sun and fell to his death) or the latter (the pioneering aviator who was the first to fly a plane across the English channel).\\nAdvertisement The record is reflective rather than a political manifesto. Eno’s conversations on the record are, essentially, with himself. The second track, ‘We Let It In’, is literally a breathing exercise, samples of human exhalations given cosmic weight by Eno’s glacially building synths. Frequently the music on ‘FOREVERANDEVERMORE’ is very beautiful, a complex and blanketing layers of sound.\\n\\nThat said, it’s not a record that ever quite allows you to settle. On the opener ‘Who Gives A Thought’, for instance, Eno meanders his way through questions of why we don’t care for microscopic worms just because they have no commercial value. Beneath the wash of synths behind him, there are buried churns, whizzes and loops that fire off in all directions. At times the record’s outright apocalyptic, like on ‘Garden Of Stars’, where his voice is stretched out into a sinister Gregorian chant, and the music starts to crackle, spit and fray as he repeats visions of doom: “These million years will end / They end in me.”\\n‘FOREVERANDEVERNOMORE’ is never quite an album that is completely comforting or despairing. Instead, it explores the vast reaches between the two and uses introspection as a means of finding stability in the chaos. It offers no conclusions or solutions for humanity’s vast existential threats, but it does set a groundwork from which we might make a start in tackling them.\\nDetails\\n\\n\\nRelease date: October 14, 2022\\nRecord label: Opal Music Ltd.\\n\\n Related TopicsBrian Eno   Search ReviewsAlbum Reviews Brian Eno – ‘FOREVERANDEVERNOMORE’ review: existential meditations and a groundwork for hope The experimental master's 29th solo studio album doesn't offer any solutions to humanity's existential threats, but it does offer hope for the future By Patrick Clarke 12th October 2022 \\n\\nBrian Eno CREDIT: Cecily Eno Among many other things, Brian Eno has always understood that good ambient and minimalist music is far, far more than the bland soundscapes. Having spearheaded the genre for half a century, he knows that at its best, it’s music that can touch a listener’s emotional core more powerfully than the most brutal heavy metal.\\nFor his 29th solo studio album ‘FOREVERANDEVERNOMORE’, he’s homing in on that fact. In a short essay that accompanies it, Eno writes about how he’s only recently begun to embrace “the idea that we artists are actually feelings-merchants”. At a time in which the fabric of reality seems to be coming untethered, he argues, perhaps if we can change the way we feel about the world, we might be able to save it.\\nThis album is a clear and direct response to the tumultuous world in which it was made, consumed with existentialist musings on climate change and the future of the human race – it is his first album with vocals for almost two decades. On ‘Icarus Or Bleriot’, Eno wonders whether we will end up like the former (the tragic Greek hero who flew too close to the sun and fell to his death) or the latter (the pioneering aviator who was the first to fly a plane across the English channel).\\nAdvertisement The record is reflective rather than a political manifesto. Eno’s conversations on the record are, essentially, with himself. The second track, ‘We Let It In’, is literally a breathing exercise, samples of human exhalations given cosmic weight by Eno’s glacially building synths. Frequently the music on ‘FOREVERANDEVERMORE’ is very beautiful, a complex and blanketing layers of sound.\\n\\nThat said, it’s not a record that ever quite allows you to settle. On the opener ‘Who Gives A Thought’, for instance, Eno meanders his way through questions of why we don’t care for microscopic worms just because they have no commercial value. Beneath the wash of synths behind him, there are buried churns, whizzes and loops that fire off in all directions. At times the record’s outright apocalyptic, like on ‘Garden Of Stars’, where his voice is stretched out into a sinister Gregorian chant, and the music starts to crackle, spit and fray as he repeats visions of doom: “These million years will end / They end in me.”\\n‘FOREVERANDEVERNOMORE’ is never quite an album that is completely comforting or despairing. Instead, it explores the vast reaches between the two and uses introspection as a means of finding stability in the chaos. It offers no conclusions or solutions for humanity’s vast existential threats, but it does set a groundwork from which we might make a start in tackling them.\\nDetails\\n\\n\\nRelease date: October 14, 2022\\nRecord label: Opal Music Ltd.\\n\\n Related TopicsBrian Eno\""
      ]
     },
     "execution_count": 40,
     "metadata": {},
     "output_type": "execute_result"
    }
   ],
   "source": [
    "nme_df[0]"
   ]
  },
  {
   "cell_type": "code",
   "execution_count": 41,
   "id": "bb491d38-8a00-4076-ba19-060618c9b6e3",
   "metadata": {},
   "outputs": [
    {
     "data": {
      "text/plain": [
       "'soothing sounds and universal tales The breakout star has crafted a quietly subversive pop record that, for all its deceptive softness, challenges old perceptions of sexuality and mental health By Georgia Evans 26th January 2021 \\n\\nArlo Parks. CREDIT: Alex Kurun Arlo Parks’ rise feels very timely indeed. Her music is like a warm hug, a reassurance that everything is going to be OK when the world is dark and things seem out of control. True to form, her debut album is a sanctuary of compassionate lyricism and groove-along tunes.\\n\\nRead More:\\xa0On the cover – Arlo Parks: “I feel like I’m 10 and 100 at once”\\n\\n\\n\\nWhile 2020 may have been a write-off for most, it certainly was a good year for the 20-year-old west Londoner. She released a stream of well-received singles, was named BBC Music Introducing Artist of the Year, appeared on the cover of NME and featured on a playlist by Michelle Obama. Most importantly however, she became an advocate for the mental health charity CALM (Campaign Against Living Miserably), which sent a powerful message of unity to her young fanbase. Languid breakout single ‘Hurt’, which appears here, epitomises Parks’ music as a soothing balm: “I know you can’t let go of anything at the moment / Just know it would hurt so, won’t hurt so much forever.”\\n\\n\\nDespite the deceptively soothing nature of her sound – soft neo-soul, acoustic guitar, that honeyed voice – Parks is an artist challenging received wisdom about mental health, a champion of free expression of self. She broke through in 2018 with the dreamy ‘Cola’, a disarmingly intimate tale of infidelity through poetic lyrics (“I miss the way you dressed all punk / With the black and the studs and the ripped up gloves / Bet she loved your tough-guy front”), illustrating complex emotions through an accessible medium – and was duly catapulted to indie stardom.\\nWritten in the same bedroom where she recorded most of her demos, and utilising old diaries and notebooks, ‘Collapsed In Sunbeams’ is made up of daydream musings over jazz-meets-pop instrumentals. The 12-song collection feels more refined than her previous EPs, with slicker production from her label Transgressive, whose signees include Foals, Loyle Carner and Marika Hackman, yet maintains the intimacy that grabbed so many at the start of her career.\\nAdvertisement The album is laced with references to artists who influenced her, from Sylvia Plath to Robert Smith (on the irresistible ‘Eugene’, she wryly notes, “[You] read him Sylvia Plath / I thought that that was our thing)”, and Parks has described the album as “a series of vignettes and intimate portraits surrounding my adolescence and the people that shaped it. It is rooted in storytelling and nostalgia – I want it to feel both universal and hyper-specific.”\\nThis is evident from the opening title track. A spoken-word piece that underpins the sentiment of the whole record, ‘Collapsed In Sunbeams’ is a poignant reflection on finding beauty in pain, embracing emotional turbulence and speaking openly about your feelings. We are all learning to trust our bodies, making peace with our own distortions,” Parks recites over stripped-back guitars and gently flowing synths, “You shouldn’t be afraid to cry in front of me”.\\nParks has a singular talent for tapping into sadness and turning it into something uplifting. Last year, NME named ‘Black Dog’, a track about depression, 2020’s “most devastating song”; with lines such as “Sometimes it seems like you won’t survive this / And honestly it’s terrifying,” it’s a brilliantly and sometimes painfully honest song. Meanwhile, tracks the likes of ‘Eugene’, which is about being in love with your straight friend – Parks is openly bisexual – and ‘For Violet’, which explores familial disapproval, further explore universal coming-of-age struggles.\\nWhenever she touches upon difficult subjects, though, Parks provides a voice of empathy and wisdom. ‘Hope’ channels the likes of Blood Orange with layered harmonies and psychedelic guitar riffs, while she sings, “You’re not alone / Like you think you are / We all have scars / I know it’s hard / You’re not alone.” Further into the track, there’s a resurrection of her spoken-word delivery as she earnestly addresses the listener: “I cannot communicate the depth of the feeling / Truth is I’m still learning to be open about this.”\\nToo Good’ adds a greater feeling of lightness to counteract darker themes, bringing texture to the collection. Backed by bouncy guitars, funky basslines and catchy pop hooks, Parks sings an infectious chorus: “I think you know it / Too cool to show it / Babe, you’re so good / You’re too good to be true.” Then there’s the stunning ‘Green Eyes’, which was co-written with new-gen icon Clairo and sees the pair reflect on social attitudes towards same-sex relationships: “Some of these folks wanna make you cry / But you gotta trust how you feel inside and shine.”\\nThe closing track, ‘Portra 400’, rounds off this vivid portrait of young adulthood through delicate instrumentals and lines such as “Making rainbows, out of something painful / Getting fried as hell / And dodging gravestones.” This finale perfectly summarises the profound thought patterns interwoven throughout ‘Collapsed In Sunbeams’.\\nAdvertisement \\n\\n\\n\\n\\n\\n\\n\\nArlo Parks: Meet the NME 1000 seconds of 1 minute, 13 secondsVolume 0%Press shift question mark to access a list of keyboard shortcutsKeyboard ShortcutsEnabledDisabledPlay/PauseSPACEIncrease Volume↑Decrease Volume↓Seek Forward→Seek Backward←Captions On/OffcFullscreen/Exit FullscreenfMute/UnmutemSeek %0-9\\n \\n\\n\\n facebook twitter Email Linkhttps://cdn.jwplayer.com/previews/4CByxULkCopied Embed<iframe src=\"//content.jwplatform.com/players/4CByxULk-D03d95kJ.html\" width=\"640\" height=\"360\" frameborder=\"0\" scrolling=\"auto\"></iframe>CopiedLive00:0001:1301:13More Videos26:55NIKI on ‘Every Summertime’, Coachella & being inspired by Halsey | In Conversation01:12Meet the stars of the NME 100 2018: Park Hotel02:22Talk Show: Meet the NME 10001:48Zuzu: Meet the NME 10002:07Do Nothing: Meet the NME 10001:58Benjiflow: Meet the NME 100Close\\xa0\\n\\nArlo Parks may be the voice of Gen Z, but there’s no doubt that this is a universal collection of stories that’ll provide solace for listeners of all ages and backgrounds for decades to come.\\nDetails\\n\\nRelease date:\\xa0January 29\\nRecord label: Beatnik,\\xa0Transgressive\\n \\nWhile 2020 may have been a write-off for most, it certainly was a good year for the 20-year-old west Londoner. She released a stream of well-received singles, was named BBC Music Introducing Artist of the Year, appeared on the cover of NME and featured on a playlist by Michelle Obama. Most importantly however, she became an advocate for the mental health charity CALM (Campaign Against Living Miserably), which sent a powerful message of unity to her young fanbase. Languid breakout single ‘Hurt’, which appears here, epitomises Parks’ music as a soothing balm: “I know you can’t let go of anything at the moment / Just know it would hurt so, won’t hurt so much forever.”\\n Related TopicsArlo ParksPop   Search Reviews Arlo Parks – ‘Collapsed In Sunbeams’ review: soothing sounds and universal tales The breakout star has crafted a quietly subversive pop record that, for all its deceptive softness, challenges old perceptions of sexuality and mental health By Georgia Evans 26th January 2021 \\n\\nArlo Parks. CREDIT: Alex Kurun Arlo Parks’ rise feels very timely indeed. Her music is like a warm hug, a reassurance that everything is going to be OK when the world is dark and things seem out of control. True to form, her debut album is a sanctuary of compassionate lyricism and groove-along tunes.\\n\\nRead More:\\xa0On the cover – Arlo Parks: “I feel like I’m 10 and 100 at once”\\n\\n\\n\\nWhile 2020 may have been a write-off for most, it certainly was a good year for the 20-year-old west Londoner. She released a stream of well-received singles, was named BBC Music Introducing Artist of the Year, appeared on the cover of NME and featured on a playlist by Michelle Obama. Most importantly however, she became an advocate for the mental health charity CALM (Campaign Against Living Miserably), which sent a powerful message of unity to her young fanbase. Languid breakout single ‘Hurt’, which appears here, epitomises Parks’ music as a soothing balm: “I know you can’t let go of anything at the moment / Just know it would hurt so, won’t hurt so much forever.”\\n\\n\\nDespite the deceptively soothing nature of her sound – soft neo-soul, acoustic guitar, that honeyed voice – Parks is an artist challenging received wisdom about mental health, a champion of free expression of self. She broke through in 2018 with the dreamy ‘Cola’, a disarmingly intimate tale of infidelity through poetic lyrics (“I miss the way you dressed all punk / With the black and the studs and the ripped up gloves / Bet she loved your tough-guy front”), illustrating complex emotions through an accessible medium – and was duly catapulted to indie stardom.\\nWritten in the same bedroom where she recorded most of her demos, and utilising old diaries and notebooks, ‘Collapsed In Sunbeams’ is made up of daydream musings over jazz-meets-pop instrumentals. The 12-song collection feels more refined than her previous EPs, with slicker production from her label Transgressive, whose signees include Foals, Loyle Carner and Marika Hackman, yet maintains the intimacy that grabbed so many at the start of her career.\\nAdvertisement The album is laced with references to artists who influenced her, from Sylvia Plath to Robert Smith (on the irresistible ‘Eugene’, she wryly notes, “[You] read him Sylvia Plath / I thought that that was our thing)”, and Parks has described the album as “a series of vignettes and intimate portraits surrounding my adolescence and the people that shaped it. It is rooted in storytelling and nostalgia – I want it to feel both universal and hyper-specific.”\\nThis is evident from the opening title track. A spoken-word piece that underpins the sentiment of the whole record, ‘Collapsed In Sunbeams’ is a poignant reflection on finding beauty in pain, embracing emotional turbulence and speaking openly about your feelings. We are all learning to trust our bodies, making peace with our own distortions,” Parks recites over stripped-back guitars and gently flowing synths, “You shouldn’t be afraid to cry in front of me”.\\nParks has a singular talent for tapping into sadness and turning it into something uplifting. Last year, NME named ‘Black Dog’, a track about depression, 2020’s “most devastating song”; with lines such as “Sometimes it seems like you won’t survive this / And honestly it’s terrifying,” it’s a brilliantly and sometimes painfully honest song. Meanwhile, tracks the likes of ‘Eugene’, which is about being in love with your straight friend – Parks is openly bisexual – and ‘For Violet’, which explores familial disapproval, further explore universal coming-of-age struggles.\\nWhenever she touches upon difficult subjects, though, Parks provides a voice of empathy and wisdom. ‘Hope’ channels the likes of Blood Orange with layered harmonies and psychedelic guitar riffs, while she sings, “You’re not alone / Like you think you are / We all have scars / I know it’s hard / You’re not alone.” Further into the track, there’s a resurrection of her spoken-word delivery as she earnestly addresses the listener: “I cannot communicate the depth of the feeling / Truth is I’m still learning to be open about this.”\\nToo Good’ adds a greater feeling of lightness to counteract darker themes, bringing texture to the collection. Backed by bouncy guitars, funky basslines and catchy pop hooks, Parks sings an infectious chorus: “I think you know it / Too cool to show it / Babe, you’re so good / You’re too good to be true.” Then there’s the stunning ‘Green Eyes’, which was co-written with new-gen icon Clairo and sees the pair reflect on social attitudes towards same-sex relationships: “Some of these folks wanna make you cry / But you gotta trust how you feel inside and shine.”\\nThe closing track, ‘Portra 400’, rounds off this vivid portrait of young adulthood through delicate instrumentals and lines such as “Making rainbows, out of something painful / Getting fried as hell / And dodging gravestones.” This finale perfectly summarises the profound thought patterns interwoven throughout ‘Collapsed In Sunbeams’.\\nAdvertisement \\n\\n\\n\\n\\n\\n\\n\\nArlo Parks: Meet the NME 1000 seconds of 1 minute, 13 secondsVolume 0%Press shift question mark to access a list of keyboard shortcutsKeyboard ShortcutsEnabledDisabledPlay/PauseSPACEIncrease Volume↑Decrease Volume↓Seek Forward→Seek Backward←Captions On/OffcFullscreen/Exit FullscreenfMute/UnmutemSeek %0-9\\n \\n\\n\\n facebook twitter Email Linkhttps://cdn.jwplayer.com/previews/4CByxULkCopied Embed<iframe src=\"//content.jwplatform.com/players/4CByxULk-D03d95kJ.html\" width=\"640\" height=\"360\" frameborder=\"0\" scrolling=\"auto\"></iframe>CopiedLive00:0001:1301:13More Videos26:55NIKI on ‘Every Summertime’, Coachella & being inspired by Halsey | In Conversation01:12Meet the stars of the NME 100 2018: Park Hotel02:22Talk Show: Meet the NME 10001:48Zuzu: Meet the NME 10002:07Do Nothing: Meet the NME 10001:58Benjiflow: Meet the NME 100Close\\xa0\\n\\nArlo Parks may be the voice of Gen Z, but there’s no doubt that this is a universal collection of stories that’ll provide solace for listeners of all ages and backgrounds for decades to come.\\nDetails\\n\\nRelease date:\\xa0January 29\\nRecord label: Beatnik,\\xa0Transgressive\\n \\nWhile 2020 may have been a write-off for most, it certainly was a good year for the 20-year-old west Londoner. She released a stream of well-received singles, was named BBC Music Introducing Artist of the Year, appeared on the cover of NME and featured on a playlist by Michelle Obama. Most importantly however, she became an advocate for the mental health charity CALM (Campaign Against Living Miserably), which sent a powerful message of unity to her young fanbase. Languid breakout single ‘Hurt’, which appears here, epitomises Parks’ music as a soothing balm: “I know you can’t let go of anything at the moment / Just know it would hurt so, won’t hurt so much forever.”\\n Related TopicsArlo ParksPop'"
      ]
     },
     "execution_count": 41,
     "metadata": {},
     "output_type": "execute_result"
    }
   ],
   "source": [
    "nme_df[100]"
   ]
  },
  {
   "cell_type": "code",
   "execution_count": 42,
   "id": "5ec0a894-d8de-488c-8cc5-cd077edcc508",
   "metadata": {},
   "outputs": [
    {
     "data": {
      "text/plain": [
       "'diary entries reimagined as swaggering indie-pop The Canadian duo have dusted off demos written when they were in High School, reworking the tracks and imbuing them with huge emotional heft  By El Hunt 25th September 2019 \\n\\n It’s a bold move for any artist to dig up a bunch of old songs they wrote during high school. When Tegan and Sara revisited their cassette demos from the ’90s, they worried that their earliest material might suck (as anyone who has ever unearthed their previous fashion choices from Bebo understand). But Tegan and Sara Quinn have always had flair; they’ve reimagined their adolescent demos as swaggering indie-pop songs – and there was plenty to work with.\\nThe duo have injected serious heft into the reworking of this early material, which accompanies a new memoir, entitled High School. Some of their demoes have surfaced online over the years, meaning you can contrast this record’s title track, ‘Hey, I’m Just Like You’, with the two-decade old demo ‘Plunk Song’ on which it’s based.\\xa0Though some of the goofier lyrics have been axed completely (RIP “My pants are huge and chocolate covered”) and other lines pruned and tidied up, the essence remains broadly the same. Often, it creates an inherent tension between the past and the present.\\n\\n\\n\\n\\n\\n\\n\\n\\nTegan and Sara: \\'Boyfriend\\' - NME Basement SessionsWatch Tegan and Sara play an exclusive acoustic rendition of their hit single \\'Boyfriend\\' in the NME basement.0 seconds of 2 minutes, 54 secondsVolume 0%Press shift question mark to access a list of keyboard shortcutsKeyboard ShortcutsEnabledDisabledPlay/PauseSPACEIncrease Volume↑Decrease Volume↓Seek Forward→Seek Backward←Captions On/OffcFullscreen/Exit FullscreenfMute/UnmutemSeek %0-9\\n \\n\\n\\n facebook twitter Email Linkhttps://cdn.jwplayer.com/previews/thAlxLIhCopied Embed<iframe src=\"//content.jwplatform.com/players/thAlxLIh-D03d95kJ.html\" width=\"640\" height=\"360\" frameborder=\"0\" scrolling=\"auto\"></iframe>CopiedLive00:0002:5402:54\\xa0\\n\\nWhen, on ‘Hello, I’m Free’, a souped-up version of the demo ‘Hello’, Sara Quinn sings a repurposed line such as,\\xa0“Right now, I wish I was older”,\\xa0her original snarled cry for connection strikes a slightly different tone. This time you sense that maybe she was singing about a vaguer and more elusive kind of experience, rather than age itself.\\nBut set aside ‘Hey, I’m Just Like You’s nifty concept and you’ll see that the record stands up without novelty value. ‘Hold My Breath Until I Die’ is a slightly macabre slab of slinking heartbreak; ‘Keep Them Close Cause They Will Fuck You Too’ glimmers and claws; and on the title track they finally score their first ever explicit song rating. It only took them nine studio albums to drop the F-Bomb –\\xa0and here, it’s spat with delicious relish.\\nSome will perhaps hail this record as a return to the duo’s rockier roots, though that’s not necessarily true. Over the course of two decades, it’s been impossible to pin Tegan and Sara to one specific record or sonic direction. Place their snappy 2016 release ‘Love You To Death’ next to the synth-pop curveball ‘Heartthrob’,\\xa0the punchy indie of ‘The Con’ or the biting ‘If It Was You’, and you’ll see a band that loves shaking things up. Their only truly consistent quality is their ability to cut straight to the emotional core.\\xa0\\nPresented as verbatim reproductions, the songs on ‘Hey, I’m Just Like You’ would function as a pile of dogeared artists sketchbooks\\xa0 – but picked up again and turned into hefty indie-pop bangers, this serves as an honest, vulnerable, and occasionally brutal reminder of what Tegan and Sara have always been best at.\\n Related TopicsTegan and Sara   Search ReviewsAlbum Reviews Tegan and Sara – ‘Hey, I’m Just Like You’ review: diary entries reimagined as swaggering indie-pop The Canadian duo have dusted off demos written when they were in High School, reworking the tracks and imbuing them with huge emotional heft  By El Hunt 25th September 2019 \\n\\n It’s a bold move for any artist to dig up a bunch of old songs they wrote during high school. When Tegan and Sara revisited their cassette demos from the ’90s, they worried that their earliest material might suck (as anyone who has ever unearthed their previous fashion choices from Bebo understand). But Tegan and Sara Quinn have always had flair; they’ve reimagined their adolescent demos as swaggering indie-pop songs – and there was plenty to work with.\\nThe duo have injected serious heft into the reworking of this early material, which accompanies a new memoir, entitled High School. Some of their demoes have surfaced online over the years, meaning you can contrast this record’s title track, ‘Hey, I’m Just Like You’, with the two-decade old demo ‘Plunk Song’ on which it’s based.\\xa0Though some of the goofier lyrics have been axed completely (RIP “My pants are huge and chocolate covered”) and other lines pruned and tidied up, the essence remains broadly the same. Often, it creates an inherent tension between the past and the present.\\n\\n\\n\\n\\n\\n\\n\\n\\nTegan and Sara: \\'Boyfriend\\' - NME Basement SessionsWatch Tegan and Sara play an exclusive acoustic rendition of their hit single \\'Boyfriend\\' in the NME basement.0 seconds of 2 minutes, 54 secondsVolume 0%Press shift question mark to access a list of keyboard shortcutsKeyboard ShortcutsEnabledDisabledPlay/PauseSPACEIncrease Volume↑Decrease Volume↓Seek Forward→Seek Backward←Captions On/OffcFullscreen/Exit FullscreenfMute/UnmutemSeek %0-9\\n \\n\\n\\n facebook twitter Email Linkhttps://cdn.jwplayer.com/previews/thAlxLIhCopied Embed<iframe src=\"//content.jwplatform.com/players/thAlxLIh-D03d95kJ.html\" width=\"640\" height=\"360\" frameborder=\"0\" scrolling=\"auto\"></iframe>CopiedLive00:0002:5402:54\\xa0\\n\\nWhen, on ‘Hello, I’m Free’, a souped-up version of the demo ‘Hello’, Sara Quinn sings a repurposed line such as,\\xa0“Right now, I wish I was older”,\\xa0her original snarled cry for connection strikes a slightly different tone. This time you sense that maybe she was singing about a vaguer and more elusive kind of experience, rather than age itself.\\nBut set aside ‘Hey, I’m Just Like You’s nifty concept and you’ll see that the record stands up without novelty value. ‘Hold My Breath Until I Die’ is a slightly macabre slab of slinking heartbreak; ‘Keep Them Close Cause They Will Fuck You Too’ glimmers and claws; and on the title track they finally score their first ever explicit song rating. It only took them nine studio albums to drop the F-Bomb –\\xa0and here, it’s spat with delicious relish.\\nSome will perhaps hail this record as a return to the duo’s rockier roots, though that’s not necessarily true. Over the course of two decades, it’s been impossible to pin Tegan and Sara to one specific record or sonic direction. Place their snappy 2016 release ‘Love You To Death’ next to the synth-pop curveball ‘Heartthrob’,\\xa0the punchy indie of ‘The Con’ or the biting ‘If It Was You’, and you’ll see a band that loves shaking things up. Their only truly consistent quality is their ability to cut straight to the emotional core.\\xa0\\nPresented as verbatim reproductions, the songs on ‘Hey, I’m Just Like You’ would function as a pile of dogeared artists sketchbooks\\xa0 – but picked up again and turned into hefty indie-pop bangers, this serves as an honest, vulnerable, and occasionally brutal reminder of what Tegan and Sara have always been best at.\\n Related TopicsTegan and Sara'"
      ]
     },
     "execution_count": 42,
     "metadata": {},
     "output_type": "execute_result"
    }
   ],
   "source": [
    "nme_df[200]"
   ]
  },
  {
   "cell_type": "code",
   "execution_count": 43,
   "id": "7367da60-37d6-41e2-9469-4b0323f2666e",
   "metadata": {},
   "outputs": [
    {
     "data": {
      "text/plain": [
       "'  Search ReviewsAlbum Reviews Kurt Vile – ‘Bottle It In’ review The mellow master’s seventh studio album is an expansive odyssey that proves he’s an idiosyncratic one-off \\n By Gary Ryan 12th October 2018 \\n\\n Since 2015’s ‘b’lieve I’m going down’, off-kilter hero Kurt Vile has supported his spiritual forebear Neil Young, recorded an album of duets with long-haired mirror image Courtney Barnett (last year’s ‘Lotta Sea Lice’) and received the ultimate indie accolade – being a question on a gameshow that nobody can answer. “The Violators assist this ‘Pretty Pimpin’’ rocker in his foul work’ was the clue on a college-themed edition of US quiz Jeopardy,\\xa0as the contestants presumably conferred with the tumbleweed that had entered the studio.\\nYet this seems apt, for Kurt’s funny, smart, 420-friendly stream-of-conscious lyrics can often leave you scratching your head. His seventh solo album, ‘Bottle It In’, was recorded around America amid family road-trips, and, at a marathon 80-minutes long, the results are suitably expansive.\\n\\nOn opener ‘Loading Zones’, he offers a life-hack on how to escape parking meter-charges by using loading bays, jauntily coming across like REM-meets-NCP. The winning, spaced-out ‘Bassackwards’ is a nearly 10-minute meander that recalls being out of his mind on a friend’s radio show. Mirroring the space-cadet subject matter, \\xa0he appears to be constantly losing his train of thought (which often requires a bus replacement service). He covers country MOR-rocker Charlie Rich’s ‘Rollin With The Flow’, a song about being an eternal outlaw while those around you are lost to domesticity, and there’s a sly wit to the 38-year-old father of two crooning, “All guys my age just raising kids / I’m raising hell just like I did.”\\nHis most sonically varied album, ‘Bottle it In’ includes the banjo-assisted hallucinatory hoe-down ‘Come Down’; backing vocals from Warpaint drummer Stella Mozgawa (the bouncy, loved-up \\xa0paean to friendship ‘One Trick Ponies’); and one track that sounds like a hair metal song waking up from a coma (‘Check Baby’). Elsewhere, on ‘Mutinies’, Kim Gordon provides what she colourfully terms “acoustic guitar distortion”\\xa0; it’s a tender, beautifully introspective track about taking anti-depressants to quell the voices in your head.\\n\\n\\n\\n\\n\\n\\n\\n\\n90 Second Interview: Kurt VileKurt Vile tests his speed as he takes on our 90 Second Interview0 seconds of 2 minutes, 4 secondsVolume 0%Press shift question mark to access a list of keyboard shortcutsKeyboard ShortcutsEnabledDisabledPlay/PauseSPACEIncrease Volume↑Decrease Volume↓Seek Forward→Seek Backward←Captions On/OffcFullscreen/Exit FullscreenfMute/UnmutemSeek %0-9\\n \\n\\n\\n facebook twitter Email Linkhttps://cdn.jwplayer.com/previews/XyjW0mn5Copied Embed<iframe src=\"//content.jwplatform.com/players/XyjW0mn5-D03d95kJ.html\" width=\"640\" height=\"360\" frameborder=\"0\" scrolling=\"auto\"></iframe>CopiedLive00:0002:0402:04More Videos18:20ArrDee - \\'Pier Pressure\\' | Track by Track00:43Glastonbury 2016: Kurt Vile on \\'embracing the mud\\'00:39Glastonbury 2016: Kurt Vile talks about his ‘sick’ new album00:47Kurt Vile on Donald Trump - ‘He doesn’t have the qualifications to be president’01:3690 Second Interview: Foals01:3590 Second Interview: ShuraClose\\xa0\\n\\nAs its Vile’s longest album, there are occasional longueurs, where his melody-scaffolding isn’t strong enough to support the drawl and haze. There’s a fine line between “hypnotic drone” and “just plain boring”, and the fuzz-drenched ‘Cold Was The Wind’ has its toe firmly on it. The album veers close to outstaying its welcome; you can occasionally feel like you’re sobering up at a house party. Yet this is still an idiosyncratic work from a true one-off. Those trivia-loving contestants, having not heard of him, missed out on more than a cash prize.\\n Related TopicsKurt Vile   Search ReviewsAlbum Reviews Kurt Vile – ‘Bottle It In’ review The mellow master’s seventh studio album is an expansive odyssey that proves he’s an idiosyncratic one-off \\n By Gary Ryan 12th October 2018 \\n\\n Since 2015’s ‘b’lieve I’m going down’, off-kilter hero Kurt Vile has supported his spiritual forebear Neil Young, recorded an album of duets with long-haired mirror image Courtney Barnett (last year’s ‘Lotta Sea Lice’) and received the ultimate indie accolade – being a question on a gameshow that nobody can answer. “The Violators assist this ‘Pretty Pimpin’’ rocker in his foul work’ was the clue on a college-themed edition of US quiz Jeopardy,\\xa0as the contestants presumably conferred with the tumbleweed that had entered the studio.\\nYet this seems apt, for Kurt’s funny, smart, 420-friendly stream-of-conscious lyrics can often leave you scratching your head. His seventh solo album, ‘Bottle It In’, was recorded around America amid family road-trips, and, at a marathon 80-minutes long, the results are suitably expansive.\\n\\nOn opener ‘Loading Zones’, he offers a life-hack on how to escape parking meter-charges by using loading bays, jauntily coming across like REM-meets-NCP. The winning, spaced-out ‘Bassackwards’ is a nearly 10-minute meander that recalls being out of his mind on a friend’s radio show. Mirroring the space-cadet subject matter, \\xa0he appears to be constantly losing his train of thought (which often requires a bus replacement service). He covers country MOR-rocker Charlie Rich’s ‘Rollin With The Flow’, a song about being an eternal outlaw while those around you are lost to domesticity, and there’s a sly wit to the 38-year-old father of two crooning, “All guys my age just raising kids / I’m raising hell just like I did.”\\nHis most sonically varied album, ‘Bottle it In’ includes the banjo-assisted hallucinatory hoe-down ‘Come Down’; backing vocals from Warpaint drummer Stella Mozgawa (the bouncy, loved-up \\xa0paean to friendship ‘One Trick Ponies’); and one track that sounds like a hair metal song waking up from a coma (‘Check Baby’). Elsewhere, on ‘Mutinies’, Kim Gordon provides what she colourfully terms “acoustic guitar distortion”\\xa0; it’s a tender, beautifully introspective track about taking anti-depressants to quell the voices in your head.\\n\\n\\n\\n\\n\\n\\n\\n\\n90 Second Interview: Kurt VileKurt Vile tests his speed as he takes on our 90 Second Interview0 seconds of 2 minutes, 4 secondsVolume 0%Press shift question mark to access a list of keyboard shortcutsKeyboard ShortcutsEnabledDisabledPlay/PauseSPACEIncrease Volume↑Decrease Volume↓Seek Forward→Seek Backward←Captions On/OffcFullscreen/Exit FullscreenfMute/UnmutemSeek %0-9\\n \\n\\n\\n facebook twitter Email Linkhttps://cdn.jwplayer.com/previews/XyjW0mn5Copied Embed<iframe src=\"//content.jwplatform.com/players/XyjW0mn5-D03d95kJ.html\" width=\"640\" height=\"360\" frameborder=\"0\" scrolling=\"auto\"></iframe>CopiedLive00:0002:0402:04More Videos18:20ArrDee - \\'Pier Pressure\\' | Track by Track00:43Glastonbury 2016: Kurt Vile on \\'embracing the mud\\'00:39Glastonbury 2016: Kurt Vile talks about his ‘sick’ new album00:47Kurt Vile on Donald Trump - ‘He doesn’t have the qualifications to be president’01:3690 Second Interview: Foals01:3590 Second Interview: ShuraClose\\xa0\\n\\nAs its Vile’s longest album, there are occasional longueurs, where his melody-scaffolding isn’t strong enough to support the drawl and haze. There’s a fine line between “hypnotic drone” and “just plain boring”, and the fuzz-drenched ‘Cold Was The Wind’ has its toe firmly on it. The album veers close to outstaying its welcome; you can occasionally feel like you’re sobering up at a house party. Yet this is still an idiosyncratic work from a true one-off. Those trivia-loving contestants, having not heard of him, missed out on more than a cash prize.\\n Related TopicsKurt Vile'"
      ]
     },
     "execution_count": 43,
     "metadata": {},
     "output_type": "execute_result"
    }
   ],
   "source": [
    "nme_df[300]"
   ]
  },
  {
   "cell_type": "code",
   "execution_count": 44,
   "id": "23829416-fbbc-4bf3-8d92-3a988dd4ece1",
   "metadata": {},
   "outputs": [
    {
     "data": {
      "text/plain": [
       "'  Search ReviewsAlbum Reviews The Chemical Brothers – ‘Born In The Echoes’ The dance duo boldly reinvent their sound, breaking into darker and more twisted territory than ever before By Ben Cardew 7th July 2015 \\n\\n The Chemical Brothers are arguably one of the most important groups in dance history. Tom Rowlands and Ed Simons’ peerless ‘Dig Your Own Hole’ introduced rock and psychedelia to dance music’s palette in 1997, and they pioneered combining indie vocalists with big beats on early records like scorching Noel Gallagher collaborations ‘Setting Sun’ (1997) and ‘Let Forever Be’ (1999).\\nBut for a while in the 2000s, they threatened to become one of the most predictable. During an underwhelming run from 2002’s ‘Come With Us’ to 2007’s ‘We Are The Night’, you knew what to expect: guest singers like Kele Okereke (‘Believe’) or Richard Ashcroft (‘The Test’), and mass-appeal beats. Their music remained enjoyable, in a frenetic kind of way, but it lacked the innovation of their first records. Consequently, 2010’s ‘Further’, a record that saw them ditch the guests in favour of something deeper, darker and weirder, was very welcome indeed.\\nCollaborators return for ‘Born In The Echoes’, the pair’s eighth album and first since ‘Further’. But here the Brothers largely bend the singers to their will, their voices subservient to the power of the songs.\\nSt Vincent’s contribution to ‘Under Neon Lights’, for example, is chilling (“And she moves to suicide / In and under neon lights”), her voice eventually cut to electronic shreds and fed stuttering back into the mix like a malfunctioning car alarm. They pull a similar trick with London singer Ali Love (who guested on ‘We Are The Night’ single ‘Do It Again’) on ‘EML Ritual’, his vocals pitch-shifted and layered to create the unsettling effect of too many late nights, echoing lyrics about losing your mind (“I don’t know what to do / I’m going to lose my mind”).\\nThese two tracks brilliantly marry ‘Further’’s brooding electronica with the unsettling feel of the darkest psych-rock. But the real highlights are those that sound least like anything the Chems have done previously, as they burrow further down the rabbit hole, emerging somewhere between early Pink Floyd, minimal techno oddball Ricardo Villalobos and experimental London electro group White Noise, who formed in 1968.\\n‘I’ll See You There’ takes them closer than ever to the perennial psychedelic touchstone of The Beatles’ ‘Tomorrow Never Knows’ by combining live-sounding (and ferociously funky) electronic drums with spectral effects and rolling keyboards. The result sounds like a Tame Impala jam fed through the Chems’ motherboard. ‘Taste of Honey’ is odder still, coming on like the kind of obscure gem you’d uncover on a small-selling seven-inch from 1968, a droning psych-pop tune punctuated by distressed violin and the sound of a bee. ‘Born In The Echoes’ (featuring Cate Le Bon), meanwhile, brings to mind someone practicing loudly on a new synth over Broadcast’s ‘Pendulum’. \\nThis section of electro-psych wonder culminates in the fantastic ‘Radiate’, a brutally touching digital torch song that sounds like Daft Punk coming to terms with a particularly nasty break up, all electronic fuzz, wonky orchestration and heartfelt vocals from Rowlands (“What is this / That I can see? / Just radiate / Your love to me“). It would be the perfect ending but instead, it gives way to the underwhelming ‘Wide Open’. Marrying a burbling house beat to Beck’s melancholic vocal, it’s out of step with the album’s meaty, dark feel. ‘Go’ (with Q-Tip) is equally ill fitting, its niggling acid hooks and strident bass let down by a horrible chorus full of faux inspirational gunk (“No time to rest / Just do your best”).\\nThankfully, it doesn’t matter too much: ‘Born In The Echoes’ is a bold reinvention of the Chemical Brothers’ sound, pushing the late-period renaissance that ‘Further’ heralded to somewhere dark and twisted.\\nBen Cardew\\n Related TopicsThe Chemical Brothers   Search ReviewsAlbum Reviews The Chemical Brothers – ‘Born In The Echoes’ The dance duo boldly reinvent their sound, breaking into darker and more twisted territory than ever before By Ben Cardew 7th July 2015 \\n\\n The Chemical Brothers are arguably one of the most important groups in dance history. Tom Rowlands and Ed Simons’ peerless ‘Dig Your Own Hole’ introduced rock and psychedelia to dance music’s palette in 1997, and they pioneered combining indie vocalists with big beats on early records like scorching Noel Gallagher collaborations ‘Setting Sun’ (1997) and ‘Let Forever Be’ (1999).\\nBut for a while in the 2000s, they threatened to become one of the most predictable. During an underwhelming run from 2002’s ‘Come With Us’ to 2007’s ‘We Are The Night’, you knew what to expect: guest singers like Kele Okereke (‘Believe’) or Richard Ashcroft (‘The Test’), and mass-appeal beats. Their music remained enjoyable, in a frenetic kind of way, but it lacked the innovation of their first records. Consequently, 2010’s ‘Further’, a record that saw them ditch the guests in favour of something deeper, darker and weirder, was very welcome indeed.\\nCollaborators return for ‘Born In The Echoes’, the pair’s eighth album and first since ‘Further’. But here the Brothers largely bend the singers to their will, their voices subservient to the power of the songs.\\nSt Vincent’s contribution to ‘Under Neon Lights’, for example, is chilling (“And she moves to suicide / In and under neon lights”), her voice eventually cut to electronic shreds and fed stuttering back into the mix like a malfunctioning car alarm. They pull a similar trick with London singer Ali Love (who guested on ‘We Are The Night’ single ‘Do It Again’) on ‘EML Ritual’, his vocals pitch-shifted and layered to create the unsettling effect of too many late nights, echoing lyrics about losing your mind (“I don’t know what to do / I’m going to lose my mind”).\\nThese two tracks brilliantly marry ‘Further’’s brooding electronica with the unsettling feel of the darkest psych-rock. But the real highlights are those that sound least like anything the Chems have done previously, as they burrow further down the rabbit hole, emerging somewhere between early Pink Floyd, minimal techno oddball Ricardo Villalobos and experimental London electro group White Noise, who formed in 1968.\\n‘I’ll See You There’ takes them closer than ever to the perennial psychedelic touchstone of The Beatles’ ‘Tomorrow Never Knows’ by combining live-sounding (and ferociously funky) electronic drums with spectral effects and rolling keyboards. The result sounds like a Tame Impala jam fed through the Chems’ motherboard. ‘Taste of Honey’ is odder still, coming on like the kind of obscure gem you’d uncover on a small-selling seven-inch from 1968, a droning psych-pop tune punctuated by distressed violin and the sound of a bee. ‘Born In The Echoes’ (featuring Cate Le Bon), meanwhile, brings to mind someone practicing loudly on a new synth over Broadcast’s ‘Pendulum’. \\nThis section of electro-psych wonder culminates in the fantastic ‘Radiate’, a brutally touching digital torch song that sounds like Daft Punk coming to terms with a particularly nasty break up, all electronic fuzz, wonky orchestration and heartfelt vocals from Rowlands (“What is this / That I can see? / Just radiate / Your love to me“). It would be the perfect ending but instead, it gives way to the underwhelming ‘Wide Open’. Marrying a burbling house beat to Beck’s melancholic vocal, it’s out of step with the album’s meaty, dark feel. ‘Go’ (with Q-Tip) is equally ill fitting, its niggling acid hooks and strident bass let down by a horrible chorus full of faux inspirational gunk (“No time to rest / Just do your best”).\\nThankfully, it doesn’t matter too much: ‘Born In The Echoes’ is a bold reinvention of the Chemical Brothers’ sound, pushing the late-period renaissance that ‘Further’ heralded to somewhere dark and twisted.\\nBen Cardew\\n Related TopicsThe Chemical Brothers'"
      ]
     },
     "execution_count": 44,
     "metadata": {},
     "output_type": "execute_result"
    }
   ],
   "source": [
    "nme_df[400]"
   ]
  },
  {
   "cell_type": "code",
   "execution_count": 45,
   "id": "85d591e4-c241-47db-9616-e8060428e77b",
   "metadata": {},
   "outputs": [
    {
     "data": {
      "text/plain": [
       "\"  Search ReviewsAlbum Reviews The Flaming Lips –\\xa0‘With A Little Help From My Fwends’ Miley Cyrus steals the show as the Lips and guest cover Sgt Pepper...' in its entirety  By Kevin EG Perry 27th October 2014 \\n\\n The thing about pitching an album as “It’s ‘Sgt Pepper…’ but on acid” is that ‘Sgt Pepper…’ is already very much “on acid”, emerging as it did from The Beatles’ most psychedelic period. Still, if there’s one band in the world willing to go the extra tab, it’s The Flaming Lips. They are, after all, the people whose past releases include a USB stick buried inside a sweet gummy skull, and ‘Zaireeka’ –\\xa0a record that could only be properly listened to by rigging up four stereo systems in the same room. That they’re still pulling off high-concept weirdness 30 years into their career is testament to the fact that they remain a bunch of fearless freaks. But while you can applaud the audacity of covering one of the Fab Four’s most famous works, the question remains: will it be an unlistenable mess?\\nBut The Flaming Lips aren’t just any old band of drug casualties with a crazy dream –\\xa0what comes across here is that they’re massive Beatles fans who want to pay tribute to the genius of the original recordings by means of playful deconstruction. They’ve roped in their weirdest friends to help them do it, too. If you’ve ever thought that what the ‘Sgt Pepper…’ title track needed was a stupendous guitar solo from Dinosaur Jr’s J Mascis, then you’re in luck. \\nThe first truly breathtaking moment comes three tracks in, when a gorgeous, woozy voice starts intoning ‘Lucy In The Sky With Diamonds’. It sends you scrabbling for the contributors’ list: whose voice is that? It’s Miley Cyrus – 2014’s favourite enfant terrible steals the show both here and on closer ‘A Day In The Life’. The 21-year-old is one of a revolving cast of guest appearances; over the course of the album’s 13 tracks, Wayne Coyne takes a back seat to the likes of Tool Maynard’s James Keenan, Tegan & Sara and MGMT. The record is unified by the sheer joy that runs through it – no mean feat when it features so many different voices. The result is a delightful tribute to The Beatles and a record that has made so many turn on, tune in and drop out. \\n Related TopicsThe Flaming Lips   Search ReviewsAlbum Reviews The Flaming Lips –\\xa0‘With A Little Help From My Fwends’ Miley Cyrus steals the show as the Lips and guest cover Sgt Pepper...' in its entirety  By Kevin EG Perry 27th October 2014 \\n\\n The thing about pitching an album as “It’s ‘Sgt Pepper…’ but on acid” is that ‘Sgt Pepper…’ is already very much “on acid”, emerging as it did from The Beatles’ most psychedelic period. Still, if there’s one band in the world willing to go the extra tab, it’s The Flaming Lips. They are, after all, the people whose past releases include a USB stick buried inside a sweet gummy skull, and ‘Zaireeka’ –\\xa0a record that could only be properly listened to by rigging up four stereo systems in the same room. That they’re still pulling off high-concept weirdness 30 years into their career is testament to the fact that they remain a bunch of fearless freaks. But while you can applaud the audacity of covering one of the Fab Four’s most famous works, the question remains: will it be an unlistenable mess?\\nBut The Flaming Lips aren’t just any old band of drug casualties with a crazy dream –\\xa0what comes across here is that they’re massive Beatles fans who want to pay tribute to the genius of the original recordings by means of playful deconstruction. They’ve roped in their weirdest friends to help them do it, too. If you’ve ever thought that what the ‘Sgt Pepper…’ title track needed was a stupendous guitar solo from Dinosaur Jr’s J Mascis, then you’re in luck. \\nThe first truly breathtaking moment comes three tracks in, when a gorgeous, woozy voice starts intoning ‘Lucy In The Sky With Diamonds’. It sends you scrabbling for the contributors’ list: whose voice is that? It’s Miley Cyrus – 2014’s favourite enfant terrible steals the show both here and on closer ‘A Day In The Life’. The 21-year-old is one of a revolving cast of guest appearances; over the course of the album’s 13 tracks, Wayne Coyne takes a back seat to the likes of Tool Maynard’s James Keenan, Tegan & Sara and MGMT. The record is unified by the sheer joy that runs through it – no mean feat when it features so many different voices. The result is a delightful tribute to The Beatles and a record that has made so many turn on, tune in and drop out. \\n Related TopicsThe Flaming Lips\""
      ]
     },
     "execution_count": 45,
     "metadata": {},
     "output_type": "execute_result"
    }
   ],
   "source": [
    "nme_df[500]"
   ]
  },
  {
   "cell_type": "code",
   "execution_count": 46,
   "id": "4c2fd554-2bcd-46b2-8eab-98e767a6bed0",
   "metadata": {},
   "outputs": [
    {
     "data": {
      "text/plain": [
       "'  Search ReviewsAlbum Reviews Angel Olsen – ‘Burn Your Fire For No Witness’ Missouri-born singer turns emotional pain into a positive on her second album By Al Horner 17th February 2014 \\n\\n Angel Olsen is only just releasing her second full-length album, but the Missouri-born guitarist already has a fully formed personal philosophy: “No-one will ever be you for yourself”, she sang gravely on ‘The Sky Opened Up’, from 2012’s largely acoustic ‘Half Way Home’. Released on tiny North Carolina indie Bathetic, the album’s word-of-mouth success invited her to a comparably bigger deal with Jagjaguwar, who are putting out ‘Burn Your Fire For No Witness’.\\nIts title is a biblically bold declaration accompanied by 11 songs that put the 27-year-old’s worldview in no uncertain terms: disinterested in the attentions of others and steadfastly committed to honouring her own intentions and experience. That perhaps makes it sound like Savages’ unwavering manifesto, but Olsen’s approach is rounded by human fallibility, recalling a fabled line from Leonard Cohen’s ‘Anthem’: “There is a crack in everything/That’s how the light gets in”. \\nWith Olsen’s Weimar cabaret-worthy voice and gently woven guitar, ‘Halfway Home’ could have passed for a long-lost classic from an age before electric recordings, sounding haunted by ghosts. ‘Burn…’ is her first album recorded with a full band, though the resultant fuzzily glam swagger doesn’t forsake her wise style, instead coming off like Bill Callahan covering T Rex. Hiring John Congleton to produce was the perfect choice: as evinced on his work with Callahan and St Vincent, he has no signature sound beyond pristine, crisp recording, preserving the purity of Olsen’s vision.\\nHer newfound musical directness translates into the songwriting: much of ‘Burn…’ exists in the aftermath of various palpable betrayals, which Olsen confronts swiftly and cuttingly, breaking beyond the internal dialogues of ‘Halfway Home’ and letting her deeply relatable scattershot responses spill out. On seething opener ‘Unfucktheworld’, she raises a glass brimming with sarcasm to “thinking that it all meant so much more”, and finally snaps on ‘Stars’, where she’s so furious, she threatens to “scream the stars out of the universe” with Maria Callas’ verve. But a few deep breaths later, she realises she could take this incident and use it to “sing the stars into the universe”.\\nThat’s where the light gets into Olsen’s work: beyond her gorgeous guitar, whether sawdust punk, reverb-laden slow dance or near-silent reverie, it’s in the way she’s been steeled by sorrow, a process of galvanising that never ends. It’s tough, as the crushed ‘White Fire’ makes plain, but eventually you’ll gather the strength to stare sadness in the face and laugh: the jaunty ‘Hi-Five’ is a comic paean to lost souls wallowing in self-pity. To get to that point, “all you need is one good thought strong in your mind”, she sings on ‘Lights Out’, a waltzing, rallying country torch song. The sublime ‘Burn…’ is testament that Olsen’s philosophy of self-belief pays off. \\nLaura Snapes\\n Related TopicsVarious Artists   Search ReviewsAlbum Reviews Angel Olsen – ‘Burn Your Fire For No Witness’ Missouri-born singer turns emotional pain into a positive on her second album By Al Horner 17th February 2014 \\n\\n Angel Olsen is only just releasing her second full-length album, but the Missouri-born guitarist already has a fully formed personal philosophy: “No-one will ever be you for yourself”, she sang gravely on ‘The Sky Opened Up’, from 2012’s largely acoustic ‘Half Way Home’. Released on tiny North Carolina indie Bathetic, the album’s word-of-mouth success invited her to a comparably bigger deal with Jagjaguwar, who are putting out ‘Burn Your Fire For No Witness’.\\nIts title is a biblically bold declaration accompanied by 11 songs that put the 27-year-old’s worldview in no uncertain terms: disinterested in the attentions of others and steadfastly committed to honouring her own intentions and experience. That perhaps makes it sound like Savages’ unwavering manifesto, but Olsen’s approach is rounded by human fallibility, recalling a fabled line from Leonard Cohen’s ‘Anthem’: “There is a crack in everything/That’s how the light gets in”. \\nWith Olsen’s Weimar cabaret-worthy voice and gently woven guitar, ‘Halfway Home’ could have passed for a long-lost classic from an age before electric recordings, sounding haunted by ghosts. ‘Burn…’ is her first album recorded with a full band, though the resultant fuzzily glam swagger doesn’t forsake her wise style, instead coming off like Bill Callahan covering T Rex. Hiring John Congleton to produce was the perfect choice: as evinced on his work with Callahan and St Vincent, he has no signature sound beyond pristine, crisp recording, preserving the purity of Olsen’s vision.\\nHer newfound musical directness translates into the songwriting: much of ‘Burn…’ exists in the aftermath of various palpable betrayals, which Olsen confronts swiftly and cuttingly, breaking beyond the internal dialogues of ‘Halfway Home’ and letting her deeply relatable scattershot responses spill out. On seething opener ‘Unfucktheworld’, she raises a glass brimming with sarcasm to “thinking that it all meant so much more”, and finally snaps on ‘Stars’, where she’s so furious, she threatens to “scream the stars out of the universe” with Maria Callas’ verve. But a few deep breaths later, she realises she could take this incident and use it to “sing the stars into the universe”.\\nThat’s where the light gets into Olsen’s work: beyond her gorgeous guitar, whether sawdust punk, reverb-laden slow dance or near-silent reverie, it’s in the way she’s been steeled by sorrow, a process of galvanising that never ends. It’s tough, as the crushed ‘White Fire’ makes plain, but eventually you’ll gather the strength to stare sadness in the face and laugh: the jaunty ‘Hi-Five’ is a comic paean to lost souls wallowing in self-pity. To get to that point, “all you need is one good thought strong in your mind”, she sings on ‘Lights Out’, a waltzing, rallying country torch song. The sublime ‘Burn…’ is testament that Olsen’s philosophy of self-belief pays off. \\nLaura Snapes\\n Related TopicsVarious Artists'"
      ]
     },
     "execution_count": 46,
     "metadata": {},
     "output_type": "execute_result"
    }
   ],
   "source": [
    "nme_df[600]"
   ]
  },
  {
   "cell_type": "code",
   "execution_count": 48,
   "id": "cf6cc778-986f-4ca7-acac-bfee9e5b1129",
   "metadata": {},
   "outputs": [],
   "source": [
    "import re\n",
    "\n",
    "def replace_videos(x):\n",
    "    \n",
    "    for match in re.findall(\"\\n{5,}[\\s\\S]+?Linkhttps://[\\s\\S]+?\\xa0\\n\", x):\n",
    "        x = x.replace(match, \" \")\n",
    "        \n",
    "    return x\n",
    "\n",
    "nme_df = nme_df.apply(replace_videos)"
   ]
  },
  {
   "cell_type": "code",
   "execution_count": 49,
   "id": "b33d7be3-1eb1-47ff-857f-0905efe5eb7c",
   "metadata": {},
   "outputs": [],
   "source": [
    "def remove_title(x):\n",
    "    \n",
    "    index = x.find(\"\\n\\n\")\n",
    "    \n",
    "    if index != -1:\n",
    "        return x[index + 2:]\n",
    "    else:\n",
    "        return x\n",
    "    \n",
    "nme_df = nme_df.apply(remove_title)"
   ]
  },
  {
   "cell_type": "code",
   "execution_count": 50,
   "id": "33afc516-f8e0-4c23-abfb-a020ec5d0b81",
   "metadata": {},
   "outputs": [
    {
     "data": {
      "text/plain": [
       "'Arlo Parks. CREDIT: Alex Kurun Arlo Parks’ rise feels very timely indeed. Her music is like a warm hug, a reassurance that everything is going to be OK when the world is dark and things seem out of control. True to form, her debut album is a sanctuary of compassionate lyricism and groove-along tunes.\\n\\nRead More:\\xa0On the cover – Arlo Parks: “I feel like I’m 10 and 100 at once”\\n\\n\\n\\nWhile 2020 may have been a write-off for most, it certainly was a good year for the 20-year-old west Londoner. She released a stream of well-received singles, was named BBC Music Introducing Artist of the Year, appeared on the cover of NME and featured on a playlist by Michelle Obama. Most importantly however, she became an advocate for the mental health charity CALM (Campaign Against Living Miserably), which sent a powerful message of unity to her young fanbase. Languid breakout single ‘Hurt’, which appears here, epitomises Parks’ music as a soothing balm: “I know you can’t let go of anything at the moment / Just know it would hurt so, won’t hurt so much forever.”\\n\\n\\nDespite the deceptively soothing nature of her sound – soft neo-soul, acoustic guitar, that honeyed voice – Parks is an artist challenging received wisdom about mental health, a champion of free expression of self. She broke through in 2018 with the dreamy ‘Cola’, a disarmingly intimate tale of infidelity through poetic lyrics (“I miss the way you dressed all punk / With the black and the studs and the ripped up gloves / Bet she loved your tough-guy front”), illustrating complex emotions through an accessible medium – and was duly catapulted to indie stardom.\\nWritten in the same bedroom where she recorded most of her demos, and utilising old diaries and notebooks, ‘Collapsed In Sunbeams’ is made up of daydream musings over jazz-meets-pop instrumentals. The 12-song collection feels more refined than her previous EPs, with slicker production from her label Transgressive, whose signees include Foals, Loyle Carner and Marika Hackman, yet maintains the intimacy that grabbed so many at the start of her career.\\nAdvertisement The album is laced with references to artists who influenced her, from Sylvia Plath to Robert Smith (on the irresistible ‘Eugene’, she wryly notes, “[You] read him Sylvia Plath / I thought that that was our thing)”, and Parks has described the album as “a series of vignettes and intimate portraits surrounding my adolescence and the people that shaped it. It is rooted in storytelling and nostalgia – I want it to feel both universal and hyper-specific.”\\nThis is evident from the opening title track. A spoken-word piece that underpins the sentiment of the whole record, ‘Collapsed In Sunbeams’ is a poignant reflection on finding beauty in pain, embracing emotional turbulence and speaking openly about your feelings. We are all learning to trust our bodies, making peace with our own distortions,” Parks recites over stripped-back guitars and gently flowing synths, “You shouldn’t be afraid to cry in front of me”.\\nParks has a singular talent for tapping into sadness and turning it into something uplifting. Last year, NME named ‘Black Dog’, a track about depression, 2020’s “most devastating song”; with lines such as “Sometimes it seems like you won’t survive this / And honestly it’s terrifying,” it’s a brilliantly and sometimes painfully honest song. Meanwhile, tracks the likes of ‘Eugene’, which is about being in love with your straight friend – Parks is openly bisexual – and ‘For Violet’, which explores familial disapproval, further explore universal coming-of-age struggles.\\nWhenever she touches upon difficult subjects, though, Parks provides a voice of empathy and wisdom. ‘Hope’ channels the likes of Blood Orange with layered harmonies and psychedelic guitar riffs, while she sings, “You’re not alone / Like you think you are / We all have scars / I know it’s hard / You’re not alone.” Further into the track, there’s a resurrection of her spoken-word delivery as she earnestly addresses the listener: “I cannot communicate the depth of the feeling / Truth is I’m still learning to be open about this.”\\nToo Good’ adds a greater feeling of lightness to counteract darker themes, bringing texture to the collection. Backed by bouncy guitars, funky basslines and catchy pop hooks, Parks sings an infectious chorus: “I think you know it / Too cool to show it / Babe, you’re so good / You’re too good to be true.” Then there’s the stunning ‘Green Eyes’, which was co-written with new-gen icon Clairo and sees the pair reflect on social attitudes towards same-sex relationships: “Some of these folks wanna make you cry / But you gotta trust how you feel inside and shine.”\\nThe closing track, ‘Portra 400’, rounds off this vivid portrait of young adulthood through delicate instrumentals and lines such as “Making rainbows, out of something painful / Getting fried as hell / And dodging gravestones.” This finale perfectly summarises the profound thought patterns interwoven throughout ‘Collapsed In Sunbeams’.\\nAdvertisement  \\nArlo Parks may be the voice of Gen Z, but there’s no doubt that this is a universal collection of stories that’ll provide solace for listeners of all ages and backgrounds for decades to come.\\nDetails\\n\\nRelease date:\\xa0January 29\\nRecord label: Beatnik,\\xa0Transgressive\\n \\nWhile 2020 may have been a write-off for most, it certainly was a good year for the 20-year-old west Londoner. She released a stream of well-received singles, was named BBC Music Introducing Artist of the Year, appeared on the cover of NME and featured on a playlist by Michelle Obama. Most importantly however, she became an advocate for the mental health charity CALM (Campaign Against Living Miserably), which sent a powerful message of unity to her young fanbase. Languid breakout single ‘Hurt’, which appears here, epitomises Parks’ music as a soothing balm: “I know you can’t let go of anything at the moment / Just know it would hurt so, won’t hurt so much forever.”\\n Related TopicsArlo ParksPop   Search Reviews Arlo Parks – ‘Collapsed In Sunbeams’ review: soothing sounds and universal tales The breakout star has crafted a quietly subversive pop record that, for all its deceptive softness, challenges old perceptions of sexuality and mental health By Georgia Evans 26th January 2021 \\n\\nArlo Parks. CREDIT: Alex Kurun Arlo Parks’ rise feels very timely indeed. Her music is like a warm hug, a reassurance that everything is going to be OK when the world is dark and things seem out of control. True to form, her debut album is a sanctuary of compassionate lyricism and groove-along tunes.\\n\\nRead More:\\xa0On the cover – Arlo Parks: “I feel like I’m 10 and 100 at once”\\n\\n\\n\\nWhile 2020 may have been a write-off for most, it certainly was a good year for the 20-year-old west Londoner. She released a stream of well-received singles, was named BBC Music Introducing Artist of the Year, appeared on the cover of NME and featured on a playlist by Michelle Obama. Most importantly however, she became an advocate for the mental health charity CALM (Campaign Against Living Miserably), which sent a powerful message of unity to her young fanbase. Languid breakout single ‘Hurt’, which appears here, epitomises Parks’ music as a soothing balm: “I know you can’t let go of anything at the moment / Just know it would hurt so, won’t hurt so much forever.”\\n\\n\\nDespite the deceptively soothing nature of her sound – soft neo-soul, acoustic guitar, that honeyed voice – Parks is an artist challenging received wisdom about mental health, a champion of free expression of self. She broke through in 2018 with the dreamy ‘Cola’, a disarmingly intimate tale of infidelity through poetic lyrics (“I miss the way you dressed all punk / With the black and the studs and the ripped up gloves / Bet she loved your tough-guy front”), illustrating complex emotions through an accessible medium – and was duly catapulted to indie stardom.\\nWritten in the same bedroom where she recorded most of her demos, and utilising old diaries and notebooks, ‘Collapsed In Sunbeams’ is made up of daydream musings over jazz-meets-pop instrumentals. The 12-song collection feels more refined than her previous EPs, with slicker production from her label Transgressive, whose signees include Foals, Loyle Carner and Marika Hackman, yet maintains the intimacy that grabbed so many at the start of her career.\\nAdvertisement The album is laced with references to artists who influenced her, from Sylvia Plath to Robert Smith (on the irresistible ‘Eugene’, she wryly notes, “[You] read him Sylvia Plath / I thought that that was our thing)”, and Parks has described the album as “a series of vignettes and intimate portraits surrounding my adolescence and the people that shaped it. It is rooted in storytelling and nostalgia – I want it to feel both universal and hyper-specific.”\\nThis is evident from the opening title track. A spoken-word piece that underpins the sentiment of the whole record, ‘Collapsed In Sunbeams’ is a poignant reflection on finding beauty in pain, embracing emotional turbulence and speaking openly about your feelings. We are all learning to trust our bodies, making peace with our own distortions,” Parks recites over stripped-back guitars and gently flowing synths, “You shouldn’t be afraid to cry in front of me”.\\nParks has a singular talent for tapping into sadness and turning it into something uplifting. Last year, NME named ‘Black Dog’, a track about depression, 2020’s “most devastating song”; with lines such as “Sometimes it seems like you won’t survive this / And honestly it’s terrifying,” it’s a brilliantly and sometimes painfully honest song. Meanwhile, tracks the likes of ‘Eugene’, which is about being in love with your straight friend – Parks is openly bisexual – and ‘For Violet’, which explores familial disapproval, further explore universal coming-of-age struggles.\\nWhenever she touches upon difficult subjects, though, Parks provides a voice of empathy and wisdom. ‘Hope’ channels the likes of Blood Orange with layered harmonies and psychedelic guitar riffs, while she sings, “You’re not alone / Like you think you are / We all have scars / I know it’s hard / You’re not alone.” Further into the track, there’s a resurrection of her spoken-word delivery as she earnestly addresses the listener: “I cannot communicate the depth of the feeling / Truth is I’m still learning to be open about this.”\\nToo Good’ adds a greater feeling of lightness to counteract darker themes, bringing texture to the collection. Backed by bouncy guitars, funky basslines and catchy pop hooks, Parks sings an infectious chorus: “I think you know it / Too cool to show it / Babe, you’re so good / You’re too good to be true.” Then there’s the stunning ‘Green Eyes’, which was co-written with new-gen icon Clairo and sees the pair reflect on social attitudes towards same-sex relationships: “Some of these folks wanna make you cry / But you gotta trust how you feel inside and shine.”\\nThe closing track, ‘Portra 400’, rounds off this vivid portrait of young adulthood through delicate instrumentals and lines such as “Making rainbows, out of something painful / Getting fried as hell / And dodging gravestones.” This finale perfectly summarises the profound thought patterns interwoven throughout ‘Collapsed In Sunbeams’.\\nAdvertisement  \\nArlo Parks may be the voice of Gen Z, but there’s no doubt that this is a universal collection of stories that’ll provide solace for listeners of all ages and backgrounds for decades to come.\\nDetails\\n\\nRelease date:\\xa0January 29\\nRecord label: Beatnik,\\xa0Transgressive\\n \\nWhile 2020 may have been a write-off for most, it certainly was a good year for the 20-year-old west Londoner. She released a stream of well-received singles, was named BBC Music Introducing Artist of the Year, appeared on the cover of NME and featured on a playlist by Michelle Obama. Most importantly however, she became an advocate for the mental health charity CALM (Campaign Against Living Miserably), which sent a powerful message of unity to her young fanbase. Languid breakout single ‘Hurt’, which appears here, epitomises Parks’ music as a soothing balm: “I know you can’t let go of anything at the moment / Just know it would hurt so, won’t hurt so much forever.”\\n Related TopicsArlo ParksPop'"
      ]
     },
     "execution_count": 50,
     "metadata": {},
     "output_type": "execute_result"
    }
   ],
   "source": [
    "nme_df[100]"
   ]
  },
  {
   "cell_type": "code",
   "execution_count": 51,
   "id": "09438dfe-0c67-4ead-9ab8-2966ec95c219",
   "metadata": {},
   "outputs": [
    {
     "data": {
      "text/plain": [
       "'Arlo Parks. CREDIT: Alex Kurun Arlo Parks’ rise feels very timely indeed. Her music is like a warm hug, a reassurance that everything is going to be OK when the world is dark and things seem out of control. True to form, her debut album is a sanctuary of compassionate lyricism and groove-along tunes.\\n\\nRead More:\\xa0On the cover – Arlo Parks: “I feel like I’m 10 and 100 at once”\\n\\n\\n\\nWhile 2020 may have been a write-off for most, it certainly was a good year for the 20-year-old west Londoner. She released a stream of well-received singles, was named BBC Music Introducing Artist of the Year, appeared on the cover of NME and featured on a playlist by Michelle Obama. Most importantly however, she became an advocate for the mental health charity CALM (Campaign Against Living Miserably), which sent a powerful message of unity to her young fanbase. Languid breakout single ‘Hurt’, which appears here, epitomises Parks’ music as a soothing balm: “I know you can’t let go of anything at the moment / Just know it would hurt so, won’t hurt so much forever.”\\n\\n\\nDespite the deceptively soothing nature of her sound – soft neo-soul, acoustic guitar, that honeyed voice – Parks is an artist challenging received wisdom about mental health, a champion of free expression of self. She broke through in 2018 with the dreamy ‘Cola’, a disarmingly intimate tale of infidelity through poetic lyrics (“I miss the way you dressed all punk / With the black and the studs and the ripped up gloves / Bet she loved your tough-guy front”), illustrating complex emotions through an accessible medium – and was duly catapulted to indie stardom.\\nWritten in the same bedroom where she recorded most of her demos, and utilising old diaries and notebooks, ‘Collapsed In Sunbeams’ is made up of daydream musings over jazz-meets-pop instrumentals. The 12-song collection feels more refined than her previous EPs, with slicker production from her label Transgressive, whose signees include Foals, Loyle Carner and Marika Hackman, yet maintains the intimacy that grabbed so many at the start of her career.\\nAdvertisement The album is laced with references to artists who influenced her, from Sylvia Plath to Robert Smith (on the irresistible ‘Eugene’, she wryly notes, “[You] read him Sylvia Plath / I thought that that was our thing)”, and Parks has described the album as “a series of vignettes and intimate portraits surrounding my adolescence and the people that shaped it. It is rooted in storytelling and nostalgia – I want it to feel both universal and hyper-specific.”\\nThis is evident from the opening title track. A spoken-word piece that underpins the sentiment of the whole record, ‘Collapsed In Sunbeams’ is a poignant reflection on finding beauty in pain, embracing emotional turbulence and speaking openly about your feelings. We are all learning to trust our bodies, making peace with our own distortions,” Parks recites over stripped-back guitars and gently flowing synths, “You shouldn’t be afraid to cry in front of me”.\\nParks has a singular talent for tapping into sadness and turning it into something uplifting. Last year, NME named ‘Black Dog’, a track about depression, 2020’s “most devastating song”; with lines such as “Sometimes it seems like you won’t survive this / And honestly it’s terrifying,” it’s a brilliantly and sometimes painfully honest song. Meanwhile, tracks the likes of ‘Eugene’, which is about being in love with your straight friend – Parks is openly bisexual – and ‘For Violet’, which explores familial disapproval, further explore universal coming-of-age struggles.\\nWhenever she touches upon difficult subjects, though, Parks provides a voice of empathy and wisdom. ‘Hope’ channels the likes of Blood Orange with layered harmonies and psychedelic guitar riffs, while she sings, “You’re not alone / Like you think you are / We all have scars / I know it’s hard / You’re not alone.” Further into the track, there’s a resurrection of her spoken-word delivery as she earnestly addresses the listener: “I cannot communicate the depth of the feeling / Truth is I’m still learning to be open about this.”\\nToo Good’ adds a greater feeling of lightness to counteract darker themes, bringing texture to the collection. Backed by bouncy guitars, funky basslines and catchy pop hooks, Parks sings an infectious chorus: “I think you know it / Too cool to show it / Babe, you’re so good / You’re too good to be true.” Then there’s the stunning ‘Green Eyes’, which was co-written with new-gen icon Clairo and sees the pair reflect on social attitudes towards same-sex relationships: “Some of these folks wanna make you cry / But you gotta trust how you feel inside and shine.”\\nThe closing track, ‘Portra 400’, rounds off this vivid portrait of young adulthood through delicate instrumentals and lines such as “Making rainbows, out of something painful / Getting fried as hell / And dodging gravestones.” This finale perfectly summarises the profound thought patterns interwoven throughout ‘Collapsed In Sunbeams’.\\nAdvertisement  \\nArlo Parks may be the voice of Gen Z, but there’s no doubt that this is a universal collection of stories that’ll provide solace for listeners of all ages and backgrounds for decades to come.  \\nWhile 2020 may have been a write-off for most, it certainly was a good year for the 20-year-old west Londoner. She released a stream of well-received singles, was named BBC Music Introducing Artist of the Year, appeared on the cover of NME and featured on a playlist by Michelle Obama. Most importantly however, she became an advocate for the mental health charity CALM (Campaign Against Living Miserably), which sent a powerful message of unity to her young fanbase. Languid breakout single ‘Hurt’, which appears here, epitomises Parks’ music as a soothing balm: “I know you can’t let go of anything at the moment / Just know it would hurt so, won’t hurt so much forever.”\\n Related TopicsArlo ParksPop   Search Reviews Arlo Parks – ‘Collapsed In Sunbeams’ review: soothing sounds and universal tales The breakout star has crafted a quietly subversive pop record that, for all its deceptive softness, challenges old perceptions of sexuality and mental health By Georgia Evans 26th January 2021 \\n\\nArlo Parks. CREDIT: Alex Kurun Arlo Parks’ rise feels very timely indeed. Her music is like a warm hug, a reassurance that everything is going to be OK when the world is dark and things seem out of control. True to form, her debut album is a sanctuary of compassionate lyricism and groove-along tunes.\\n\\nRead More:\\xa0On the cover – Arlo Parks: “I feel like I’m 10 and 100 at once”\\n\\n\\n\\nWhile 2020 may have been a write-off for most, it certainly was a good year for the 20-year-old west Londoner. She released a stream of well-received singles, was named BBC Music Introducing Artist of the Year, appeared on the cover of NME and featured on a playlist by Michelle Obama. Most importantly however, she became an advocate for the mental health charity CALM (Campaign Against Living Miserably), which sent a powerful message of unity to her young fanbase. Languid breakout single ‘Hurt’, which appears here, epitomises Parks’ music as a soothing balm: “I know you can’t let go of anything at the moment / Just know it would hurt so, won’t hurt so much forever.”\\n\\n\\nDespite the deceptively soothing nature of her sound – soft neo-soul, acoustic guitar, that honeyed voice – Parks is an artist challenging received wisdom about mental health, a champion of free expression of self. She broke through in 2018 with the dreamy ‘Cola’, a disarmingly intimate tale of infidelity through poetic lyrics (“I miss the way you dressed all punk / With the black and the studs and the ripped up gloves / Bet she loved your tough-guy front”), illustrating complex emotions through an accessible medium – and was duly catapulted to indie stardom.\\nWritten in the same bedroom where she recorded most of her demos, and utilising old diaries and notebooks, ‘Collapsed In Sunbeams’ is made up of daydream musings over jazz-meets-pop instrumentals. The 12-song collection feels more refined than her previous EPs, with slicker production from her label Transgressive, whose signees include Foals, Loyle Carner and Marika Hackman, yet maintains the intimacy that grabbed so many at the start of her career.\\nAdvertisement The album is laced with references to artists who influenced her, from Sylvia Plath to Robert Smith (on the irresistible ‘Eugene’, she wryly notes, “[You] read him Sylvia Plath / I thought that that was our thing)”, and Parks has described the album as “a series of vignettes and intimate portraits surrounding my adolescence and the people that shaped it. It is rooted in storytelling and nostalgia – I want it to feel both universal and hyper-specific.”\\nThis is evident from the opening title track. A spoken-word piece that underpins the sentiment of the whole record, ‘Collapsed In Sunbeams’ is a poignant reflection on finding beauty in pain, embracing emotional turbulence and speaking openly about your feelings. We are all learning to trust our bodies, making peace with our own distortions,” Parks recites over stripped-back guitars and gently flowing synths, “You shouldn’t be afraid to cry in front of me”.\\nParks has a singular talent for tapping into sadness and turning it into something uplifting. Last year, NME named ‘Black Dog’, a track about depression, 2020’s “most devastating song”; with lines such as “Sometimes it seems like you won’t survive this / And honestly it’s terrifying,” it’s a brilliantly and sometimes painfully honest song. Meanwhile, tracks the likes of ‘Eugene’, which is about being in love with your straight friend – Parks is openly bisexual – and ‘For Violet’, which explores familial disapproval, further explore universal coming-of-age struggles.\\nWhenever she touches upon difficult subjects, though, Parks provides a voice of empathy and wisdom. ‘Hope’ channels the likes of Blood Orange with layered harmonies and psychedelic guitar riffs, while she sings, “You’re not alone / Like you think you are / We all have scars / I know it’s hard / You’re not alone.” Further into the track, there’s a resurrection of her spoken-word delivery as she earnestly addresses the listener: “I cannot communicate the depth of the feeling / Truth is I’m still learning to be open about this.”\\nToo Good’ adds a greater feeling of lightness to counteract darker themes, bringing texture to the collection. Backed by bouncy guitars, funky basslines and catchy pop hooks, Parks sings an infectious chorus: “I think you know it / Too cool to show it / Babe, you’re so good / You’re too good to be true.” Then there’s the stunning ‘Green Eyes’, which was co-written with new-gen icon Clairo and sees the pair reflect on social attitudes towards same-sex relationships: “Some of these folks wanna make you cry / But you gotta trust how you feel inside and shine.”\\nThe closing track, ‘Portra 400’, rounds off this vivid portrait of young adulthood through delicate instrumentals and lines such as “Making rainbows, out of something painful / Getting fried as hell / And dodging gravestones.” This finale perfectly summarises the profound thought patterns interwoven throughout ‘Collapsed In Sunbeams’.\\nAdvertisement  \\nArlo Parks may be the voice of Gen Z, but there’s no doubt that this is a universal collection of stories that’ll provide solace for listeners of all ages and backgrounds for decades to come.  \\nWhile 2020 may have been a write-off for most, it certainly was a good year for the 20-year-old west Londoner. She released a stream of well-received singles, was named BBC Music Introducing Artist of the Year, appeared on the cover of NME and featured on a playlist by Michelle Obama. Most importantly however, she became an advocate for the mental health charity CALM (Campaign Against Living Miserably), which sent a powerful message of unity to her young fanbase. Languid breakout single ‘Hurt’, which appears here, epitomises Parks’ music as a soothing balm: “I know you can’t let go of anything at the moment / Just know it would hurt so, won’t hurt so much forever.”\\n Related TopicsArlo ParksPop'"
      ]
     },
     "execution_count": 51,
     "metadata": {},
     "output_type": "execute_result"
    }
   ],
   "source": [
    "def remove_details(x):\n",
    "    \n",
    "    for match in re.findall(\"\\nDetails[\\s\\S]+?\\nRelease date:[\\s\\S]+?Record label:[\\s\\S]+?\\n\", x):\n",
    "        x = x.replace(match, \" \")\n",
    "        \n",
    "    return x\n",
    "\n",
    "nme_df = nme_df.apply(remove_details)\n",
    "nme_df[100]"
   ]
  },
  {
   "cell_type": "code",
   "execution_count": 52,
   "id": "f5fa4d8d-815a-428d-a683-ffd210493a6e",
   "metadata": {},
   "outputs": [
    {
     "data": {
      "text/plain": [
       "'Arlo Parks. CREDIT: Alex Kurun Arlo Parks’ rise feels very timely indeed. Her music is like a warm hug, a reassurance that everything is going to be OK when the world is dark and things seem out of control. True to form, her debut album is a sanctuary of compassionate lyricism and groove-along tunes. While 2020 may have been a write-off for most, it certainly was a good year for the 20-year-old west Londoner. She released a stream of well-received singles, was named BBC Music Introducing Artist of the Year, appeared on the cover of NME and featured on a playlist by Michelle Obama. Most importantly however, she became an advocate for the mental health charity CALM (Campaign Against Living Miserably), which sent a powerful message of unity to her young fanbase. Languid breakout single ‘Hurt’, which appears here, epitomises Parks’ music as a soothing balm: “I know you can’t let go of anything at the moment / Just know it would hurt so, won’t hurt so much forever.”\\n\\n\\nDespite the deceptively soothing nature of her sound – soft neo-soul, acoustic guitar, that honeyed voice – Parks is an artist challenging received wisdom about mental health, a champion of free expression of self. She broke through in 2018 with the dreamy ‘Cola’, a disarmingly intimate tale of infidelity through poetic lyrics (“I miss the way you dressed all punk / With the black and the studs and the ripped up gloves / Bet she loved your tough-guy front”), illustrating complex emotions through an accessible medium – and was duly catapulted to indie stardom.\\nWritten in the same bedroom where she recorded most of her demos, and utilising old diaries and notebooks, ‘Collapsed In Sunbeams’ is made up of daydream musings over jazz-meets-pop instrumentals. The 12-song collection feels more refined than her previous EPs, with slicker production from her label Transgressive, whose signees include Foals, Loyle Carner and Marika Hackman, yet maintains the intimacy that grabbed so many at the start of her career.\\nAdvertisement The album is laced with references to artists who influenced her, from Sylvia Plath to Robert Smith (on the irresistible ‘Eugene’, she wryly notes, “[You] read him Sylvia Plath / I thought that that was our thing)”, and Parks has described the album as “a series of vignettes and intimate portraits surrounding my adolescence and the people that shaped it. It is rooted in storytelling and nostalgia – I want it to feel both universal and hyper-specific.”\\nThis is evident from the opening title track. A spoken-word piece that underpins the sentiment of the whole record, ‘Collapsed In Sunbeams’ is a poignant reflection on finding beauty in pain, embracing emotional turbulence and speaking openly about your feelings. We are all learning to trust our bodies, making peace with our own distortions,” Parks recites over stripped-back guitars and gently flowing synths, “You shouldn’t be afraid to cry in front of me”.\\nParks has a singular talent for tapping into sadness and turning it into something uplifting. Last year, NME named ‘Black Dog’, a track about depression, 2020’s “most devastating song”; with lines such as “Sometimes it seems like you won’t survive this / And honestly it’s terrifying,” it’s a brilliantly and sometimes painfully honest song. Meanwhile, tracks the likes of ‘Eugene’, which is about being in love with your straight friend – Parks is openly bisexual – and ‘For Violet’, which explores familial disapproval, further explore universal coming-of-age struggles.\\nWhenever she touches upon difficult subjects, though, Parks provides a voice of empathy and wisdom. ‘Hope’ channels the likes of Blood Orange with layered harmonies and psychedelic guitar riffs, while she sings, “You’re not alone / Like you think you are / We all have scars / I know it’s hard / You’re not alone.” Further into the track, there’s a resurrection of her spoken-word delivery as she earnestly addresses the listener: “I cannot communicate the depth of the feeling / Truth is I’m still learning to be open about this.”\\nToo Good’ adds a greater feeling of lightness to counteract darker themes, bringing texture to the collection. Backed by bouncy guitars, funky basslines and catchy pop hooks, Parks sings an infectious chorus: “I think you know it / Too cool to show it / Babe, you’re so good / You’re too good to be true.” Then there’s the stunning ‘Green Eyes’, which was co-written with new-gen icon Clairo and sees the pair reflect on social attitudes towards same-sex relationships: “Some of these folks wanna make you cry / But you gotta trust how you feel inside and shine.”\\nThe closing track, ‘Portra 400’, rounds off this vivid portrait of young adulthood through delicate instrumentals and lines such as “Making rainbows, out of something painful / Getting fried as hell / And dodging gravestones.” This finale perfectly summarises the profound thought patterns interwoven throughout ‘Collapsed In Sunbeams’.\\nAdvertisement  \\nArlo Parks may be the voice of Gen Z, but there’s no doubt that this is a universal collection of stories that’ll provide solace for listeners of all ages and backgrounds for decades to come.  \\nWhile 2020 may have been a write-off for most, it certainly was a good year for the 20-year-old west Londoner. She released a stream of well-received singles, was named BBC Music Introducing Artist of the Year, appeared on the cover of NME and featured on a playlist by Michelle Obama. Most importantly however, she became an advocate for the mental health charity CALM (Campaign Against Living Miserably), which sent a powerful message of unity to her young fanbase. Languid breakout single ‘Hurt’, which appears here, epitomises Parks’ music as a soothing balm: “I know you can’t let go of anything at the moment / Just know it would hurt so, won’t hurt so much forever.”\\n Related TopicsArlo ParksPop   Search Reviews Arlo Parks – ‘Collapsed In Sunbeams’ review: soothing sounds and universal tales The breakout star has crafted a quietly subversive pop record that, for all its deceptive softness, challenges old perceptions of sexuality and mental health By Georgia Evans 26th January 2021 \\n\\nArlo Parks. CREDIT: Alex Kurun Arlo Parks’ rise feels very timely indeed. Her music is like a warm hug, a reassurance that everything is going to be OK when the world is dark and things seem out of control. True to form, her debut album is a sanctuary of compassionate lyricism and groove-along tunes. While 2020 may have been a write-off for most, it certainly was a good year for the 20-year-old west Londoner. She released a stream of well-received singles, was named BBC Music Introducing Artist of the Year, appeared on the cover of NME and featured on a playlist by Michelle Obama. Most importantly however, she became an advocate for the mental health charity CALM (Campaign Against Living Miserably), which sent a powerful message of unity to her young fanbase. Languid breakout single ‘Hurt’, which appears here, epitomises Parks’ music as a soothing balm: “I know you can’t let go of anything at the moment / Just know it would hurt so, won’t hurt so much forever.”\\n\\n\\nDespite the deceptively soothing nature of her sound – soft neo-soul, acoustic guitar, that honeyed voice – Parks is an artist challenging received wisdom about mental health, a champion of free expression of self. She broke through in 2018 with the dreamy ‘Cola’, a disarmingly intimate tale of infidelity through poetic lyrics (“I miss the way you dressed all punk / With the black and the studs and the ripped up gloves / Bet she loved your tough-guy front”), illustrating complex emotions through an accessible medium – and was duly catapulted to indie stardom.\\nWritten in the same bedroom where she recorded most of her demos, and utilising old diaries and notebooks, ‘Collapsed In Sunbeams’ is made up of daydream musings over jazz-meets-pop instrumentals. The 12-song collection feels more refined than her previous EPs, with slicker production from her label Transgressive, whose signees include Foals, Loyle Carner and Marika Hackman, yet maintains the intimacy that grabbed so many at the start of her career.\\nAdvertisement The album is laced with references to artists who influenced her, from Sylvia Plath to Robert Smith (on the irresistible ‘Eugene’, she wryly notes, “[You] read him Sylvia Plath / I thought that that was our thing)”, and Parks has described the album as “a series of vignettes and intimate portraits surrounding my adolescence and the people that shaped it. It is rooted in storytelling and nostalgia – I want it to feel both universal and hyper-specific.”\\nThis is evident from the opening title track. A spoken-word piece that underpins the sentiment of the whole record, ‘Collapsed In Sunbeams’ is a poignant reflection on finding beauty in pain, embracing emotional turbulence and speaking openly about your feelings. We are all learning to trust our bodies, making peace with our own distortions,” Parks recites over stripped-back guitars and gently flowing synths, “You shouldn’t be afraid to cry in front of me”.\\nParks has a singular talent for tapping into sadness and turning it into something uplifting. Last year, NME named ‘Black Dog’, a track about depression, 2020’s “most devastating song”; with lines such as “Sometimes it seems like you won’t survive this / And honestly it’s terrifying,” it’s a brilliantly and sometimes painfully honest song. Meanwhile, tracks the likes of ‘Eugene’, which is about being in love with your straight friend – Parks is openly bisexual – and ‘For Violet’, which explores familial disapproval, further explore universal coming-of-age struggles.\\nWhenever she touches upon difficult subjects, though, Parks provides a voice of empathy and wisdom. ‘Hope’ channels the likes of Blood Orange with layered harmonies and psychedelic guitar riffs, while she sings, “You’re not alone / Like you think you are / We all have scars / I know it’s hard / You’re not alone.” Further into the track, there’s a resurrection of her spoken-word delivery as she earnestly addresses the listener: “I cannot communicate the depth of the feeling / Truth is I’m still learning to be open about this.”\\nToo Good’ adds a greater feeling of lightness to counteract darker themes, bringing texture to the collection. Backed by bouncy guitars, funky basslines and catchy pop hooks, Parks sings an infectious chorus: “I think you know it / Too cool to show it / Babe, you’re so good / You’re too good to be true.” Then there’s the stunning ‘Green Eyes’, which was co-written with new-gen icon Clairo and sees the pair reflect on social attitudes towards same-sex relationships: “Some of these folks wanna make you cry / But you gotta trust how you feel inside and shine.”\\nThe closing track, ‘Portra 400’, rounds off this vivid portrait of young adulthood through delicate instrumentals and lines such as “Making rainbows, out of something painful / Getting fried as hell / And dodging gravestones.” This finale perfectly summarises the profound thought patterns interwoven throughout ‘Collapsed In Sunbeams’.\\nAdvertisement  \\nArlo Parks may be the voice of Gen Z, but there’s no doubt that this is a universal collection of stories that’ll provide solace for listeners of all ages and backgrounds for decades to come.  \\nWhile 2020 may have been a write-off for most, it certainly was a good year for the 20-year-old west Londoner. She released a stream of well-received singles, was named BBC Music Introducing Artist of the Year, appeared on the cover of NME and featured on a playlist by Michelle Obama. Most importantly however, she became an advocate for the mental health charity CALM (Campaign Against Living Miserably), which sent a powerful message of unity to her young fanbase. Languid breakout single ‘Hurt’, which appears here, epitomises Parks’ music as a soothing balm: “I know you can’t let go of anything at the moment / Just know it would hurt so, won’t hurt so much forever.”\\n Related TopicsArlo ParksPop'"
      ]
     },
     "execution_count": 52,
     "metadata": {},
     "output_type": "execute_result"
    }
   ],
   "source": [
    "def remove_read_more(x):\n",
    "    \n",
    "    for match in re.findall(\"\\n\\n[\\s\\S]+?\\n\\n\\n\\n\", x):\n",
    "        x = x.replace(match, \" \")\n",
    "        \n",
    "    return x\n",
    "\n",
    "nme_df = nme_df.apply(remove_read_more)\n",
    "nme_df[100]"
   ]
  },
  {
   "cell_type": "code",
   "execution_count": 53,
   "id": "49422eef-df90-48ff-8d74-2b255b78cd3a",
   "metadata": {},
   "outputs": [
    {
     "data": {
      "text/plain": [
       "'Arlo Parks. CREDIT: Alex Kurun Arlo Parks’ rise feels very timely indeed. Her music is like a warm hug, a reassurance that everything is going to be OK when the world is dark and things seem out of control. True to form, her debut album is a sanctuary of compassionate lyricism and groove-along tunes. While 2020 may have been a write-off for most, it certainly was a good year for the 20-year-old west Londoner. She released a stream of well-received singles, was named BBC Music Introducing Artist of the Year, appeared on the cover of NME and featured on a playlist by Michelle Obama. Most importantly however, she became an advocate for the mental health charity CALM (Campaign Against Living Miserably), which sent a powerful message of unity to her young fanbase. Languid breakout single ‘Hurt’, which appears here, epitomises Parks’ music as a soothing balm: “I know you can’t let go of anything at the moment / Just know it would hurt so, won’t hurt so much forever.”\\n\\n\\nDespite the deceptively soothing nature of her sound – soft neo-soul, acoustic guitar, that honeyed voice – Parks is an artist challenging received wisdom about mental health, a champion of free expression of self. She broke through in 2018 with the dreamy ‘Cola’, a disarmingly intimate tale of infidelity through poetic lyrics (“I miss the way you dressed all punk / With the black and the studs and the ripped up gloves / Bet she loved your tough-guy front”), illustrating complex emotions through an accessible medium – and was duly catapulted to indie stardom.\\nWritten in the same bedroom where she recorded most of her demos, and utilising old diaries and notebooks, ‘Collapsed In Sunbeams’ is made up of daydream musings over jazz-meets-pop instrumentals. The 12-song collection feels more refined than her previous EPs, with slicker production from her label Transgressive, whose signees include Foals, Loyle Carner and Marika Hackman, yet maintains the intimacy that grabbed so many at the start of her career.\\nAdvertisement The album is laced with references to artists who influenced her, from Sylvia Plath to Robert Smith (on the irresistible ‘Eugene’, she wryly notes, “[You] read him Sylvia Plath / I thought that that was our thing)”, and Parks has described the album as “a series of vignettes and intimate portraits surrounding my adolescence and the people that shaped it. It is rooted in storytelling and nostalgia – I want it to feel both universal and hyper-specific.”\\nThis is evident from the opening title track. A spoken-word piece that underpins the sentiment of the whole record, ‘Collapsed In Sunbeams’ is a poignant reflection on finding beauty in pain, embracing emotional turbulence and speaking openly about your feelings. We are all learning to trust our bodies, making peace with our own distortions,” Parks recites over stripped-back guitars and gently flowing synths, “You shouldn’t be afraid to cry in front of me”.\\nParks has a singular talent for tapping into sadness and turning it into something uplifting. Last year, NME named ‘Black Dog’, a track about depression, 2020’s “most devastating song”; with lines such as “Sometimes it seems like you won’t survive this / And honestly it’s terrifying,” it’s a brilliantly and sometimes painfully honest song. Meanwhile, tracks the likes of ‘Eugene’, which is about being in love with your straight friend – Parks is openly bisexual – and ‘For Violet’, which explores familial disapproval, further explore universal coming-of-age struggles.\\nWhenever she touches upon difficult subjects, though, Parks provides a voice of empathy and wisdom. ‘Hope’ channels the likes of Blood Orange with layered harmonies and psychedelic guitar riffs, while she sings, “You’re not alone / Like you think you are / We all have scars / I know it’s hard / You’re not alone.” Further into the track, there’s a resurrection of her spoken-word delivery as she earnestly addresses the listener: “I cannot communicate the depth of the feeling / Truth is I’m still learning to be open about this.”\\nToo Good’ adds a greater feeling of lightness to counteract darker themes, bringing texture to the collection. Backed by bouncy guitars, funky basslines and catchy pop hooks, Parks sings an infectious chorus: “I think you know it / Too cool to show it / Babe, you’re so good / You’re too good to be true.” Then there’s the stunning ‘Green Eyes’, which was co-written with new-gen icon Clairo and sees the pair reflect on social attitudes towards same-sex relationships: “Some of these folks wanna make you cry / But you gotta trust how you feel inside and shine.”\\nThe closing track, ‘Portra 400’, rounds off this vivid portrait of young adulthood through delicate instrumentals and lines such as “Making rainbows, out of something painful / Getting fried as hell / And dodging gravestones.” This finale perfectly summarises the profound thought patterns interwoven throughout ‘Collapsed In Sunbeams’.\\nAdvertisement  \\nArlo Parks may be the voice of Gen Z, but there’s no doubt that this is a universal collection of stories that’ll provide solace for listeners of all ages and backgrounds for decades to come.  \\nWhile 2020 may have been a write-off for most, it certainly was a good year for the 20-year-old west Londoner. She released a stream of well-received singles, was named BBC Music Introducing Artist of the Year, appeared on the cover of NME and featured on a playlist by Michelle Obama. Most importantly however, she became an advocate for the mental health charity CALM (Campaign Against Living Miserably), which sent a powerful message of unity to her young fanbase. Languid breakout single ‘Hurt’, which appears here, epitomises Parks’ music as a soothing balm: “I know you can’t let go of anything at the moment / Just know it would hurt so, won’t hurt so much forever.”\\n Related TopicsArlo ParksPop   Search Reviews Arlo Parks – ‘Collapsed In Sunbeams’ review: soothing sounds and universal tales The breakout star has crafted a quietly subversive pop record that, for all its deceptive softness, challenges old perceptions of sexuality and mental health By Georgia Evans 26th January 2021 \\n\\n'"
      ]
     },
     "execution_count": 53,
     "metadata": {},
     "output_type": "execute_result"
    }
   ],
   "source": [
    "def remove_repeated_text(x):\n",
    "    \n",
    "    first_twenty = x[:20]\n",
    "    index = x[20:].find(first_twenty)\n",
    "    \n",
    "    if index != -1:\n",
    "        return x[:index + 20]\n",
    "    else:\n",
    "        return x\n",
    "    \n",
    "nme_df = nme_df.apply(remove_repeated_text)\n",
    "nme_df[100]"
   ]
  },
  {
   "cell_type": "code",
   "execution_count": 54,
   "id": "eb93edd6-4aa5-43f7-a23e-7be3d0bf6b1d",
   "metadata": {},
   "outputs": [
    {
     "data": {
      "text/plain": [
       "'Arlo Parks. CREDIT: Alex Kurun Arlo Parks’ rise feels very timely indeed. Her music is like a warm hug, a reassurance that everything is going to be OK when the world is dark and things seem out of control. True to form, her debut album is a sanctuary of compassionate lyricism and groove-along tunes. While 2020 may have been a write-off for most, it certainly was a good year for the 20-year-old west Londoner. She released a stream of well-received singles, was named BBC Music Introducing Artist of the Year, appeared on the cover of NME and featured on a playlist by Michelle Obama. Most importantly however, she became an advocate for the mental health charity CALM (Campaign Against Living Miserably), which sent a powerful message of unity to her young fanbase. Languid breakout single ‘Hurt’, which appears here, epitomises Parks’ music as a soothing balm: “I know you can’t let go of anything at the moment / Just know it would hurt so, won’t hurt so much forever.”\\n\\n\\nDespite the deceptively soothing nature of her sound – soft neo-soul, acoustic guitar, that honeyed voice – Parks is an artist challenging received wisdom about mental health, a champion of free expression of self. She broke through in 2018 with the dreamy ‘Cola’, a disarmingly intimate tale of infidelity through poetic lyrics (“I miss the way you dressed all punk / With the black and the studs and the ripped up gloves / Bet she loved your tough-guy front”), illustrating complex emotions through an accessible medium – and was duly catapulted to indie stardom.\\nWritten in the same bedroom where she recorded most of her demos, and utilising old diaries and notebooks, ‘Collapsed In Sunbeams’ is made up of daydream musings over jazz-meets-pop instrumentals. The 12-song collection feels more refined than her previous EPs, with slicker production from her label Transgressive, whose signees include Foals, Loyle Carner and Marika Hackman, yet maintains the intimacy that grabbed so many at the start of her career.\\nAdvertisement The album is laced with references to artists who influenced her, from Sylvia Plath to Robert Smith (on the irresistible ‘Eugene’, she wryly notes, “[You] read him Sylvia Plath / I thought that that was our thing)”, and Parks has described the album as “a series of vignettes and intimate portraits surrounding my adolescence and the people that shaped it. It is rooted in storytelling and nostalgia – I want it to feel both universal and hyper-specific.”\\nThis is evident from the opening title track. A spoken-word piece that underpins the sentiment of the whole record, ‘Collapsed In Sunbeams’ is a poignant reflection on finding beauty in pain, embracing emotional turbulence and speaking openly about your feelings. We are all learning to trust our bodies, making peace with our own distortions,” Parks recites over stripped-back guitars and gently flowing synths, “You shouldn’t be afraid to cry in front of me”.\\nParks has a singular talent for tapping into sadness and turning it into something uplifting. Last year, NME named ‘Black Dog’, a track about depression, 2020’s “most devastating song”; with lines such as “Sometimes it seems like you won’t survive this / And honestly it’s terrifying,” it’s a brilliantly and sometimes painfully honest song. Meanwhile, tracks the likes of ‘Eugene’, which is about being in love with your straight friend – Parks is openly bisexual – and ‘For Violet’, which explores familial disapproval, further explore universal coming-of-age struggles.\\nWhenever she touches upon difficult subjects, though, Parks provides a voice of empathy and wisdom. ‘Hope’ channels the likes of Blood Orange with layered harmonies and psychedelic guitar riffs, while she sings, “You’re not alone / Like you think you are / We all have scars / I know it’s hard / You’re not alone.” Further into the track, there’s a resurrection of her spoken-word delivery as she earnestly addresses the listener: “I cannot communicate the depth of the feeling / Truth is I’m still learning to be open about this.”\\nToo Good’ adds a greater feeling of lightness to counteract darker themes, bringing texture to the collection. Backed by bouncy guitars, funky basslines and catchy pop hooks, Parks sings an infectious chorus: “I think you know it / Too cool to show it / Babe, you’re so good / You’re too good to be true.” Then there’s the stunning ‘Green Eyes’, which was co-written with new-gen icon Clairo and sees the pair reflect on social attitudes towards same-sex relationships: “Some of these folks wanna make you cry / But you gotta trust how you feel inside and shine.”\\nThe closing track, ‘Portra 400’, rounds off this vivid portrait of young adulthood through delicate instrumentals and lines such as “Making rainbows, out of something painful / Getting fried as hell / And dodging gravestones.” This finale perfectly summarises the profound thought patterns interwoven throughout ‘Collapsed In Sunbeams’.\\nAdvertisement  \\nArlo Parks may be the voice of Gen Z, but there’s no doubt that this is a universal collection of stories that’ll provide solace for listeners of all ages and backgrounds for decades to come.  \\nWhile 2020 may have been a write-off for most, it certainly was a good year for the 20-year-old west Londoner. She released a stream of well-received singles, was named BBC Music Introducing Artist of the Year, appeared on the cover of NME and featured on a playlist by Michelle Obama. Most importantly however, she became an advocate for the mental health charity CALM (Campaign Against Living Miserably), which sent a powerful message of unity to her young fanbase. Languid breakout single ‘Hurt’, which appears here, epitomises Parks’ music as a soothing balm: “I know you can’t let go of anything at the moment / Just know it would hurt so, won’t hurt so much forever.” soothing sounds and universal tales The breakout star has crafted a quietly subversive pop record that, for all its deceptive softness, challenges old perceptions of sexuality and mental health By Georgia Evans 26th January 2021 \\n\\n'"
      ]
     },
     "execution_count": 54,
     "metadata": {},
     "output_type": "execute_result"
    }
   ],
   "source": [
    "def remove_title_nme(x):\n",
    "    \n",
    "    for match in re.findall(\"\\n Related[\\s\\S]+?review: \", x):\n",
    "        x = x.replace(match, \" \")\n",
    "        \n",
    "    return x\n",
    "\n",
    "nme_df = nme_df.apply(remove_title_nme)\n",
    "nme_df[100]"
   ]
  },
  {
   "cell_type": "code",
   "execution_count": 55,
   "id": "87d18d89-340a-48a1-96f8-208ca0fdcfcf",
   "metadata": {},
   "outputs": [
    {
     "data": {
      "text/plain": [
       "' The Chemical Brothers are arguably one of the most important groups in dance history. Tom Rowlands and Ed Simons’ peerless ‘Dig Your Own Hole’ introduced rock and psychedelia to dance music’s palette in 1997, and they pioneered combining indie vocalists with big beats on early records like scorching Noel Gallagher collaborations ‘Setting Sun’ (1997) and ‘Let Forever Be’ (1999).\\nBut for a while in the 2000s, they threatened to become one of the most predictable. During an underwhelming run from 2002’s ‘Come With Us’ to 2007’s ‘We Are The Night’, you knew what to expect: guest singers like Kele Okereke (‘Believe’) or Richard Ashcroft (‘The Test’), and mass-appeal beats. Their music remained enjoyable, in a frenetic kind of way, but it lacked the innovation of their first records. Consequently, 2010’s ‘Further’, a record that saw them ditch the guests in favour of something deeper, darker and weirder, was very welcome indeed.\\nCollaborators return for ‘Born In The Echoes’, the pair’s eighth album and first since ‘Further’. But here the Brothers largely bend the singers to their will, their voices subservient to the power of the songs.\\nSt Vincent’s contribution to ‘Under Neon Lights’, for example, is chilling (“And she moves to suicide / In and under neon lights”), her voice eventually cut to electronic shreds and fed stuttering back into the mix like a malfunctioning car alarm. They pull a similar trick with London singer Ali Love (who guested on ‘We Are The Night’ single ‘Do It Again’) on ‘EML Ritual’, his vocals pitch-shifted and layered to create the unsettling effect of too many late nights, echoing lyrics about losing your mind (“I don’t know what to do / I’m going to lose my mind”).\\nThese two tracks brilliantly marry ‘Further’’s brooding electronica with the unsettling feel of the darkest psych-rock. But the real highlights are those that sound least like anything the Chems have done previously, as they burrow further down the rabbit hole, emerging somewhere between early Pink Floyd, minimal techno oddball Ricardo Villalobos and experimental London electro group White Noise, who formed in 1968.\\n‘I’ll See You There’ takes them closer than ever to the perennial psychedelic touchstone of The Beatles’ ‘Tomorrow Never Knows’ by combining live-sounding (and ferociously funky) electronic drums with spectral effects and rolling keyboards. The result sounds like a Tame Impala jam fed through the Chems’ motherboard. ‘Taste of Honey’ is odder still, coming on like the kind of obscure gem you’d uncover on a small-selling seven-inch from 1968, a droning psych-pop tune punctuated by distressed violin and the sound of a bee. ‘Born In The Echoes’ (featuring Cate Le Bon), meanwhile, brings to mind someone practicing loudly on a new synth over Broadcast’s ‘Pendulum’. \\nThis section of electro-psych wonder culminates in the fantastic ‘Radiate’, a brutally touching digital torch song that sounds like Daft Punk coming to terms with a particularly nasty break up, all electronic fuzz, wonky orchestration and heartfelt vocals from Rowlands (“What is this / That I can see? / Just radiate / Your love to me“). It would be the perfect ending but instead, it gives way to the underwhelming ‘Wide Open’. Marrying a burbling house beat to Beck’s melancholic vocal, it’s out of step with the album’s meaty, dark feel. ‘Go’ (with Q-Tip) is equally ill fitting, its niggling acid hooks and strident bass let down by a horrible chorus full of faux inspirational gunk (“No time to rest / Just do your best”).\\nThankfully, it doesn’t matter too much: ‘Born In The Echoes’ is a bold reinvention of the Chemical Brothers’ sound, pushing the late-period renaissance that ‘Further’ heralded to somewhere dark and twisted.'"
      ]
     },
     "execution_count": 55,
     "metadata": {},
     "output_type": "execute_result"
    }
   ],
   "source": [
    "def remove_related(x):\n",
    "    \n",
    "    for match in re.findall(\"\\n Related.+?review\", x):\n",
    "        x = x.replace(match, \"\")\n",
    "        \n",
    "    for match in re.findall(\"\\n.+?\\n Related Topics.+?Search ReviewsAlbum Reviews\", x):\n",
    "        x = x.replace(match, \"\")\n",
    "        \n",
    "    return x\n",
    "\n",
    "nme_df = nme_df.apply(remove_related)\n",
    "nme_df[400]"
   ]
  },
  {
   "cell_type": "code",
   "execution_count": 56,
   "id": "eeae3f6b-0853-4355-a238-5f60c84d1819",
   "metadata": {},
   "outputs": [
    {
     "data": {
      "text/plain": [
       "\"Meg Remy and U.S. Girls are back. CREDIT: Press For more than 10 years Toronto-based American musician Meg Remy has released avant-pop records in abundance. Her musical arc has moved from no-wave lo-fi (‘Introducing’ [2008] and ‘Go Grey’ [2010]) to more tuneful creations that trace 1960s-style pop, glam rock, funk, disco, punk and noir (‘Half Free’ [2015] and ‘In A Poem Unlimited’ [2018]).\\nIt’s evident that Remy’s decision to progressively imbue her songs with more popular music tropes has been a good one and so have her experiments using multiple narrative voices instead of hers alone. This more holistic direction was the point at which many came to know Remy’s solo project. ‘In A Poem Unlimited’ was undoubtedly the Chicago native’s finest and most accessible work, packed with slick, danceable soul bangers that ran with the voices of ‘Half Free’’s marginalised female characters.\\nYou’d be forgiven, then, for wanting that quality sustained or enhanced on ‘Heavy Light’. Opener ‘4 American Dollars’ belies the impression that Remy’s newest effort is stuffed with songs like its big sister ‘In A Poem Unlimited’. A Motown-style backing vocal group, decadent strings, syncopated beats and funk riffs set the backdrop to Remy’s theatrical alto. A five-minute meditation on late capitalism (“I don’t believe in pennies and nickels… No dinero!”) is the album’s early frontrunner.\\n\\n‘Overtime’ persists with the same kind of sheen (it’s a soul-pop reworking of a song from Remy’s 2013 EP ‘Free Advice Column’) as does the multi-lingual ‘And Yet It Moves / Y Se Mueve’ with bombastic samba grooves, mallet chimes and buzzy basslines. Remy’s fascination with government control looms large on the latter: “They lie to us about everything, don’t they?”\\xa0\\n\\nRemy’s record label describes ‘Heavy Light’ as the album in which she “turns inward, recounting personal narratives with a curious retrospection.” These moments of reflection, such as Remy’s retelling of her and her friend’s experience of watching the disastrous ‘Woodstock ‘99’ festival unfold on TV, might be lyrically vivid but musically they are tedious listens. ‘IOU’ and ‘Denise, Don’t Wait’ also fall short. The latter is one of a handful of tracks on the album that’s adorned with frilly orchestration, but sounds like a formless interlude from the soundtrack to a musical you’ve fallen asleep to.\\nWoven between the songs on ‘Heavy Light’ are medleys of voice recordings where people say what they’d tell their teenage self or recount the most hurtful things others have said to them. These stand apart from Remy’s personal tales as fragments of our collective human experiences. But they also feel like a last ditch attempt to pad out a 38-minute record that already includes three reworkings of old songs. Despite their emotion, they feel cynically designed to thread together the record’s vague theme of retrospection.\\nPenultimate track ‘The Quiver To The Bomb’ is the overarching glue the record needs, a brooding, psychedelic noir musing on how short human history is in the context of the universe’s existence.\\n‘Heavy Light’ sparkles with flashes of brilliance like this and, invariably, in its fresher, more fleshed-out material. But it’s also littered with spoken-word filler and forgettable piano confessionals. Had the stronger songs been contained to an EP it could well have rivalled the extraordinary consistency and thrill of its predecessor – but frustratingly, it falls short.\\n\\nRelease date: March 6\\nLabel: 4AD\\n   Search ReviewsAlbum Reviews U.S. Girls\\xa0– ‘Heavy Light’ review: frustrating filler pulls focus from flashes of brilliance Meg Remy's latest album lacks the slick, danceable energy of 2018's outrageously good 'In A Poem Unlimited' – but there's still beauty to be found here  By Charlotte Krol 4th March 2020 \\n\\n\""
      ]
     },
     "execution_count": 56,
     "metadata": {},
     "output_type": "execute_result"
    }
   ],
   "source": [
    "nme_df[160]"
   ]
  },
  {
   "cell_type": "code",
   "execution_count": 57,
   "id": "f2b8268f-2f7b-48e2-bcf4-a832b4c85862",
   "metadata": {},
   "outputs": [],
   "source": [
    "def remove_release_date(x):\n",
    "    \n",
    "    for match in re.findall(\"\\n\\nRelease date:[\\s\\S]+?review:\", x):\n",
    "        x = x.replace(match, \"\")\n",
    "        \n",
    "    return x\n",
    "\n",
    "nme_df = nme_df.apply(remove_release_date)"
   ]
  },
  {
   "cell_type": "code",
   "execution_count": null,
   "id": "1f00bed4-7279-427f-ac82-8d4f4dd9f625",
   "metadata": {},
   "outputs": [
    {
     "ename": "NameError",
     "evalue": "name 'nme_df' is not defined",
     "output_type": "error",
     "traceback": [
      "\u001b[1;31m---------------------------------------------------------------------------\u001b[0m",
      "\u001b[1;31mNameError\u001b[0m                                 Traceback (most recent call last)",
      "Cell \u001b[1;32mIn [56], line 10\u001b[0m\n\u001b[0;32m      6\u001b[0m     \u001b[38;5;28mprint\u001b[39m(match)\n\u001b[0;32m      8\u001b[0m     \u001b[38;5;28;01mreturn\u001b[39;00m x\n\u001b[1;32m---> 10\u001b[0m nme_df \u001b[38;5;241m=\u001b[39m \u001b[43mnme_df\u001b[49m\u001b[38;5;241m.\u001b[39mapply(remove_trailing_related)\n",
      "\u001b[1;31mNameError\u001b[0m: name 'nme_df' is not defined"
     ]
    }
   ],
   "source": [
    "def remove_trailing_related(x):\n",
    "    \n",
    "    for match in re.findall(\"\\n.+?\\n Related Topics.+?$\", x):\n",
    "        x = x.replace(match, \"\")\n",
    "        \n",
    "    return x\n",
    "\n",
    "nme_df = nme_df.apply(remove_trailing_related)"
   ]
  },
  {
   "cell_type": "code",
   "execution_count": 59,
   "id": "d4037cc3-e0b6-4d0b-840d-46fd885e1f10",
   "metadata": {},
   "outputs": [],
   "source": [
    "def remove_special_nme(x):\n",
    "    \n",
    "    x = x.replace(\"\\nAdvertisement\", \"\")\n",
    "    x = x.replace(\"\\n\", \"\")\n",
    "    x = x.replace(\"\\xa0\", \"\")\n",
    "    \n",
    "    return x\n",
    "\n",
    "nme_df = nme_df.apply(remove_special_nme)\n",
    "dfs[\"NME\"].loc[:, \"Text\"] = nme_df\n",
    "    "
   ]
  },
  {
   "cell_type": "code",
   "execution_count": 64,
   "id": "dfb7cb3c-fd60-4519-ab85-e106ce1e554b",
   "metadata": {},
   "outputs": [
    {
     "name": "stderr",
     "output_type": "stream",
     "text": [
      "C:\\Users\\tommy\\AppData\\Local\\Temp\\ipykernel_14248\\884617732.py:3: PerformanceWarning: \n",
      "your performance may suffer as PyTables will pickle object types that it cannot\n",
      "map directly to c-types [inferred_type->mixed,key->block0_values] [items->Index(['Platform', 'Artist', 'Album', 'Text', 'Genres', 'Url'], dtype='object')]\n",
      "\n",
      "  dfs[platform].to_hdf(\"C:\\\\Users\\\\tommy\\\\OneDrive\\\\University\\\\Year 3\\\\Third Year Project\\\\Platform Album Data\\\\text_edited_data.h5\", mode=\"a\", key=platform)\n"
     ]
    }
   ],
   "source": [
    "for platform in platforms:\n",
    "    \n",
    "    dfs[platform].to_hdf(\"C:\\\\Users\\\\tommy\\\\OneDrive\\\\University\\\\Year 3\\\\Third Year Project\\\\Platform Album Data\\\\text_edited_data.h5\", mode=\"a\", key=platform)"
   ]
  },
  {
   "cell_type": "code",
   "execution_count": 61,
   "id": "c82cef31-14ac-45a0-a1b6-de65ce70d6b3",
   "metadata": {},
   "outputs": [
    {
     "name": "stdout",
     "output_type": "stream",
     "text": [
      "{'Pitchfork':       Platform           Artist                              Album  \\\n",
      "0    Pitchfork        brian eno               foreverandevernomore   \n",
      "1    Pitchfork          shygirl                              nymph   \n",
      "2    Pitchfork            bjork                            fossora   \n",
      "3    Pitchfork  yeah yeah yeahs                       cool it down   \n",
      "4    Pitchfork           alex g               god save the animals   \n",
      "..         ...              ...                                ...   \n",
      "935  Pitchfork        pj harvey                  let england shake   \n",
      "936  Pitchfork       kanye west  my beautiful dark twisted fantasy   \n",
      "937  Pitchfork   arctic monkeys                             humbug   \n",
      "938  Pitchfork   arctic monkeys                             humbug   \n",
      "939  Pitchfork       kanye west                808s and heartbreak   \n",
      "\n",
      "                                                  Text Scores  \\\n",
      "0    Confronting the climate crisis and the prospec...    7.5   \n",
      "1    Sensuous, funny, and smartly produced, the Lon...    8.0   \n",
      "2    With her 10th album, Björk is grounded back on...    8.4   \n",
      "3    The trio’s first album in nine years ushers in...    7.4   \n",
      "4    Placing its faith in the healing power of anim...    8.4   \n",
      "..                                                 ...    ...   \n",
      "935  The always-unpredictable singer-songwriter ret...    8.8   \n",
      "936  Kanye's big year culminates in an LP that feel...     10   \n",
      "937  The Arctics expand their sound with the help o...    7.2   \n",
      "938  The Arctics expand their sound with the help o...    7.2   \n",
      "939   Poor Kanye West. The guy was already a ball o...    7.6   \n",
      "\n",
      "                                                Genres  \\\n",
      "0            Electronic, Verve / UMC, October 18, 2022   \n",
      "1           Electronic, Because Music, October 6, 2022   \n",
      "2    Electronic / Pop/R&B, One Little Independent, ...   \n",
      "3          Rock, Secretly Canadian, September 29, 2022   \n",
      "4                     Rock, Domino, September 23, 2022   \n",
      "..                                                 ...   \n",
      "935  Rock, Vagrant / Island Def Jam, February 15, 2011   \n",
      "936      Rap, Def Jam / Roc-A-Fella, November 22, 2010   \n",
      "937                      Rock, Domino, August 24, 2009   \n",
      "938                      Rock, Domino, August 24, 2009   \n",
      "939                 Rap, Roc-A-Fella, December 2, 2008   \n",
      "\n",
      "                                                   Url  \n",
      "0    https://www.pitchfork.com/reviews/albums/brian...  \n",
      "1    https://www.pitchfork.com/reviews/albums/shygi...  \n",
      "2    https://www.pitchfork.com/reviews/albums/bjork...  \n",
      "3    https://www.pitchfork.com/reviews/albums/yeah-...  \n",
      "4    https://www.pitchfork.com/reviews/albums/alex-...  \n",
      "..                                                 ...  \n",
      "935  https://www.pitchfork.com/reviews/albums/15120...  \n",
      "936  https://www.pitchfork.com/reviews/albums/14880...  \n",
      "937  https://www.pitchfork.com/reviews/albums/13374...  \n",
      "938  https://www.pitchfork.com/reviews/albums/13374...  \n",
      "939  https://www.pitchfork.com/reviews/albums/12498...  \n",
      "\n",
      "[940 rows x 7 columns], 'Guardian':      Platform           Artist                              Album  \\\n",
      "0    Guardian        brian eno               foreverandevernomore   \n",
      "1    Guardian          shygirl                              nymph   \n",
      "2    Guardian            bjork                            fossora   \n",
      "3    Guardian  yeah yeah yeahs                       cool it down   \n",
      "4    Guardian           alex g               god save the animals   \n",
      "..        ...              ...                                ...   \n",
      "935  Guardian        pj harvey                  let england shake   \n",
      "936  Guardian       kanye west  my beautiful dark twisted fantasy   \n",
      "937  Guardian   arctic monkeys                             humbug   \n",
      "938  Guardian   arctic monkeys                             humbug   \n",
      "939  Guardian       kanye west                808s and heartbreak   \n",
      "\n",
      "                                                  Text  Scores  \\\n",
      "0    The producer contemplates the future of the pl...       4   \n",
      "1    British rapper, DJ and singer-songwriter Blane...       4   \n",
      "2    The pop auteur’s 10th album deals with the dea...       4   \n",
      "3    Karen O is more incisive than ever on the band...       4   \n",
      "4    The American musician continues to mine a rich...       4   \n",
      "..                                                 ...     ...   \n",
      "935  PJ Harvey's new album finds her at something o...       5   \n",
      "936    fascinating public persona is not synonymous...       2   \n",
      "937   Suck it and see what you get: something a bit...       4   \n",
      "938  Arctic Monkeys have got a brave new California...       4   \n",
      "939   ven by Kanye West's standards, delivering an ...       4   \n",
      "\n",
      "                                 Genres  \\\n",
      "0         [electronicmusic, popandrock]   \n",
      "1                          [popandrock]   \n",
      "2         [popandrock, electronicmusic]   \n",
      "3           [popandrock, yeahyeahyeahs]   \n",
      "4                                    []   \n",
      "..                                  ...   \n",
      "935                          [pjharvey]   \n",
      "936  [hip-hop, popandrock, nicki-minaj]   \n",
      "937                        [popandrock]   \n",
      "938                        [popandrock]   \n",
      "939                           [hip-hop]   \n",
      "\n",
      "                                                   Url  \n",
      "0    https://www.theguardian.com/music/2022/oct/16/...  \n",
      "1    https://www.theguardian.com/music/2022/oct/02/...  \n",
      "2    https://www.theguardian.com/music/2022/oct/01/...  \n",
      "3    https://www.theguardian.com/music/2022/sep/30/...  \n",
      "4    https://www.theguardian.com/music/2022/sep/25/...  \n",
      "..                                                 ...  \n",
      "935  https://www.theguardian.com/music/2011/feb/10/...  \n",
      "936  https://www.theguardian.com/music/2010/nov/25/...  \n",
      "937  https://www.theguardian.com/music/2009/sep/06/...  \n",
      "938  https://www.theguardian.com/music/2009/aug/20/...  \n",
      "939  https://www.theguardian.com/music/2008/nov/21/...  \n",
      "\n",
      "[940 rows x 7 columns], 'NME':     Platform           Artist                              Album  \\\n",
      "0        NME        brian eno               foreverandevernomore   \n",
      "1        NME          shygirl                              nymph   \n",
      "2        NME            bjork                            fossora   \n",
      "3        NME  yeah yeah yeahs                       cool it down   \n",
      "4        NME           alex g               god save the animals   \n",
      "..       ...              ...                                ...   \n",
      "935      NME        pj harvey                  let england shake   \n",
      "936      NME       kanye west  my beautiful dark twisted fantasy   \n",
      "937      NME   arctic monkeys                             humbug   \n",
      "938      NME   arctic monkeys                             humbug   \n",
      "939      NME       kanye west                808s and heartbreak   \n",
      "\n",
      "                                                  Text  Scores  \\\n",
      "0    Brian Eno CREDIT: Cecily Eno Among many other ...       3   \n",
      "1    Credit: Samuel Ibram ‘Nymph’, the debut album ...       4   \n",
      "2     What goes up must come down, but maybe you do...       4   \n",
      "3    Yeah Yeah Yeahs, 2022 (Picture: David Black / ...       4   \n",
      "4    Alex G. Credit: Chris Maggio. Willingly or not...       5   \n",
      "..                                                 ...     ...   \n",
      "935   April 25, 1915. World War I is less than a ye...       5   \n",
      "936   Kanye West: douchebag, enemy of the state, in...       4   \n",
      "937   You do wonder whether, in their treehouse, th...       3   \n",
      "938   You do wonder whether, in their treehouse, th...       3   \n",
      "939   Kanye’s 2008 has been a shitter. His ma, Dond...       3   \n",
      "\n",
      "                                                   Url  \n",
      "0    https://www.nme.com/reviews/album/brian-eno-fo...  \n",
      "1    https://www.nme.com/reviews/album/shygirl-lond...  \n",
      "2    https://www.nme.com/reviews/album/bjork-fossor...  \n",
      "3    https://www.nme.com/reviews/album/yeah-yeah-ye...  \n",
      "4    https://www.nme.com/reviews/album/alex-g-god-s...  \n",
      "..                                                 ...  \n",
      "935  https://www.nme.com/reviews/reviews-pj-harvey-...  \n",
      "936  https://www.nme.com/reviews/reviews-kanye-west...  \n",
      "937  https://www.nme.com/reviews/reviews-arctic-mon...  \n",
      "938  https://www.nme.com/reviews/reviews-arctic-mon...  \n",
      "939  https://www.nme.com/reviews/reviews-kanye-west...  \n",
      "\n",
      "[940 rows x 6 columns], 'Spectrum':      Platform           Artist                              Album  \\\n",
      "0    Spectrum        brian eno               foreverandevernomore   \n",
      "1    Spectrum          shygirl                              nymph   \n",
      "2    Spectrum            bjork                            fossora   \n",
      "3    Spectrum  yeah yeah yeahs                       cool it down   \n",
      "4    Spectrum           alex g               god save the animals   \n",
      "..        ...              ...                                ...   \n",
      "935  Spectrum        pj harvey                  let england shake   \n",
      "936  Spectrum       kanye west  my beautiful dark twisted fantasy   \n",
      "937  Spectrum   arctic monkeys                             humbug   \n",
      "938  Spectrum   arctic monkeys                             humbug   \n",
      "939  Spectrum       kanye west                808s and heartbreak   \n",
      "\n",
      "                                                  Text Scores  \\\n",
      "0    Midway through Nothing Special, the own-name d...     69   \n",
      "1    It’s difficult to see Bill Callahan as a husba...     90   \n",
      "2    What if you took the ‘80s angst of Peter Murph...     70   \n",
      "3    The public appetite for live albums is rarely ...     77   \n",
      "4    There’s something about early ’80s industrial/...     75   \n",
      "..                                                 ...    ...   \n",
      "935  The Get Up KidsThere Are RulesRating: 3.4/5.0L...   -1.0   \n",
      "936  Small BlackNew ChainRating: 3.8/5.0Label: Jagj...   -1.0   \n",
      "937  Black MoldSnow Blindness is Crystal AntzRating...   -1.0   \n",
      "938  Black MoldSnow Blindness is Crystal AntzRating...   -1.0   \n",
      "939  Arrington de Dionyso I See Beyond the Black Su...   -1.0   \n",
      "\n",
      "                                                   Url  \n",
      "0    https://spectrumculture.com/2022/10/19/will-sh...  \n",
      "1    https://spectrumculture.com/2022/10/13/bill-ca...  \n",
      "2    https://spectrumculture.com/2022/09/27/munly-t...  \n",
      "3    https://spectrumculture.com/2022/09/25/kiss-of...  \n",
      "4    https://spectrumculture.com/2022/09/20/we-be-e...  \n",
      "..                                                 ...  \n",
      "935  https://spectrumculture.com/2011/02/07/the-get...  \n",
      "936  https://spectrumculture.com/2010/11/16/small-b...  \n",
      "937  https://spectrumculture.com/2009/08/22/black-m...  \n",
      "938  https://spectrumculture.com/2009/08/22/black-m...  \n",
      "939  https://spectrumculture.com/2008/12/08/arringt...  \n",
      "\n",
      "[940 rows x 6 columns]}\n"
     ]
    }
   ],
   "source": [
    "pd.set_option('display.max_rows', 10)\n",
    "\n",
    "print(dfs)"
   ]
  },
  {
   "cell_type": "code",
   "execution_count": 9,
   "id": "88db2b38-bbe5-40ec-a696-873c44ccfc0c",
   "metadata": {},
   "outputs": [],
   "source": [
    "sp_df = pd.read_hdf(\"C:\\\\Users\\\\tommy\\\\OneDrive\\\\University\\\\Year 3\\\\Third Year Project\\\\Platform Album Data\\\\review_data_final.h5\", key=\"Spectrum\")"
   ]
  },
  {
   "cell_type": "code",
   "execution_count": 6,
   "id": "829de837-fe0f-4947-9526-0992be55d46a",
   "metadata": {},
   "outputs": [],
   "source": [
    "g_df = pd.read_hdf(\"C:\\\\Users\\\\tommy\\\\OneDrive\\\\University\\\\Year 3\\\\Third Year Project\\\\Platform Album Data\\\\review_data_final.h5\", key=\"Guardian\")"
   ]
  },
  {
   "cell_type": "code",
   "execution_count": 7,
   "id": "e6b7f8c5-3fd4-4509-8077-71472ad5cf71",
   "metadata": {},
   "outputs": [
    {
     "ename": "NameError",
     "evalue": "name 'dfs' is not defined",
     "output_type": "error",
     "traceback": [
      "\u001b[1;31m---------------------------------------------------------------------------\u001b[0m",
      "\u001b[1;31mNameError\u001b[0m                                 Traceback (most recent call last)",
      "Cell \u001b[1;32mIn [7], line 1\u001b[0m\n\u001b[1;32m----> 1\u001b[0m \u001b[43mdfs\u001b[49m[\u001b[38;5;124m\"\u001b[39m\u001b[38;5;124mSpectrum\u001b[39m\u001b[38;5;124m\"\u001b[39m]\u001b[38;5;241m.\u001b[39mloc[\u001b[38;5;241m0\u001b[39m, \u001b[38;5;124m\"\u001b[39m\u001b[38;5;124mUrl\u001b[39m\u001b[38;5;124m\"\u001b[39m]\n",
      "\u001b[1;31mNameError\u001b[0m: name 'dfs' is not defined"
     ]
    }
   ],
   "source": [
    "dfs[\"Spectrum\"].loc[0, \"Url\"]"
   ]
  }
 ],
 "metadata": {
  "kernelspec": {
   "display_name": "Python 3 (ipykernel)",
   "language": "python",
   "name": "python3"
  },
  "language_info": {
   "codemirror_mode": {
    "name": "ipython",
    "version": 3
   },
   "file_extension": ".py",
   "mimetype": "text/x-python",
   "name": "python",
   "nbconvert_exporter": "python",
   "pygments_lexer": "ipython3",
   "version": "3.9.13"
  }
 },
 "nbformat": 4,
 "nbformat_minor": 5
}
