{
 "cells": [
  {
   "cell_type": "code",
   "execution_count": 139,
   "id": "a979caf7-508d-4c4f-9e0e-56fb5d251095",
   "metadata": {},
   "outputs": [],
   "source": [
    "import pandas as pd\n",
    "from nltk.tokenize import sent_tokenize"
   ]
  },
  {
   "cell_type": "code",
   "execution_count": 140,
   "id": "b943ca7a-1a54-47b9-bc32-282464c7bd31",
   "metadata": {},
   "outputs": [],
   "source": [
    "original_text = pd.read_hdf(\"C:\\\\Users\\\\tommy\\\\OneDrive\\\\University\\\\Year 3\\\\Third Year Project\\\\Platform Album Data\\\\unigram_data.h5\", key=\"original\")"
   ]
  },
  {
   "cell_type": "code",
   "execution_count": 141,
   "id": "62fd9fbc-ebd5-4bd2-8602-80f04c816f1d",
   "metadata": {},
   "outputs": [],
   "source": [
    "ordered_text = pd.read_hdf(\"C:\\\\Users\\\\tommy\\\\OneDrive\\\\University\\\\Year 3\\\\Third Year Project\\\\Platform Album Data\\\\new_unigram_data.h5\", key=\"text\")"
   ]
  },
  {
   "cell_type": "code",
   "execution_count": 142,
   "id": "2cae96be-f720-4c41-a586-6d5574bc9270",
   "metadata": {},
   "outputs": [],
   "source": [
    "import re\n",
    "import string\n",
    "from nltk.corpus import stopwords\n",
    "from nltk.tokenize.nist import NISTTokenizer\n",
    "\n",
    "def replace_quotes(x):\n",
    "    for match in re.findall(\" “.+?[”'\\1{2}]\", x):\n",
    "        x = x.replace(match, \"\")\n",
    "\n",
    "    return x\n",
    "\n",
    "def preprocess(x):\n",
    "    tk = NISTTokenizer()\n",
    "    x = replace_quotes(x)\n",
    "    x = sent_tokenize(x)\n",
    "    x = [[word for word in tk.tokenize(sentence) if word not in string.punctuation] for sentence in x]\n",
    "    \n",
    "    return x\n",
    "\n",
    "platforms = [\"Pitchfork\", \"Guardian\", \"Spectrum\", \"NME\"]\n",
    "\n",
    "for platform in platforms:\n",
    "    \n",
    "    original_text.loc[:, platform] = original_text.loc[:, platform].apply(preprocess)"
   ]
  },
  {
   "cell_type": "code",
   "execution_count": 143,
   "id": "16b8d599-244c-4983-9b1f-483c00e4ace6",
   "metadata": {},
   "outputs": [],
   "source": [
    "original_text = original_text.melt(id_vars=[\"Artist\", \"Album\"], value_vars=[\"Pitchfork\", \"Guardian\", \"Spectrum\", \"NME\"], var_name=\"Platform\", value_name=\"Text\")"
   ]
  },
  {
   "cell_type": "code",
   "execution_count": 144,
   "id": "cc6155a7-9f27-4a57-a15f-55ec12c93680",
   "metadata": {},
   "outputs": [],
   "source": [
    "original_text[\"Full Text\"] = original_text.loc[:, \"Text\"].apply(lambda x: \"|\".join([\"|\".join(sent) for sent in x]))"
   ]
  },
  {
   "cell_type": "code",
   "execution_count": 145,
   "id": "f777d181-519b-4240-924e-f723751cd342",
   "metadata": {},
   "outputs": [],
   "source": [
    "original_text = original_text.drop_duplicates(subset=[\"Full Text\"]).drop(columns=[\"Full Text\"])"
   ]
  },
  {
   "cell_type": "code",
   "execution_count": 146,
   "id": "96564016-614f-4b72-80d6-79d6f66bcb07",
   "metadata": {},
   "outputs": [],
   "source": [
    "artist_album_sort = ordered_text.loc[:, [\"Artist\", \"Album\"]]\n",
    "original_text.loc[:, \"Artist\"] = pd.Categorical(original_text.loc[:, \"Artist\"], artist_album_sort.loc[:, \"Artist\"].unique())\n",
    "original_text.loc[:, \"Album\"] = pd.Categorical(original_text.loc[:, \"Album\"], artist_album_sort.loc[:, \"Album\"].unique())\n",
    "original_text.loc[:, \"Platform\"] = pd.Categorical(original_text.loc[:, \"Platform\"], [\"Pitchfork\", \"Guardian\", \"Spectrum\", \"NME\"])\n",
    "original_text = original_text.sort_values([\"Platform\", \"Album\", \"Artist\"]).reset_index(drop=True)"
   ]
  },
  {
   "cell_type": "code",
   "execution_count": 147,
   "id": "b3234907-c6b7-4618-8aea-eb63faf5b278",
   "metadata": {},
   "outputs": [],
   "source": [
    "original_text[\"Review id\"] = [x for x in range(original_text.shape[0])]"
   ]
  },
  {
   "cell_type": "code",
   "execution_count": 148,
   "id": "daffee9c-f2b1-4f5c-b55b-51ba7fe8bbfd",
   "metadata": {},
   "outputs": [],
   "source": [
    "original_text.loc[:, \"Text\"] = original_text.apply(lambda x: list(x))"
   ]
  },
  {
   "cell_type": "code",
   "execution_count": 149,
   "id": "1f7885b7-e8ab-4368-9b24-c258a9c9abfb",
   "metadata": {},
   "outputs": [],
   "source": [
    "original_text = original_text.astype({\"Artist\": str,\n",
    "                    \"Album\": str,\n",
    "                    \"Platform\": str,\n",
    "                    \"Text\": str})"
   ]
  },
  {
   "cell_type": "code",
   "execution_count": 150,
   "id": "405a672d-d263-41ca-af64-c8dd0c1d7347",
   "metadata": {},
   "outputs": [],
   "source": [
    "original_text.to_hdf(\"C:\\\\Users\\\\tommy\\\\OneDrive\\\\University\\\\Year 3\\\\Third Year Project\\\\Platform Album Data\\\\new_unigram_data.h5\", key=\"sentence\", format=\"table\")"
   ]
  },
  {
   "cell_type": "code",
   "execution_count": 151,
   "id": "7de7c3fc-0e93-4840-ae83-160054227afa",
   "metadata": {},
   "outputs": [
    {
     "data": {
      "text/html": [
       "<div>\n",
       "<style scoped>\n",
       "    .dataframe tbody tr th:only-of-type {\n",
       "        vertical-align: middle;\n",
       "    }\n",
       "\n",
       "    .dataframe tbody tr th {\n",
       "        vertical-align: top;\n",
       "    }\n",
       "\n",
       "    .dataframe thead th {\n",
       "        text-align: right;\n",
       "    }\n",
       "</style>\n",
       "<table border=\"1\" class=\"dataframe\">\n",
       "  <thead>\n",
       "    <tr style=\"text-align: right;\">\n",
       "      <th></th>\n",
       "      <th>Artist</th>\n",
       "      <th>Album</th>\n",
       "      <th>Platform</th>\n",
       "      <th>Text</th>\n",
       "      <th>Review id</th>\n",
       "    </tr>\n",
       "  </thead>\n",
       "  <tbody>\n",
       "    <tr>\n",
       "      <th>0</th>\n",
       "      <td>sleaford mods</td>\n",
       "      <td>key markets</td>\n",
       "      <td>Pitchfork</td>\n",
       "      <td>[['The', 'title', 'of', 'Key', 'Markets—', 'so...</td>\n",
       "      <td>0</td>\n",
       "    </tr>\n",
       "    <tr>\n",
       "      <th>1</th>\n",
       "      <td>black midi</td>\n",
       "      <td>hellfire</td>\n",
       "      <td>Pitchfork</td>\n",
       "      <td>[['The', 'preposterously', 'talented', 'Englis...</td>\n",
       "      <td>1</td>\n",
       "    </tr>\n",
       "    <tr>\n",
       "      <th>2</th>\n",
       "      <td>kanye west</td>\n",
       "      <td>yeezus</td>\n",
       "      <td>Pitchfork</td>\n",
       "      <td>[['Marking', 'a', 'blunt', 'break', 'with', 't...</td>\n",
       "      <td>2</td>\n",
       "    </tr>\n",
       "    <tr>\n",
       "      <th>3</th>\n",
       "      <td>kehlani</td>\n",
       "      <td>it was good until it wasn't</td>\n",
       "      <td>Pitchfork</td>\n",
       "      <td>[['The', 'cloudy', 'grooves', 'of', 'the', 'Oa...</td>\n",
       "      <td>3</td>\n",
       "    </tr>\n",
       "    <tr>\n",
       "      <th>4</th>\n",
       "      <td>blood orange</td>\n",
       "      <td>negro swan</td>\n",
       "      <td>Pitchfork</td>\n",
       "      <td>[['Dev', 'Hynes’', 'fourth', 'album', 'as', 'B...</td>\n",
       "      <td>4</td>\n",
       "    </tr>\n",
       "    <tr>\n",
       "      <th>...</th>\n",
       "      <td>...</td>\n",
       "      <td>...</td>\n",
       "      <td>...</td>\n",
       "      <td>...</td>\n",
       "      <td>...</td>\n",
       "    </tr>\n",
       "    <tr>\n",
       "      <th>709</th>\n",
       "      <td>father john misty</td>\n",
       "      <td>fear fun</td>\n",
       "      <td>NME</td>\n",
       "      <td>[['Having', 'officially', 'taken', 'leave', 'o...</td>\n",
       "      <td>709</td>\n",
       "    </tr>\n",
       "    <tr>\n",
       "      <th>710</th>\n",
       "      <td>beyonce</td>\n",
       "      <td>4</td>\n",
       "      <td>NME</td>\n",
       "      <td>[['It’s', 'not', 'been', 'a', 'vintage', 'year...</td>\n",
       "      <td>710</td>\n",
       "    </tr>\n",
       "    <tr>\n",
       "      <th>711</th>\n",
       "      <td>toro y moi</td>\n",
       "      <td>anything in return</td>\n",
       "      <td>NME</td>\n",
       "      <td>[['Chazwick', 'Bundick', 'aka', 'Toro', 'Y', '...</td>\n",
       "      <td>711</td>\n",
       "    </tr>\n",
       "    <tr>\n",
       "      <th>712</th>\n",
       "      <td>james blake</td>\n",
       "      <td>assume form</td>\n",
       "      <td>NME</td>\n",
       "      <td>[['James', 'Blake', 'James', 'Blake', 'has', '...</td>\n",
       "      <td>712</td>\n",
       "    </tr>\n",
       "    <tr>\n",
       "      <th>713</th>\n",
       "      <td>bjork</td>\n",
       "      <td>fossora</td>\n",
       "      <td>NME</td>\n",
       "      <td>[['What', 'goes', 'up', 'must', 'come', 'down'...</td>\n",
       "      <td>713</td>\n",
       "    </tr>\n",
       "  </tbody>\n",
       "</table>\n",
       "<p>714 rows × 5 columns</p>\n",
       "</div>"
      ],
      "text/plain": [
       "                Artist                        Album   Platform  \\\n",
       "0        sleaford mods                  key markets  Pitchfork   \n",
       "1           black midi                     hellfire  Pitchfork   \n",
       "2           kanye west                       yeezus  Pitchfork   \n",
       "3              kehlani  it was good until it wasn't  Pitchfork   \n",
       "4         blood orange                   negro swan  Pitchfork   \n",
       "..                 ...                          ...        ...   \n",
       "709  father john misty                     fear fun        NME   \n",
       "710            beyonce                            4        NME   \n",
       "711         toro y moi           anything in return        NME   \n",
       "712        james blake                  assume form        NME   \n",
       "713              bjork                      fossora        NME   \n",
       "\n",
       "                                                  Text  Review id  \n",
       "0    [['The', 'title', 'of', 'Key', 'Markets—', 'so...          0  \n",
       "1    [['The', 'preposterously', 'talented', 'Englis...          1  \n",
       "2    [['Marking', 'a', 'blunt', 'break', 'with', 't...          2  \n",
       "3    [['The', 'cloudy', 'grooves', 'of', 'the', 'Oa...          3  \n",
       "4    [['Dev', 'Hynes’', 'fourth', 'album', 'as', 'B...          4  \n",
       "..                                                 ...        ...  \n",
       "709  [['Having', 'officially', 'taken', 'leave', 'o...        709  \n",
       "710  [['It’s', 'not', 'been', 'a', 'vintage', 'year...        710  \n",
       "711  [['Chazwick', 'Bundick', 'aka', 'Toro', 'Y', '...        711  \n",
       "712  [['James', 'Blake', 'James', 'Blake', 'has', '...        712  \n",
       "713  [['What', 'goes', 'up', 'must', 'come', 'down'...        713  \n",
       "\n",
       "[714 rows x 5 columns]"
      ]
     },
     "execution_count": 151,
     "metadata": {},
     "output_type": "execute_result"
    }
   ],
   "source": [
    "original_text"
   ]
  },
  {
   "cell_type": "code",
   "execution_count": null,
   "id": "5c3e8fea-e293-4c83-8a80-9a3544b512e5",
   "metadata": {},
   "outputs": [],
   "source": []
  }
 ],
 "metadata": {
  "kernelspec": {
   "display_name": "Python 3 (ipykernel)",
   "language": "python",
   "name": "python3"
  },
  "language_info": {
   "codemirror_mode": {
    "name": "ipython",
    "version": 3
   },
   "file_extension": ".py",
   "mimetype": "text/x-python",
   "name": "python",
   "nbconvert_exporter": "python",
   "pygments_lexer": "ipython3",
   "version": "3.9.13"
  }
 },
 "nbformat": 4,
 "nbformat_minor": 5
}
