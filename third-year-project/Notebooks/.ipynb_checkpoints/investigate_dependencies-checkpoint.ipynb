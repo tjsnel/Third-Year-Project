{
 "cells": [
  {
   "cell_type": "code",
   "execution_count": 86,
   "id": "ea1c9f43-d0ad-44b7-b551-5e37b8bc9283",
   "metadata": {},
   "outputs": [],
   "source": [
    "import stanza\n",
    "import pandas as pd\n",
    "import ast\n",
    "from collections import Counter"
   ]
  },
  {
   "cell_type": "code",
   "execution_count": 54,
   "id": "165ebf9c-ef1d-4b23-be70-d9e7da7aa093",
   "metadata": {},
   "outputs": [],
   "source": [
    "form = pd.read_hdf(\"C:\\\\Users\\\\tommy\\\\OneDrive\\\\University\\\\Year 3\\\\Third Year Project\\\\Platform Album Data\\\\new_unigram_data.h5\",\n",
    "                   key=\"reduced_music_form\")\n",
    "sentence = pd.read_hdf(\"C:\\\\Users\\\\tommy\\\\OneDrive\\\\University\\\\Year 3\\\\Third Year Project\\\\Platform Album Data\\\\new_unigram_data.h5\",\n",
    "                   key=\"sentence\")"
   ]
  },
  {
   "cell_type": "code",
   "execution_count": 55,
   "id": "2b28c1d5-b0ce-484b-9426-d7baf4d7701e",
   "metadata": {},
   "outputs": [],
   "source": [
    "form = form.loc[form[\"Album\"] == \"cavalcade\"]"
   ]
  },
  {
   "cell_type": "code",
   "execution_count": 56,
   "id": "0cbff204-affa-45fa-a44c-c8ff646a771f",
   "metadata": {},
   "outputs": [],
   "source": [
    "sentence.loc[:, \"Text\"] = sentence.loc[:, \"Text\"].apply(ast.literal_eval)\n",
    "sentence = sentence.explode(\"Text\")\n",
    "sentence[\"Sentence id\"] = sentence.groupby([\"Review id\"]).cumcount()"
   ]
  },
  {
   "cell_type": "code",
   "execution_count": 57,
   "id": "9fefdd9c-2212-407d-b71d-ca315f3e5368",
   "metadata": {},
   "outputs": [],
   "source": [
    "sentence = sentence.loc[sentence[\"Album\"] == \"cavalcade\"].explode(\"Text\")"
   ]
  },
  {
   "cell_type": "code",
   "execution_count": 58,
   "id": "0d2652b8-429c-498c-80b4-c2e236998001",
   "metadata": {},
   "outputs": [],
   "source": [
    "sentence[\"Word id\"] = sentence.groupby(\"Review id\").cumcount()"
   ]
  },
  {
   "cell_type": "code",
   "execution_count": 59,
   "id": "914b7989-bc58-4b31-85d4-9d9b873f8cfb",
   "metadata": {},
   "outputs": [],
   "source": [
    "form = pd.merge(form, sentence, on=[\"Artist\", \"Album\", \"Platform\", \"Review id\", \"Word id\"], how=\"inner\").drop(columns=[\"Word\"])"
   ]
  },
  {
   "cell_type": "code",
   "execution_count": 60,
   "id": "aaebec4f-49b2-46f4-89db-1dc26f91108f",
   "metadata": {},
   "outputs": [],
   "source": [
    "form = form.groupby([\"Review id\", \"Sentence id\"]).agg({\"Text\": \" \".join, \"Desired\": list}).reset_index()"
   ]
  },
  {
   "cell_type": "code",
   "execution_count": 61,
   "id": "b540b0fb-6aee-403e-bda8-814790d104f5",
   "metadata": {},
   "outputs": [],
   "source": [
    "form[\"Desired\"] = form.loc[:, \"Desired\"].apply(lambda x: [desired == 1 for desired in x])"
   ]
  },
  {
   "cell_type": "code",
   "execution_count": 63,
   "id": "998cc195-f9b3-4819-907c-4071b482aded",
   "metadata": {},
   "outputs": [
    {
     "name": "stderr",
     "output_type": "stream",
     "text": [
      "2023-02-15 00:07:59 INFO: Checking for updates to resources.json in case models have been updated.  Note: this behavior can be turned off with download_method=None or download_method=DownloadMethod.REUSE_RESOURCES\n"
     ]
    },
    {
     "data": {
      "application/vnd.jupyter.widget-view+json": {
       "model_id": "e3ea9209498645208528b8a6b07b0d1e",
       "version_major": 2,
       "version_minor": 0
      },
      "text/plain": [
       "Downloading https://raw.githubusercontent.com/stanfordnlp/stanza-resources/main/resources_1.4.1.json:   0%|   …"
      ]
     },
     "metadata": {},
     "output_type": "display_data"
    },
    {
     "name": "stderr",
     "output_type": "stream",
     "text": [
      "2023-02-15 00:08:00 WARNING: Can not find mwt: default from official model list. Ignoring it.\n",
      "2023-02-15 00:08:00 INFO: Loading these models for language: en (English):\n",
      "========================\n",
      "| Processor | Package  |\n",
      "------------------------\n",
      "| tokenize  | combined |\n",
      "| pos       | combined |\n",
      "| lemma     | combined |\n",
      "| depparse  | combined |\n",
      "========================\n",
      "\n",
      "2023-02-15 00:08:00 INFO: Use device: cpu\n",
      "2023-02-15 00:08:00 INFO: Loading: tokenize\n",
      "2023-02-15 00:08:00 INFO: Loading: pos\n",
      "2023-02-15 00:08:00 INFO: Loading: lemma\n",
      "2023-02-15 00:08:00 INFO: Loading: depparse\n",
      "2023-02-15 00:08:01 INFO: Done loading processors!\n"
     ]
    }
   ],
   "source": [
    "nlp = stanza.Pipeline(lang='en', processors='pos,depparse,lemma,tokenize,mwt', tokenize_pretokenized=True)"
   ]
  },
  {
   "cell_type": "code",
   "execution_count": 89,
   "id": "3d805892-5707-4960-b9c0-702d2b0f40f2",
   "metadata": {},
   "outputs": [],
   "source": [
    "desired_deps = []\n",
    "undesired_deps = []\n",
    "\n",
    "for index, row in form.iterrows():\n",
    "    deps = nlp(row.loc[\"Text\"]).sentences[0].dependencies\n",
    "    desireds = [i + 1 for i, x in enumerate(row.loc[\"Desired\"]) if x]\n",
    "\n",
    "    for dep in deps:\n",
    "        if dep[2].id in desireds and dep[2].xpos == \"JJ\":\n",
    "            dep_id = dep[2].id\n",
    "        \n",
    "            for dep_sub in deps:\n",
    "                if dep_sub[0].id == dep_id:\n",
    "                    desired_deps.append(dep_sub[2].deprel)\n",
    "                if dep_sub[2].id == dep_id:\n",
    "                    desired_deps.append(dep_sub[0].deprel)\n",
    "                    \n",
    "        elif dep[2].xpos == \"JJ\":\n",
    "            dep_id = dep[2].id\n",
    "                \n",
    "            for dep_sub in deps:\n",
    "                if dep_sub[0].id == dep_id:\n",
    "                    undesired_deps.append(dep_sub[2].deprel)\n",
    "                if dep_sub[2].id == dep_id:\n",
    "                    undesired_deps.append(dep_sub[0].deprel)\n",
    "                    \n",
    "    "
   ]
  },
  {
   "cell_type": "code",
   "execution_count": 107,
   "id": "c289f809-67e3-4944-80f5-75d183a6a93f",
   "metadata": {},
   "outputs": [],
   "source": [
    "u_dic = sorted({k: v / len(undesired_deps) for k, v in Counter(undesired_deps).items() if k is not None})\n",
    "d_dic = sk: v / len(desired_deps) for k, v in Counter(desired_deps).items()}"
   ]
  },
  {
   "cell_type": "code",
   "execution_count": 106,
   "id": "b0e41738-706d-4e9a-a14e-b630a901f9e9",
   "metadata": {},
   "outputs": [
    {
     "ename": "NameError",
     "evalue": "name 'u_dic' is not defined",
     "output_type": "error",
     "traceback": [
      "\u001b[1;31m---------------------------------------------------------------------------\u001b[0m",
      "\u001b[1;31mNameError\u001b[0m                                 Traceback (most recent call last)",
      "Cell \u001b[1;32mIn [106], line 1\u001b[0m\n\u001b[1;32m----> 1\u001b[0m \u001b[43mu_dic\u001b[49m\n",
      "\u001b[1;31mNameError\u001b[0m: name 'u_dic' is not defined"
     ]
    }
   ],
   "source": [
    "u_dic"
   ]
  }
 ],
 "metadata": {
  "kernelspec": {
   "display_name": "Python 3 (ipykernel)",
   "language": "python",
   "name": "python3"
  },
  "language_info": {
   "codemirror_mode": {
    "name": "ipython",
    "version": 3
   },
   "file_extension": ".py",
   "mimetype": "text/x-python",
   "name": "python",
   "nbconvert_exporter": "python",
   "pygments_lexer": "ipython3",
   "version": "3.9.13"
  }
 },
 "nbformat": 4,
 "nbformat_minor": 5
}
