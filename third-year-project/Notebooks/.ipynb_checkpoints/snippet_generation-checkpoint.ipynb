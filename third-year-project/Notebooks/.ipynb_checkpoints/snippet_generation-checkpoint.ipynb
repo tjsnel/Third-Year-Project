{
 "cells": [
  {
   "cell_type": "code",
   "execution_count": null,
   "id": "e74e243a-61c8-4632-87b9-18386188fe8b",
   "metadata": {},
   "outputs": [],
   "source": []
  }
 ],
 "metadata": {
  "kernelspec": {
   "display_name": "Python 3 (ipykernel)",
   "language": "python",
   "name": "python3"
  },
  "language_info": {
   "codemirror_mode": {
    "name": "ipython",
    "version": 3
   },
   "file_extension": ".py",
   "mimetype": "text/x-python",
   "name": "python",
   "nbconvert_exporter": "python",
   "pygments_lexer": "ipython3",
   "version": "3.9.13"
  }
 },
 "nbformat": 4,
 "nbformat_minor": 5
}
